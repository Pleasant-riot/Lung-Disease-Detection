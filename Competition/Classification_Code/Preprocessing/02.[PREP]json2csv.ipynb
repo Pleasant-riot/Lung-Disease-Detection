{
 "cells": [
  {
   "cell_type": "code",
   "execution_count": 1,
   "metadata": {},
   "outputs": [],
   "source": [
    "import os\n",
    "import glob\n",
    "\n",
    "path = './data/train/'\n",
    "disease_dirlist = os.listdir(path)\n",
    "# age_list = ['/A1.0-2개월', '/A2.3개월-5세','/A3.6-10세','/A4.11-15세']\n"
   ]
  },
  {
   "cell_type": "code",
   "execution_count": 2,
   "metadata": {},
   "outputs": [
    {
     "data": {
      "text/plain": [
       "['04.신생아호흡곤란증후군', '02.과다팽창', '06.흉막삼출', '09.정상', '01.공기누출', '05.폐렴', '03.무기폐']"
      ]
     },
     "execution_count": 2,
     "metadata": {},
     "output_type": "execute_result"
    }
   ],
   "source": [
    "disease_dirlist"
   ]
  },
  {
   "cell_type": "code",
   "execution_count": 3,
   "metadata": {},
   "outputs": [
    {
     "data": {
      "text/plain": [
       "'./data/train/04.신생아호흡곤란증후군'"
      ]
     },
     "execution_count": 3,
     "metadata": {},
     "output_type": "execute_result"
    }
   ],
   "source": [
    "path + disease_dirlist[0]"
   ]
  },
  {
   "cell_type": "code",
   "execution_count": 4,
   "metadata": {},
   "outputs": [
    {
     "data": {
      "text/plain": [
       "['A1.0-2개월']"
      ]
     },
     "execution_count": 4,
     "metadata": {},
     "output_type": "execute_result"
    }
   ],
   "source": [
    "os.listdir('./data/train/04.신생아호흡곤란증후군')"
   ]
  },
  {
   "cell_type": "code",
   "execution_count": 5,
   "metadata": {},
   "outputs": [],
   "source": [
    "patients_path = []\n",
    "\n",
    "import glob\n",
    "for i in disease_dirlist:\n",
    "    age_list = os.listdir(path + i)\n",
    "    for j in age_list:\n",
    "        patients_list = os.listdir(path+i+'/'+j)\n",
    "        for k in patients_list:\n",
    "            p_path = path + i + '/'+j+'/'+k\n",
    "            patients_path.append(p_path)\n",
    "            "
   ]
  },
  {
   "cell_type": "code",
   "execution_count": 7,
   "metadata": {},
   "outputs": [
    {
     "data": {
      "text/plain": [
       "4000"
      ]
     },
     "execution_count": 7,
     "metadata": {},
     "output_type": "execute_result"
    }
   ],
   "source": [
    "len(patients_path)"
   ]
  },
  {
   "cell_type": "code",
   "execution_count": 8,
   "metadata": {},
   "outputs": [],
   "source": [
    "folder_list = ['mask','metadata','org']\n",
    "masks = []\n",
    "orgs = []\n",
    "metadatas = []\n",
    "for i in patients_path:\n",
    "    mask_path = i + '/mask/'\n",
    "    org_path = i + '/org/'\n",
    "    metadata_path = i + '/metadata/'\n",
    "    \n",
    "    mask_png = glob.glob(mask_path+'*.png')\n",
    "    masks.append(mask_png[0])\n",
    "    \n",
    "    org_dcm = glob.glob(org_path+'*.dcm')\n",
    "    orgs.append(org_dcm[0])\n",
    "    \n",
    "    metadata_json = glob.glob(metadata_path+'*.json')\n",
    "    metadatas.append(metadata_json[0])\n",
    "\n"
   ]
  },
  {
   "cell_type": "code",
   "execution_count": 9,
   "metadata": {},
   "outputs": [
    {
     "name": "stdout",
     "output_type": "stream",
     "text": [
      "4000\n",
      "4000\n",
      "4000\n"
     ]
    }
   ],
   "source": [
    "print(len(masks))\n",
    "print(len(orgs))\n",
    "print(len(metadatas))"
   ]
  },
  {
   "cell_type": "code",
   "execution_count": 13,
   "metadata": {},
   "outputs": [],
   "source": [
    "import json\n",
    "\n",
    "id, sex, age_group, age, height, weight, report , p_type, org_img, mask_img, diagnosis = [],[],[],[],[],[],[],[],[],[],[]\n",
    "for i in range(len(metadatas)):\n",
    "    with open(metadatas[i]) as data:\n",
    "        j = json.load(data)\n",
    "    \n",
    "    id.append(j['identifier']) # 환자id\n",
    "    sex.append(j['patient']['sex'])\n",
    "    age_group.append(j['patient']['age_group'])\n",
    "    age.append(j['patient']['age'])\n",
    "    height.append(j['patient']['height'])\n",
    "    weight.append(j['patient']['weight'])\n",
    "    report.append(j['patient']['report'])\n",
    "    p_type.append(j['patient']['pneumonia_type'])\n",
    "    org_img.append('/home/ncp/workspace/data/train' + j['mask_image']['org_dicom_file'][3:])\n",
    "    mask_img.append('/home/ncp/workspace/data/train' +j['mask_image']['body_part_mask'][3:])\n",
    "    diagnosis.append(j['patient']['diagnosis'])\n",
    "    \n",
    "# id = j['identifier'] # 환자id\n",
    "# sex = j['patient']['sex'] \n",
    "# age_group = j['patient']['age_group']\n",
    "# age = j['patient']['age']\n",
    "# height = j['patient']['height']\n",
    "# weight = j['patient']['weight']\n",
    "# report = j['patient']['report']\n",
    "# p_type = j['patient']['pneumonia_type']\n",
    "# org_img = j['mask_image']['org_dicom_file'][3:]\n",
    "# mask_img = j['mask_image']['body_part_mask'][3:]"
   ]
  },
  {
   "cell_type": "code",
   "execution_count": 14,
   "metadata": {},
   "outputs": [],
   "source": [
    "json2csv['identifier'] = id\n",
    "json2csv['sex'] = sex\n",
    "json2csv['age_group'] = age_group\n",
    "json2csv['age'] = age\n",
    "json2csv['height'] = height\n",
    "json2csv['weight'] = weight\n",
    "json2csv['report'] = report\n",
    "json2csv['pneumonia_type'] = p_type\n",
    "json2csv['orginal_dcm_file'] = org_img\n",
    "json2csv['body_part_file'] = mask_img\n",
    "json2csv['diagnosis'] = diagnosis"
   ]
  },
  {
   "cell_type": "code",
   "execution_count": 21,
   "metadata": {},
   "outputs": [],
   "source": [
    "json2csv.to_csv('./dataset.csv')"
   ]
  },
  {
   "cell_type": "code",
   "execution_count": 19,
   "metadata": {},
   "outputs": [
    {
     "data": {
      "text/plain": [
       "3    730\n",
       "2    160\n",
       "1     72\n",
       "4     38\n",
       "Name: pneumonia_type, dtype: int64"
      ]
     },
     "execution_count": 19,
     "metadata": {},
     "output_type": "execute_result"
    }
   ],
   "source": [
    "json2csv['pneumonia_type'].value_counts()"
   ]
  },
  {
   "cell_type": "code",
   "execution_count": null,
   "metadata": {},
   "outputs": [],
   "source": []
  }
 ],
 "metadata": {
  "kernelspec": {
   "display_name": "Python 3",
   "language": "python",
   "name": "python3"
  },
  "language_info": {
   "codemirror_mode": {
    "name": "ipython",
    "version": 3
   },
   "file_extension": ".py",
   "mimetype": "text/x-python",
   "name": "python",
   "nbconvert_exporter": "python",
   "pygments_lexer": "ipython3",
   "version": "3.6.13"
  }
 },
 "nbformat": 4,
 "nbformat_minor": 2
}
