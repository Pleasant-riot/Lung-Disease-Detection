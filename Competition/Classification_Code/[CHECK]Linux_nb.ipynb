{
 "cells": [
  {
   "cell_type": "code",
   "execution_count": 3,
   "metadata": {},
   "outputs": [],
   "source": [
    "import os\n",
    "import shutil"
   ]
  },
  {
   "cell_type": "code",
   "execution_count": 2,
   "metadata": {},
   "outputs": [],
   "source": [
    "# 폴더 절대 경로로 안에 있는 모든 파일을 리스트로 잡아줌"
   ]
  },
  {
   "cell_type": "code",
   "execution_count": 17,
   "metadata": {},
   "outputs": [],
   "source": [
    "f0 = os.listdir('/home/ncp/workspace/data/crop/d0')\n",
    "f1 = os.listdir('/home/ncp/workspace/data/crop/d1')\n",
    "f2 = os.listdir('/home/ncp/workspace/data/crop/d2')\n",
    "f3 = os.listdir('/home/ncp/workspace/data/crop/d3')\n",
    "f4 = os.listdir('/home/ncp/workspace/data/crop/d4')\n",
    "f5 = os.listdir('/home/ncp/workspace/data/crop/d5')\n",
    "f6 = os.listdir('/home/ncp/workspace/data/crop/d6')"
   ]
  },
  {
   "cell_type": "code",
   "execution_count": 5,
   "metadata": {},
   "outputs": [
    {
     "name": "stdout",
     "output_type": "stream",
     "text": [
      "/home/ncp/workspace/data\n"
     ]
    }
   ],
   "source": [
    "cd ../data"
   ]
  },
  {
   "cell_type": "code",
   "execution_count": 6,
   "metadata": {},
   "outputs": [
    {
     "name": "stdout",
     "output_type": "stream",
     "text": [
      "/home/ncp/workspace/data/crop_2\n"
     ]
    }
   ],
   "source": [
    "cd crop_2"
   ]
  },
  {
   "cell_type": "code",
   "execution_count": 8,
   "metadata": {},
   "outputs": [
    {
     "name": "stdout",
     "output_type": "stream",
     "text": [
      "\u001b[0m\u001b[01;34md0\u001b[0m/  \u001b[01;34md1\u001b[0m/  \u001b[01;34md2\u001b[0m/  \u001b[01;34md3\u001b[0m/  \u001b[01;34md4\u001b[0m/  \u001b[01;34md5\u001b[0m/  \u001b[01;34md6\u001b[0m/\n"
     ]
    }
   ],
   "source": [
    "ls"
   ]
  },
  {
   "cell_type": "code",
   "execution_count": null,
   "metadata": {},
   "outputs": [],
   "source": [
    "# checkpoint 확인"
   ]
  },
  {
   "cell_type": "code",
   "execution_count": 18,
   "metadata": {},
   "outputs": [
    {
     "name": "stdout",
     "output_type": "stream",
     "text": [
      "1\n",
      "3\n"
     ]
    }
   ],
   "source": [
    "flist = [f0,f1,f2,f3,f4,f5,f6]\n",
    "for i , f in enumerate(flist):\n",
    "    try:\n",
    "        if '.ipynb_checkpoints' in f:\n",
    "            print(i)\n",
    "    except Exception as e:\n",
    "        print(e)"
   ]
  },
  {
   "cell_type": "code",
   "execution_count": 19,
   "metadata": {},
   "outputs": [],
   "source": [
    "# checkpoint 삭제"
   ]
  },
  {
   "cell_type": "code",
   "execution_count": 20,
   "metadata": {},
   "outputs": [
    {
     "data": {
      "text/plain": [
       "'/home/ncp/workspace/code'"
      ]
     },
     "execution_count": 20,
     "metadata": {},
     "output_type": "execute_result"
    }
   ],
   "source": [
    "pwd"
   ]
  },
  {
   "cell_type": "code",
   "execution_count": 21,
   "metadata": {},
   "outputs": [
    {
     "name": "stdout",
     "output_type": "stream",
     "text": [
      "/home/ncp/workspace/data\n"
     ]
    }
   ],
   "source": [
    "cd ../data"
   ]
  },
  {
   "cell_type": "code",
   "execution_count": 22,
   "metadata": {},
   "outputs": [
    {
     "name": "stdout",
     "output_type": "stream",
     "text": [
      "/home/ncp/workspace/data/crop\n"
     ]
    }
   ],
   "source": [
    "cd crop"
   ]
  },
  {
   "cell_type": "code",
   "execution_count": 23,
   "metadata": {},
   "outputs": [
    {
     "name": "stdout",
     "output_type": "stream",
     "text": [
      "/home/ncp/workspace/data/crop/d1\n"
     ]
    }
   ],
   "source": [
    "cd d1"
   ]
  },
  {
   "cell_type": "code",
   "execution_count": 25,
   "metadata": {},
   "outputs": [],
   "source": [
    "# .ipynb_checkpoints ( dir ) 로 들어감"
   ]
  },
  {
   "cell_type": "code",
   "execution_count": 26,
   "metadata": {},
   "outputs": [
    {
     "name": "stdout",
     "output_type": "stream",
     "text": [
      "/home/ncp/workspace/data/crop/d1/.ipynb_checkpoints\n"
     ]
    }
   ],
   "source": [
    "cd .ipynb_checkpoints"
   ]
  },
  {
   "cell_type": "code",
   "execution_count": null,
   "metadata": {},
   "outputs": [],
   "source": [
    "# ls 확인"
   ]
  },
  {
   "cell_type": "code",
   "execution_count": 28,
   "metadata": {},
   "outputs": [
    {
     "name": "stdout",
     "output_type": "stream",
     "text": [
      "H01_00008_01-checkpoint.png  H05_00886_02-checkpoint.png\n",
      "H01_00015_01-checkpoint.png  H05_00890_03-checkpoint.png\n",
      "H01_00017_01-checkpoint.png  H05_00929_01-checkpoint.png\n",
      "H01_00018_01-checkpoint.png  H05_00938_01-checkpoint.png\n",
      "H01_00036_01-checkpoint.png  H05_02468_01-checkpoint.png\n",
      "H01_00056_01-checkpoint.png  H08_00551_01-checkpoint.png\n",
      "H01_00086_01-checkpoint.png  H09_01505_01-checkpoint.png\n",
      "H01_00095_01-checkpoint.png  H09_01507_01-checkpoint.png\n",
      "H01_01836_01-checkpoint.png  H09_01519_01-checkpoint.png\n",
      "H02_00329_01-checkpoint.png  H09_01523_01-checkpoint.png\n",
      "H03_00433_01-checkpoint.png  H13_00134_01-checkpoint.png\n",
      "H03_00488_01-checkpoint.png  H13_00146_02-checkpoint.png\n",
      "H03_00490_01-checkpoint.png  H13_00150_02-checkpoint.png\n",
      "H03_00516_03-checkpoint.png  H13_00169_02-checkpoint.png\n",
      "H03_02164_01-checkpoint.png  H13_00398_01-checkpoint.png\n",
      "H04_00227_01-checkpoint.png  H13_02100_03-checkpoint.png\n",
      "H04_00289_02-checkpoint.png  H13_02226_01-checkpoint.png\n",
      "H05_00819_01-checkpoint.png  H13_02231_02-checkpoint.png\n",
      "H05_00838_01-checkpoint.png  H13_02237_02-checkpoint.png\n",
      "H05_00874_02-checkpoint.png\n"
     ]
    }
   ],
   "source": [
    "ls "
   ]
  },
  {
   "cell_type": "code",
   "execution_count": 30,
   "metadata": {},
   "outputs": [],
   "source": [
    "# 현재 디렉토리 확인"
   ]
  },
  {
   "cell_type": "code",
   "execution_count": 31,
   "metadata": {},
   "outputs": [
    {
     "data": {
      "text/plain": [
       "'/home/ncp/workspace/data/crop/d1/.ipynb_checkpoints'"
      ]
     },
     "execution_count": 31,
     "metadata": {},
     "output_type": "execute_result"
    }
   ],
   "source": [
    "pwd"
   ]
  },
  {
   "cell_type": "code",
   "execution_count": 32,
   "metadata": {},
   "outputs": [],
   "source": [
    "# 전체 삭제"
   ]
  },
  {
   "cell_type": "code",
   "execution_count": 33,
   "metadata": {},
   "outputs": [],
   "source": [
    "rm *"
   ]
  },
  {
   "cell_type": "code",
   "execution_count": 34,
   "metadata": {},
   "outputs": [],
   "source": [
    "# 확인"
   ]
  },
  {
   "cell_type": "code",
   "execution_count": 35,
   "metadata": {},
   "outputs": [],
   "source": [
    "ls"
   ]
  },
  {
   "cell_type": "code",
   "execution_count": 36,
   "metadata": {},
   "outputs": [],
   "source": [
    "# 아무것도 없으면 뒤로"
   ]
  },
  {
   "cell_type": "code",
   "execution_count": 37,
   "metadata": {},
   "outputs": [
    {
     "name": "stdout",
     "output_type": "stream",
     "text": [
      "/home/ncp/workspace/data/crop/d1\n"
     ]
    }
   ],
   "source": [
    "cd .."
   ]
  },
  {
   "cell_type": "code",
   "execution_count": 38,
   "metadata": {},
   "outputs": [],
   "source": [
    "# 디렉토리 삭제"
   ]
  },
  {
   "cell_type": "code",
   "execution_count": 39,
   "metadata": {},
   "outputs": [],
   "source": [
    "rmdir .ipynb_checkpoints"
   ]
  },
  {
   "cell_type": "code",
   "execution_count": 40,
   "metadata": {},
   "outputs": [],
   "source": [
    "# 현재 디렉토리 확인"
   ]
  },
  {
   "cell_type": "code",
   "execution_count": 42,
   "metadata": {},
   "outputs": [
    {
     "data": {
      "text/plain": [
       "'/home/ncp/workspace/data/crop/d1'"
      ]
     },
     "execution_count": 42,
     "metadata": {},
     "output_type": "execute_result"
    }
   ],
   "source": [
    "pwd"
   ]
  },
  {
   "cell_type": "code",
   "execution_count": 43,
   "metadata": {},
   "outputs": [],
   "source": [
    "# .ipynb_checkpoints 로 이동해봄"
   ]
  },
  {
   "cell_type": "code",
   "execution_count": 44,
   "metadata": {},
   "outputs": [
    {
     "name": "stdout",
     "output_type": "stream",
     "text": [
      "[Errno 2] No such file or directory: '.ipynb_checkpoints'\n",
      "/home/ncp/workspace/data/crop/d1\n"
     ]
    }
   ],
   "source": [
    "cd .ipynb_checkpoints"
   ]
  },
  {
   "cell_type": "code",
   "execution_count": 47,
   "metadata": {},
   "outputs": [],
   "source": [
    "# 없다고 오류나면 재확인 -- (없다고 오류난게 정상)"
   ]
  },
  {
   "cell_type": "code",
   "execution_count": 48,
   "metadata": {},
   "outputs": [],
   "source": [
    "f0 = os.listdir('/home/ncp/workspace/data/crop/d0')\n",
    "f1 = os.listdir('/home/ncp/workspace/data/crop/d1')\n",
    "f2 = os.listdir('/home/ncp/workspace/data/crop/d2')\n",
    "f3 = os.listdir('/home/ncp/workspace/data/crop/d3')\n",
    "f4 = os.listdir('/home/ncp/workspace/data/crop/d4')\n",
    "f5 = os.listdir('/home/ncp/workspace/data/crop/d5')\n",
    "f6 = os.listdir('/home/ncp/workspace/data/crop/d6')"
   ]
  },
  {
   "cell_type": "code",
   "execution_count": 49,
   "metadata": {},
   "outputs": [
    {
     "data": {
      "text/plain": [
       "409"
      ]
     },
     "execution_count": 49,
     "metadata": {},
     "output_type": "execute_result"
    }
   ],
   "source": [
    "len(f1)"
   ]
  },
  {
   "cell_type": "code",
   "execution_count": 50,
   "metadata": {},
   "outputs": [],
   "source": [
    "# 반복하셈"
   ]
  },
  {
   "cell_type": "code",
   "execution_count": 51,
   "metadata": {},
   "outputs": [
    {
     "data": {
      "text/plain": [
       "'/home/ncp/workspace/data/crop/d1'"
      ]
     },
     "execution_count": 51,
     "metadata": {},
     "output_type": "execute_result"
    }
   ],
   "source": [
    "pwd"
   ]
  },
  {
   "cell_type": "code",
   "execution_count": 52,
   "metadata": {},
   "outputs": [
    {
     "name": "stdout",
     "output_type": "stream",
     "text": [
      "/home/ncp/workspace/data/crop/d3\n"
     ]
    }
   ],
   "source": [
    "cd ../d3"
   ]
  },
  {
   "cell_type": "code",
   "execution_count": 53,
   "metadata": {},
   "outputs": [
    {
     "name": "stdout",
     "output_type": "stream",
     "text": [
      "/home/ncp/workspace/data/crop/d3/.ipynb_checkpoints\n"
     ]
    }
   ],
   "source": [
    "cd .ipynb_checkpoints"
   ]
  },
  {
   "cell_type": "code",
   "execution_count": 54,
   "metadata": {},
   "outputs": [
    {
     "name": "stdout",
     "output_type": "stream",
     "text": [
      "H02_00582_02-checkpoint.png\n"
     ]
    }
   ],
   "source": [
    "ls"
   ]
  },
  {
   "cell_type": "code",
   "execution_count": 55,
   "metadata": {},
   "outputs": [],
   "source": [
    "rm *"
   ]
  },
  {
   "cell_type": "code",
   "execution_count": 56,
   "metadata": {},
   "outputs": [
    {
     "name": "stdout",
     "output_type": "stream",
     "text": [
      "/home/ncp/workspace/data/crop/d3\n"
     ]
    }
   ],
   "source": [
    "cd .."
   ]
  },
  {
   "cell_type": "code",
   "execution_count": 57,
   "metadata": {},
   "outputs": [
    {
     "data": {
      "text/plain": [
       "'/home/ncp/workspace/data/crop/d3'"
      ]
     },
     "execution_count": 57,
     "metadata": {},
     "output_type": "execute_result"
    }
   ],
   "source": [
    "pwd"
   ]
  },
  {
   "cell_type": "code",
   "execution_count": 59,
   "metadata": {},
   "outputs": [
    {
     "name": "stdout",
     "output_type": "stream",
     "text": [
      "/home/ncp/workspace/data/crop/d3\n"
     ]
    }
   ],
   "source": [
    "cd .."
   ]
  },
  {
   "cell_type": "code",
   "execution_count": 60,
   "metadata": {},
   "outputs": [],
   "source": [
    "rmdir .ipynb_checkpoints"
   ]
  },
  {
   "cell_type": "code",
   "execution_count": 61,
   "metadata": {},
   "outputs": [
    {
     "data": {
      "text/plain": [
       "'/home/ncp/workspace/data/crop/d3'"
      ]
     },
     "execution_count": 61,
     "metadata": {},
     "output_type": "execute_result"
    }
   ],
   "source": [
    "pwd"
   ]
  },
  {
   "cell_type": "code",
   "execution_count": 62,
   "metadata": {},
   "outputs": [
    {
     "name": "stdout",
     "output_type": "stream",
     "text": [
      "[Errno 2] No such file or directory: '.ipynb_checkpoints'\n",
      "/home/ncp/workspace/data/crop/d3\n"
     ]
    }
   ],
   "source": [
    "cd .ipynb_checkpoints"
   ]
  },
  {
   "cell_type": "code",
   "execution_count": 63,
   "metadata": {},
   "outputs": [],
   "source": [
    "f0 = os.listdir('/home/ncp/workspace/data/crop/d0')\n",
    "f1 = os.listdir('/home/ncp/workspace/data/crop/d1')\n",
    "f2 = os.listdir('/home/ncp/workspace/data/crop/d2')\n",
    "f3 = os.listdir('/home/ncp/workspace/data/crop/d3')\n",
    "f4 = os.listdir('/home/ncp/workspace/data/crop/d4')\n",
    "f5 = os.listdir('/home/ncp/workspace/data/crop/d5')\n",
    "f6 = os.listdir('/home/ncp/workspace/data/crop/d6')"
   ]
  },
  {
   "cell_type": "code",
   "execution_count": 64,
   "metadata": {},
   "outputs": [
    {
     "data": {
      "text/plain": [
       "343"
      ]
     },
     "execution_count": 64,
     "metadata": {},
     "output_type": "execute_result"
    }
   ],
   "source": [
    "len(f3)"
   ]
  },
  {
   "cell_type": "code",
   "execution_count": 65,
   "metadata": {},
   "outputs": [
    {
     "data": {
      "text/plain": [
       "3999"
      ]
     },
     "execution_count": 65,
     "metadata": {},
     "output_type": "execute_result"
    }
   ],
   "source": [
    "len(f0 + f1 + f2 + f3 + f4 + f5 + f6)"
   ]
  },
  {
   "cell_type": "code",
   "execution_count": null,
   "metadata": {},
   "outputs": [],
   "source": [
    "3999"
   ]
  },
  {
   "cell_type": "code",
   "execution_count": 1,
   "metadata": {},
   "outputs": [
    {
     "data": {
      "text/plain": [
       "'/home/ncp/workspace/code'"
      ]
     },
     "execution_count": 1,
     "metadata": {},
     "output_type": "execute_result"
    }
   ],
   "source": [
    "pwd"
   ]
  },
  {
   "cell_type": "code",
   "execution_count": 3,
   "metadata": {},
   "outputs": [
    {
     "name": "stdout",
     "output_type": "stream",
     "text": [
      "/home/ncp/workspace/data/crop\n"
     ]
    }
   ],
   "source": [
    "cd ../data/crop"
   ]
  },
  {
   "cell_type": "code",
   "execution_count": 4,
   "metadata": {},
   "outputs": [
    {
     "name": "stdout",
     "output_type": "stream",
     "text": [
      "\u001b[0m\u001b[01;34md0\u001b[0m/  \u001b[01;34md1\u001b[0m/  \u001b[01;34md2\u001b[0m/  \u001b[01;34md3\u001b[0m/  \u001b[01;34md4\u001b[0m/  \u001b[01;34md5\u001b[0m/  \u001b[01;34md6\u001b[0m/\n"
     ]
    }
   ],
   "source": [
    "ls"
   ]
  },
  {
   "cell_type": "code",
   "execution_count": 5,
   "metadata": {},
   "outputs": [
    {
     "name": "stdout",
     "output_type": "stream",
     "text": [
      "/home/ncp/workspace/data/crop/.ipynb_checkpoints\n"
     ]
    }
   ],
   "source": [
    "cd .ipynb_checkpoints"
   ]
  },
  {
   "cell_type": "code",
   "execution_count": 6,
   "metadata": {},
   "outputs": [],
   "source": [
    "ls"
   ]
  },
  {
   "cell_type": "code",
   "execution_count": 7,
   "metadata": {},
   "outputs": [
    {
     "name": "stdout",
     "output_type": "stream",
     "text": [
      "/home/ncp/workspace/data/crop\n"
     ]
    }
   ],
   "source": [
    "cd .."
   ]
  },
  {
   "cell_type": "code",
   "execution_count": 8,
   "metadata": {},
   "outputs": [],
   "source": [
    "rmdir .ipynb_checkpoints"
   ]
  },
  {
   "cell_type": "code",
   "execution_count": 9,
   "metadata": {},
   "outputs": [
    {
     "data": {
      "text/plain": [
       "'/home/ncp/workspace/data/crop'"
      ]
     },
     "execution_count": 9,
     "metadata": {},
     "output_type": "execute_result"
    }
   ],
   "source": [
    "pwd"
   ]
  },
  {
   "cell_type": "code",
   "execution_count": 10,
   "metadata": {},
   "outputs": [
    {
     "name": "stdout",
     "output_type": "stream",
     "text": [
      "[Errno 2] No such file or directory: '.ipynb_checkpoints'\n",
      "/home/ncp/workspace/data/crop\n"
     ]
    }
   ],
   "source": [
    "cd .ipynb_checkpoints"
   ]
  },
  {
   "cell_type": "code",
   "execution_count": null,
   "metadata": {},
   "outputs": [],
   "source": []
  },
  {
   "cell_type": "code",
   "execution_count": 65,
   "metadata": {},
   "outputs": [],
   "source": [
    "# basic module\n",
    "import pandas as pd\n",
    "import numpy as np\n",
    "import seaborn as sns\n",
    "import matplotlib.pyplot as plt\n",
    "%matplotlib inline\n",
    "import os\n",
    "import shutil\n",
    "import glob\n",
    "import time\n",
    "import pickle\n",
    "\n",
    "plt.style.use('seaborn-dark')\n",
    "%config InlineBackend.figure_format = 'retina'\n",
    "pd.options.display.max_rows = 20\n",
    "pd.options.display.max_columns = 20\n",
    "\n",
    "plt.rcParams[\"figure.figsize\"] = (14,4)\n",
    "plt.rcParams['lines.linewidth'] = 2\n",
    "plt.rcParams['lines.color'] = 'r'\n",
    "plt.rcParams['axes.grid'] = False\n",
    "\n",
    "\n",
    "# image module\n",
    "import cv2\n",
    "from pydicom import dcmread\n",
    "import pylibjpeg\n",
    "from PIL import Image\n",
    "import pydicom as dcm\n",
    "from pydicom import dcmread\n",
    "from pydicom.data import get_testdata_file"
   ]
  },
  {
   "cell_type": "code",
   "execution_count": 66,
   "metadata": {},
   "outputs": [],
   "source": [
    "df_1 = pd.read_csv('/home/ncp/workspace/data/dataset_.csv',index_col=0)"
   ]
  },
  {
   "cell_type": "code",
   "execution_count": 67,
   "metadata": {},
   "outputs": [
    {
     "ename": "NameError",
     "evalue": "name 'df' is not defined",
     "output_type": "error",
     "traceback": [
      "\u001b[0;31m---------------------------------------------------------------------------\u001b[0m",
      "\u001b[0;31mNameError\u001b[0m                                 Traceback (most recent call last)",
      "\u001b[0;32m<ipython-input-67-00cf07b74dcd>\u001b[0m in \u001b[0;36m<module>\u001b[0;34m()\u001b[0m\n\u001b[0;32m----> 1\u001b[0;31m \u001b[0mdf\u001b[0m\u001b[0;34m\u001b[0m\u001b[0;34m\u001b[0m\u001b[0m\n\u001b[0m",
      "\u001b[0;31mNameError\u001b[0m: name 'df' is not defined"
     ]
    }
   ],
   "source": [
    "df"
   ]
  },
  {
   "cell_type": "code",
   "execution_count": null,
   "metadata": {},
   "outputs": [],
   "source": [
    "#crop\n",
    "png = df_1[['orginal_png_file','diagnosis']]\n",
    "png.head()"
   ]
  },
  {
   "cell_type": "code",
   "execution_count": null,
   "metadata": {},
   "outputs": [],
   "source": [
    "png = png.sort_values(by='diagnosis')"
   ]
  },
  {
   "cell_type": "code",
   "execution_count": null,
   "metadata": {},
   "outputs": [],
   "source": [
    "png.head()"
   ]
  },
  {
   "cell_type": "code",
   "execution_count": null,
   "metadata": {},
   "outputs": [],
   "source": [
    "png['diagnosis'] = png['diagnosis'].replace(9,0)"
   ]
  },
  {
   "cell_type": "code",
   "execution_count": 68,
   "metadata": {},
   "outputs": [
    {
     "data": {
      "text/plain": [
       "array([0, 1, 2, 3, 4, 5, 6])"
      ]
     },
     "execution_count": 68,
     "metadata": {},
     "output_type": "execute_result"
    }
   ],
   "source": [
    "png['diagnosis'].unique()"
   ]
  },
  {
   "cell_type": "code",
   "execution_count": 69,
   "metadata": {},
   "outputs": [
    {
     "data": {
      "text/html": [
       "<div>\n",
       "<style scoped>\n",
       "    .dataframe tbody tr th:only-of-type {\n",
       "        vertical-align: middle;\n",
       "    }\n",
       "\n",
       "    .dataframe tbody tr th {\n",
       "        vertical-align: top;\n",
       "    }\n",
       "\n",
       "    .dataframe thead th {\n",
       "        text-align: right;\n",
       "    }\n",
       "</style>\n",
       "<table border=\"1\" class=\"dataframe\">\n",
       "  <thead>\n",
       "    <tr style=\"text-align: right;\">\n",
       "      <th></th>\n",
       "      <th>orginal_png_file</th>\n",
       "      <th>diagnosis</th>\n",
       "    </tr>\n",
       "  </thead>\n",
       "  <tbody>\n",
       "    <tr>\n",
       "      <th>1999</th>\n",
       "      <td>/home/ncp/workspace/data/train/09.정상/A4.11-15세...</td>\n",
       "      <td>0</td>\n",
       "    </tr>\n",
       "    <tr>\n",
       "      <th>1256</th>\n",
       "      <td>/home/ncp/workspace/data/train/09.정상/A3.6-10세/...</td>\n",
       "      <td>0</td>\n",
       "    </tr>\n",
       "    <tr>\n",
       "      <th>1255</th>\n",
       "      <td>/home/ncp/workspace/data/train/09.정상/A3.6-10세/...</td>\n",
       "      <td>0</td>\n",
       "    </tr>\n",
       "    <tr>\n",
       "      <th>1254</th>\n",
       "      <td>/home/ncp/workspace/data/train/09.정상/A3.6-10세/...</td>\n",
       "      <td>0</td>\n",
       "    </tr>\n",
       "    <tr>\n",
       "      <th>1253</th>\n",
       "      <td>/home/ncp/workspace/data/train/09.정상/A3.6-10세/...</td>\n",
       "      <td>0</td>\n",
       "    </tr>\n",
       "  </tbody>\n",
       "</table>\n",
       "</div>"
      ],
      "text/plain": [
       "                                       orginal_png_file  diagnosis\n",
       "1999  /home/ncp/workspace/data/train/09.정상/A4.11-15세...          0\n",
       "1256  /home/ncp/workspace/data/train/09.정상/A3.6-10세/...          0\n",
       "1255  /home/ncp/workspace/data/train/09.정상/A3.6-10세/...          0\n",
       "1254  /home/ncp/workspace/data/train/09.정상/A3.6-10세/...          0\n",
       "1253  /home/ncp/workspace/data/train/09.정상/A3.6-10세/...          0"
      ]
     },
     "execution_count": 69,
     "metadata": {},
     "output_type": "execute_result"
    }
   ],
   "source": [
    "png = png.sort_values(by='diagnosis')\n",
    "png.head()"
   ]
  },
  {
   "cell_type": "code",
   "execution_count": 70,
   "metadata": {},
   "outputs": [],
   "source": [
    "from sklearn.model_selection import train_test_split"
   ]
  },
  {
   "cell_type": "code",
   "execution_count": 71,
   "metadata": {},
   "outputs": [],
   "source": [
    "x = png.drop(columns = ['diagnosis']).copy()\n",
    "y = png['diagnosis']"
   ]
  },
  {
   "cell_type": "code",
   "execution_count": 72,
   "metadata": {},
   "outputs": [],
   "source": [
    "x_train, x_rem, y_train, y_rem = train_test_split(x,y,train_size=0.8,stratify=y)"
   ]
  },
  {
   "cell_type": "code",
   "execution_count": 73,
   "metadata": {},
   "outputs": [],
   "source": [
    "x_val , x_test, y_val, y_test = train_test_split(x_rem,y_rem, test_size=0.8, stratify=y_rem)"
   ]
  },
  {
   "cell_type": "code",
   "execution_count": 74,
   "metadata": {},
   "outputs": [
    {
     "name": "stdout",
     "output_type": "stream",
     "text": [
      "3200\n",
      "160\n",
      "640\n"
     ]
    }
   ],
   "source": [
    "print(len(x_train))\n",
    "print(len(x_val))\n",
    "print(len(x_test))"
   ]
  },
  {
   "cell_type": "code",
   "execution_count": 75,
   "metadata": {},
   "outputs": [
    {
     "data": {
      "text/plain": [
       "4000"
      ]
     },
     "execution_count": 75,
     "metadata": {},
     "output_type": "execute_result"
    }
   ],
   "source": [
    "3200 + 160 + 640"
   ]
  },
  {
   "cell_type": "code",
   "execution_count": 76,
   "metadata": {},
   "outputs": [],
   "source": [
    "train_idx = x_train.index\n",
    "val_idx = x_val.index\n",
    "test_idx = x_test.index"
   ]
  },
  {
   "cell_type": "code",
   "execution_count": 77,
   "metadata": {},
   "outputs": [
    {
     "ename": "NameError",
     "evalue": "name 'tr' is not defined",
     "output_type": "error",
     "traceback": [
      "\u001b[0;31m---------------------------------------------------------------------------\u001b[0m",
      "\u001b[0;31mNameError\u001b[0m                                 Traceback (most recent call last)",
      "\u001b[0;32m<ipython-input-77-9403d53c8bb5>\u001b[0m in \u001b[0;36m<module>\u001b[0;34m()\u001b[0m\n\u001b[0;32m----> 1\u001b[0;31m \u001b[0mtr\u001b[0m\u001b[0;34m.\u001b[0m\u001b[0mplot\u001b[0m\u001b[0;34m(\u001b[0m\u001b[0mkind\u001b[0m\u001b[0;34m=\u001b[0m\u001b[0;34m'hist'\u001b[0m\u001b[0;34m)\u001b[0m\u001b[0;34m\u001b[0m\u001b[0;34m\u001b[0m\u001b[0m\n\u001b[0m",
      "\u001b[0;31mNameError\u001b[0m: name 'tr' is not defined"
     ]
    }
   ],
   "source": [
    "tr.plot(kind='hist')"
   ]
  },
  {
   "cell_type": "code",
   "execution_count": 78,
   "metadata": {},
   "outputs": [
    {
     "ename": "NameError",
     "evalue": "name 'va' is not defined",
     "output_type": "error",
     "traceback": [
      "\u001b[0;31m---------------------------------------------------------------------------\u001b[0m",
      "\u001b[0;31mNameError\u001b[0m                                 Traceback (most recent call last)",
      "\u001b[0;32m<ipython-input-78-a7fc4a5a0790>\u001b[0m in \u001b[0;36m<module>\u001b[0;34m()\u001b[0m\n\u001b[0;32m----> 1\u001b[0;31m \u001b[0mva\u001b[0m\u001b[0;34m.\u001b[0m\u001b[0mplot\u001b[0m\u001b[0;34m(\u001b[0m\u001b[0mkind\u001b[0m\u001b[0;34m=\u001b[0m\u001b[0;34m'hist'\u001b[0m\u001b[0;34m)\u001b[0m\u001b[0;34m\u001b[0m\u001b[0;34m\u001b[0m\u001b[0m\n\u001b[0m",
      "\u001b[0;31mNameError\u001b[0m: name 'va' is not defined"
     ]
    }
   ],
   "source": [
    "va.plot(kind='hist')"
   ]
  },
  {
   "cell_type": "code",
   "execution_count": 79,
   "metadata": {},
   "outputs": [
    {
     "ename": "NameError",
     "evalue": "name 'tt' is not defined",
     "output_type": "error",
     "traceback": [
      "\u001b[0;31m---------------------------------------------------------------------------\u001b[0m",
      "\u001b[0;31mNameError\u001b[0m                                 Traceback (most recent call last)",
      "\u001b[0;32m<ipython-input-79-2902d2ca69a2>\u001b[0m in \u001b[0;36m<module>\u001b[0;34m()\u001b[0m\n\u001b[0;32m----> 1\u001b[0;31m \u001b[0mtt\u001b[0m\u001b[0;34m.\u001b[0m\u001b[0mplot\u001b[0m\u001b[0;34m(\u001b[0m\u001b[0mkind\u001b[0m\u001b[0;34m=\u001b[0m\u001b[0;34m'hist'\u001b[0m\u001b[0;34m)\u001b[0m\u001b[0;34m\u001b[0m\u001b[0;34m\u001b[0m\u001b[0m\n\u001b[0m",
      "\u001b[0;31mNameError\u001b[0m: name 'tt' is not defined"
     ]
    }
   ],
   "source": [
    "tt.plot(kind='hist')"
   ]
  },
  {
   "cell_type": "code",
   "execution_count": 80,
   "metadata": {},
   "outputs": [
    {
     "data": {
      "text/plain": [
       "Int64Index([3620, 1971, 3168, 1859,  783, 3908,  474,  724, 3843, 2568,\n",
       "            ...\n",
       "            1601,  655, 3957, 3486, 3786, 1833,  830, 3490,   25, 2434],\n",
       "           dtype='int64', length=640)"
      ]
     },
     "execution_count": 80,
     "metadata": {},
     "output_type": "execute_result"
    }
   ],
   "source": [
    "test_idx"
   ]
  },
  {
   "cell_type": "code",
   "execution_count": 81,
   "metadata": {},
   "outputs": [],
   "source": [
    "crtr = df_1.loc[train_idx]\n",
    "crva = df_1.loc[val_idx]\n",
    "crtt = df_1.loc[test_idx]"
   ]
  },
  {
   "cell_type": "code",
   "execution_count": 82,
   "metadata": {},
   "outputs": [],
   "source": [
    "crtr = crtr.sort_values(by='diagnosis')\n",
    "crva = crva.sort_values(by='diagnosis')\n",
    "crtt = crtt.sort_values(by='diagnosis')"
   ]
  },
  {
   "cell_type": "code",
   "execution_count": 83,
   "metadata": {},
   "outputs": [
    {
     "data": {
      "text/html": [
       "<div>\n",
       "<style scoped>\n",
       "    .dataframe tbody tr th:only-of-type {\n",
       "        vertical-align: middle;\n",
       "    }\n",
       "\n",
       "    .dataframe tbody tr th {\n",
       "        vertical-align: top;\n",
       "    }\n",
       "\n",
       "    .dataframe thead th {\n",
       "        text-align: right;\n",
       "    }\n",
       "</style>\n",
       "<table border=\"1\" class=\"dataframe\">\n",
       "  <thead>\n",
       "    <tr style=\"text-align: right;\">\n",
       "      <th></th>\n",
       "      <th>identifier</th>\n",
       "      <th>sex</th>\n",
       "      <th>age_group</th>\n",
       "      <th>age</th>\n",
       "      <th>height</th>\n",
       "      <th>weight</th>\n",
       "      <th>report</th>\n",
       "      <th>pneumonia_type</th>\n",
       "      <th>orginal_dcm_file</th>\n",
       "      <th>orginal_png_file</th>\n",
       "      <th>crop_file</th>\n",
       "      <th>body_part_file</th>\n",
       "      <th>diagnosis</th>\n",
       "    </tr>\n",
       "  </thead>\n",
       "  <tbody>\n",
       "    <tr>\n",
       "      <th>1774</th>\n",
       "      <td>H05_00275_01</td>\n",
       "      <td>M</td>\n",
       "      <td>A1</td>\n",
       "      <td>0개월</td>\n",
       "      <td>NaN</td>\n",
       "      <td>2.7</td>\n",
       "      <td>NaN</td>\n",
       "      <td>NaN</td>\n",
       "      <td>/home/ncp/workspace/data/train/09.정상/A1.0-2개월/...</td>\n",
       "      <td>/home/ncp/workspace/data/train/09.정상/A1.0-2개월/...</td>\n",
       "      <td>/home/ncp/workspace/data/crop/d0/H05_00275_01.png</td>\n",
       "      <td>/home/ncp/workspace/data/train/09.정상/A1.0-2개월/...</td>\n",
       "      <td>0</td>\n",
       "    </tr>\n",
       "  </tbody>\n",
       "</table>\n",
       "</div>"
      ],
      "text/plain": [
       "        identifier sex age_group  age  height  weight report  pneumonia_type  \\\n",
       "1774  H05_00275_01   M        A1  0개월     NaN     2.7    NaN             NaN   \n",
       "\n",
       "                                       orginal_dcm_file  \\\n",
       "1774  /home/ncp/workspace/data/train/09.정상/A1.0-2개월/...   \n",
       "\n",
       "                                       orginal_png_file  \\\n",
       "1774  /home/ncp/workspace/data/train/09.정상/A1.0-2개월/...   \n",
       "\n",
       "                                              crop_file  \\\n",
       "1774  /home/ncp/workspace/data/crop/d0/H05_00275_01.png   \n",
       "\n",
       "                                         body_part_file  diagnosis  \n",
       "1774  /home/ncp/workspace/data/train/09.정상/A1.0-2개월/...          0  "
      ]
     },
     "metadata": {},
     "output_type": "display_data"
    },
    {
     "data": {
      "text/html": [
       "<div>\n",
       "<style scoped>\n",
       "    .dataframe tbody tr th:only-of-type {\n",
       "        vertical-align: middle;\n",
       "    }\n",
       "\n",
       "    .dataframe tbody tr th {\n",
       "        vertical-align: top;\n",
       "    }\n",
       "\n",
       "    .dataframe thead th {\n",
       "        text-align: right;\n",
       "    }\n",
       "</style>\n",
       "<table border=\"1\" class=\"dataframe\">\n",
       "  <thead>\n",
       "    <tr style=\"text-align: right;\">\n",
       "      <th></th>\n",
       "      <th>identifier</th>\n",
       "      <th>sex</th>\n",
       "      <th>age_group</th>\n",
       "      <th>age</th>\n",
       "      <th>height</th>\n",
       "      <th>weight</th>\n",
       "      <th>report</th>\n",
       "      <th>pneumonia_type</th>\n",
       "      <th>orginal_dcm_file</th>\n",
       "      <th>orginal_png_file</th>\n",
       "      <th>crop_file</th>\n",
       "      <th>body_part_file</th>\n",
       "      <th>diagnosis</th>\n",
       "    </tr>\n",
       "  </thead>\n",
       "  <tbody>\n",
       "    <tr>\n",
       "      <th>1642</th>\n",
       "      <td>H01_00829_01</td>\n",
       "      <td>M</td>\n",
       "      <td>A2</td>\n",
       "      <td>4세</td>\n",
       "      <td>NaN</td>\n",
       "      <td>17.8</td>\n",
       "      <td>NaN</td>\n",
       "      <td>NaN</td>\n",
       "      <td>/home/ncp/workspace/data/train/09.정상/A2.3개월-5세...</td>\n",
       "      <td>/home/ncp/workspace/data/train/09.정상/A2.3개월-5세...</td>\n",
       "      <td>/home/ncp/workspace/data/crop/d0/H01_00829_01.png</td>\n",
       "      <td>/home/ncp/workspace/data/train/09.정상/A2.3개월-5세...</td>\n",
       "      <td>0</td>\n",
       "    </tr>\n",
       "  </tbody>\n",
       "</table>\n",
       "</div>"
      ],
      "text/plain": [
       "        identifier sex age_group age  height  weight report  pneumonia_type  \\\n",
       "1642  H01_00829_01   M        A2  4세     NaN    17.8    NaN             NaN   \n",
       "\n",
       "                                       orginal_dcm_file  \\\n",
       "1642  /home/ncp/workspace/data/train/09.정상/A2.3개월-5세...   \n",
       "\n",
       "                                       orginal_png_file  \\\n",
       "1642  /home/ncp/workspace/data/train/09.정상/A2.3개월-5세...   \n",
       "\n",
       "                                              crop_file  \\\n",
       "1642  /home/ncp/workspace/data/crop/d0/H01_00829_01.png   \n",
       "\n",
       "                                         body_part_file  diagnosis  \n",
       "1642  /home/ncp/workspace/data/train/09.정상/A2.3개월-5세...          0  "
      ]
     },
     "metadata": {},
     "output_type": "display_data"
    },
    {
     "data": {
      "text/html": [
       "<div>\n",
       "<style scoped>\n",
       "    .dataframe tbody tr th:only-of-type {\n",
       "        vertical-align: middle;\n",
       "    }\n",
       "\n",
       "    .dataframe tbody tr th {\n",
       "        vertical-align: top;\n",
       "    }\n",
       "\n",
       "    .dataframe thead th {\n",
       "        text-align: right;\n",
       "    }\n",
       "</style>\n",
       "<table border=\"1\" class=\"dataframe\">\n",
       "  <thead>\n",
       "    <tr style=\"text-align: right;\">\n",
       "      <th></th>\n",
       "      <th>identifier</th>\n",
       "      <th>sex</th>\n",
       "      <th>age_group</th>\n",
       "      <th>age</th>\n",
       "      <th>height</th>\n",
       "      <th>weight</th>\n",
       "      <th>report</th>\n",
       "      <th>pneumonia_type</th>\n",
       "      <th>orginal_dcm_file</th>\n",
       "      <th>orginal_png_file</th>\n",
       "      <th>crop_file</th>\n",
       "      <th>body_part_file</th>\n",
       "      <th>diagnosis</th>\n",
       "    </tr>\n",
       "  </thead>\n",
       "  <tbody>\n",
       "    <tr>\n",
       "      <th>1494</th>\n",
       "      <td>H05_00633_01</td>\n",
       "      <td>F</td>\n",
       "      <td>A3</td>\n",
       "      <td>10세</td>\n",
       "      <td>151.0</td>\n",
       "      <td>75.0</td>\n",
       "      <td>NaN</td>\n",
       "      <td>NaN</td>\n",
       "      <td>/home/ncp/workspace/data/train/09.정상/A3.6-10세/...</td>\n",
       "      <td>/home/ncp/workspace/data/train/09.정상/A3.6-10세/...</td>\n",
       "      <td>/home/ncp/workspace/data/crop/d0/H05_00633_01.png</td>\n",
       "      <td>/home/ncp/workspace/data/train/09.정상/A3.6-10세/...</td>\n",
       "      <td>0</td>\n",
       "    </tr>\n",
       "  </tbody>\n",
       "</table>\n",
       "</div>"
      ],
      "text/plain": [
       "        identifier sex age_group  age  height  weight report  pneumonia_type  \\\n",
       "1494  H05_00633_01   F        A3  10세   151.0    75.0    NaN             NaN   \n",
       "\n",
       "                                       orginal_dcm_file  \\\n",
       "1494  /home/ncp/workspace/data/train/09.정상/A3.6-10세/...   \n",
       "\n",
       "                                       orginal_png_file  \\\n",
       "1494  /home/ncp/workspace/data/train/09.정상/A3.6-10세/...   \n",
       "\n",
       "                                              crop_file  \\\n",
       "1494  /home/ncp/workspace/data/crop/d0/H05_00633_01.png   \n",
       "\n",
       "                                         body_part_file  diagnosis  \n",
       "1494  /home/ncp/workspace/data/train/09.정상/A3.6-10세/...          0  "
      ]
     },
     "execution_count": 83,
     "metadata": {},
     "output_type": "execute_result"
    }
   ],
   "source": [
    "crtr['diagnosis'] = crtr['diagnosis'].replace(9,0)\n",
    "crtr = crtr.sort_values(by='diagnosis')\n",
    "display(crtr.head(1))\n",
    "\n",
    "crva['diagnosis'] = crva['diagnosis'].replace(9,0)\n",
    "crva = crva.sort_values(by='diagnosis')\n",
    "display(crva.head(1))\n",
    "\n",
    "crtt['diagnosis'] = crtt['diagnosis'].replace(9,0)\n",
    "crtt = crtt.sort_values(by='diagnosis')\n",
    "crtt.head(1)"
   ]
  },
  {
   "cell_type": "code",
   "execution_count": 84,
   "metadata": {},
   "outputs": [],
   "source": [
    "# crtr['crop_file'] = crtr['crop_file'].str.replace('crop','crop_2')\n",
    "# # crtr['crop_file'][0]"
   ]
  },
  {
   "cell_type": "code",
   "execution_count": 86,
   "metadata": {},
   "outputs": [],
   "source": [
    "# crva['crop_file'] = crva['crop_file'].str.replace('crop','crop_2')\n",
    "# crtt['crop_file'] = crtt['crop_file'].str.replace('crop','crop_2')"
   ]
  },
  {
   "cell_type": "code",
   "execution_count": 124,
   "metadata": {},
   "outputs": [
    {
     "name": "stdout",
     "output_type": "stream",
     "text": [
      "/home/ncp/workspace/data/cp2_test\n"
     ]
    }
   ],
   "source": [
    "cd ../cp2_test"
   ]
  },
  {
   "cell_type": "code",
   "execution_count": 125,
   "metadata": {},
   "outputs": [],
   "source": [
    "!mkdir d0\n",
    "!mkdir d1\n",
    "!mkdir d2\n",
    "!mkdir d3\n",
    "!mkdir d4\n",
    "!mkdir d5\n",
    "!mkdir d6"
   ]
  },
  {
   "cell_type": "code",
   "execution_count": 135,
   "metadata": {},
   "outputs": [],
   "source": [
    "# a = list(crtr['crop_file'])\n",
    "# a = list(crva['crop_file'])\n",
    "a = list(crtt['crop_file'])"
   ]
  },
  {
   "cell_type": "code",
   "execution_count": 136,
   "metadata": {},
   "outputs": [
    {
     "data": {
      "text/plain": [
       "'/home/ncp/workspace/data/crop_2/d0/H05_00633_01.png'"
      ]
     },
     "execution_count": 136,
     "metadata": {},
     "output_type": "execute_result"
    }
   ],
   "source": [
    "a[0]"
   ]
  },
  {
   "cell_type": "code",
   "execution_count": 137,
   "metadata": {},
   "outputs": [
    {
     "name": "stdout",
     "output_type": "stream",
     "text": [
      "/home/ncp/workspace/data/crop_2/d0/H05_00633_01.png            [완료]\n",
      "/home/ncp/workspace/data/crop_2/d0/H07_00651_02.png            [완료]\n",
      "/home/ncp/workspace/data/crop_2/d0/H13_01844_02.png            [완료]\n",
      "/home/ncp/workspace/data/crop_2/d0/H08_01616_01.png            [완료]\n",
      "/home/ncp/workspace/data/crop_2/d0/H01_01975_01.png            [완료]\n",
      "/home/ncp/workspace/data/crop_2/d0/H03_01106_01.png            [완료]\n",
      "/home/ncp/workspace/data/crop_2/d0/H03_01488_01.png            [완료]\n",
      "/home/ncp/workspace/data/crop_2/d0/H01_00901_01.png            [완료]\n",
      "/home/ncp/workspace/data/crop_2/d0/H04_00599_01.png            [완료]\n",
      "/home/ncp/workspace/data/crop_2/d0/H13_00152_02.png            [완료]\n",
      "/home/ncp/workspace/data/crop_2/d0/H03_01120_01.png            [완료]\n",
      "/home/ncp/workspace/data/crop_2/d0/H04_00695_01.png            [완료]\n",
      "/home/ncp/workspace/data/crop_2/d0/H04_00451_01.png            [완료]\n",
      "/home/ncp/workspace/data/crop_2/d0/H09_03130_01.png            [완료]\n",
      "/home/ncp/workspace/data/crop_2/d0/H02_01492_01.png            [완료]\n",
      "/home/ncp/workspace/data/crop_2/d0/H05_00293_01.png            [완료]\n",
      "/home/ncp/workspace/data/crop_2/d0/H13_02025_01.png            [완료]\n",
      "/home/ncp/workspace/data/crop_2/d0/H01_01456_01.png            [완료]\n",
      "/home/ncp/workspace/data/crop_2/d0/H13_00117_02.png            [완료]\n",
      "/home/ncp/workspace/data/crop_2/d0/H09_02953_01.png            [완료]\n",
      "/home/ncp/workspace/data/crop_2/d0/H04_00526_01.png            [완료]\n",
      "/home/ncp/workspace/data/crop_2/d0/H13_01840_01.png            [완료]\n",
      "/home/ncp/workspace/data/crop_2/d0/H01_01495_01.png            [완료]\n",
      "/home/ncp/workspace/data/crop_2/d0/H03_00591_01.png            [완료]\n",
      "/home/ncp/workspace/data/crop_2/d0/H05_00465_01.png            [완료]\n",
      "/home/ncp/workspace/data/crop_2/d0/H13_01841_02.png            [완료]\n",
      "/home/ncp/workspace/data/crop_2/d0/H07_01016_01.png            [완료]\n",
      "/home/ncp/workspace/data/crop_2/d0/H02_01123_01.png            [완료]\n",
      "/home/ncp/workspace/data/crop_2/d0/H07_00410_02.png            [완료]\n",
      "/home/ncp/workspace/data/crop_2/d0/H07_01606_02.png            [완료]\n",
      "/home/ncp/workspace/data/crop_2/d0/H05_00481_01.png            [완료]\n",
      "/home/ncp/workspace/data/crop_2/d0/H07_00038_02.png            [완료]\n",
      "/home/ncp/workspace/data/crop_2/d0/H09_03269_01.png            [완료]\n",
      "/home/ncp/workspace/data/crop_2/d0/H07_01949_01.png            [완료]\n",
      "/home/ncp/workspace/data/crop_2/d0/H01_00823_01.png            [완료]\n",
      "/home/ncp/workspace/data/crop_2/d0/H03_01490_01.png            [완료]\n",
      "/home/ncp/workspace/data/crop_2/d0/H07_02559_01.png            [완료]\n",
      "/home/ncp/workspace/data/crop_2/d0/H07_00835_01.png            [완료]\n",
      "/home/ncp/workspace/data/crop_2/d0/H13_00869_01.png            [완료]\n",
      "/home/ncp/workspace/data/crop_2/d0/H04_02570_01.png            [완료]\n",
      "/home/ncp/workspace/data/crop_2/d0/H03_00582_01.png            [완료]\n",
      "/home/ncp/workspace/data/crop_2/d0/H04_00492_01.png            [완료]\n",
      "/home/ncp/workspace/data/crop_2/d0/H09_03023_01.png            [완료]\n",
      "/home/ncp/workspace/data/crop_2/d0/H13_01493_01.png            [완료]\n",
      "/home/ncp/workspace/data/crop_2/d0/H01_00240_01.png            [완료]\n",
      "/home/ncp/workspace/data/crop_2/d0/H07_01441_02.png            [완료]\n",
      "/home/ncp/workspace/data/crop_2/d0/H01_00142_01.png            [완료]\n",
      "/home/ncp/workspace/data/crop_2/d0/H02_00926_01.png            [완료]\n",
      "/home/ncp/workspace/data/crop_2/d0/H02_00455_01.png            [완료]\n",
      "/home/ncp/workspace/data/crop_2/d0/H01_00187_01.png            [완료]\n",
      "/home/ncp/workspace/data/crop_2/d0/H01_00133_01.png            [완료]\n",
      "/home/ncp/workspace/data/crop_2/d0/H03_00025_02.png            [완료]\n",
      "/home/ncp/workspace/data/crop_2/d0/H01_00921_01.png            [완료]\n",
      "/home/ncp/workspace/data/crop_2/d0/H13_01540_01.png            [완료]\n",
      "/home/ncp/workspace/data/crop_2/d0/H01_01943_01.png            [완료]\n",
      "/home/ncp/workspace/data/crop_2/d0/H02_00559_01.png            [완료]\n",
      "/home/ncp/workspace/data/crop_2/d0/H07_00184_02.png            [완료]\n",
      "/home/ncp/workspace/data/crop_2/d0/H01_00232_01.png            [완료]\n",
      "/home/ncp/workspace/data/crop_2/d0/H02_00415_01.png            [완료]\n",
      "/home/ncp/workspace/data/crop_2/d0/H01_00181_01.png            [완료]\n",
      "/home/ncp/workspace/data/crop_2/d0/H01_01946_01.png            [완료]\n",
      "/home/ncp/workspace/data/crop_2/d0/H08_00736_01.png            [완료]\n",
      "/home/ncp/workspace/data/crop_2/d0/H05_00543_01.png            [완료]\n",
      "/home/ncp/workspace/data/crop_2/d0/H07_00733_01.png            [완료]\n",
      "/home/ncp/workspace/data/crop_2/d0/H09_02985_01.png            [완료]\n",
      "/home/ncp/workspace/data/crop_2/d0/H07_01867_01.png            [완료]\n",
      "/home/ncp/workspace/data/crop_2/d0/H07_01702_01.png            [완료]\n",
      "/home/ncp/workspace/data/crop_2/d0/H09_03328_01.png            [완료]\n",
      "/home/ncp/workspace/data/crop_2/d0/H09_03005_01.png            [완료]\n",
      "/home/ncp/workspace/data/crop_2/d0/H07_00238_02.png            [완료]\n",
      "/home/ncp/workspace/data/crop_2/d0/H08_01546_01.png            [완료]\n",
      "/home/ncp/workspace/data/crop_2/d0/H07_01118_02.png            [완료]\n",
      "/home/ncp/workspace/data/crop_2/d0/H04_00433_01.png            [완료]\n",
      "/home/ncp/workspace/data/crop_2/d0/H07_00937_01.png            [완료]\n",
      "/home/ncp/workspace/data/crop_2/d0/H05_00292_01.png            [완료]\n",
      "/home/ncp/workspace/data/crop_2/d0/H13_01480_01.png            [완료]\n",
      "/home/ncp/workspace/data/crop_2/d0/H01_00230_01.png            [완료]\n",
      "/home/ncp/workspace/data/crop_2/d0/H09_03054_01.png            [완료]\n",
      "/home/ncp/workspace/data/crop_2/d0/H03_00617_02.png            [완료]\n",
      "/home/ncp/workspace/data/crop_2/d0/H07_00021_01.png            [완료]\n",
      "/home/ncp/workspace/data/crop_2/d0/H08_01204_02.png            [완료]\n",
      "/home/ncp/workspace/data/crop_2/d0/H03_00041_01.png            [완료]\n",
      "/home/ncp/workspace/data/crop_2/d0/H07_00054_02.png            [완료]\n",
      "/home/ncp/workspace/data/crop_2/d0/H01_02140_01.png            [완료]\n",
      "/home/ncp/workspace/data/crop_2/d0/H07_00307_01.png            [완료]\n",
      "/home/ncp/workspace/data/crop_2/d0/H08_01530_01.png            [완료]\n",
      "/home/ncp/workspace/data/crop_2/d0/H01_00138_01.png            [완료]\n",
      "/home/ncp/workspace/data/crop_2/d0/H09_02979_01.png            [완료]\n",
      "/home/ncp/workspace/data/crop_2/d0/H01_00796_01.png            [완료]\n",
      "/home/ncp/workspace/data/crop_2/d0/H04_00583_01.png            [완료]\n",
      "/home/ncp/workspace/data/crop_2/d0/H01_01948_01.png            [완료]\n",
      "/home/ncp/workspace/data/crop_2/d0/H04_02164_01.png            [완료]\n",
      "/home/ncp/workspace/data/crop_2/d0/H05_00715_01.png            [완료]\n",
      "/home/ncp/workspace/data/crop_2/d0/H05_00430_01.png            [완료]\n",
      "/home/ncp/workspace/data/crop_2/d0/H08_00600_01.png            [완료]\n",
      "/home/ncp/workspace/data/crop_2/d0/H08_01607_01.png            [완료]\n",
      "/home/ncp/workspace/data/crop_2/d0/H04_00572_01.png            [완료]\n",
      "/home/ncp/workspace/data/crop_2/d0/H09_03389_01.png            [완료]\n",
      "/home/ncp/workspace/data/crop_2/d0/H08_00620_01.png            [완료]\n",
      "/home/ncp/workspace/data/crop_2/d0/H07_01745_01.png            [완료]\n",
      "/home/ncp/workspace/data/crop_2/d0/H08_01572_01.png            [완료]\n",
      "/home/ncp/workspace/data/crop_2/d0/H04_02552_01.png            [완료]\n",
      "/home/ncp/workspace/data/crop_2/d0/H07_01485_02.png            [완료]\n",
      "/home/ncp/workspace/data/crop_2/d0/H07_01562_01.png            [완료]\n",
      "/home/ncp/workspace/data/crop_2/d0/H03_02350_01.png            [완료]\n",
      "/home/ncp/workspace/data/crop_2/d0/H02_01069_01.png            [완료]\n",
      "/home/ncp/workspace/data/crop_2/d0/H07_01489_01.png            [완료]\n",
      "/home/ncp/workspace/data/crop_2/d0/H02_00564_01.png            [완료]\n",
      "/home/ncp/workspace/data/crop_2/d0/H13_00866_01.png            [완료]\n",
      "/home/ncp/workspace/data/crop_2/d0/H05_00674_01.png            [완료]\n",
      "/home/ncp/workspace/data/crop_2/d0/H07_01732_02.png            [완료]\n",
      "/home/ncp/workspace/data/crop_2/d0/H05_01757_02.png            [완료]\n",
      "/home/ncp/workspace/data/crop_2/d0/H03_02027_01.png            [완료]\n",
      "/home/ncp/workspace/data/crop_2/d0/H13_00297_01.png            [완료]\n",
      "/home/ncp/workspace/data/crop_2/d0/H13_01498_01.png            [완료]\n",
      "/home/ncp/workspace/data/crop_2/d0/H02_01415_01.png            [완료]\n",
      "/home/ncp/workspace/data/crop_2/d0/H07_01239_01.png            [완료]\n",
      "/home/ncp/workspace/data/crop_2/d0/H08_00095_01.png            [완료]\n",
      "/home/ncp/workspace/data/crop_2/d0/H07_01772_02.png            [완료]\n",
      "/home/ncp/workspace/data/crop_2/d0/H04_00528_01.png            [완료]\n",
      "/home/ncp/workspace/data/crop_2/d0/H03_01071_03.png            [완료]\n",
      "/home/ncp/workspace/data/crop_2/d0/H03_00080_01.png            [완료]\n",
      "/home/ncp/workspace/data/crop_2/d0/H02_01546_01.png            [완료]\n",
      "/home/ncp/workspace/data/crop_2/d0/H07_01887_02.png            [완료]\n",
      "/home/ncp/workspace/data/crop_2/d0/H09_02961_01.png            [완료]\n",
      "/home/ncp/workspace/data/crop_2/d0/H05_00276_01.png            [완료]\n",
      "/home/ncp/workspace/data/crop_2/d0/H05_00315_01.png            [완료]\n",
      "/home/ncp/workspace/data/crop_2/d0/H07_00091_01.png            [완료]\n",
      "/home/ncp/workspace/data/crop_2/d0/H04_01423_01.png            [완료]\n",
      "/home/ncp/workspace/data/crop_2/d0/H04_00483_01.png            [완료]\n",
      "/home/ncp/workspace/data/crop_2/d0/H07_00910_02.png            [완료]\n",
      "/home/ncp/workspace/data/crop_2/d0/H01_00161_01.png            [완료]\n",
      "/home/ncp/workspace/data/crop_2/d0/H05_00605_01.png            [완료]\n",
      "/home/ncp/workspace/data/crop_2/d0/H08_00780_01.png            [완료]\n",
      "/home/ncp/workspace/data/crop_2/d0/H05_01755_02.png            [완료]\n",
      "/home/ncp/workspace/data/crop_2/d0/H08_01595_01.png            [완료]\n",
      "/home/ncp/workspace/data/crop_2/d0/H04_01440_01.png            [완료]\n",
      "/home/ncp/workspace/data/crop_2/d0/H07_02787_01.png            [완료]\n",
      "/home/ncp/workspace/data/crop_2/d0/H04_00475_01.png            [완료]\n",
      "/home/ncp/workspace/data/crop_2/d0/H03_02092_01.png            [완료]\n",
      "/home/ncp/workspace/data/crop_2/d0/H01_01520_01.png            [완료]\n",
      "/home/ncp/workspace/data/crop_2/d0/H09_03194_01.png            [완료]\n",
      "/home/ncp/workspace/data/crop_2/d0/H01_01499_01.png            [완료]\n",
      "/home/ncp/workspace/data/crop_2/d0/H13_01822_01.png            [완료]\n",
      "/home/ncp/workspace/data/crop_2/d0/H05_00736_01.png            [완료]\n",
      "/home/ncp/workspace/data/crop_2/d0/H02_01467_01.png            [완료]\n",
      "/home/ncp/workspace/data/crop_2/d0/H13_00970_01.png            [완료]\n",
      "/home/ncp/workspace/data/crop_2/d0/H07_02341_01.png            [완료]\n",
      "/home/ncp/workspace/data/crop_2/d0/H04_01455_01.png            [완료]\n",
      "/home/ncp/workspace/data/crop_2/d0/H09_03136_01.png            [완료]\n",
      "/home/ncp/workspace/data/crop_2/d0/H05_00364_01.png            [완료]\n",
      "/home/ncp/workspace/data/crop_2/d0/H05_00265_01.png            [완료]\n",
      "/home/ncp/workspace/data/crop_2/d0/H07_00706_01.png            [완료]\n",
      "/home/ncp/workspace/data/crop_2/d0/H08_00030_01.png            [완료]\n",
      "/home/ncp/workspace/data/crop_2/d0/H07_00684_01.png            [완료]\n",
      "/home/ncp/workspace/data/crop_2/d0/H13_00255_01.png            [완료]\n",
      "/home/ncp/workspace/data/crop_2/d0/H13_01522_01.png            [완료]\n",
      "/home/ncp/workspace/data/crop_2/d0/H09_03212_01.png            [완료]\n",
      "/home/ncp/workspace/data/crop_2/d0/H07_01065_01.png            [완료]\n",
      "/home/ncp/workspace/data/crop_2/d0/H03_00594_01.png            [완료]\n",
      "/home/ncp/workspace/data/crop_2/d1/H01_01844_01.png            [완료]\n",
      "/home/ncp/workspace/data/crop_2/d1/H08_00508_02.png            [완료]\n",
      "/home/ncp/workspace/data/crop_2/d1/H05_00865_02.png            [완료]\n",
      "/home/ncp/workspace/data/crop_2/d1/H04_00267_01.png            [완료]\n",
      "/home/ncp/workspace/data/crop_2/d1/H03_02157_01.png            [완료]\n",
      "/home/ncp/workspace/data/crop_2/d1/H03_02147_02.png            [완료]\n",
      "/home/ncp/workspace/data/crop_2/d1/H05_00870_02.png            [완료]\n",
      "/home/ncp/workspace/data/crop_2/d1/H13_00450_02.png            [완료]\n",
      "/home/ncp/workspace/data/crop_2/d1/H04_00255_01.png            [완료]\n",
      "/home/ncp/workspace/data/crop_2/d1/H13_00171_02.png            [완료]\n",
      "/home/ncp/workspace/data/crop_2/d1/H04_01780_01.png            [완료]\n",
      "/home/ncp/workspace/data/crop_2/d1/H04_00305_02.png            [완료]\n",
      "/home/ncp/workspace/data/crop_2/d1/H01_00078_01.png            [완료]\n",
      "/home/ncp/workspace/data/crop_2/d1/H09_01509_01.png            [완료]\n",
      "/home/ncp/workspace/data/crop_2/d1/H05_02624_01.png            [완료]\n",
      "/home/ncp/workspace/data/crop_2/d1/H08_00558_02.png            [완료]\n",
      "/home/ncp/workspace/data/crop_2/d1/H13_00081_02.png            [완료]\n",
      "/home/ncp/workspace/data/crop_2/d1/H04_00308_01.png            [완료]\n",
      "/home/ncp/workspace/data/crop_2/d1/H01_00035_01.png            [완료]\n",
      "/home/ncp/workspace/data/crop_2/d1/H01_01860_01.png            [완료]\n",
      "/home/ncp/workspace/data/crop_2/d1/H13_00134_01.png            [완료]\n",
      "/home/ncp/workspace/data/crop_2/d1/H08_00551_01.png            [완료]\n",
      "/home/ncp/workspace/data/crop_2/d1/H05_00884_02.png            [완료]\n",
      "/home/ncp/workspace/data/crop_2/d1/H04_01775_01.png            [완료]\n",
      "/home/ncp/workspace/data/crop_2/d1/H04_01770_02.png            [완료]\n",
      "/home/ncp/workspace/data/crop_2/d1/H04_01776_01.png            [완료]\n",
      "/home/ncp/workspace/data/crop_2/d1/H05_00874_02.png            [완료]\n",
      "/home/ncp/workspace/data/crop_2/d1/H03_00483_01.png            [완료]\n",
      "/home/ncp/workspace/data/crop_2/d1/H08_01860_01.png            [완료]\n",
      "/home/ncp/workspace/data/crop_2/d1/H03_00516_03.png            [완료]\n",
      "/home/ncp/workspace/data/crop_2/d1/H05_00799_01.png            [완료]\n",
      "/home/ncp/workspace/data/crop_2/d1/H07_02353_01.png            [완료]\n",
      "/home/ncp/workspace/data/crop_2/d1/H05_02390_02.png            [완료]\n",
      "/home/ncp/workspace/data/crop_2/d1/H04_02125_02.png            [완료]\n",
      "/home/ncp/workspace/data/crop_2/d1/H05_00939_02.png            [완료]\n",
      "/home/ncp/workspace/data/crop_2/d1/H08_00541_01.png            [완료]\n",
      "/home/ncp/workspace/data/crop_2/d1/H13_00469_01.png            [완료]\n",
      "/home/ncp/workspace/data/crop_2/d1/H13_00446_01.png            [완료]\n",
      "/home/ncp/workspace/data/crop_2/d1/H01_00036_01.png            [완료]\n",
      "/home/ncp/workspace/data/crop_2/d1/H05_00813_01.png            [완료]\n",
      "/home/ncp/workspace/data/crop_2/d1/H05_00802_02.png            [완료]\n",
      "/home/ncp/workspace/data/crop_2/d1/H04_01796_01.png            [완료]\n",
      "/home/ncp/workspace/data/crop_2/d1/H04_01772_01.png            [완료]\n",
      "/home/ncp/workspace/data/crop_2/d1/H05_00841_02.png            [완료]\n",
      "/home/ncp/workspace/data/crop_2/d1/H13_00492_02.png            [완료]\n",
      "/home/ncp/workspace/data/crop_2/d1/H04_00311_02.png            [완료]\n",
      "/home/ncp/workspace/data/crop_2/d1/H03_02185_01.png            [완료]\n",
      "/home/ncp/workspace/data/crop_2/d1/H04_00283_02.png            [완료]\n",
      "/home/ncp/workspace/data/crop_2/d1/H13_00167_02.png            [완료]\n",
      "/home/ncp/workspace/data/crop_2/d1/H04_00300_01.png            [완료]\n",
      "/home/ncp/workspace/data/crop_2/d1/H13_02231_02.png            [완료]\n",
      "/home/ncp/workspace/data/crop_2/d1/H04_01800_02.png            [완료]\n",
      "/home/ncp/workspace/data/crop_2/d1/H09_01514_01.png            [완료]\n",
      "/home/ncp/workspace/data/crop_2/d1/H13_02230_01.png            [완료]\n",
      "/home/ncp/workspace/data/crop_2/d1/H13_02232_01.png            [완료]\n",
      "/home/ncp/workspace/data/crop_2/d1/H01_01873_01.png            [완료]\n",
      "/home/ncp/workspace/data/crop_2/d1/H03_00489_02.png            [완료]\n",
      "/home/ncp/workspace/data/crop_2/d1/H05_02468_01.png            [완료]\n",
      "/home/ncp/workspace/data/crop_2/d1/H04_01777_01.png            [완료]\n",
      "/home/ncp/workspace/data/crop_2/d1/H13_00477_01.png            [완료]\n",
      "/home/ncp/workspace/data/crop_2/d1/H04_01783_01.png            [완료]\n",
      "/home/ncp/workspace/data/crop_2/d1/H13_00267_01.png            [완료]\n",
      "/home/ncp/workspace/data/crop_2/d1/H13_00462_02.png            [완료]\n",
      "/home/ncp/workspace/data/crop_2/d1/H04_00329_01.png            [완료]\n",
      "/home/ncp/workspace/data/crop_2/d1/H13_02216_01.png            [완료]\n",
      "/home/ncp/workspace/data/crop_2/d1/H08_00531_02.png            [완료]\n",
      "/home/ncp/workspace/data/crop_2/d2/H02_01112_01.png            [완료]\n",
      "/home/ncp/workspace/data/crop_2/d2/H02_00975_01.png            [완료]\n",
      "/home/ncp/workspace/data/crop_2/d2/H09_02067_01.png            [완료]\n",
      "/home/ncp/workspace/data/crop_2/d2/H04_02160_01.png            [완료]\n",
      "/home/ncp/workspace/data/crop_2/d2/H05_00985_01.png            [완료]\n",
      "/home/ncp/workspace/data/crop_2/d2/H03_01803_01.png            [완료]\n",
      "/home/ncp/workspace/data/crop_2/d2/H02_01388_01.png            [완료]\n",
      "/home/ncp/workspace/data/crop_2/d2/H05_00981_01.png            [완료]\n",
      "/home/ncp/workspace/data/crop_2/d2/H05_00966_01.png            [완료]\n",
      "/home/ncp/workspace/data/crop_2/d2/H05_01052_01.png            [완료]\n",
      "/home/ncp/workspace/data/crop_2/d2/H13_02387_01.png            [완료]\n",
      "/home/ncp/workspace/data/crop_2/d2/H04_02143_01.png            [완료]\n",
      "/home/ncp/workspace/data/crop_2/d2/H13_01287_01.png            [완료]\n",
      "/home/ncp/workspace/data/crop_2/d2/H02_01275_01.png            [완료]\n",
      "/home/ncp/workspace/data/crop_2/d2/H02_01375_01.png            [완료]\n",
      "/home/ncp/workspace/data/crop_2/d2/H05_01012_01.png            [완료]\n",
      "/home/ncp/workspace/data/crop_2/d2/H05_01021_01.png            [완료]\n",
      "/home/ncp/workspace/data/crop_2/d2/H03_00979_01.png            [완료]\n",
      "/home/ncp/workspace/data/crop_2/d2/H05_01001_01.png            [완료]\n",
      "/home/ncp/workspace/data/crop_2/d2/H04_02151_02.png            [완료]\n",
      "/home/ncp/workspace/data/crop_2/d3/H02_01004_01.png            [완료]\n",
      "/home/ncp/workspace/data/crop_2/d3/H04_01359_04.png            [완료]\n",
      "/home/ncp/workspace/data/crop_2/d3/H13_01263_01.png            [완료]\n",
      "/home/ncp/workspace/data/crop_2/d3/H08_01500_01.png            [완료]\n",
      "/home/ncp/workspace/data/crop_2/d3/H02_01210_01.png            [완료]\n",
      "/home/ncp/workspace/data/crop_2/d3/H13_01785_01.png            [완료]\n",
      "/home/ncp/workspace/data/crop_2/d3/H13_01008_02.png            [완료]\n",
      "/home/ncp/workspace/data/crop_2/d3/H05_01040_01.png            [완료]\n",
      "/home/ncp/workspace/data/crop_2/d3/H04_01312_01.png            [완료]\n",
      "/home/ncp/workspace/data/crop_2/d3/H01_01414_01.png            [완료]\n",
      "/home/ncp/workspace/data/crop_2/d3/H02_01408_02.png            [완료]\n",
      "/home/ncp/workspace/data/crop_2/d3/H02_00707_01.png            [완료]\n",
      "/home/ncp/workspace/data/crop_2/d3/H02_00922_02.png            [완료]\n",
      "/home/ncp/workspace/data/crop_2/d3/H02_01414_02.png            [완료]\n",
      "/home/ncp/workspace/data/crop_2/d3/H13_00831_01.png            [완료]\n",
      "/home/ncp/workspace/data/crop_2/d3/H03_02305_01.png            [완료]\n",
      "/home/ncp/workspace/data/crop_2/d3/H03_02385_01.png            [완료]\n",
      "/home/ncp/workspace/data/crop_2/d3/H05_01092_01.png            [완료]\n",
      "/home/ncp/workspace/data/crop_2/d3/H04_01322_01.png            [완료]\n",
      "/home/ncp/workspace/data/crop_2/d3/H05_02559_02.png            [완료]\n",
      "/home/ncp/workspace/data/crop_2/d3/H04_01353_02.png            [완료]\n",
      "/home/ncp/workspace/data/crop_2/d3/H04_00396_01.png            [완료]\n",
      "/home/ncp/workspace/data/crop_2/d3/H01_01421_01.png            [완료]\n",
      "/home/ncp/workspace/data/crop_2/d3/H04_01341_02.png            [완료]\n",
      "/home/ncp/workspace/data/crop_2/d3/H05_02558_01.png            [완료]\n",
      "/home/ncp/workspace/data/crop_2/d3/H08_01504_01.png            [완료]\n",
      "/home/ncp/workspace/data/crop_2/d3/H02_00931_01.png            [완료]\n",
      "/home/ncp/workspace/data/crop_2/d3/H02_00891_01.png            [완료]\n",
      "/home/ncp/workspace/data/crop_2/d3/H04_01316_01.png            [완료]\n",
      "/home/ncp/workspace/data/crop_2/d3/H02_00596_01.png            [완료]\n",
      "/home/ncp/workspace/data/crop_2/d3/H02_00841_02.png            [완료]\n",
      "/home/ncp/workspace/data/crop_2/d3/H03_02377_01.png            [완료]\n",
      "/home/ncp/workspace/data/crop_2/d3/H05_01070_01.png            [완료]\n",
      "/home/ncp/workspace/data/crop_2/d3/H13_01788_02.png            [완료]\n",
      "/home/ncp/workspace/data/crop_2/d3/H02_01292_02.png            [완료]\n",
      "/home/ncp/workspace/data/crop_2/d3/H13_01278_01.png            [완료]\n",
      "/home/ncp/workspace/data/crop_2/d3/H04_01314_01.png            [완료]\n",
      "/home/ncp/workspace/data/crop_2/d3/H09_01964_01.png            [완료]\n",
      "/home/ncp/workspace/data/crop_2/d3/H04_00408_01.png            [완료]\n",
      "/home/ncp/workspace/data/crop_2/d3/H01_00728_01.png            [완료]\n",
      "/home/ncp/workspace/data/crop_2/d3/H13_01627_02.png            [완료]\n",
      "/home/ncp/workspace/data/crop_2/d3/H03_01431_02.png            [완료]\n",
      "/home/ncp/workspace/data/crop_2/d3/H04_00400_01.png            [완료]\n",
      "/home/ncp/workspace/data/crop_2/d3/H04_01357_02.png            [완료]\n",
      "/home/ncp/workspace/data/crop_2/d3/H04_01327_04.png            [완료]\n",
      "/home/ncp/workspace/data/crop_2/d3/H02_00959_01.png            [완료]\n",
      "/home/ncp/workspace/data/crop_2/d3/H02_00985_02.png            [완료]\n",
      "/home/ncp/workspace/data/crop_2/d3/H02_00606_01.png            [완료]\n",
      "/home/ncp/workspace/data/crop_2/d3/H04_01345_02.png            [완료]\n",
      "/home/ncp/workspace/data/crop_2/d3/H03_01041_01.png            [완료]\n",
      "/home/ncp/workspace/data/crop_2/d3/H09_01654_01.png            [완료]\n",
      "/home/ncp/workspace/data/crop_2/d3/H13_01395_02.png            [완료]\n",
      "/home/ncp/workspace/data/crop_2/d3/H13_01255_02.png            [완료]\n",
      "/home/ncp/workspace/data/crop_2/d3/H04_01363_04.png            [완료]\n",
      "/home/ncp/workspace/data/crop_2/d4/H04_00218_01.png            [완료]\n",
      "/home/ncp/workspace/data/crop_2/d4/H04_00063_01.png            [완료]\n",
      "/home/ncp/workspace/data/crop_2/d4/H04_00108_01.png            [완료]\n",
      "/home/ncp/workspace/data/crop_2/d4/H05_00065_02.png            [완료]\n",
      "/home/ncp/workspace/data/crop_2/d4/H13_00394_01.png            [완료]\n",
      "/home/ncp/workspace/data/crop_2/d4/H13_00336_01.png            [완료]\n",
      "/home/ncp/workspace/data/crop_2/d4/H05_00085_02.png            [완료]\n",
      "/home/ncp/workspace/data/crop_2/d4/H04_00187_01.png            [완료]\n",
      "/home/ncp/workspace/data/crop_2/d4/H03_00152_01.png            [완료]\n",
      "/home/ncp/workspace/data/crop_2/d4/H03_00199_01.png            [완료]\n",
      "/home/ncp/workspace/data/crop_2/d4/H08_00229_02.png            [완료]\n",
      "/home/ncp/workspace/data/crop_2/d4/H13_00099_02.png            [완료]\n",
      "/home/ncp/workspace/data/crop_2/d4/H08_00296_01.png            [완료]\n",
      "/home/ncp/workspace/data/crop_2/d4/H05_00178_01.png            [완료]\n",
      "/home/ncp/workspace/data/crop_2/d4/H13_02371_01.png            [완료]\n",
      "/home/ncp/workspace/data/crop_2/d4/H08_00198_01.png            [완료]\n",
      "/home/ncp/workspace/data/crop_2/d4/H04_00132_01.png            [완료]\n",
      "/home/ncp/workspace/data/crop_2/d4/H08_00290_02.png            [완료]\n",
      "/home/ncp/workspace/data/crop_2/d4/H13_00315_02.png            [완료]\n",
      "/home/ncp/workspace/data/crop_2/d4/H07_02624_01.png            [완료]\n",
      "/home/ncp/workspace/data/crop_2/d4/H04_00096_01.png            [완료]\n",
      "/home/ncp/workspace/data/crop_2/d4/H02_01181_01.png            [완료]\n",
      "/home/ncp/workspace/data/crop_2/d4/H03_00241_01.png            [완료]\n",
      "/home/ncp/workspace/data/crop_2/d4/H03_00336_01.png            [완료]\n",
      "/home/ncp/workspace/data/crop_2/d4/H04_00191_01.png            [완료]\n",
      "/home/ncp/workspace/data/crop_2/d4/H05_00102_01.png            [완료]\n",
      "/home/ncp/workspace/data/crop_2/d4/H05_00002_01.png            [완료]\n",
      "/home/ncp/workspace/data/crop_2/d4/H03_00213_01.png            [완료]\n",
      "/home/ncp/workspace/data/crop_2/d4/H07_00920_01.png            [완료]\n",
      "/home/ncp/workspace/data/crop_2/d4/H03_02245_01.png            [완료]\n",
      "/home/ncp/workspace/data/crop_2/d4/H07_02543_01.png            [완료]\n",
      "/home/ncp/workspace/data/crop_2/d4/H05_00055_02.png            [완료]\n",
      "/home/ncp/workspace/data/crop_2/d4/H05_00013_02.png            [완료]\n",
      "/home/ncp/workspace/data/crop_2/d4/H13_00429_02.png            [완료]\n",
      "/home/ncp/workspace/data/crop_2/d4/H08_00217_01.png            [완료]\n",
      "/home/ncp/workspace/data/crop_2/d4/H04_00154_01.png            [완료]\n",
      "/home/ncp/workspace/data/crop_2/d4/H13_00013_01.png            [완료]\n",
      "/home/ncp/workspace/data/crop_2/d4/H13_00411_01.png            [완료]\n",
      "/home/ncp/workspace/data/crop_2/d4/H13_00307_02.png            [완료]\n",
      "/home/ncp/workspace/data/crop_2/d4/H04_00002_01.png            [완료]\n",
      "/home/ncp/workspace/data/crop_2/d4/H07_02617_01.png            [완료]\n",
      "/home/ncp/workspace/data/crop_2/d4/H03_00216_01.png            [완료]\n",
      "/home/ncp/workspace/data/crop_2/d4/H13_00133_02.png            [완료]\n",
      "/home/ncp/workspace/data/crop_2/d4/H13_00053_02.png            [완료]\n",
      "/home/ncp/workspace/data/crop_2/d4/H05_00170_01.png            [완료]\n",
      "/home/ncp/workspace/data/crop_2/d4/H05_02355_01.png            [완료]\n",
      "/home/ncp/workspace/data/crop_2/d4/H13_00017_01.png            [완료]\n",
      "/home/ncp/workspace/data/crop_2/d4/H01_00650_01.png            [완료]\n",
      "/home/ncp/workspace/data/crop_2/d4/H03_00182_01.png            [완료]\n",
      "/home/ncp/workspace/data/crop_2/d4/H13_00364_02.png            [완료]\n",
      "/home/ncp/workspace/data/crop_2/d4/H08_00274_01.png            [완료]\n",
      "/home/ncp/workspace/data/crop_2/d4/H01_00534_01.png            [완료]\n",
      "/home/ncp/workspace/data/crop_2/d4/H13_00106_01.png            [완료]\n",
      "/home/ncp/workspace/data/crop_2/d4/H05_00025_02.png            [완료]\n",
      "/home/ncp/workspace/data/crop_2/d4/H05_00019_02.png            [완료]\n",
      "/home/ncp/workspace/data/crop_2/d4/H05_00158_01.png            [완료]\n",
      "/home/ncp/workspace/data/crop_2/d4/H03_00151_01.png            [완료]\n",
      "/home/ncp/workspace/data/crop_2/d4/H04_00053_01.png            [완료]\n",
      "/home/ncp/workspace/data/crop_2/d4/H04_00036_01.png            [완료]\n",
      "/home/ncp/workspace/data/crop_2/d4/H13_00303_02.png            [완료]\n",
      "/home/ncp/workspace/data/crop_2/d4/H13_00196_01.png            [완료]\n",
      "/home/ncp/workspace/data/crop_2/d4/H08_00278_02.png            [완료]\n",
      "/home/ncp/workspace/data/crop_2/d4/H05_00079_02.png            [완료]\n",
      "/home/ncp/workspace/data/crop_2/d4/H13_00430_01.png            [완료]\n",
      "/home/ncp/workspace/data/crop_2/d4/H03_00280_01.png            [완료]\n",
      "/home/ncp/workspace/data/crop_2/d4/H13_00035_02.png            [완료]\n",
      "/home/ncp/workspace/data/crop_2/d4/H03_00164_01.png            [완료]\n",
      "/home/ncp/workspace/data/crop_2/d4/H07_02541_01.png            [완료]\n",
      "/home/ncp/workspace/data/crop_2/d4/H01_00662_01.png            [완료]\n",
      "/home/ncp/workspace/data/crop_2/d4/H03_00315_01.png            [완료]\n",
      "/home/ncp/workspace/data/crop_2/d4/H03_02263_01.png            [완료]\n",
      "/home/ncp/workspace/data/crop_2/d4/H07_01005_02.png            [완료]\n",
      "/home/ncp/workspace/data/crop_2/d4/H07_02602_01.png            [완료]\n",
      "/home/ncp/workspace/data/crop_2/d4/H05_00168_01.png            [완료]\n",
      "/home/ncp/workspace/data/crop_2/d4/H08_00246_01.png            [완료]\n",
      "/home/ncp/workspace/data/crop_2/d4/H05_00031_02.png            [완료]\n",
      "/home/ncp/workspace/data/crop_2/d4/H13_00329_01.png            [완료]\n",
      "/home/ncp/workspace/data/crop_2/d4/H03_00176_01.png            [완료]\n",
      "/home/ncp/workspace/data/crop_2/d4/H07_02494_01.png            [완료]\n",
      "/home/ncp/workspace/data/crop_2/d4/H08_00161_01.png            [완료]\n",
      "/home/ncp/workspace/data/crop_2/d4/H04_00170_01.png            [완료]\n",
      "/home/ncp/workspace/data/crop_2/d4/H01_00583_01.png            [완료]\n",
      "/home/ncp/workspace/data/crop_2/d4/H03_00175_02.png            [완료]\n",
      "/home/ncp/workspace/data/crop_2/d4/H03_00140_01.png            [완료]\n",
      "/home/ncp/workspace/data/crop_2/d4/H08_00258_01.png            [완료]\n",
      "/home/ncp/workspace/data/crop_2/d4/H08_00120_01.png            [완료]\n",
      "/home/ncp/workspace/data/crop_2/d4/H04_00207_01.png            [완료]\n",
      "/home/ncp/workspace/data/crop_2/d4/H05_00147_02.png            [완료]\n",
      "/home/ncp/workspace/data/crop_2/d4/H13_00373_01.png            [완료]\n",
      "/home/ncp/workspace/data/crop_2/d4/H08_00216_01.png            [완료]\n",
      "/home/ncp/workspace/data/crop_2/d4/H03_02264_01.png            [완료]\n",
      "/home/ncp/workspace/data/crop_2/d4/H03_00160_01.png            [완료]\n",
      "/home/ncp/workspace/data/crop_2/d4/H01_00651_01.png            [완료]\n",
      "/home/ncp/workspace/data/crop_2/d4/H03_00153_01.png            [완료]\n",
      "/home/ncp/workspace/data/crop_2/d4/H04_00044_01.png            [완료]\n",
      "/home/ncp/workspace/data/crop_2/d4/H05_00126_01.png            [완료]\n",
      "/home/ncp/workspace/data/crop_2/d4/H05_00190_01.png            [완료]\n",
      "/home/ncp/workspace/data/crop_2/d4/H13_00323_01.png            [완료]\n",
      "/home/ncp/workspace/data/crop_2/d4/H04_00190_01.png            [완료]\n",
      "/home/ncp/workspace/data/crop_2/d4/H13_00072_01.png            [완료]\n",
      "/home/ncp/workspace/data/crop_2/d4/H08_00218_02.png            [완료]\n",
      "/home/ncp/workspace/data/crop_2/d4/H05_00047_02.png            [완료]\n",
      "/home/ncp/workspace/data/crop_2/d5/H05_02335_01.png            [완료]\n",
      "/home/ncp/workspace/data/crop_2/d5/H05_01563_01.png            [완료]\n",
      "/home/ncp/workspace/data/crop_2/d5/H04_01067_03.png            [완료]\n",
      "/home/ncp/workspace/data/crop_2/d5/H03_00755_01.png            [완료]\n",
      "/home/ncp/workspace/data/crop_2/d5/H03_00841_02.png            [완료]\n",
      "/home/ncp/workspace/data/crop_2/d5/H13_00244_02.png            [완료]\n",
      "/home/ncp/workspace/data/crop_2/d5/H04_02394_02.png            [완료]\n",
      "/home/ncp/workspace/data/crop_2/d5/H03_00401_01.png            [완료]\n",
      "/home/ncp/workspace/data/crop_2/d5/H08_00412_01.png            [완료]\n",
      "/home/ncp/workspace/data/crop_2/d5/H08_01371_01.png            [완료]\n",
      "/home/ncp/workspace/data/crop_2/d5/H09_01293_01.png            [완료]\n",
      "/home/ncp/workspace/data/crop_2/d5/H05_01875_01.png            [완료]\n",
      "/home/ncp/workspace/data/crop_2/d5/H04_01152_01.png            [완료]\n",
      "/home/ncp/workspace/data/crop_2/d5/H01_01406_01.png            [완료]\n",
      "/home/ncp/workspace/data/crop_2/d5/H04_02295_02.png            [완료]\n",
      "/home/ncp/workspace/data/crop_2/d5/H04_01684_01.png            [완료]\n",
      "/home/ncp/workspace/data/crop_2/d5/H03_01155_02.png            [완료]\n",
      "/home/ncp/workspace/data/crop_2/d5/H01_01223_01.png            [완료]\n",
      "/home/ncp/workspace/data/crop_2/d5/H13_02297_01.png            [완료]\n",
      "/home/ncp/workspace/data/crop_2/d5/H01_01714_01.png            [완료]\n",
      "/home/ncp/workspace/data/crop_2/d5/H04_01870_01.png            [완료]\n",
      "/home/ncp/workspace/data/crop_2/d5/H13_01175_01.png            [완료]\n",
      "/home/ncp/workspace/data/crop_2/d5/H07_01682_02.png            [완료]\n",
      "/home/ncp/workspace/data/crop_2/d5/H02_00861_01.png            [완료]\n",
      "/home/ncp/workspace/data/crop_2/d5/H01_01186_01.png            [완료]\n",
      "/home/ncp/workspace/data/crop_2/d5/H01_01103_01.png            [완료]\n",
      "/home/ncp/workspace/data/crop_2/d5/H05_01860_01.png            [완료]\n",
      "/home/ncp/workspace/data/crop_2/d5/H01_02252_01.png            [완료]\n",
      "/home/ncp/workspace/data/crop_2/d5/H13_01727_01.png            [완료]\n",
      "/home/ncp/workspace/data/crop_2/d5/H03_01973_01.png            [완료]\n",
      "/home/ncp/workspace/data/crop_2/d5/H09_01413_02.png            [완료]\n",
      "/home/ncp/workspace/data/crop_2/d5/H01_01396_01.png            [완료]\n",
      "/home/ncp/workspace/data/crop_2/d5/H09_02104_01.png            [완료]\n",
      "/home/ncp/workspace/data/crop_2/d5/H04_01833_01.png            [완료]\n",
      "/home/ncp/workspace/data/crop_2/d5/H09_01927_01.png            [완료]\n",
      "/home/ncp/workspace/data/crop_2/d5/H01_01751_01.png            [완료]\n",
      "/home/ncp/workspace/data/crop_2/d5/H05_01358_02.png            [완료]\n",
      "/home/ncp/workspace/data/crop_2/d5/H05_01412_01.png            [완료]\n",
      "/home/ncp/workspace/data/crop_2/d5/H13_01123_01.png            [완료]\n",
      "/home/ncp/workspace/data/crop_2/d5/H03_01603_01.png            [완료]\n",
      "/home/ncp/workspace/data/crop_2/d5/H13_01119_01.png            [완료]\n",
      "/home/ncp/workspace/data/crop_2/d5/H01_00334_01.png            [완료]\n",
      "/home/ncp/workspace/data/crop_2/d5/H04_01813_01.png            [완료]\n",
      "/home/ncp/workspace/data/crop_2/d5/H13_00524_01.png            [완료]\n",
      "/home/ncp/workspace/data/crop_2/d5/H07_00633_02.png            [완료]\n",
      "/home/ncp/workspace/data/crop_2/d5/H04_01660_01.png            [완료]\n",
      "/home/ncp/workspace/data/crop_2/d5/H04_02203_02.png            [완료]\n",
      "/home/ncp/workspace/data/crop_2/d5/H05_01574_02.png            [완료]\n",
      "/home/ncp/workspace/data/crop_2/d5/H02_00446_01.png            [완료]\n",
      "/home/ncp/workspace/data/crop_2/d5/H03_00904_01.png            [완료]\n",
      "/home/ncp/workspace/data/crop_2/d5/H03_01564_01.png            [완료]\n",
      "/home/ncp/workspace/data/crop_2/d5/H13_02434_01.png            [완료]\n",
      "/home/ncp/workspace/data/crop_2/d5/H08_00374_02.png            [완료]\n",
      "/home/ncp/workspace/data/crop_2/d5/H04_01178_01.png            [완료]\n",
      "/home/ncp/workspace/data/crop_2/d5/H04_01121_02.png            [완료]\n",
      "/home/ncp/workspace/data/crop_2/d5/H08_00358_01.png            [완료]\n",
      "/home/ncp/workspace/data/crop_2/d5/H04_02298_01.png            [완료]\n",
      "/home/ncp/workspace/data/crop_2/d5/H03_00380_02.png            [완료]\n",
      "/home/ncp/workspace/data/crop_2/d5/H04_02365_01.png            [완료]\n",
      "/home/ncp/workspace/data/crop_2/d5/H05_01482_01.png            [완료]\n",
      "/home/ncp/workspace/data/crop_2/d5/H04_01092_01.png            [완료]\n",
      "/home/ncp/workspace/data/crop_2/d5/H04_02351_02.png            [완료]\n",
      "/home/ncp/workspace/data/crop_2/d5/H03_01872_01.png            [완료]\n",
      "/home/ncp/workspace/data/crop_2/d5/H02_01063_01.png            [완료]\n",
      "/home/ncp/workspace/data/crop_2/d5/H05_01894_01.png            [완료]\n",
      "/home/ncp/workspace/data/crop_2/d5/H04_02268_02.png            [완료]\n",
      "/home/ncp/workspace/data/crop_2/d5/H04_01600_01.png            [완료]\n",
      "/home/ncp/workspace/data/crop_2/d5/H04_01988_01.png            [완료]\n",
      "/home/ncp/workspace/data/crop_2/d5/H13_00544_03.png            [완료]\n",
      "/home/ncp/workspace/data/crop_2/d5/H03_01726_01.png            [완료]\n",
      "/home/ncp/workspace/data/crop_2/d5/H02_01519_02.png            [완료]\n",
      "/home/ncp/workspace/data/crop_2/d5/H05_01819_01.png            [완료]\n",
      "/home/ncp/workspace/data/crop_2/d5/H09_01920_01.png            [완료]\n",
      "/home/ncp/workspace/data/crop_2/d5/H08_00328_02.png            [완료]\n",
      "/home/ncp/workspace/data/crop_2/d5/H04_01497_02.png            [완료]\n",
      "/home/ncp/workspace/data/crop_2/d5/H05_01570_01.png            [완료]\n",
      "/home/ncp/workspace/data/crop_2/d5/H04_02420_01.png            [완료]\n",
      "/home/ncp/workspace/data/crop_2/d5/H04_01543_02.png            [완료]\n",
      "/home/ncp/workspace/data/crop_2/d5/H04_01124_01.png            [완료]\n",
      "/home/ncp/workspace/data/crop_2/d5/H01_01711_01.png            [완료]\n",
      "/home/ncp/workspace/data/crop_2/d5/H03_00736_01.png            [완료]\n",
      "/home/ncp/workspace/data/crop_2/d5/H02_00313_01.png            [완료]\n",
      "/home/ncp/workspace/data/crop_2/d5/H13_01216_02.png            [완료]\n",
      "/home/ncp/workspace/data/crop_2/d5/H04_01669_01.png            [완료]\n",
      "/home/ncp/workspace/data/crop_2/d5/H05_01498_01.png            [완료]\n",
      "/home/ncp/workspace/data/crop_2/d5/H01_01615_01.png            [완료]\n",
      "/home/ncp/workspace/data/crop_2/d5/H02_00532_01.png            [완료]\n",
      "/home/ncp/workspace/data/crop_2/d5/H04_01619_01.png            [완료]\n",
      "/home/ncp/workspace/data/crop_2/d5/H03_01283_02.png            [완료]\n",
      "/home/ncp/workspace/data/crop_2/d5/H04_02326_01.png            [완료]\n",
      "/home/ncp/workspace/data/crop_2/d5/H03_00354_01.png            [완료]\n",
      "/home/ncp/workspace/data/crop_2/d5/H05_02183_01.png            [완료]\n",
      "/home/ncp/workspace/data/crop_2/d5/H05_01682_01.png            [완료]\n",
      "/home/ncp/workspace/data/crop_2/d5/H05_02497_02.png            [완료]\n",
      "/home/ncp/workspace/data/crop_2/d5/H13_01109_01.png            [완료]\n",
      "/home/ncp/workspace/data/crop_2/d5/H04_01532_01.png            [완료]\n",
      "/home/ncp/workspace/data/crop_2/d5/H08_00355_02.png            [완료]\n",
      "/home/ncp/workspace/data/crop_2/d5/H03_01560_02.png            [완료]\n",
      "/home/ncp/workspace/data/crop_2/d5/H04_02524_02.png            [완료]\n",
      "/home/ncp/workspace/data/crop_2/d5/H08_01682_02.png            [완료]\n",
      "/home/ncp/workspace/data/crop_2/d5/H02_01443_01.png            [완료]\n",
      "/home/ncp/workspace/data/crop_2/d5/H04_02532_03.png            [완료]\n",
      "/home/ncp/workspace/data/crop_2/d5/H04_01211_02.png            [완료]\n",
      "/home/ncp/workspace/data/crop_2/d5/H04_01499_01.png            [완료]\n",
      "/home/ncp/workspace/data/crop_2/d5/H05_01513_01.png            [완료]\n",
      "/home/ncp/workspace/data/crop_2/d5/H13_01012_02.png            [완료]\n",
      "/home/ncp/workspace/data/crop_2/d5/H05_01444_01.png            [완료]\n",
      "/home/ncp/workspace/data/crop_2/d5/H01_02232_01.png            [완료]\n",
      "/home/ncp/workspace/data/crop_2/d5/H03_02119_02.png            [완료]\n",
      "/home/ncp/workspace/data/crop_2/d5/H01_00476_01.png            [완료]\n",
      "/home/ncp/workspace/data/crop_2/d5/H03_00408_01.png            [완료]\n",
      "/home/ncp/workspace/data/crop_2/d5/H05_01653_01.png            [완료]\n",
      "/home/ncp/workspace/data/crop_2/d5/H04_01701_02.png            [완료]\n",
      "/home/ncp/workspace/data/crop_2/d5/H08_00927_01.png            [완료]\n",
      "/home/ncp/workspace/data/crop_2/d5/H09_01730_01.png            [완료]\n",
      "/home/ncp/workspace/data/crop_2/d5/H05_01532_02.png            [완료]\n",
      "/home/ncp/workspace/data/crop_2/d5/H08_01425_02.png            [완료]\n",
      "/home/ncp/workspace/data/crop_2/d5/H08_01687_01.png            [완료]\n",
      "/home/ncp/workspace/data/crop_2/d5/H01_00252_01.png            [완료]\n",
      "/home/ncp/workspace/data/crop_2/d5/H04_02315_02.png            [완료]\n",
      "/home/ncp/workspace/data/crop_2/d5/H07_01641_01.png            [완료]\n",
      "/home/ncp/workspace/data/crop_2/d5/H04_01214_01.png            [완료]\n",
      "/home/ncp/workspace/data/crop_2/d5/H05_01391_02.png            [완료]\n",
      "/home/ncp/workspace/data/crop_2/d5/H04_02118_01.png            [완료]\n",
      "/home/ncp/workspace/data/crop_2/d5/H04_00928_03.png            [완료]\n",
      "/home/ncp/workspace/data/crop_2/d5/H03_01183_01.png            [완료]\n",
      "/home/ncp/workspace/data/crop_2/d5/H01_01628_01.png            [완료]\n",
      "/home/ncp/workspace/data/crop_2/d5/H04_02357_01.png            [완료]\n",
      "/home/ncp/workspace/data/crop_2/d5/H05_01674_01.png            [완료]\n",
      "/home/ncp/workspace/data/crop_2/d5/H05_01354_01.png            [완료]\n",
      "/home/ncp/workspace/data/crop_2/d5/H08_01410_01.png            [완료]\n",
      "/home/ncp/workspace/data/crop_2/d5/H13_01207_01.png            [완료]\n",
      "/home/ncp/workspace/data/crop_2/d5/H05_01436_02.png            [완료]\n",
      "/home/ncp/workspace/data/crop_2/d5/H04_00989_02.png            [완료]\n",
      "/home/ncp/workspace/data/crop_2/d5/H05_01273_01.png            [완료]\n",
      "/home/ncp/workspace/data/crop_2/d5/H02_00137_02.png            [완료]\n",
      "/home/ncp/workspace/data/crop_2/d5/H08_00958_01.png            [완료]\n",
      "/home/ncp/workspace/data/crop_2/d5/H05_02223_01.png            [완료]\n",
      "/home/ncp/workspace/data/crop_2/d5/H03_00905_01.png            [완료]\n",
      "/home/ncp/workspace/data/crop_2/d5/H13_01999_02.png            [완료]\n",
      "/home/ncp/workspace/data/crop_2/d5/H09_01444_01.png            [완료]\n",
      "/home/ncp/workspace/data/crop_2/d5/H02_01342_01.png            [완료]\n",
      "/home/ncp/workspace/data/crop_2/d5/H08_01352_02.png            [완료]\n",
      "/home/ncp/workspace/data/crop_2/d5/H01_00768_01.png            [완료]\n",
      "/home/ncp/workspace/data/crop_2/d5/H01_02178_01.png            [완료]\n",
      "/home/ncp/workspace/data/crop_2/d5/H03_01689_01.png            [완료]\n",
      "/home/ncp/workspace/data/crop_2/d5/H07_00919_02.png            [완료]\n",
      "/home/ncp/workspace/data/crop_2/d5/H01_00367_01.png            [완료]\n",
      "/home/ncp/workspace/data/crop_2/d5/H02_00193_02.png            [완료]\n",
      "/home/ncp/workspace/data/crop_2/d5/H03_00882_02.png            [완료]\n",
      "/home/ncp/workspace/data/crop_2/d5/H13_00647_01.png            [완료]\n",
      "/home/ncp/workspace/data/crop_2/d5/H13_01229_01.png            [완료]\n",
      "/home/ncp/workspace/data/crop_2/d5/H04_02503_02.png            [완료]\n",
      "/home/ncp/workspace/data/crop_2/d5/H13_01961_01.png            [완료]\n",
      "/home/ncp/workspace/data/crop_2/d5/H13_01019_01.png            [완료]\n",
      "/home/ncp/workspace/data/crop_2/d5/H03_00406_01.png            [완료]\n",
      "/home/ncp/workspace/data/crop_2/d5/H01_02195_01.png            [완료]\n",
      "/home/ncp/workspace/data/crop_2/d5/H13_01986_02.png            [완료]\n",
      "/home/ncp/workspace/data/crop_2/d5/H05_02100_01.png            [완료]\n",
      "/home/ncp/workspace/data/crop_2/d5/H04_01148_02.png            [완료]\n",
      "/home/ncp/workspace/data/crop_2/d6/H13_01396_01.png            [완료]\n",
      "/home/ncp/workspace/data/crop_2/d6/H02_01340_02.png            [완료]\n",
      "/home/ncp/workspace/data/crop_2/d6/H13_01418_01.png            [완료]\n",
      "/home/ncp/workspace/data/crop_2/d6/H04_01720_02.png            [완료]\n",
      "/home/ncp/workspace/data/crop_2/d6/H03_01994_01.png            [완료]\n",
      "/home/ncp/workspace/data/crop_2/d6/H05_01253_02.png            [완료]\n",
      "/home/ncp/workspace/data/crop_2/d6/H05_01232_01.png            [완료]\n",
      "/home/ncp/workspace/data/crop_2/d6/H09_01677_01.png            [완료]\n",
      "/home/ncp/workspace/data/crop_2/d6/H04_01238_01.png            [완료]\n",
      "/home/ncp/workspace/data/crop_2/d6/H09_01560_01.png            [완료]\n",
      "/home/ncp/workspace/data/crop_2/d6/H01_01565_01.png            [완료]\n",
      "/home/ncp/workspace/data/crop_2/d6/H05_01293_01.png            [완료]\n",
      "/home/ncp/workspace/data/crop_2/d6/H09_01668_01.png            [완료]\n",
      "/home/ncp/workspace/data/crop_2/d6/H03_02272_01.png            [완료]\n",
      "/home/ncp/workspace/data/crop_2/d6/H09_01716_01.png            [완료]\n",
      "/home/ncp/workspace/data/crop_2/d6/H05_01230_01.png            [완료]\n",
      "/home/ncp/workspace/data/crop_2/d6/H03_01771_01.png            [완료]\n",
      "/home/ncp/workspace/data/crop_2/d6/H03_02336_01.png            [완료]\n",
      "/home/ncp/workspace/data/crop_2/d6/H09_02011_01.png            [완료]\n",
      "/home/ncp/workspace/data/crop_2/d6/H13_01077_01.png            [완료]\n",
      "/home/ncp/workspace/data/crop_2/d6/H13_01028_01.png            [완료]\n",
      "/home/ncp/workspace/data/crop_2/d6/H03_00988_01.png            [완료]\n",
      "/home/ncp/workspace/data/crop_2/d6/H09_01674_02.png            [완료]\n",
      "/home/ncp/workspace/data/crop_2/d6/H13_00792_01.png            [완료]\n",
      "/home/ncp/workspace/data/crop_2/d6/H03_02008_02.png            [완료]\n",
      "/home/ncp/workspace/data/crop_2/d6/H04_01287_02.png            [완료]\n",
      "/home/ncp/workspace/data/crop_2/d6/H09_01681_02.png            [완료]\n",
      "/home/ncp/workspace/data/crop_2/d6/H04_01229_03.png            [완료]\n",
      "/home/ncp/workspace/data/crop_2/d6/H09_02023_01.png            [완료]\n",
      "/home/ncp/workspace/data/crop_2/d6/H04_01282_02.png            [완료]\n",
      "/home/ncp/workspace/data/crop_2/d6/H13_01043_01.png            [완료]\n",
      "/home/ncp/workspace/data/crop_2/d6/H04_01715_02.png            [완료]\n",
      "/home/ncp/workspace/data/crop_2/d6/H09_01687_01.png            [완료]\n",
      "/home/ncp/workspace/data/crop_2/d6/H05_01306_01.png            [완료]\n",
      "/home/ncp/workspace/data/crop_2/d6/H13_01428_03.png            [완료]\n",
      "/home/ncp/workspace/data/crop_2/d6/H01_01425_01.png            [완료]\n",
      "/home/ncp/workspace/data/crop_2/d6/H03_01001_01.png            [완료]\n",
      "/home/ncp/workspace/data/crop_2/d6/H03_01758_02.png            [완료]\n",
      "/home/ncp/workspace/data/crop_2/d6/H05_01241_02.png            [완료]\n",
      "/home/ncp/workspace/data/crop_2/d6/H09_01712_01.png            [완료]\n",
      "/home/ncp/workspace/data/crop_2/d6/H01_01583_01.png            [완료]\n",
      "/home/ncp/workspace/data/crop_2/d6/H04_01232_01.png            [완료]\n",
      "/home/ncp/workspace/data/crop_2/d6/H05_01225_01.png            [완료]\n",
      "/home/ncp/workspace/data/crop_2/d6/H04_01278_01.png            [완료]\n",
      "/home/ncp/workspace/data/crop_2/d6/H05_01305_01.png            [완료]\n",
      "/home/ncp/workspace/data/crop_2/d6/H04_01255_03.png            [완료]\n",
      "/home/ncp/workspace/data/crop_2/d6/H13_01359_02.png            [완료]\n",
      "/home/ncp/workspace/data/crop_2/d6/H05_01294_01.png            [완료]\n",
      "/home/ncp/workspace/data/crop_2/d6/H03_01775_01.png            [완료]\n",
      "/home/ncp/workspace/data/crop_2/d6/H09_01554_01.png            [완료]\n",
      "/home/ncp/workspace/data/crop_2/d6/H09_01556_01.png            [완료]\n",
      "/home/ncp/workspace/data/crop_2/d6/H13_02094_01.png            [완료]\n",
      "/home/ncp/workspace/data/crop_2/d6/H13_01073_01.png            [완료]\n",
      "/home/ncp/workspace/data/crop_2/d6/H13_02095_02.png            [완료]\n",
      "/home/ncp/workspace/data/crop_2/d6/H13_01452_02.png            [완료]\n",
      "/home/ncp/workspace/data/crop_2/d6/H09_01720_01.png            [완료]\n",
      "/home/ncp/workspace/data/crop_2/d6/H03_02333_01.png            [완료]\n",
      "/home/ncp/workspace/data/crop_2/d6/H13_01928_05.png            [완료]\n",
      "/home/ncp/workspace/data/crop_2/d6/H05_01148_02.png            [완료]\n",
      "/home/ncp/workspace/data/crop_2/d6/H01_02017_01.png            [완료]\n",
      "/home/ncp/workspace/data/crop_2/d6/H13_01076_02.png            [완료]\n",
      "/home/ncp/workspace/data/crop_2/d6/H05_01132_01.png            [완료]\n",
      "/home/ncp/workspace/data/crop_2/d6/H02_00813_01.png            [완료]\n",
      "/home/ncp/workspace/data/crop_2/d6/H05_01284_01.png            [완료]\n",
      "/home/ncp/workspace/data/crop_2/d6/H05_01213_01.png            [완료]\n",
      "/home/ncp/workspace/data/crop_2/d6/H03_01397_01.png            [완료]\n",
      "/home/ncp/workspace/data/crop_2/d6/H05_01250_01.png            [완료]\n",
      "/home/ncp/workspace/data/crop_2/d6/H09_01679_01.png            [완료]\n",
      "/home/ncp/workspace/data/crop_2/d6/H04_01649_05.png            [완료]\n",
      "/home/ncp/workspace/data/crop_2/d6/H09_01993_01.png            [완료]\n",
      "/home/ncp/workspace/data/crop_2/d6/H02_01140_01.png            [완료]\n",
      "/home/ncp/workspace/data/crop_2/d6/H02_01202_01.png            [완료]\n",
      "/home/ncp/workspace/data/crop_2/d6/H03_01772_02.png            [완료]\n",
      "/home/ncp/workspace/data/crop_2/d6/H08_01136_02.png            [완료]\n",
      "/home/ncp/workspace/data/crop_2/d6/H09_01565_01.png            [완료]\n",
      "/home/ncp/workspace/data/crop_2/d6/H05_01205_01.png            [완료]\n",
      "/home/ncp/workspace/data/crop_2/d6/H03_00989_01.png            [완료]\n",
      "/home/ncp/workspace/data/crop_2/d6/H01_02004_01.png            [완료]\n"
     ]
    }
   ],
   "source": [
    "import shutil\n",
    "good = []\n",
    "error = []\n",
    "for i in a:\n",
    "    try:\n",
    "        shutil.copy(i,i.split('/data/')[0] + '/data/cp2_test/' + i.split('/crop_2/')[1].split('/')[0])\n",
    "        print(i, '           [완료]')\n",
    "        good.append(i)\n",
    "        \n",
    "    except Exception as e:\n",
    "        print(e)\n",
    "        print(i, '                     [오류]')\n",
    "        error.append(i)"
   ]
  },
  {
   "cell_type": "code",
   "execution_count": null,
   "metadata": {},
   "outputs": [],
   "source": []
  }
 ],
 "metadata": {
  "kernelspec": {
   "display_name": "Python 3",
   "language": "python",
   "name": "python3"
  },
  "language_info": {
   "codemirror_mode": {
    "name": "ipython",
    "version": 3
   },
   "file_extension": ".py",
   "mimetype": "text/x-python",
   "name": "python",
   "nbconvert_exporter": "python",
   "pygments_lexer": "ipython3",
   "version": "3.6.13"
  }
 },
 "nbformat": 4,
 "nbformat_minor": 2
}
