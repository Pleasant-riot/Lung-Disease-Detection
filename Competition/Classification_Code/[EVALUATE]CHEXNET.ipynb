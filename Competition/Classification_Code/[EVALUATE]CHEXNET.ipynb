{
 "cells": [
  {
   "cell_type": "code",
   "execution_count": 1,
   "metadata": {},
   "outputs": [],
   "source": [
    "import pandas as pd\n",
    "import numpy as np\n",
    "import seaborn as sns\n",
    "import matplotlib.pyplot as plt"
   ]
  },
  {
   "cell_type": "code",
   "execution_count": 2,
   "metadata": {},
   "outputs": [
    {
     "name": "stderr",
     "output_type": "stream",
     "text": [
      "/opt/conda/lib/python3.6/site-packages/tensorflow/python/framework/dtypes.py:526: FutureWarning: Passing (type, 1) or '1type' as a synonym of type is deprecated; in a future version of numpy, it will be understood as (type, (1,)) / '(1,)type'.\n",
      "  _np_qint8 = np.dtype([(\"qint8\", np.int8, 1)])\n",
      "/opt/conda/lib/python3.6/site-packages/tensorflow/python/framework/dtypes.py:527: FutureWarning: Passing (type, 1) or '1type' as a synonym of type is deprecated; in a future version of numpy, it will be understood as (type, (1,)) / '(1,)type'.\n",
      "  _np_quint8 = np.dtype([(\"quint8\", np.uint8, 1)])\n",
      "/opt/conda/lib/python3.6/site-packages/tensorflow/python/framework/dtypes.py:528: FutureWarning: Passing (type, 1) or '1type' as a synonym of type is deprecated; in a future version of numpy, it will be understood as (type, (1,)) / '(1,)type'.\n",
      "  _np_qint16 = np.dtype([(\"qint16\", np.int16, 1)])\n",
      "/opt/conda/lib/python3.6/site-packages/tensorflow/python/framework/dtypes.py:529: FutureWarning: Passing (type, 1) or '1type' as a synonym of type is deprecated; in a future version of numpy, it will be understood as (type, (1,)) / '(1,)type'.\n",
      "  _np_quint16 = np.dtype([(\"quint16\", np.uint16, 1)])\n",
      "/opt/conda/lib/python3.6/site-packages/tensorflow/python/framework/dtypes.py:530: FutureWarning: Passing (type, 1) or '1type' as a synonym of type is deprecated; in a future version of numpy, it will be understood as (type, (1,)) / '(1,)type'.\n",
      "  _np_qint32 = np.dtype([(\"qint32\", np.int32, 1)])\n",
      "/opt/conda/lib/python3.6/site-packages/tensorflow/python/framework/dtypes.py:535: FutureWarning: Passing (type, 1) or '1type' as a synonym of type is deprecated; in a future version of numpy, it will be understood as (type, (1,)) / '(1,)type'.\n",
      "  np_resource = np.dtype([(\"resource\", np.ubyte, 1)])\n"
     ]
    },
    {
     "name": "stdout",
     "output_type": "stream",
     "text": [
      "WARNING:tensorflow:From /opt/conda/lib/python3.6/site-packages/tensorflow/python/ops/resource_variable_ops.py:435: colocate_with (from tensorflow.python.framework.ops) is deprecated and will be removed in a future version.\n",
      "Instructions for updating:\n",
      "Colocations handled automatically by placer.\n"
     ]
    }
   ],
   "source": [
    "from tensorflow.python.keras.layers import BatchNormalization, Dropout, GlobalAveragePooling2D, Dense\n",
    "from tensorflow.python.keras.applications import DenseNet121\n",
    "from tensorflow.python.keras.models import Model\n",
    "\n",
    "backbone = DenseNet121(input_shape=(224, 224, 3),\n",
    "                      weights= None,\n",
    "                      include_top=False)\n",
    "x = backbone.output # fc layer \n",
    "x = GlobalAveragePooling2D()(x)\n",
    "output = Dense(units=7, activation='softmax', name='output_layer')(x)\n",
    "\n",
    "chexnet_model = Model(inputs=backbone.input, outputs=output)"
   ]
  },
  {
   "cell_type": "code",
   "execution_count": 3,
   "metadata": {},
   "outputs": [],
   "source": [
    "data = pd.read_csv('/home/ncp/workspace/data/dataset_.csv',index_col=0)\n",
    "\n",
    "\n",
    "del_list = ['H05_02631_01.png',\n",
    " 'H04_00289_02.png',\n",
    " 'H04_02478_01.png',\n",
    " 'H04_00262_02.png',\n",
    " 'H01_00077_01.png',\n",
    " 'H04_00255_01.png',\n",
    " 'H04_00282_01.png',\n",
    " 'H04_00283_02.png',\n",
    " 'H03_02345_01.png',\n",
    " 'H04_02490_02.png',\n",
    " 'H03_02185_01.png',\n",
    " 'H04_00329_01.png',\n",
    " 'H13_00213_02.png',\n",
    " 'H13_00081_02.png',\n",
    " 'H04_02479_02.png',\n",
    " 'H05_00991_01.png',\n",
    " 'H05_00967_01.png',\n",
    " 'H04_01830_01.png',\n",
    " 'H03_02304_01.png',\n",
    " 'H03_01436_01.png',\n",
    " 'H13_01269_01.png',\n",
    " 'H13_01253_02.png',\n",
    " 'H13_01252_01.png',\n",
    " 'H13_01395_02.png',\n",
    " 'H13_01641_02.png',\n",
    " 'H13_01792_01.png',\n",
    " 'H13_01441_02.png',\n",
    " 'H04_01313_01.png',\n",
    " 'H05_00138_01.png',\n",
    " 'H04_00133_01.png',\n",
    " 'H05_00094_01.png',\n",
    " 'H05_00201_02.png',\n",
    " 'H03_00314_01.png',\n",
    " 'H05_00115_02.png',\n",
    " 'H05_00143_02.png',\n",
    " 'H03_02251_01.png',\n",
    " 'H13_00399_01.png',\n",
    " 'H08_00121_01.png',\n",
    " 'H07_02621_01.png',\n",
    " 'H03_00241_01.png',\n",
    " 'H04_02233_02.png',\n",
    " 'H03_01694_01.png',\n",
    " 'H09_02110_01.png',\n",
    " 'H13_00289_01.png',\n",
    " 'H05_01995_01.png',\n",
    " 'H05_01354_01.png',\n",
    " 'H08_01410_01.png',\n",
    " 'H13_01149_02.png',\n",
    " 'H03_00412_01.png',\n",
    " 'H05_01936_01.png',\n",
    " 'H13_01961_01.png',\n",
    " 'H13_01231_01.png',\n",
    " 'H09_01500_01.png',\n",
    " 'H13_01229_01.png',\n",
    " 'H04_02513_01.png',\n",
    " 'H04_01124_01.png',\n",
    " 'H05_01682_01.png',\n",
    " 'H07_02264_01.png',\n",
    " 'H08_00862_01.png',\n",
    " 'H05_01814_01.png',\n",
    " 'H05_01829_01.png',\n",
    " 'H01_00252_01.png',\n",
    " 'H13_01704_01.png',\n",
    " 'H08_01353_01.png',\n",
    " 'H07_01176_01.png',\n",
    " 'H13_00513_02.png',\n",
    " 'H13_01012_02.png',\n",
    " 'H04_01583_01.png',\n",
    " 'H03_00793_01.png',\n",
    " 'H05_01653_01.png',\n",
    " 'H03_01567_01.png',\n",
    " 'H03_01599_02.png',\n",
    " 'H09_01285_01.png',\n",
    " 'H09_01443_01.png',\n",
    " 'H04_01618_02.png',\n",
    " 'H01_01186_01.png',\n",
    " 'H05_01120_02.png',\n",
    " 'H05_02284_01.png',\n",
    " 'H05_01239_02.png',\n",
    " 'H04_01266_01.png',\n",
    " 'H02_01136_01.png',\n",
    " 'H09_01671_01.png',\n",
    " 'H02_01137_01.png',\n",
    " 'H13_01703_01.png',\n",
    " 'H01_01036_01.png',\n",
    " 'H09_01680_01.png',\n",
    " 'H02_01455_02.png',\n",
    " 'H05_01173_02.png',\n",
    " 'H13_01393_02.png',\n",
    " 'H04_01293_01.png',\n",
    " 'H04_01302_01.png',\n",
    " 'H04_01218_01.png',\n",
    " 'H04_01721_01.png',\n",
    " 'H04_00355_01.png',\n",
    " 'H13_01858_02.png',\n",
    " 'H02_00619_01.png',\n",
    " 'H09_03015_01.png',\n",
    " 'H05_00337_01.png',\n",
    " 'H01_00160_01.png',\n",
    " 'H07_01029_02.png',\n",
    " 'H07_01128_02.png',\n",
    " 'H05_00559_01.png',\n",
    " 'H08_01559_01.png',\n",
    " 'H05_00285_01.png',\n",
    " 'H13_02296_02.png',\n",
    " 'H08_01225_01.png',\n",
    " 'H05_00663_01.png',\n",
    " 'H09_02976_01.png',\n",
    " 'H04_02164_01.png',\n",
    " 'H01_01499_01.png',\n",
    " 'H09_03187_01.png',\n",
    " 'H13_01466_01.png',\n",
    " 'H07_01640_02.png',\n",
    " 'H01_00155_01.png',\n",
    " 'H01_00140_01.png',\n",
    " 'H09_02961_01.png',\n",
    " 'H01_01950_01.png',\n",
    " 'H07_02788_01.png',\n",
    " 'H04_00805_01.png',\n",
    " 'H07_01117_01.png',\n",
    " 'H02_00434_01.png',\n",
    " 'H07_00186_02.png',\n",
    " 'H09_03302_01.png',\n",
    " 'H09_03478_01.png',\n",
    " 'H07_01088_01.png',\n",
    " 'H05_00568_01.png',\n",
    " 'H05_00726_01.png',\n",
    " 'H07_01207_01.png',\n",
    " 'H08_01572_01.png',\n",
    " 'H04_00523_01.png',\n",
    " 'H01_00161_01.png',\n",
    " 'H09_03143_01.png',\n",
    " 'H09_03470_01.png',\n",
    " 'H07_01112_01.png',\n",
    " 'H07_01065_01.png',\n",
    " 'H03_01505_02.png',\n",
    " 'H05_00282_01.png',\n",
    " 'H07_00977_02.png',\n",
    " 'H05_00544_01.png',\n",
    " 'H05_00747_01.png',\n",
    " 'H08_01557_01.png',\n",
    " 'H07_00091_01.png',\n",
    " 'H07_00517_01.png',\n",
    " 'H13_02021_01.png',\n",
    " 'H08_00765_01.png']"
   ]
  },
  {
   "cell_type": "code",
   "execution_count": 4,
   "metadata": {},
   "outputs": [],
   "source": [
    "del_list2 = []\n",
    "\n",
    "for i in del_list:\n",
    "    del_list2.append(i.replace('.png',''))\n",
    "\n",
    "def find_iden(x):\n",
    "    if x in del_list2:\n",
    "        return 'Y'\n",
    "    else:\n",
    "        return 'N'\n",
    "\n",
    "data['del?'] = data['identifier'].apply(find_iden)"
   ]
  },
  {
   "cell_type": "code",
   "execution_count": 5,
   "metadata": {},
   "outputs": [],
   "source": [
    "data2 = data[data['del?'] =='N']\n",
    "\n",
    "crop2_list=[]\n",
    "crop_list = list(data2['crop_file'])\n",
    "\n",
    "for i in crop_list:\n",
    "    crop2_img = i.replace('crop/','crop_2/')\n",
    "    crop2_list.append(crop2_img)"
   ]
  },
  {
   "cell_type": "code",
   "execution_count": 6,
   "metadata": {},
   "outputs": [],
   "source": [
    "img_list = list(data['orginal_png_file'])"
   ]
  },
  {
   "cell_type": "code",
   "execution_count": 7,
   "metadata": {},
   "outputs": [],
   "source": [
    "import numpy as np\n",
    "import cv2\n",
    "\n",
    "def cvt_crop(og_img_path, size):\n",
    "    \n",
    "    og_img = cv2.imread(og_img_path)\n",
    "    \n",
    "    \n",
    "    # clahe\n",
    "    clahe = cv2.createCLAHE(5.0,(8,8))\n",
    "    \n",
    "    ## og_img_convert\n",
    "    cvt_img = cv2.resize(og_img, size)\n",
    "    cvt_img = cv2.cvtColor(cvt_img,cv2.COLOR_BGR2GRAY)\n",
    "    cvt_img = clahe.apply(cvt_img)  # 1 channel\n",
    "    cvt_img = np.repeat(cvt_img[:,:,np.newaxis],3,-1)\n",
    "\n",
    "    return cvt_img\n",
    "\n",
    "\n",
    "\n",
    "def rv_3ch(og_img_path, mask_path, size):\n",
    "    \n",
    "    #module import\n",
    "    import cv2\n",
    "    \n",
    "    # im_read\n",
    "    og_img = cv2.imread(og_img_path)\n",
    "    mask = cv2.imread(mask_path)\n",
    "    \n",
    "    # clahe\n",
    "    clahe = cv2.createCLAHE(5.0,(12,12))\n",
    "    \n",
    "    ## og_img_convert\n",
    "    cvt_img = cv2.resize(og_img, size)\n",
    "    cvt_img = cv2.cvtColor(cvt_img,cv2.COLOR_BGR2GRAY)\n",
    "    cvt_img = clahe.apply(cvt_img)  # 1 channel\n",
    "    cvt_img = np.repeat(cvt_img[:,:,np.newaxis],3,-1)\n",
    "\n",
    "    ## mask\n",
    "    cvt_mask = cv2.resize(mask, size)\n",
    "    cvt_mask = cv2.cvtColor(cvt_mask, cv2.COLOR_BGR2GRAY)\n",
    "\n",
    "    ## remove\n",
    "    remove = cv2.bitwise_and(cvt_img, cvt_img, mask = cvt_mask)\n",
    "    \n",
    "    return remove\n",
    "#     print(remove.shape)\n",
    "#     plt.imshow(remove)"
   ]
  },
  {
   "cell_type": "code",
   "execution_count": 8,
   "metadata": {},
   "outputs": [],
   "source": [
    "X = np.ndarray((3855,224,224,3))\n",
    "\n",
    "for i in range(len(X)):\n",
    "#     X[i][:][:][:] = rv_3ch(img_path_list[i], mask_path_list[i], (224,224))\n",
    "      X[i][:][:][:] = cvt_crop(crop_list[i], (224,224)).astype(np.uint8)\n",
    "    \n",
    "y = np.array(data2['diagnosis'])"
   ]
  },
  {
   "cell_type": "code",
   "execution_count": 9,
   "metadata": {},
   "outputs": [],
   "source": [
    "from sklearn.model_selection import train_test_split\n",
    "\n",
    "Xtr, Xva, Ytr, Yva = train_test_split(X,y, test_size=0.2, random_state=42, stratify=y)\n",
    "Xva, Xtst, Yva, Ytst = train_test_split(Xva,Yva, test_size=0.5, random_state=42, stratify=Yva)"
   ]
  },
  {
   "cell_type": "code",
   "execution_count": 10,
   "metadata": {},
   "outputs": [],
   "source": [
    "from tensorflow.python.keras.utils import to_categorical\n",
    "\n",
    "Ytr_c = to_categorical(Ytr)\n",
    "Yva_c = to_categorical(Yva)\n",
    "Ytst_c = to_categorical(Ytst)"
   ]
  },
  {
   "cell_type": "code",
   "execution_count": 11,
   "metadata": {},
   "outputs": [
    {
     "name": "stdout",
     "output_type": "stream",
     "text": [
      "(3084, 224, 224, 3) / (3084,) / (3084, 7)\n",
      "(385, 224, 224, 3) / (385,) / (385, 7)\n",
      "(386, 224, 224, 3) / (386,) / (386, 7)\n"
     ]
    }
   ],
   "source": [
    "print(Xtr.shape ,'/', Ytr.shape ,'/', Ytr_c.shape)\n",
    "print(Xva.shape ,'/', Yva.shape ,'/', Yva_c.shape)\n",
    "print(Xtst.shape ,'/', Ytst.shape ,'/', Ytst_c.shape)"
   ]
  },
  {
   "cell_type": "code",
   "execution_count": 12,
   "metadata": {},
   "outputs": [],
   "source": [
    "del X"
   ]
  },
  {
   "cell_type": "code",
   "execution_count": 28,
   "metadata": {},
   "outputs": [],
   "source": [
    "from tensorflow.python.keras.preprocessing.image import ImageDataGenerator\n",
    "\n",
    "\n",
    "data_gen_args = dict(horizontal_flip=True, vertical_flip = True, rotation_range = 10)\n",
    "image_datagen = ImageDataGenerator(**data_gen_args)\n",
    "\n",
    "seed = 1\n",
    "\n",
    "train_generator = image_datagen.flow(x=Xtr, y=Ytr_c,\n",
    "                                    batch_size=32,\n",
    "                                    shuffle=True)\n",
    "validation_generator = image_datagen.flow(x=Xva,y=Yva_c,\n",
    "                                         batch_size=32,\n",
    "                                         shuffle=True)\n"
   ]
  },
  {
   "cell_type": "code",
   "execution_count": 14,
   "metadata": {},
   "outputs": [],
   "source": [
    "from tensorflow.python.keras import backend as K\n",
    "import tensorflow.python as tf\n",
    "from sklearn.metrics import classification_report\n",
    "\n",
    "\n",
    "def recall(y_target, y_pred):\n",
    "    # clip(t, clip_value_min, clip_value_max) : clip_value_min~clip_value_max 이외 가장자리를 깎아 낸다\n",
    "    # round : 반올림한다\n",
    "    y_target_yn = K.round(K.clip(y_target, 0, 1))\n",
    "    y_pred_yn = K.round(K.clip(y_pred, 0, 1)) \n",
    "    count_true_positive = K.sum(y_target_yn * y_pred_yn) \n",
    "\n",
    "    count_true_positive_false_negative = K.sum(y_target_yn)\n",
    "\n",
    "    # Recall =  (True Positive) / (True Positive + False Negative)\n",
    "    # K.epsilon()는 'divide by zero error' 예방차원에서 작은 수를 더한다\n",
    "    recall = count_true_positive / (count_true_positive_false_negative + K.epsilon())\n",
    "\n",
    "    # return a single tensor value\n",
    "    return recall\n",
    "\n",
    "\n",
    "def precision(y_target, y_pred):\n",
    "    \n",
    "    y_pred_yn = K.round(K.clip(y_pred, 0, 1)) # 예측값을 0(Negative) 또는 1(Positive)로 설정한다\n",
    "    y_target_yn = K.round(K.clip(y_target, 0, 1)) # 실제값을 0(Negative) 또는 1(Positive)로 설정한다\n",
    "\n",
    "    count_true_positive = K.sum(y_target_yn * y_pred_yn) \n",
    "    count_true_positive_false_positive = K.sum(y_pred_yn)\n",
    "\n",
    "    precision = count_true_positive / (count_true_positive_false_positive + K.epsilon())\n",
    "\n",
    "    # return a single tensor value\n",
    "    return precision\n",
    "\n",
    "def f1score(y_target, y_pred):\n",
    "    _recall = recall(y_target, y_pred)\n",
    "    _precision = precision(y_target, y_pred)\n",
    "    # K.epsilon()는 'divide by zero error' 예방차원에서 작은 수를 더한다\n",
    "    _f1score = ( 2 * _recall * _precision) / (_recall + _precision+ K.epsilon())\n",
    "    \n",
    "    return _f1score\n",
    "\n",
    "class_weight = {0:0.571428563,\n",
    "                1:1.397990367,\n",
    "                2:4.617604545,\n",
    "                3:1.662337636,\n",
    "                4:0.892857129,\n",
    "                5:0.571428563,\n",
    "                6:1.181247674}\n",
    "\n",
    "\n",
    "\n",
    "\n",
    "# chexnet_model.compile(optimizer='adam', loss='binary_crossentropy', metrics=['accuracy', precision, recall, f1score])"
   ]
  },
  {
   "cell_type": "code",
   "execution_count": 13,
   "metadata": {},
   "outputs": [],
   "source": [
    "chexnet_model.load_weights('/home/ncp/workspace/retest_chexnet.hdf5')"
   ]
  },
  {
   "cell_type": "code",
   "execution_count": 15,
   "metadata": {},
   "outputs": [],
   "source": [
    "chexnet_model.compile(optimizer='adam', loss='binary_crossentropy', metrics=['accuracy',precision ,recall, f1score])"
   ]
  },
  {
   "cell_type": "code",
   "execution_count": 56,
   "metadata": {},
   "outputs": [
    {
     "name": "stdout",
     "output_type": "stream",
     "text": [
      "386/386 [==============================] - 3s 8ms/sample - loss: 0.4505 - acc: 0.8879 - precision: 0.6065 - recall: 0.5876 - f1score: 0.5957\n",
      "loss: 0.451, accuracy: 0.888, precision: 0.607, recall: 0.588, f1score: 0.596\n"
     ]
    }
   ],
   "source": [
    "_loss, _acc, _precision, _recall, _f1score = chexnet_model.evaluate(Xtst, Ytst_c, batch_size=4, verbose=1)\n",
    "print('loss: {:.3f}, accuracy: {:.3f}, precision: {:.3f}, recall: {:.3f}, f1score: {:.3f}'.format(_loss, _acc, _precision, _recall, _f1score))"
   ]
  },
  {
   "cell_type": "code",
   "execution_count": 49,
   "metadata": {},
   "outputs": [],
   "source": [
    "pred = chexnet_model.predict(Xtst)"
   ]
  },
  {
   "cell_type": "code",
   "execution_count": 50,
   "metadata": {},
   "outputs": [],
   "source": [
    "ytst_a = np.asarray(Ytst_c).argmax(axis=1)\n",
    "pred_a = np.asarray(pred).argmax(axis=1)"
   ]
  },
  {
   "cell_type": "code",
   "execution_count": 51,
   "metadata": {},
   "outputs": [
    {
     "name": "stdout",
     "output_type": "stream",
     "text": [
      "F1_Score:  0.6010362694300518\n"
     ]
    }
   ],
   "source": [
    "from sklearn.metrics import f1_score\n",
    "from sklearn.metrics import accuracy_score\n",
    "\n",
    "print('F1_Score: ',f1_score(ytst_a, pred_a, average='micro'))"
   ]
  },
  {
   "cell_type": "code",
   "execution_count": 52,
   "metadata": {},
   "outputs": [
    {
     "data": {
      "image/png": "[encoded data removed]",
      "text/plain": [
       "<Figure size 864x720 with 2 Axes>"
      ]
     },
     "metadata": {},
     "output_type": "display_data"
    },
    {
     "data": {
      "text/plain": [
       "<Figure size 1080x720 with 0 Axes>"
      ]
     },
     "metadata": {},
     "output_type": "display_data"
    }
   ],
   "source": [
    "import seaborn as sns\n",
    "from sklearn.metrics import confusion_matrix\n",
    "\n",
    "plt.figure(figsize=(12,10))\n",
    "T5_lables = ['0','1','2','3','4','5','6']    \n",
    "\n",
    "ax= plt.subplot()\n",
    "\n",
    "plt.figure(figsize=(15,10))\n",
    "cm = confusion_matrix(np.asarray(Ytst_c).argmax(axis=1), np.asarray(pred).argmax(axis=1))\n",
    "sns.heatmap(cm, annot=True, fmt='g', ax=ax);  #annot=True to annotate cells, ftm='g' to disable scientific notation\n",
    "\n",
    "# labels, title and ticks\n",
    "ax.set_xlabel('Predicted labels');ax.set_ylabel('True labels'); \n",
    "ax.set_title('Confusion Matrix'); \n",
    "ax.xaxis.set_ticklabels(T5_lables); ax.yaxis.set_ticklabels(T5_lables);\n"
   ]
  },
  {
   "cell_type": "code",
   "execution_count": 53,
   "metadata": {},
   "outputs": [
    {
     "name": "stdout",
     "output_type": "stream",
     "text": [
      "              precision    recall  f1-score   support\n",
      "\n",
      "     class 0       0.59      0.77      0.67        95\n",
      "     class 1       0.71      0.62      0.66        39\n",
      "     class 2       0.00      0.00      0.00        12\n",
      "     class 3       0.35      0.21      0.26        33\n",
      "     class 4       0.84      0.78      0.81        63\n",
      "     class 5       0.49      0.54      0.51        97\n",
      "     class 6       0.60      0.57      0.59        47\n",
      "\n",
      "    accuracy                           0.60       386\n",
      "   macro avg       0.51      0.50      0.50       386\n",
      "weighted avg       0.58      0.60      0.59       386\n",
      "\n"
     ]
    },
    {
     "name": "stderr",
     "output_type": "stream",
     "text": [
      "/opt/conda/lib/python3.6/site-packages/sklearn/metrics/_classification.py:1248: UndefinedMetricWarning: Precision and F-score are ill-defined and being set to 0.0 in labels with no predicted samples. Use `zero_division` parameter to control this behavior.\n",
      "  _warn_prf(average, modifier, msg_start, len(result))\n",
      "/opt/conda/lib/python3.6/site-packages/sklearn/metrics/_classification.py:1248: UndefinedMetricWarning: Precision and F-score are ill-defined and being set to 0.0 in labels with no predicted samples. Use `zero_division` parameter to control this behavior.\n",
      "  _warn_prf(average, modifier, msg_start, len(result))\n",
      "/opt/conda/lib/python3.6/site-packages/sklearn/metrics/_classification.py:1248: UndefinedMetricWarning: Precision and F-score are ill-defined and being set to 0.0 in labels with no predicted samples. Use `zero_division` parameter to control this behavior.\n",
      "  _warn_prf(average, modifier, msg_start, len(result))\n"
     ]
    }
   ],
   "source": [
    "# class별로 f1score\n",
    "# https://datascience.stackexchange.com/questions/58822/how-do-i-calculate-the-range-of-a-f1-score-from-a-confusion-matrix-of-3-class-a\n",
    "# https://scikit-learn.org/stable/modules/generated/sklearn.metrics.classification_report.html\n",
    "import pandas as pd\n",
    "from sklearn.metrics import classification_report\n",
    "\n",
    "\n",
    "target_names = ['class 0', 'class 1', 'class 2','class 3','class 4','class 5','class 6']\n",
    "\n",
    "print(classification_report(ytst_a, pred_a, target_names=target_names))\n",
    "# aaa= pd.DataFrame(classification_report(y_true, y_pred, target_names=target_names))\n",
    "# aaa"
   ]
  },
  {
   "cell_type": "code",
   "execution_count": null,
   "metadata": {},
   "outputs": [],
   "source": []
  },
  {
   "cell_type": "code",
   "execution_count": null,
   "metadata": {},
   "outputs": [],
   "source": []
  }
 ],
 "metadata": {
  "kernelspec": {
   "display_name": "Python 3",
   "language": "python",
   "name": "python3"
  },
  "language_info": {
   "codemirror_mode": {
    "name": "ipython",
    "version": 3
   },
   "file_extension": ".py",
   "mimetype": "text/x-python",
   "name": "python",
   "nbconvert_exporter": "python",
   "pygments_lexer": "ipython3",
   "version": "3.6.13"
  }
 },
 "nbformat": 4,
 "nbformat_minor": 2
}
