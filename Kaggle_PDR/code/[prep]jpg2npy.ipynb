{
  "nbformat": 4,
  "nbformat_minor": 0,
  "metadata": {
    "colab": {
      "name": "jpg2npy.ipynb",
      "provenance": [],
      "collapsed_sections": [],
      "machine_shape": "hm",
      "authorship_tag": "ABX9TyNWncftuLDyhVwGYuRw1uHd",
      "include_colab_link": true
    },
    "kernelspec": {
      "name": "python3",
      "display_name": "Python 3"
    },
    "language_info": {
      "name": "python"
    },
    "accelerator": "GPU"
  },
  "cells": [
    {
      "cell_type": "markdown",
      "metadata": {
        "id": "view-in-github",
        "colab_type": "text"
      },
      "source": [
        "<a href=\"https://colab.research.google.com/github/SeunghyeChae/Pneumonia-Detection_tmdhey/blob/main/jpg2npy.ipynb\" target=\"_parent\"><img src=\"https://colab.research.google.com/assets/colab-badge.svg\" alt=\"Open In Colab\"/></a>"
      ]
    },
    {
      "cell_type": "code",
      "metadata": {
        "colab": {
          "base_uri": "https://localhost:8080/"
        },
        "id": "qLCuvwIKw51Z",
        "outputId": "a62d0626-e7c8-4daa-af36-aedcc042a8aa"
      },
      "source": [
        "import os, sys\n",
        "from google.colab import drive\n",
        "drive.mount('/content/drive')\n"
      ],
      "execution_count": 1,
      "outputs": [
        {
          "output_type": "stream",
          "name": "stdout",
          "text": [
            "Mounted at /content/drive\n"
          ]
        }
      ]
    },
    {
      "cell_type": "code",
      "metadata": {
        "id": "nLB5FAFAwna1"
      },
      "source": [
        "\n",
        "from PIL import Image\n",
        "import os, sys\n",
        "import cv2\n",
        "import numpy as np\n",
        "\n",
        "'''\n",
        "Converts all images in a directory to '.npy' format.\n",
        "Use np.save and np.load to save and load the images.\n",
        "Use it for training your neural networks in ML/DL projects. \n",
        "'''\n",
        "\n",
        "# Path to image directory\n",
        "path = \"/content/drive/MyDrive/3차플젝drive/__Semantic_segmentation/Converted_Images_PNG/\"\n",
        "\n",
        "dirs = os.listdir( path )\n",
        "dirs.sort()\n",
        "x_train=[]\n",
        "\n",
        "def load_dataset():\n",
        "    # Append images to a list\n",
        "    for item in dirs:\n",
        "        if os.path.isfile(path+item):\n",
        "            im = Image.open(path+item).convert(\"RGB\")\n",
        "            im = np.array(im)\n",
        "            np.save(f'/content/drive/MyDrive/3차플젝drive/__Semantic_segmentation/Converted_Images_NPY/{item}.npy',im)\n",
        "\n",
        "\n",
        "load_dataset()\n",
        "\n",
        "\n",
        "# if __name__ == \"__main__\":\n",
        "    \n",
        "#     load_dataset()\n",
        "    \n",
        "#     # Convert and save the list of images in '.npy' format\n",
        "#     imgset=np.array(x_train)\n",
        "#     np.save(\"imgds.npy\",imgset)"
      ],
      "execution_count": 7,
      "outputs": []
    }
  ]
}