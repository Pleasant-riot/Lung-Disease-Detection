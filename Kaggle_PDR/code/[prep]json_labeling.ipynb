{
  "nbformat": 4,
  "nbformat_minor": 0,
  "metadata": {
    "colab": {
      "name": "json_labeling",
      "provenance": [],
      "machine_shape": "hm",
      "authorship_tag": "ABX9TyN2a3NnSmR4ZoBcDVWcGr9V",
      "include_colab_link": true
    },
    "kernelspec": {
      "name": "python3",
      "display_name": "Python 3"
    },
    "language_info": {
      "name": "python"
    },
    "accelerator": "GPU"
  },
  "cells": [
    {
      "cell_type": "markdown",
      "metadata": {
        "id": "view-in-github",
        "colab_type": "text"
      },
      "source": [
        "<a href=\"https://colab.research.google.com/github/SeunghyeChae/Pneumonia-Detection/blob/main/json_labeling.ipynb\" target=\"_parent\"><img src=\"https://colab.research.google.com/assets/colab-badge.svg\" alt=\"Open In Colab\"/></a>"
      ]
    },
    {
      "cell_type": "code",
      "metadata": {
        "colab": {
          "base_uri": "https://localhost:8080/"
        },
        "id": "m9SPfsx2ZDOL",
        "outputId": "51958a69-ec8e-4d2b-d486-b89f92715652"
      },
      "source": [
        "# colab drive mount\n",
        "\n",
        "import os, sys\n",
        "from google.colab import drive\n",
        "drive.mount('/content/drive')\n"
      ],
      "execution_count": 2,
      "outputs": [
        {
          "output_type": "stream",
          "name": "stdout",
          "text": [
            "Mounted at /content/drive\n"
          ]
        }
      ]
    },
    {
      "cell_type": "markdown",
      "metadata": {
        "id": "DJU8iT4L6Rrb"
      },
      "source": [
        "# check_json_file"
      ]
    },
    {
      "cell_type": "code",
      "metadata": {
        "id": "_m6M7miyZJzr",
        "colab": {
          "base_uri": "https://localhost:8080/"
        },
        "outputId": "4c3a4bf4-dbfa-4304-b0b0-3204a5bc247a"
      },
      "source": [
        "import json\n",
        "\n",
        "\n",
        "\n",
        "with open('/content/drive/MyDrive/3차플젝drive/train/S2-O1301M02959.json', 'r') as f:\n",
        "\n",
        "    json_data = json.load(f)\n",
        "\n",
        "print(json.dumps(json_data) )\n"
      ],
      "execution_count": null,
      "outputs": [
        {
          "output_type": "stream",
          "name": "stdout",
          "text": [
            "{\"image\": {\"date\": \"20200709\", \"path\": \"S2-N0204M03843\", \"filename\": \"S2-O1301M02959.jpg\", \"copyrighter\": \"\\ubbf8\\ub514\\uc5b4\\uadf8\\ub8f9\\uc0ac\\ub78c\\uacfc\\uc232(\\ucee8)\", \"location\": \"13\", \"H_DPI\": 96, \"V_DPI\": 96, \"bit\": 24, \"resolution\": [1280, 720]}, \"annotations\": [{\"data ID\": \"S2\", \"middle classification\": \"01\", \"box\": [664, 110, 817, 295], \"class\": \"07\", \"flags\": \"not occluded,not truncated\"}, {\"data ID\": \"S2\", \"middle classification\": \"01\", \"box\": [524, 239, 929, 680], \"class\": \"01\", \"flags\": \"occluded,not truncated\"}, {\"data ID\": \"S2\", \"middle classification\": \"01\", \"box\": [1048, 283, 1135, 393], \"class\": \"07\", \"flags\": \"not occluded,not truncated\"}, {\"data ID\": \"S2\", \"middle classification\": \"01\", \"box\": [960, 379, 1155, 656], \"class\": \"01\", \"flags\": \"occluded,not truncated\"}, {\"data ID\": \"S2\", \"middle classification\": \"01\", \"polygon\": [[1060, 569], [1058, 554], [1060, 542], [1070, 524], [1077, 522], [1085, 520], [1094, 524], [1100, 529], [1100, 539], [1098, 550], [1091, 562], [1081, 586], [1067, 608], [1059, 631], [1061, 649], [1063, 661], [1062, 670], [1057, 671], [1055, 657], [1051, 645], [1051, 628], [1058, 611], [1068, 591]], \"class\": \"04\", \"flags\": \"not occluded,not truncated\"}, {\"data ID\": \"S2\", \"middle classification\": \"02\", \"box\": [920, 0, 1085, 396], \"class\": \"14\", \"flags\": \"occluded,truncated\"}]}\n"
          ]
        }
      ]
    },
    {
      "cell_type": "code",
      "metadata": {
        "colab": {
          "base_uri": "https://localhost:8080/"
        },
        "id": "zAQrwVI8aSft",
        "outputId": "aaced6a2-9ad4-4bd6-8a36-deed21f1831e"
      },
      "source": [
        "print(json.dumps(json_data, indent=\"\\t\") )"
      ],
      "execution_count": null,
      "outputs": [
        {
          "output_type": "stream",
          "name": "stdout",
          "text": [
            "{\n",
            "\t\"image\": {\n",
            "\t\t\"date\": \"20200709\",\n",
            "\t\t\"path\": \"S2-N0204M03843\",\n",
            "\t\t\"filename\": \"S2-O1301M02959.jpg\",\n",
            "\t\t\"copyrighter\": \"\\ubbf8\\ub514\\uc5b4\\uadf8\\ub8f9\\uc0ac\\ub78c\\uacfc\\uc232(\\ucee8)\",\n",
            "\t\t\"location\": \"13\",\n",
            "\t\t\"H_DPI\": 96,\n",
            "\t\t\"V_DPI\": 96,\n",
            "\t\t\"bit\": 24,\n",
            "\t\t\"resolution\": [\n",
            "\t\t\t1280,\n",
            "\t\t\t720\n",
            "\t\t]\n",
            "\t},\n",
            "\t\"annotations\": [\n",
            "\t\t{\n",
            "\t\t\t\"data ID\": \"S2\",\n",
            "\t\t\t\"middle classification\": \"01\",\n",
            "\t\t\t\"box\": [\n",
            "\t\t\t\t664,\n",
            "\t\t\t\t110,\n",
            "\t\t\t\t817,\n",
            "\t\t\t\t295\n",
            "\t\t\t],\n",
            "\t\t\t\"class\": \"07\",\n",
            "\t\t\t\"flags\": \"not occluded,not truncated\"\n",
            "\t\t},\n",
            "\t\t{\n",
            "\t\t\t\"data ID\": \"S2\",\n",
            "\t\t\t\"middle classification\": \"01\",\n",
            "\t\t\t\"box\": [\n",
            "\t\t\t\t524,\n",
            "\t\t\t\t239,\n",
            "\t\t\t\t929,\n",
            "\t\t\t\t680\n",
            "\t\t\t],\n",
            "\t\t\t\"class\": \"01\",\n",
            "\t\t\t\"flags\": \"occluded,not truncated\"\n",
            "\t\t},\n",
            "\t\t{\n",
            "\t\t\t\"data ID\": \"S2\",\n",
            "\t\t\t\"middle classification\": \"01\",\n",
            "\t\t\t\"box\": [\n",
            "\t\t\t\t1048,\n",
            "\t\t\t\t283,\n",
            "\t\t\t\t1135,\n",
            "\t\t\t\t393\n",
            "\t\t\t],\n",
            "\t\t\t\"class\": \"07\",\n",
            "\t\t\t\"flags\": \"not occluded,not truncated\"\n",
            "\t\t},\n",
            "\t\t{\n",
            "\t\t\t\"data ID\": \"S2\",\n",
            "\t\t\t\"middle classification\": \"01\",\n",
            "\t\t\t\"box\": [\n",
            "\t\t\t\t960,\n",
            "\t\t\t\t379,\n",
            "\t\t\t\t1155,\n",
            "\t\t\t\t656\n",
            "\t\t\t],\n",
            "\t\t\t\"class\": \"01\",\n",
            "\t\t\t\"flags\": \"occluded,not truncated\"\n",
            "\t\t},\n",
            "\t\t{\n",
            "\t\t\t\"data ID\": \"S2\",\n",
            "\t\t\t\"middle classification\": \"01\",\n",
            "\t\t\t\"polygon\": [\n",
            "\t\t\t\t[\n",
            "\t\t\t\t\t1060,\n",
            "\t\t\t\t\t569\n",
            "\t\t\t\t],\n",
            "\t\t\t\t[\n",
            "\t\t\t\t\t1058,\n",
            "\t\t\t\t\t554\n",
            "\t\t\t\t],\n",
            "\t\t\t\t[\n",
            "\t\t\t\t\t1060,\n",
            "\t\t\t\t\t542\n",
            "\t\t\t\t],\n",
            "\t\t\t\t[\n",
            "\t\t\t\t\t1070,\n",
            "\t\t\t\t\t524\n",
            "\t\t\t\t],\n",
            "\t\t\t\t[\n",
            "\t\t\t\t\t1077,\n",
            "\t\t\t\t\t522\n",
            "\t\t\t\t],\n",
            "\t\t\t\t[\n",
            "\t\t\t\t\t1085,\n",
            "\t\t\t\t\t520\n",
            "\t\t\t\t],\n",
            "\t\t\t\t[\n",
            "\t\t\t\t\t1094,\n",
            "\t\t\t\t\t524\n",
            "\t\t\t\t],\n",
            "\t\t\t\t[\n",
            "\t\t\t\t\t1100,\n",
            "\t\t\t\t\t529\n",
            "\t\t\t\t],\n",
            "\t\t\t\t[\n",
            "\t\t\t\t\t1100,\n",
            "\t\t\t\t\t539\n",
            "\t\t\t\t],\n",
            "\t\t\t\t[\n",
            "\t\t\t\t\t1098,\n",
            "\t\t\t\t\t550\n",
            "\t\t\t\t],\n",
            "\t\t\t\t[\n",
            "\t\t\t\t\t1091,\n",
            "\t\t\t\t\t562\n",
            "\t\t\t\t],\n",
            "\t\t\t\t[\n",
            "\t\t\t\t\t1081,\n",
            "\t\t\t\t\t586\n",
            "\t\t\t\t],\n",
            "\t\t\t\t[\n",
            "\t\t\t\t\t1067,\n",
            "\t\t\t\t\t608\n",
            "\t\t\t\t],\n",
            "\t\t\t\t[\n",
            "\t\t\t\t\t1059,\n",
            "\t\t\t\t\t631\n",
            "\t\t\t\t],\n",
            "\t\t\t\t[\n",
            "\t\t\t\t\t1061,\n",
            "\t\t\t\t\t649\n",
            "\t\t\t\t],\n",
            "\t\t\t\t[\n",
            "\t\t\t\t\t1063,\n",
            "\t\t\t\t\t661\n",
            "\t\t\t\t],\n",
            "\t\t\t\t[\n",
            "\t\t\t\t\t1062,\n",
            "\t\t\t\t\t670\n",
            "\t\t\t\t],\n",
            "\t\t\t\t[\n",
            "\t\t\t\t\t1057,\n",
            "\t\t\t\t\t671\n",
            "\t\t\t\t],\n",
            "\t\t\t\t[\n",
            "\t\t\t\t\t1055,\n",
            "\t\t\t\t\t657\n",
            "\t\t\t\t],\n",
            "\t\t\t\t[\n",
            "\t\t\t\t\t1051,\n",
            "\t\t\t\t\t645\n",
            "\t\t\t\t],\n",
            "\t\t\t\t[\n",
            "\t\t\t\t\t1051,\n",
            "\t\t\t\t\t628\n",
            "\t\t\t\t],\n",
            "\t\t\t\t[\n",
            "\t\t\t\t\t1058,\n",
            "\t\t\t\t\t611\n",
            "\t\t\t\t],\n",
            "\t\t\t\t[\n",
            "\t\t\t\t\t1068,\n",
            "\t\t\t\t\t591\n",
            "\t\t\t\t]\n",
            "\t\t\t],\n",
            "\t\t\t\"class\": \"04\",\n",
            "\t\t\t\"flags\": \"not occluded,not truncated\"\n",
            "\t\t},\n",
            "\t\t{\n",
            "\t\t\t\"data ID\": \"S2\",\n",
            "\t\t\t\"middle classification\": \"02\",\n",
            "\t\t\t\"box\": [\n",
            "\t\t\t\t920,\n",
            "\t\t\t\t0,\n",
            "\t\t\t\t1085,\n",
            "\t\t\t\t396\n",
            "\t\t\t],\n",
            "\t\t\t\"class\": \"14\",\n",
            "\t\t\t\"flags\": \"occluded,truncated\"\n",
            "\t\t}\n",
            "\t]\n",
            "}\n"
          ]
        }
      ]
    },
    {
      "cell_type": "markdown",
      "metadata": {
        "id": "doDmLpFb6P1_"
      },
      "source": [
        "# 1"
      ]
    },
    {
      "cell_type": "code",
      "metadata": {
        "id": "UPaC4bvFaSdQ"
      },
      "source": [
        "# data1 = json_data[\"image\"]\n",
        "# data1 = data1['filename']\n",
        "# data1"
      ],
      "execution_count": null,
      "outputs": []
    },
    {
      "cell_type": "code",
      "metadata": {
        "id": "JlTERjEAaSat"
      },
      "source": [
        "# box (x1, y1, x2, y2) 형식\n",
        "import numpy as np\n",
        "\n",
        "def convert(size, box):\n",
        "    dw = 1. / size[0]\n",
        "    dh = 1. / size[1]\n",
        "    x = (box[0] + box[2]) * dw / 2\n",
        "    y = (box[1] + box[3]) * dh / 2\n",
        "    w = (box[2] - box[0]) * dw\n",
        "    h = (box[3] - box[1]) * dh\n",
        "    x = np.round(x,6)\n",
        "    y = np.round(y,6)\n",
        "    w = np.round(w,6)\n",
        "    h = np.round(h,6)\n",
        "    return (x, y, w, h)"
      ],
      "execution_count": null,
      "outputs": []
    },
    {
      "cell_type": "code",
      "metadata": {
        "id": "Yji6YOvXaSYN"
      },
      "source": [
        "\n",
        "json1= '/content/drive/MyDrive/3차플젝drive/sample_json/S2-N0204M101483.json'\n",
        "\n",
        "with open(json1, 'r') as f:\n",
        "    json_data = json.load(f)\n",
        "    data = json_data[\"image\"]\n",
        "    data = data[\"resolution\"]\n",
        "    data = ','.join(map(str, data))\n",
        "\n",
        "    wh = data.split(',')\n",
        "    width = int(wh[0])\n",
        "    height = int(wh[1])\n",
        "\n",
        "    data_img = json_data[\"image\"]\n",
        "    file_name = data_img[\"filename\"]\n",
        "\n",
        "    objects = json_data[\"annotations\"]\n",
        "    outfile = open('/%s.txt' % (file_name[:-4]), 'a+')\n",
        "\n",
        "    for item1 in objects:\n",
        "        cls = item1[\"class\"]\n",
        "        data_id = item1[\"data ID\"]\n",
        "\n",
        "        \n",
        "        box= item1['box']\n",
        "        box = ','.join(map(str, box))\n",
        "        box = box.split(',')\n",
        "        x1 = int(box[0])\n",
        "        y1 = int(box[1])\n",
        "        x2 = int(box[2])\n",
        "        y2 = int(box[3])\n",
        "        box = [x1, y1, x2, y2]\n",
        "        bb = convert((width, height), box)\n",
        "        outfile.write(str(cls) + \" \" + \" \".join([str(a) for a in bb]) + '\\n')\n",
        "    outfile.close()"
      ],
      "execution_count": null,
      "outputs": []
    },
    {
      "cell_type": "markdown",
      "metadata": {
        "id": "UU2pm-5Z6NuZ"
      },
      "source": [
        "# 2"
      ]
    },
    {
      "cell_type": "code",
      "metadata": {
        "id": "DhlEebv96NVk"
      },
      "source": [
        "# (x,y,w,h) -> (x_center,y_center,w,h) :yolo_style\n",
        "# 3자리수 -> 소숫점\n",
        "\n",
        "def convert(w, h, x1, y1, box_w, box_h):\n",
        "  dw = 1./w\n",
        "  dh = 1./h\n",
        "  x = (float(x1) + float(x1) + float(box_w))/2.0\n",
        "  y = (float(y1) + float(y1) + float(box_h))/2.0\n",
        "  w = float(box_w)\n",
        "  h = float(box_h)\n",
        "  x = round(x*dw, 6)\n",
        "  w = round(w*dw, 6)\n",
        "  y = round(y*dh, 6) # 6자리 표시\n",
        "  h = round(h*dh, 6)\n",
        "  print(str(x) + ' ' + str(y) + ' ' + str(w) + ' ' + str(h))\n",
        "  return (x, y, w, h)"
      ],
      "execution_count": null,
      "outputs": []
    },
    {
      "cell_type": "code",
      "metadata": {
        "colab": {
          "base_uri": "https://localhost:8080/"
        },
        "id": "BZl6Ej3J53MQ",
        "outputId": "6f7e42ca-d89a-43b3-f11c-1b7d9252b769"
      },
      "source": [
        "json1= '/content/drive/MyDrive/3차플젝drive/train/S2-O1301M02959.json'\n",
        "# json1= '/content/drive/MyDrive/3차플젝drive/train/label/S2-N1801M00261.json'\n",
        "# box   ::   좌측 상단 지점의 (x, y) 좌표, 박스의 width, height\n",
        "\n",
        "with open(json1, 'r') as f:\n",
        "    json_data = json.load(f)\n",
        "    data = json_data[\"image\"]\n",
        "    wh = data[\"resolution\"]\n",
        "    w = int(wh[0]) # 이미지 가로\n",
        "    h = int(wh[1]) # 이미지 세로\n",
        "    \n",
        "\n",
        "    file_name = data[\"filename\"]\n",
        "\n",
        "    objects = json_data[\"annotations\"]\n",
        "    outfile = open('/%s.txt'%(file_name[:-4]), 'a+')\n",
        "    for item1 in objects:\n",
        "\n",
        "        cls_id = item1[\"class\"]\n",
        "        cls_id = int(cls_id)\n",
        "        try:\n",
        "            box=item1['box']\n",
        "        except:\n",
        "            pass   \n",
        "        x1 = box[0]    # 좌측 최상단 x좌표\n",
        "        y1 = box[1]    # 좌측 최상단 y좌표\n",
        "        box_w = box[2]   # Box 가로\n",
        "        box_h = box[3]   # Box 세로\n",
        "        bb = convert(w, h, x1, y1, box_w, box_h)\n",
        "        outfile.write(str(cls_id) + \" \" + \" \".join([str(a) for a in bb]) + '\\n')\n",
        "    outfile.close()"
      ],
      "execution_count": null,
      "outputs": [
        {
          "output_type": "stream",
          "name": "stdout",
          "text": [
            "0.837891 0.357639 0.638281 0.409722\n",
            "0.772266 0.804167 0.725781 0.944444\n",
            "1.262109 0.665972 0.886719 0.545833\n",
            "1.201172 0.981944 0.902344 0.911111\n",
            "1.201172 0.981944 0.902344 0.911111\n",
            "1.142578 0.275 0.847656 0.55\n"
          ]
        }
      ]
    },
    {
      "cell_type": "code",
      "metadata": {
        "id": "DH5Xxf6-AsAQ"
      },
      "source": [
        ""
      ],
      "execution_count": null,
      "outputs": []
    },
    {
      "cell_type": "code",
      "metadata": {
        "id": "meRDGRs4Ar9r"
      },
      "source": [
        ""
      ],
      "execution_count": null,
      "outputs": []
    },
    {
      "cell_type": "code",
      "metadata": {
        "id": "6sKC_-qCAr7a"
      },
      "source": [
        ""
      ],
      "execution_count": null,
      "outputs": []
    },
    {
      "cell_type": "code",
      "metadata": {
        "id": "7KSx_eXzAr4m"
      },
      "source": [
        ""
      ],
      "execution_count": null,
      "outputs": []
    },
    {
      "cell_type": "code",
      "metadata": {
        "id": "axGU8ITIAr2I"
      },
      "source": [
        ""
      ],
      "execution_count": null,
      "outputs": []
    },
    {
      "cell_type": "markdown",
      "metadata": {
        "id": "ffyO-A2oArzm"
      },
      "source": [
        "# 기타등등"
      ]
    },
    {
      "cell_type": "code",
      "metadata": {
        "colab": {
          "base_uri": "https://localhost:8080/"
        },
        "id": "QecXWXHSxN0w",
        "outputId": "8d40beed-ba8f-4f65-e0f9-d36a06dbc6e3"
      },
      "source": [
        "# (x,y,w,h) -> (x_center,y_center,w,h) :yolo_style\n",
        "# 3자리수 -> 소숫점\n",
        "def convert(w, h, x1, y1, box_w, box_h):\n",
        "  dw = 1./w\n",
        "  dh = 1./h\n",
        "  x = (float(x1) + float(x1) + float(box_w))/2.0\n",
        "  y = (float(y1) + float(y1) + float(box_h))/2.0\n",
        "  w = float(box_w)\n",
        "  h = float(box_h)\n",
        "  x = round(x*dw, 6)\n",
        "  w = round(w*dw, 6)\n",
        "  y = round(y*dh, 6) # 6자리 표시\n",
        "  h = round(h*dh, 6)\n",
        "  print(str(x) + ' ' + str(y) + ' ' + str(w) + ' ' + str(h))\n",
        "  return (x, y, w, h)\n",
        "\n",
        "\n",
        "convert(1024,1024,264,152,213,379)"
      ],
      "execution_count": 1,
      "outputs": [
        {
          "output_type": "stream",
          "name": "stdout",
          "text": [
            "0.361816 0.333496 0.208008 0.370117\n"
          ]
        },
        {
          "output_type": "execute_result",
          "data": {
            "text/plain": [
              "(0.361816, 0.333496, 0.208008, 0.370117)"
            ]
          },
          "metadata": {},
          "execution_count": 1
        }
      ]
    },
    {
      "cell_type": "code",
      "metadata": {
        "colab": {
          "base_uri": "https://localhost:8080/"
        },
        "id": "cZgv8RROzEkk",
        "outputId": "c39a0df5-d795-41be-91ca-60274df945b9"
      },
      "source": [
        "# (x,y,w,h) -> (x_center,y_center,w,h) :yolo_style\n",
        "# 3자리수 -> 소숫점\n",
        "# 위 코드랑 같음\n",
        "def convert(w, h, x1, y1, box_w, box_h):\n",
        "  dw = 1./w\n",
        "  dh = 1./h\n",
        "  x = (x1*dw) + (box_w*dw/2.0)\n",
        "  y = (y1*dh) + (box_h*dh/2.0)\n",
        "  w = box_w * dw\n",
        "  h = box_h * dh\n",
        "\n",
        "  x = round(x, 6)\n",
        "  w = round(w, 6)\n",
        "  y = round(y, 6) # 6자리 표시\n",
        "  h = round(h, 6)\n",
        "  \n",
        "  print(str(x) + ' ' + str(y) + ' ' + str(w) + ' ' + str(h))\n",
        "  return (x, y, w, h)\n",
        "\n",
        "\n",
        "convert(1024,1024,264,152,213,379)"
      ],
      "execution_count": 2,
      "outputs": [
        {
          "output_type": "stream",
          "name": "stdout",
          "text": [
            "0.361816 0.333496 0.208008 0.370117\n"
          ]
        },
        {
          "output_type": "execute_result",
          "data": {
            "text/plain": [
              "(0.361816, 0.333496, 0.208008, 0.370117)"
            ]
          },
          "metadata": {},
          "execution_count": 2
        }
      ]
    },
    {
      "cell_type": "code",
      "metadata": {
        "id": "c2xH8Qm86aUa"
      },
      "source": [
        "# train: /content/train_data/images/train  # train images (relative to 'path') 50 images\n",
        "# val: /content/train_data/images/val  # val images (relative to 'path') 10 images\n",
        "# test:  # test images (optional)\n",
        "\n",
        "# # Classes\n",
        "# nc: 7  # number of classes\n",
        "# names: ['CARPAL', 'LMCP', 'MMCP', 'TMCP', 'LPIP', 'MPIP', 'IP']  # class names"
      ],
      "execution_count": null,
      "outputs": []
    },
    {
      "cell_type": "code",
      "metadata": {
        "id": "UsIpTSYvhyBa"
      },
      "source": [
        "# data1 = json_data[\"image\"]\n",
        "# data1 = data1['filename']\n",
        "# data1"
      ],
      "execution_count": null,
      "outputs": []
    },
    {
      "cell_type": "code",
      "metadata": {
        "id": "1px1Wiv0ipi3"
      },
      "source": [
        "# objects = json_data[\"annotations\"]\n",
        "# # outfile = open('./yolostyle/%s.txt' % (file_name[:-4]), 'a+')\n",
        "# objects"
      ],
      "execution_count": null,
      "outputs": []
    },
    {
      "cell_type": "code",
      "metadata": {
        "id": "l4Lwdkkohx-_"
      },
      "source": [
        "# objects = json_data[\"annotations\"]\n",
        "# outfile = open('./yolostyle/%s.txt' % (file_name[:-4]), 'a+')\n",
        "# objects\n",
        "\n",
        "# for item1 in objects:\n",
        "#     cls = item1[\"class\"]\n",
        "#     data_id = item1[\"data ID\"]\n",
        "#     # cls_id = classes.index(cls)\n",
        "    \n",
        "#     box= item1['box']\n",
        "#     box = ','.join(map(str, box))\n",
        "#     box = box.split(',')\n",
        "#     x1 = int(box[0])\n",
        "#     y1 = int(box[1])\n",
        "#     x2 = int(box[2])\n",
        "#     y2 = int(box[3])\n",
        "#     box = [x1, y1, x2, y2]\n",
        "#     bb = convert((width, height), box)"
      ],
      "execution_count": null,
      "outputs": []
    },
    {
      "cell_type": "code",
      "metadata": {
        "id": "Lw4oVPXehx87"
      },
      "source": [
        ""
      ],
      "execution_count": null,
      "outputs": []
    },
    {
      "cell_type": "code",
      "metadata": {
        "id": "o5GturVDhx6q"
      },
      "source": [
        ""
      ],
      "execution_count": null,
      "outputs": []
    },
    {
      "cell_type": "code",
      "metadata": {
        "id": "uWJ_xmOAhx4L"
      },
      "source": [
        ""
      ],
      "execution_count": null,
      "outputs": []
    },
    {
      "cell_type": "code",
      "metadata": {
        "id": "gIOwMIdqhx0O"
      },
      "source": [
        ""
      ],
      "execution_count": null,
      "outputs": []
    },
    {
      "cell_type": "code",
      "metadata": {
        "id": "oXJ0KrA9hxxb"
      },
      "source": [
        ""
      ],
      "execution_count": null,
      "outputs": []
    },
    {
      "cell_type": "code",
      "metadata": {
        "id": "g7qqfS03aSVg"
      },
      "source": [
        "# data = json_data[\"image\"]\n",
        "# data = data[\"resolution\"]\n",
        "# data = ','.join(map(str, data))\n",
        "\n",
        "# wh = data.split(',')\n",
        "# width = int(wh[0])\n",
        "# height = int(wh[1])\n",
        "\n"
      ],
      "execution_count": null,
      "outputs": []
    },
    {
      "cell_type": "code",
      "metadata": {
        "id": "BJ-dw7D7aSS9"
      },
      "source": [
        ""
      ],
      "execution_count": null,
      "outputs": []
    },
    {
      "cell_type": "code",
      "metadata": {
        "id": "0gRqIZYYaSQg"
      },
      "source": [
        ""
      ],
      "execution_count": null,
      "outputs": []
    },
    {
      "cell_type": "code",
      "metadata": {
        "id": "yeMMUic2aSN9"
      },
      "source": [
        ""
      ],
      "execution_count": null,
      "outputs": []
    },
    {
      "cell_type": "code",
      "metadata": {
        "id": "faadkY2gaSLt"
      },
      "source": [
        ""
      ],
      "execution_count": null,
      "outputs": []
    },
    {
      "cell_type": "code",
      "metadata": {
        "id": "s8DAHovEaRxh"
      },
      "source": [
        ""
      ],
      "execution_count": null,
      "outputs": []
    }
  ]
}