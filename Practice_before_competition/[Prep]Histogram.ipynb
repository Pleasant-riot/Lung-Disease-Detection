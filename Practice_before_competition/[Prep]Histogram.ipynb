{
  "nbformat": 4,
  "nbformat_minor": 0,
  "metadata": {
    "colab": {
      "name": "[Prep]Histogram.ipynb",
      "private_outputs": true,
      "provenance": [],
      "collapsed_sections": [],
      "machine_shape": "hm",
      "mount_file_id": "1x5GpHni4VNPXPwOiW2ZdHv3RHWIU4ure",
      "authorship_tag": "ABX9TyPpcWc36JkkXGLlwy2ip22r",
      "include_colab_link": true
    },
    "kernelspec": {
      "name": "python3",
      "display_name": "Python 3"
    },
    "language_info": {
      "name": "python"
    },
    "accelerator": "GPU"
  },
  "cells": [
    {
      "cell_type": "markdown",
      "metadata": {
        "id": "view-in-github",
        "colab_type": "text"
      },
      "source": [
        "<a href=\"https://colab.research.google.com/github/kikiru328/Pneumonia-Detection/blob/main/%5BPrep%5DHistogram.ipynb\" target=\"_parent\"><img src=\"https://colab.research.google.com/assets/colab-badge.svg\" alt=\"Open In Colab\"/></a>"
      ]
    },
    {
      "cell_type": "code",
      "metadata": {
        "id": "4QxXnk26cTpY"
      },
      "source": [
        "def histogram(path):\n",
        "    img = cv2.imread(path,cv2.IMREAD_GRAYSCALE)\n",
        "    img_copy = img.copy()\n",
        "    hist = cv2.calcHist( [img_copy], [0], None, [256], [0, 256] )\n",
        "    return plt. show()"
      ],
      "execution_count": null,
      "outputs": []
    },
    {
      "cell_type": "code",
      "metadata": {
        "id": "7lZbxz4LcXr1"
      },
      "source": [
        "histogram(image_path)"
      ],
      "execution_count": null,
      "outputs": []
    },
    {
      "cell_type": "code",
      "metadata": {
        "id": "6zGEkxoTdA_B"
      },
      "source": [
        "hist1 = cv2.calcHist([image],[0],None,[256],[0,256])"
      ],
      "execution_count": null,
      "outputs": []
    },
    {
      "cell_type": "code",
      "metadata": {
        "id": "VJB18wdsdmnW"
      },
      "source": [
        "show(image)"
      ],
      "execution_count": null,
      "outputs": []
    },
    {
      "cell_type": "code",
      "metadata": {
        "id": "cNPGFoYGdsZM"
      },
      "source": [
        "def histogram(img):\n",
        "    img2 = cv2.imread(img)\n",
        "    color = ('b','g','r')\n",
        "    for i, col in enumerate(color):\n",
        "        hist = cv2.calcHist( [img2], [i], None, [256], [0,256])\n",
        "        plt.plot(hist,color=col)\n",
        "        plt.xlim([0,256])\n",
        "        plt.title(img)\n",
        "    plt.show()"
      ],
      "execution_count": null,
      "outputs": []
    },
    {
      "cell_type": "code",
      "metadata": {
        "id": "KracSpnHnc-J"
      },
      "source": [
        "histogram(image_path)"
      ],
      "execution_count": null,
      "outputs": []
    },
    {
      "cell_type": "code",
      "metadata": {
        "id": "le27iZ9UnrKf"
      },
      "source": [
        "def histogram(img):\n",
        "    img1 = cv2.imread(image_path,cv2.IMREAD_GRAYSCALE)\n",
        "    hist1 = cv2.calcHist( [img1], [0], None, [256], [0,256] )\n",
        "    # plt.hist(img1.ravel(), 256, [0,256])\n",
        "    # plt.show()"
      ],
      "execution_count": null,
      "outputs": []
    },
    {
      "cell_type": "code",
      "metadata": {
        "id": "MxG8etrWcdZ6"
      },
      "source": [
        ""
      ],
      "execution_count": null,
      "outputs": []
    }
  ]
}