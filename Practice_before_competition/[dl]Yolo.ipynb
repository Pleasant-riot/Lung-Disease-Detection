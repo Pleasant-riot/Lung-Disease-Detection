{
  "nbformat": 4,
  "nbformat_minor": 0,
  "metadata": {
    "colab": {
      "name": "Yolo_model.ipynb",
      "private_outputs": true,
      "provenance": [],
      "collapsed_sections": [],
      "machine_shape": "hm",
      "mount_file_id": "18YgEq23WVgQcSwpjSgM1cpQ0tWNFYISQ",
      "authorship_tag": "ABX9TyNdTEpei2Qq7lSsZIt0SBFB",
      "include_colab_link": true
    },
    "kernelspec": {
      "name": "python3",
      "display_name": "Python 3"
    },
    "language_info": {
      "name": "python"
    },
    "accelerator": "GPU"
  },
  "cells": [
    {
      "cell_type": "markdown",
      "metadata": {
        "id": "view-in-github",
        "colab_type": "text"
      },
      "source": [
        "<a href=\"https://colab.research.google.com/github/kikiru328/Pneumonia-Detection/blob/main/Yolo_model.ipynb\" target=\"_parent\"><img src=\"https://colab.research.google.com/assets/colab-badge.svg\" alt=\"Open In Colab\"/></a>"
      ]
    },
    {
      "cell_type": "markdown",
      "metadata": {
        "id": "paHHGPvZHBpy"
      },
      "source": [
        "# Yolo import"
      ]
    },
    {
      "cell_type": "code",
      "metadata": {
        "id": "cASdlZb0Crih"
      },
      "source": [
        "!git clone https://github.com/ultralytics/yolov5\n",
        "%cd yolov5\n",
        "%pip install -qr requirements.txt\n",
        "import torch\n",
        "from IPython.display import Image, clear_output\n",
        "clear_output()\n",
        "print(f\"Setup complete. Using torch {torch.__version__} ({torch.cuda.get_device_properties(0).name if torch.cuda.is_available() else 'CPU'})\")"
      ],
      "execution_count": null,
      "outputs": []
    },
    {
      "cell_type": "markdown",
      "metadata": {
        "id": "Yjc-A-8ZG6RA"
      },
      "source": [
        "# for Total\n",
        "- Total to train test split"
      ]
    },
    {
      "cell_type": "markdown",
      "metadata": {
        "id": "3BWjUhgiHNpM"
      },
      "source": [
        "## module import"
      ]
    },
    {
      "cell_type": "code",
      "metadata": {
        "id": "BMS8TspCHcKT"
      },
      "source": [
        "import os\n",
        "import shutil\n",
        "import pandas as pd\n",
        "import numpy as np\n",
        "import matplotlib.pyplot as plt\n",
        "import re\n",
        "from tqdm import tqdm"
      ],
      "execution_count": null,
      "outputs": []
    },
    {
      "cell_type": "markdown",
      "metadata": {
        "id": "JljtbJuSIcPN"
      },
      "source": [
        "## Data"
      ]
    },
    {
      "cell_type": "code",
      "metadata": {
        "id": "On7sMguhHinY"
      },
      "source": [
        "total_label = os.listdir('/content/drive/MyDrive/3차플젝drive/yolo_label')\n",
        "len(total_label)"
      ],
      "execution_count": null,
      "outputs": []
    },
    {
      "cell_type": "code",
      "metadata": {
        "id": "jJ2vHELZJ1Iv"
      },
      "source": [
        "T_Label = []\n",
        "for i in tqdm(range(len(total_label))):\n",
        "    extraction = total_label[i].split('.txt')[0]\n",
        "    T_Label.append(extraction)\n",
        "\n",
        "len(T_Label)    "
      ],
      "execution_count": null,
      "outputs": []
    },
    {
      "cell_type": "code",
      "metadata": {
        "id": "ssdks6MPHsnn"
      },
      "source": [
        "total_jpg = os.listdir('/content/drive/MyDrive/3차플젝drive/PD/penumonia/yolo_train_jpg')\n",
        "len(total_jpg)"
      ],
      "execution_count": null,
      "outputs": []
    },
    {
      "cell_type": "code",
      "metadata": {
        "id": "tdMrD2LeJvfm"
      },
      "source": [
        "T_Jpg = []\n",
        "for i in tqdm(range(len(total_jpg))):\n",
        "    extraction = total_jpg[i].split('.jpg')[0]\n",
        "    T_Jpg.append(extraction)\n",
        "\n",
        "len(T_Jpg)    "
      ],
      "execution_count": null,
      "outputs": []
    },
    {
      "cell_type": "code",
      "metadata": {
        "id": "i_27eIBPLeag"
      },
      "source": [
        "Nope = list(set(T_Label) - set(T_Jpg))\n",
        "#  ['020a16e3-baf9-4cf0-859c-c79b5253d717', '.ipynb_checkpoints']"
      ],
      "execution_count": null,
      "outputs": []
    },
    {
      "cell_type": "code",
      "metadata": {
        "id": "P80mmRi9MlOi"
      },
      "source": [
        "T_Label.remove('020a16e3-baf9-4cf0-859c-c79b5253d717')\n",
        "T_Label.remove('.ipynb_checkpoints')"
      ],
      "execution_count": null,
      "outputs": []
    },
    {
      "cell_type": "code",
      "metadata": {
        "id": "89mRqJtTN4oJ"
      },
      "source": [
        "len(T_Label)"
      ],
      "execution_count": null,
      "outputs": []
    },
    {
      "cell_type": "code",
      "metadata": {
        "id": "mH06bQyHOBKF"
      },
      "source": [
        "set(T_Label) == set(T_Jpg)"
      ],
      "execution_count": null,
      "outputs": []
    },
    {
      "cell_type": "code",
      "metadata": {
        "id": "ueq0rwIeRt-s"
      },
      "source": [
        "# set으로 동일한거 확인했음 \n",
        "T_Jpg = T_Label"
      ],
      "execution_count": null,
      "outputs": []
    },
    {
      "cell_type": "code",
      "metadata": {
        "id": "8A-t03JiOJnv"
      },
      "source": [
        "Train_yolo_img = []\n",
        "for i in T_Jpg:\n",
        "    combine = i+'.jpg'\n",
        "    Train_yolo_img.append(combine)\n",
        "len(Train_yolo_img)"
      ],
      "execution_count": null,
      "outputs": []
    },
    {
      "cell_type": "code",
      "metadata": {
        "id": "y3WgLgD6PzIZ"
      },
      "source": [
        "Train_yolo_label = []\n",
        "for i in T_Label:\n",
        "    combine = i+'.txt'\n",
        "    Train_yolo_label.append(combine)\n",
        "len(Train_yolo_label)"
      ],
      "execution_count": null,
      "outputs": []
    },
    {
      "cell_type": "markdown",
      "metadata": {
        "id": "IeqaUyocP724"
      },
      "source": [
        "## DATAFRAME"
      ]
    },
    {
      "cell_type": "code",
      "metadata": {
        "id": "vbsNVKlVQIGL"
      },
      "source": [
        "# Checking\n",
        "print(Train_yolo_img[0])\n",
        "print(Train_yolo_label[0])"
      ],
      "execution_count": null,
      "outputs": []
    },
    {
      "cell_type": "code",
      "metadata": {
        "id": "uiTeAADwQowb"
      },
      "source": [
        "Total = pd.DataFrame({\"IMG\":Train_yolo_img , \"LABEL\":Train_yolo_label})\n",
        "Total"
      ],
      "execution_count": null,
      "outputs": []
    },
    {
      "cell_type": "markdown",
      "metadata": {
        "id": "zU6zZWuaRAVW"
      },
      "source": [
        "## Train_Test_Split"
      ]
    },
    {
      "cell_type": "code",
      "metadata": {
        "id": "zDqgHH0pUIL6"
      },
      "source": [
        "Train_df = Total.iloc[:int(6011*0.7)]\n",
        "Test_df = Total.iloc[4207:]"
      ],
      "execution_count": null,
      "outputs": []
    },
    {
      "cell_type": "code",
      "metadata": {
        "id": "Ac4BeTRWUTQt"
      },
      "source": [
        "len(Train_df) + len(Test_df) == 6011"
      ],
      "execution_count": null,
      "outputs": []
    },
    {
      "cell_type": "markdown",
      "metadata": {
        "id": "snh7QnPXVF53"
      },
      "source": [
        "## Directory"
      ]
    },
    {
      "cell_type": "code",
      "metadata": {
        "id": "t7CclCaaVphV"
      },
      "source": [
        "tr_im = Train_df['IMG'].tolist()"
      ],
      "execution_count": null,
      "outputs": []
    },
    {
      "cell_type": "code",
      "metadata": {
        "id": "zXcvOjuHVvx8"
      },
      "source": [
        "for i in tr_im:\n",
        "    shutil.copy(i,)"
      ],
      "execution_count": null,
      "outputs": []
    }
  ]
}