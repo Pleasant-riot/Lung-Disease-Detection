{
  "nbformat": 4,
  "nbformat_minor": 0,
  "metadata": {
    "colab": {
      "name": "Total_id.ipynb",
      "private_outputs": true,
      "provenance": [],
      "machine_shape": "hm",
      "mount_file_id": "18YgEq23WVgQcSwpjSgM1cpQ0tWNFYISQ",
      "authorship_tag": "ABX9TyOlOOgZgDIJUHPsAcM6pJ6S",
      "include_colab_link": true
    },
    "kernelspec": {
      "name": "python3",
      "display_name": "Python 3"
    },
    "language_info": {
      "name": "python"
    },
    "accelerator": "GPU"
  },
  "cells": [
    {
      "cell_type": "markdown",
      "metadata": {
        "id": "view-in-github",
        "colab_type": "text"
      },
      "source": [
        "<a href=\"https://colab.research.google.com/github/kikiru328/Pneumonia-Detection/blob/main/Total_id.ipynb\" target=\"_parent\"><img src=\"https://colab.research.google.com/assets/colab-badge.svg\" alt=\"Open In Colab\"/></a>"
      ]
    },
    {
      "cell_type": "code",
      "metadata": {
        "id": "IvohfNH0CKjS"
      },
      "source": [
        "import pandas as pd\n",
        "train_label_path = '/content/drive/MyDrive/3차플젝drive/PD/penumonia/stage_2_train_labels.csv'\n",
        "detailed_class_path = '/content/drive/MyDrive/3차플젝drive/PD/penumonia/stage_2_detailed_class_info.csv'\n",
        "train_label = pd.read_csv(train_label_path)\n",
        "detailed_class = pd.read_csv(detailed_class_path)"
      ],
      "execution_count": null,
      "outputs": []
    },
    {
      "cell_type": "code",
      "metadata": {
        "id": "HpOauhaVF7ly"
      },
      "source": [
        "display(train_label.head())\n",
        "print(train_label.info())\n",
        "train_label.shape"
      ],
      "execution_count": null,
      "outputs": []
    },
    {
      "cell_type": "code",
      "metadata": {
        "id": "epouIXmPGHs0"
      },
      "source": [
        "display(detailed_class.head())\n",
        "print(detailed_class.info())\n",
        "detailed_class.shape"
      ],
      "execution_count": null,
      "outputs": []
    },
    {
      "cell_type": "code",
      "metadata": {
        "id": "Y7JFwMMuLkx9"
      },
      "source": [
        "tr = list(train_label['patientId'])\n",
        "dc = list(detailed_class['patientId'])\n",
        "tr == dc"
      ],
      "execution_count": null,
      "outputs": []
    },
    {
      "cell_type": "code",
      "metadata": {
        "id": "lNfAafH9LPf3"
      },
      "source": [
        "total = pd.concat([train_label,detailed_class['class']],axis=1)\n",
        "total"
      ],
      "execution_count": null,
      "outputs": []
    },
    {
      "cell_type": "code",
      "metadata": {
        "id": "rk94lNjsMS4o"
      },
      "source": [
        "total = total.rename(columns={'patientId':'id', 'width' : 'w', 'height' :'h','Target':'target'})\n",
        "total"
      ],
      "execution_count": null,
      "outputs": []
    },
    {
      "cell_type": "code",
      "metadata": {
        "id": "7sEb7eWlMIfc"
      },
      "source": [
        "total.to_csv('/content/drive/MyDrive/3차플젝drive/PD/total_file.csv')"
      ],
      "execution_count": null,
      "outputs": []
    },
    {
      "cell_type": "code",
      "metadata": {
        "id": "_syy62UYMsao"
      },
      "source": [
        ""
      ],
      "execution_count": null,
      "outputs": []
    },
    {
      "cell_type": "code",
      "metadata": {
        "id": "rrMlqMzXMz5m"
      },
      "source": [
        ""
      ],
      "execution_count": null,
      "outputs": []
    }
  ]
}