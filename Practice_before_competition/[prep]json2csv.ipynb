{
  "nbformat": 4,
  "nbformat_minor": 0,
  "metadata": {
    "colab": {
      "name": "json2csv.ipynb",
      "private_outputs": true,
      "provenance": [],
      "authorship_tag": "ABX9TyMNnWARI26zfRljBZcMrwnS",
      "include_colab_link": true
    },
    "kernelspec": {
      "name": "python3",
      "display_name": "Python 3"
    },
    "language_info": {
      "name": "python"
    }
  },
  "cells": [
    {
      "cell_type": "markdown",
      "metadata": {
        "id": "view-in-github",
        "colab_type": "text"
      },
      "source": [
        "<a href=\"https://colab.research.google.com/github/JINYUHOON/Pneumonia-Detection/blob/main/json2csv.ipynb\" target=\"_parent\"><img src=\"https://colab.research.google.com/assets/colab-badge.svg\" alt=\"Open In Colab\"/></a>"
      ]
    },
    {
      "cell_type": "code",
      "metadata": {
        "id": "IEdENVXQ0GGA"
      },
      "source": [
        "import os\n",
        "import glob\n",
        "\n",
        "path = './data/train/'\n",
        "disease_dirlist = os.listdir(path)\n",
        "age_list = ['/A1.0-2개월', '/A2.3개월-5세','/A3.6-10세','/A4.11-15세']\n"
      ],
      "execution_count": null,
      "outputs": []
    },
    {
      "cell_type": "code",
      "metadata": {
        "id": "WdBeT8160IxS"
      },
      "source": [
        "folder_list = ['mask','metadata','org']\n",
        "masks = []\n",
        "orgs = []\n",
        "metadatas = []\n",
        "for i in patients_path:\n",
        "    mask_path = i + '/mask/'\n",
        "    org_path = i + '/org/'\n",
        "    metadata_path = i + '/metadata/'\n",
        "    \n",
        "    mask_png = glob.glob(mask_path+'*.png')\n",
        "    masks.append(mask_png[0])\n",
        "    \n",
        "    org_dcm = glob.glob(org_path+'*.dcm')\n",
        "    orgs.append(org_dcm[0])\n",
        "    \n",
        "    metadata_json = glob.glob(metadata_path+'*.json')\n",
        "    metadatas.append(metadata_json[0])\n",
        "\n"
      ],
      "execution_count": null,
      "outputs": []
    },
    {
      "cell_type": "code",
      "metadata": {
        "id": "0vR-7EvI0M7Q"
      },
      "source": [
        "print(len(masks))\n",
        "print(len(orgs))\n",
        "print(len(metadatas))"
      ],
      "execution_count": null,
      "outputs": []
    },
    {
      "cell_type": "code",
      "metadata": {
        "id": "H81mJ2AZ0NfF"
      },
      "source": [
        "import pandas as pd\n",
        "col = ['identifier','sex','age_group','age','height','weight','report','pneumonia_type','orginal_dcm_file','body_part_file','diagnosis']\n",
        "json2csv= pd.DataFrame(columns=col)\n",
        "json2csv"
      ],
      "execution_count": null,
      "outputs": []
    },
    {
      "cell_type": "code",
      "metadata": {
        "id": "6CtVOuyR0Qgs"
      },
      "source": [
        "import json\n",
        "\n",
        "id, sex, age_group, age, height, weight, report , p_type, org_img, mask_img, diagnosis = [],[],[],[],[],[],[],[],[],[],[]\n",
        "for i in range(len(metadatas)):\n",
        "    with open(metadatas[i]) as data:\n",
        "        j = json.load(data)\n",
        "    \n",
        "    id.append(j['identifier']) # 환자id\n",
        "    sex.append(j['patient']['sex'])\n",
        "    age_group.append(j['patient']['age_group'])\n",
        "    age.append(j['patient']['age'])\n",
        "    height.append(j['patient']['height'])\n",
        "    weight.append(j['patient']['weight'])\n",
        "    report.append(j['patient']['report'])\n",
        "    p_type.append(j['patient']['pneumonia_type'])\n",
        "    org_img.append('/home/ncp/workspace/data/train' + j['mask_image']['org_dicom_file'][3:])\n",
        "    mask_img.append('/home/ncp/workspace/data/train' +j['mask_image']['body_part_mask'][3:])\n",
        "    diagnosis.append(j['patient']['diagnosis'])\n",
        "    \n",
        "# id = j['identifier'] # 환자id\n",
        "# sex = j['patient']['sex'] \n",
        "# age_group = j['patient']['age_group']\n",
        "# age = j['patient']['age']\n",
        "# height = j['patient']['height']\n",
        "# weight = j['patient']['weight']\n",
        "# report = j['patient']['report']\n",
        "# p_type = j['patient']['pneumonia_type']\n",
        "# org_img = j['mask_image']['org_dicom_file'][3:]\n",
        "# mask_img = j['mask_image']['body_part_mask'][3:]"
      ],
      "execution_count": null,
      "outputs": []
    },
    {
      "cell_type": "code",
      "metadata": {
        "id": "neFzSzb00Sk1"
      },
      "source": [
        "json2csv['identifier'] = id\n",
        "json2csv['sex'] = sex\n",
        "json2csv['age_group'] = age_group\n",
        "json2csv['age'] = age\n",
        "json2csv['height'] = height\n",
        "json2csv['weight'] = weight\n",
        "json2csv['report'] = report\n",
        "json2csv['pneumonia_type'] = p_type\n",
        "json2csv['orginal_dcm_file'] = org_img\n",
        "json2csv['body_part_file'] = mask_img\n",
        "json2csv['diagnosis'] = diagnosis"
      ],
      "execution_count": null,
      "outputs": []
    },
    {
      "cell_type": "code",
      "metadata": {
        "id": "MpQoGUs10VbJ"
      },
      "source": [
        "json2csv.to_csv('/home/ncp/workspace/dataset.csv')"
      ],
      "execution_count": null,
      "outputs": []
    },
    {
      "cell_type": "code",
      "metadata": {
        "id": "ajobrPz-0XuV"
      },
      "source": [
        "import matplotlib.pyplot as plt\n",
        "import cv2\n",
        "\n",
        "plt.imshow(cv2.imread(json2csv['body_part_file'][3],0))\n",
        "plt.imshow(cv2.resize(cv2.imread(json2csv['body_part_file'][3],0),(128,128)))"
      ],
      "execution_count": null,
      "outputs": []
    },
    {
      "cell_type": "code",
      "metadata": {
        "id": "Hpdr7q3I0YpO"
      },
      "source": [
        "print(cv2.imread(json2csv[json2csv['age']=='15세']['body_part_file'][1088]).shape)\n",
        "# plt.imshow(cv2.resize(cv2.imread(json2csv[json2csv['age']=='15세']['body_part_file'][1088],0))\n",
        "test = cv2.imread(json2csv[json2csv['age']=='15세']['body_part_file'][1088])\n",
        "\n",
        "plt.imshow(cv2.resize(test,(128,128)))"
      ],
      "execution_count": null,
      "outputs": []
    }
  ]
}