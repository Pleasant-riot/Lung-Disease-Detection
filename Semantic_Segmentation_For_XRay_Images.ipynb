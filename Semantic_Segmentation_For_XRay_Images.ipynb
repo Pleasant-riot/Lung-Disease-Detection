{
  "nbformat": 4,
  "nbformat_minor": 0,
  "metadata": {
    "colab": {
      "name": "Semantic-Segmentation-For-XRay-Images.ipynb",
      "provenance": [],
      "collapsed_sections": [],
      "machine_shape": "hm",
      "authorship_tag": "ABX9TyP4zRHe7Pmukx1PfP+FGPp6",
      "include_colab_link": true
    },
    "kernelspec": {
      "name": "python3",
      "display_name": "Python 3"
    },
    "language_info": {
      "name": "python"
    },
    "accelerator": "GPU"
  },
  "cells": [
    {
      "cell_type": "markdown",
      "metadata": {
        "id": "view-in-github",
        "colab_type": "text"
      },
      "source": [
        "<a href=\"https://colab.research.google.com/github/SeunghyeChae/Pneumonia-Detection_tmdhey/blob/main/Semantic_Segmentation_For_XRay_Images.ipynb\" target=\"_parent\"><img src=\"https://colab.research.google.com/assets/colab-badge.svg\" alt=\"Open In Colab\"/></a>"
      ]
    },
    {
      "cell_type": "code",
      "metadata": {
        "id": "Q_GJmhEZhiG_"
      },
      "source": [
        "# https://github.com/bcabgil/DD2424-Semantic-Segmentation-For-XRay-Images/blob/master/Main_Code.ipynb"
      ],
      "execution_count": null,
      "outputs": []
    },
    {
      "cell_type": "code",
      "metadata": {
        "colab": {
          "base_uri": "https://localhost:8080/"
        },
        "id": "XBLgeniPYFPr",
        "outputId": "f3ac7e48-8913-460d-9743-7fbf6b5fe0d7"
      },
      "source": [
        "import os, sys\n",
        "from google.colab import drive\n",
        "drive.mount('/content/drive')\n"
      ],
      "execution_count": null,
      "outputs": [
        {
          "output_type": "stream",
          "name": "stdout",
          "text": [
            "Drive already mounted at /content/drive; to attempt to forcibly remount, call drive.mount(\"/content/drive\", force_remount=True).\n"
          ]
        }
      ]
    },
    {
      "cell_type": "code",
      "metadata": {
        "colab": {
          "base_uri": "https://localhost:8080/"
        },
        "id": "fQDKBy4XYWGP",
        "outputId": "c68026de-47c4-4982-9408-4b9773e92e9b"
      },
      "source": [
        "#Installing and importing libraries\n",
        "!pip install matplotlib\n",
        "!pip install numpy\n",
        "!pip install scipy\n",
        "!pip install sklearn\n",
        "!pip install h5py pyyaml\n",
        "!pip install tf_nightly\n",
        "!pip install tensorboardcolab\n"
      ],
      "execution_count": null,
      "outputs": [
        {
          "output_type": "stream",
          "name": "stdout",
          "text": [
            "Requirement already satisfied: matplotlib in /usr/local/lib/python3.7/dist-packages (3.2.2)\n",
            "Requirement already satisfied: pyparsing!=2.0.4,!=2.1.2,!=2.1.6,>=2.0.1 in /usr/local/lib/python3.7/dist-packages (from matplotlib) (3.0.6)\n",
            "Requirement already satisfied: python-dateutil>=2.1 in /usr/local/lib/python3.7/dist-packages (from matplotlib) (2.8.2)\n",
            "Requirement already satisfied: kiwisolver>=1.0.1 in /usr/local/lib/python3.7/dist-packages (from matplotlib) (1.3.2)\n",
            "Requirement already satisfied: numpy>=1.11 in /usr/local/lib/python3.7/dist-packages (from matplotlib) (1.19.5)\n",
            "Requirement already satisfied: cycler>=0.10 in /usr/local/lib/python3.7/dist-packages (from matplotlib) (0.11.0)\n",
            "Requirement already satisfied: six>=1.5 in /usr/local/lib/python3.7/dist-packages (from python-dateutil>=2.1->matplotlib) (1.15.0)\n",
            "Requirement already satisfied: numpy in /usr/local/lib/python3.7/dist-packages (1.19.5)\n",
            "Requirement already satisfied: scipy in /usr/local/lib/python3.7/dist-packages (1.4.1)\n",
            "Requirement already satisfied: numpy>=1.13.3 in /usr/local/lib/python3.7/dist-packages (from scipy) (1.19.5)\n",
            "Requirement already satisfied: sklearn in /usr/local/lib/python3.7/dist-packages (0.0)\n",
            "Requirement already satisfied: scikit-learn in /usr/local/lib/python3.7/dist-packages (from sklearn) (1.0.1)\n",
            "Requirement already satisfied: joblib>=0.11 in /usr/local/lib/python3.7/dist-packages (from scikit-learn->sklearn) (1.1.0)\n",
            "Requirement already satisfied: scipy>=1.1.0 in /usr/local/lib/python3.7/dist-packages (from scikit-learn->sklearn) (1.4.1)\n",
            "Requirement already satisfied: threadpoolctl>=2.0.0 in /usr/local/lib/python3.7/dist-packages (from scikit-learn->sklearn) (3.0.0)\n",
            "Requirement already satisfied: numpy>=1.14.6 in /usr/local/lib/python3.7/dist-packages (from scikit-learn->sklearn) (1.19.5)\n",
            "Requirement already satisfied: h5py in /usr/local/lib/python3.7/dist-packages (3.1.0)\n",
            "Requirement already satisfied: pyyaml in /usr/local/lib/python3.7/dist-packages (3.13)\n",
            "Requirement already satisfied: numpy>=1.14.5 in /usr/local/lib/python3.7/dist-packages (from h5py) (1.19.5)\n",
            "Requirement already satisfied: cached-property in /usr/local/lib/python3.7/dist-packages (from h5py) (1.5.2)\n",
            "Requirement already satisfied: tf_nightly in /usr/local/lib/python3.7/dist-packages (2.8.0.dev20211120)\n",
            "Requirement already satisfied: grpcio<2.0,>=1.24.3 in /usr/local/lib/python3.7/dist-packages (from tf_nightly) (1.42.0)\n",
            "Requirement already satisfied: typing-extensions>=3.6.6 in /usr/local/lib/python3.7/dist-packages (from tf_nightly) (3.10.0.2)\n",
            "Requirement already satisfied: termcolor>=1.1.0 in /usr/local/lib/python3.7/dist-packages (from tf_nightly) (1.1.0)\n",
            "Requirement already satisfied: opt-einsum>=2.3.2 in /usr/local/lib/python3.7/dist-packages (from tf_nightly) (3.3.0)\n",
            "Requirement already satisfied: tb-nightly~=2.8.0.a in /usr/local/lib/python3.7/dist-packages (from tf_nightly) (2.8.0a20211122)\n",
            "Requirement already satisfied: tf-estimator-nightly~=2.8.0.dev in /usr/local/lib/python3.7/dist-packages (from tf_nightly) (2.8.0.dev2021112209)\n",
            "Requirement already satisfied: gast<0.5.0,>=0.2.1 in /usr/local/lib/python3.7/dist-packages (from tf_nightly) (0.4.0)\n",
            "Requirement already satisfied: flatbuffers<3.0,>=1.12 in /usr/local/lib/python3.7/dist-packages (from tf_nightly) (2.0)\n",
            "Requirement already satisfied: protobuf>=3.9.2 in /usr/local/lib/python3.7/dist-packages (from tf_nightly) (3.17.3)\n",
            "Requirement already satisfied: keras-nightly~=2.8.0.dev in /usr/local/lib/python3.7/dist-packages (from tf_nightly) (2.8.0.dev2021112208)\n",
            "Requirement already satisfied: wheel<1.0,>=0.32.0 in /usr/local/lib/python3.7/dist-packages (from tf_nightly) (0.37.0)\n",
            "Requirement already satisfied: numpy>=1.14.5 in /usr/local/lib/python3.7/dist-packages (from tf_nightly) (1.19.5)\n",
            "Requirement already satisfied: six>=1.12.0 in /usr/local/lib/python3.7/dist-packages (from tf_nightly) (1.15.0)\n",
            "Requirement already satisfied: astunparse>=1.6.0 in /usr/local/lib/python3.7/dist-packages (from tf_nightly) (1.6.3)\n",
            "Requirement already satisfied: h5py>=2.9.0 in /usr/local/lib/python3.7/dist-packages (from tf_nightly) (3.1.0)\n",
            "Requirement already satisfied: keras-preprocessing>=1.1.1 in /usr/local/lib/python3.7/dist-packages (from tf_nightly) (1.1.2)\n",
            "Requirement already satisfied: absl-py>=0.4.0 in /usr/local/lib/python3.7/dist-packages (from tf_nightly) (0.12.0)\n",
            "Requirement already satisfied: tensorflow-io-gcs-filesystem>=0.21.0 in /usr/local/lib/python3.7/dist-packages (from tf_nightly) (0.22.0)\n",
            "Requirement already satisfied: google-pasta>=0.1.1 in /usr/local/lib/python3.7/dist-packages (from tf_nightly) (0.2.0)\n",
            "Requirement already satisfied: libclang>=9.0.1 in /usr/local/lib/python3.7/dist-packages (from tf_nightly) (12.0.0)\n",
            "Requirement already satisfied: wrapt>=1.11.0 in /usr/local/lib/python3.7/dist-packages (from tf_nightly) (1.13.3)\n",
            "Requirement already satisfied: cached-property in /usr/local/lib/python3.7/dist-packages (from h5py>=2.9.0->tf_nightly) (1.5.2)\n",
            "Requirement already satisfied: werkzeug>=0.11.15 in /usr/local/lib/python3.7/dist-packages (from tb-nightly~=2.8.0.a->tf_nightly) (1.0.1)\n",
            "Requirement already satisfied: google-auth<3,>=1.6.3 in /usr/local/lib/python3.7/dist-packages (from tb-nightly~=2.8.0.a->tf_nightly) (1.35.0)\n",
            "Requirement already satisfied: setuptools>=41.0.0 in /usr/local/lib/python3.7/dist-packages (from tb-nightly~=2.8.0.a->tf_nightly) (57.4.0)\n",
            "Requirement already satisfied: google-auth-oauthlib<0.5,>=0.4.1 in /usr/local/lib/python3.7/dist-packages (from tb-nightly~=2.8.0.a->tf_nightly) (0.4.6)\n",
            "Requirement already satisfied: markdown>=2.6.8 in /usr/local/lib/python3.7/dist-packages (from tb-nightly~=2.8.0.a->tf_nightly) (3.3.6)\n",
            "Requirement already satisfied: tensorboard-data-server<0.7.0,>=0.6.0 in /usr/local/lib/python3.7/dist-packages (from tb-nightly~=2.8.0.a->tf_nightly) (0.6.1)\n",
            "Requirement already satisfied: tensorboard-plugin-wit>=1.6.0 in /usr/local/lib/python3.7/dist-packages (from tb-nightly~=2.8.0.a->tf_nightly) (1.8.0)\n",
            "Requirement already satisfied: requests<3,>=2.21.0 in /usr/local/lib/python3.7/dist-packages (from tb-nightly~=2.8.0.a->tf_nightly) (2.23.0)\n",
            "Requirement already satisfied: rsa<5,>=3.1.4 in /usr/local/lib/python3.7/dist-packages (from google-auth<3,>=1.6.3->tb-nightly~=2.8.0.a->tf_nightly) (4.7.2)\n",
            "Requirement already satisfied: pyasn1-modules>=0.2.1 in /usr/local/lib/python3.7/dist-packages (from google-auth<3,>=1.6.3->tb-nightly~=2.8.0.a->tf_nightly) (0.2.8)\n",
            "Requirement already satisfied: cachetools<5.0,>=2.0.0 in /usr/local/lib/python3.7/dist-packages (from google-auth<3,>=1.6.3->tb-nightly~=2.8.0.a->tf_nightly) (4.2.4)\n",
            "Requirement already satisfied: requests-oauthlib>=0.7.0 in /usr/local/lib/python3.7/dist-packages (from google-auth-oauthlib<0.5,>=0.4.1->tb-nightly~=2.8.0.a->tf_nightly) (1.3.0)\n",
            "Requirement already satisfied: importlib-metadata>=4.4 in /usr/local/lib/python3.7/dist-packages (from markdown>=2.6.8->tb-nightly~=2.8.0.a->tf_nightly) (4.8.2)\n",
            "Requirement already satisfied: zipp>=0.5 in /usr/local/lib/python3.7/dist-packages (from importlib-metadata>=4.4->markdown>=2.6.8->tb-nightly~=2.8.0.a->tf_nightly) (3.6.0)\n",
            "Requirement already satisfied: pyasn1<0.5.0,>=0.4.6 in /usr/local/lib/python3.7/dist-packages (from pyasn1-modules>=0.2.1->google-auth<3,>=1.6.3->tb-nightly~=2.8.0.a->tf_nightly) (0.4.8)\n",
            "Requirement already satisfied: idna<3,>=2.5 in /usr/local/lib/python3.7/dist-packages (from requests<3,>=2.21.0->tb-nightly~=2.8.0.a->tf_nightly) (2.10)\n",
            "Requirement already satisfied: urllib3!=1.25.0,!=1.25.1,<1.26,>=1.21.1 in /usr/local/lib/python3.7/dist-packages (from requests<3,>=2.21.0->tb-nightly~=2.8.0.a->tf_nightly) (1.24.3)\n",
            "Requirement already satisfied: certifi>=2017.4.17 in /usr/local/lib/python3.7/dist-packages (from requests<3,>=2.21.0->tb-nightly~=2.8.0.a->tf_nightly) (2021.10.8)\n",
            "Requirement already satisfied: chardet<4,>=3.0.2 in /usr/local/lib/python3.7/dist-packages (from requests<3,>=2.21.0->tb-nightly~=2.8.0.a->tf_nightly) (3.0.4)\n",
            "Requirement already satisfied: oauthlib>=3.0.0 in /usr/local/lib/python3.7/dist-packages (from requests-oauthlib>=0.7.0->google-auth-oauthlib<0.5,>=0.4.1->tb-nightly~=2.8.0.a->tf_nightly) (3.1.1)\n",
            "Requirement already satisfied: tensorboardcolab in /usr/local/lib/python3.7/dist-packages (0.0.22)\n"
          ]
        }
      ]
    },
    {
      "cell_type": "code",
      "metadata": {
        "id": "-BJkS_KbbugX"
      },
      "source": [
        "!pip install -U scipy==1.2.0"
      ],
      "execution_count": null,
      "outputs": []
    },
    {
      "cell_type": "code",
      "metadata": {
        "id": "uMlL_ZlKXaJh"
      },
      "source": [
        "import matplotlib.pyplot as plt\n",
        "import numpy as np\n",
        "import PIL\n",
        "# from scipy.misc import imsave\n",
        "from imageio import imwrite\n",
        "from imageio import imsave\n",
        "# from google.colab import drive\n",
        "# drive.mount('/content/gdrive')\n",
        "from PIL import Image\n",
        "from statistics import stdev \n",
        "from tensorflow.keras.utils import to_categorical\n",
        "from keras.preprocessing.image import ImageDataGenerator\n",
        "from tensorboardcolab import TensorBoardColab, TensorBoardColabCallback"
      ],
      "execution_count": null,
      "outputs": []
    },
    {
      "cell_type": "markdown",
      "metadata": {
        "id": "1mMHcUoSiSIg"
      },
      "source": [
        "# Split data into training (80%), validation (10%) and test (10%) set"
      ]
    },
    {
      "cell_type": "code",
      "metadata": {
        "colab": {
          "base_uri": "https://localhost:8080/"
        },
        "id": "TpUxMBHksJAa",
        "outputId": "1c780cf9-84b6-4135-f643-52196f8d1e4a"
      },
      "source": [
        "#Splitting the data randomly \n",
        "from sklearn.model_selection import train_test_split\n",
        "\n",
        "\n",
        "#Splitting of the data\n",
        "\n",
        "X = np.ndarray((246,128,128,1))\n",
        "Y = np.ndarray((246,128,128,4))\n",
        "\n",
        "for i in range (1,154):\n",
        "    if i <10:\n",
        "        im = Image.open(\"/content/drive/MyDrive/3차플젝drive/DD2424-Semantic-Segmentation-For-XRay-Images-master/Converted_Images_PNG/JPCLN00%s.PNG\" % (i))\n",
        "        mask = Image.open(\"/content/drive/MyDrive/3차플젝drive/DD2424-Semantic-Segmentation-For-XRay-Images-master/Merged_Masks_PNG/JPCLN00%s.PNG\" % (i))\n",
        "        im = np.reshape(np.array(im),(128,128,1))\n",
        "        mask = to_categorical(np.array(mask))\n",
        "        X[i][:][:][:] = im\n",
        "        Y[i][:][:][:] = mask\n",
        "\n",
        "    elif (i>=10) and (i<100):\n",
        "        im = Image.open(\"/content/drive/MyDrive/3차플젝drive/DD2424-Semantic-Segmentation-For-XRay-Images-master/Converted_Images_PNG/JPCLN0%s.PNG\" % (i))\n",
        "        mask = Image.open(\"/content/drive/MyDrive/3차플젝drive/DD2424-Semantic-Segmentation-For-XRay-Images-master/Merged_Masks_PNG/JPCLN0%s.PNG\" % (i))\n",
        "        im = np.reshape(np.array(im),(128,128,1))\n",
        "        mask = to_categorical(np.array(mask))\n",
        "        X[i][:][:][:] = im\n",
        "        Y[i][:][:][:] = mask\n",
        "\n",
        "    elif (i>=100):\n",
        "        if (i == 122):\n",
        "            continue;\n",
        "        im = Image.open(\"/content/drive/MyDrive/3차플젝drive/DD2424-Semantic-Segmentation-For-XRay-Images-master/Converted_Images_PNG/JPCLN%s.PNG\" % (i))\n",
        "        mask = Image.open(\"/content/drive/MyDrive/3차플젝drive/DD2424-Semantic-Segmentation-For-XRay-Images-master/Merged_Masks_PNG/JPCLN%s.PNG\" % (i))\n",
        "        im = np.reshape(np.array(im),(128,128,1))\n",
        "        mask = to_categorical(np.array(mask))\n",
        "        X[i][:][:][:] = im\n",
        "        Y[i][:][:][:] = mask\n",
        "\n",
        "\n",
        "for i in range(1,94):   \n",
        "    if i <10:\n",
        "        im = Image.open(\"/content/drive/MyDrive/3차플젝drive/DD2424-Semantic-Segmentation-For-XRay-Images-master/Converted_Images_PNG/JPCNN00%s.PNG\" % (i))\n",
        "        mask = Image.open(\"/content/drive/MyDrive/3차플젝drive/DD2424-Semantic-Segmentation-For-XRay-Images-master/Merged_Masks_PNG/JPCNN00%s.PNG\" % (i))\n",
        "        im = np.reshape(np.array(im),(128,128,1))\n",
        "        mask = to_categorical(np.array(mask))\n",
        "        X[i][:][:][:] = im\n",
        "        Y[i][:][:][:] = mask\n",
        "\n",
        "    elif (i>=10):\n",
        "        im = Image.open(\"/content/drive/MyDrive/3차플젝drive/DD2424-Semantic-Segmentation-For-XRay-Images-master/Converted_Images_PNG/JPCNN0%s.PNG\" % (i))\n",
        "        mask = Image.open(\"/content/drive/MyDrive/3차플젝drive/DD2424-Semantic-Segmentation-For-XRay-Images-master/Merged_Masks_PNG/JPCNN0%s.PNG\" % (i))\n",
        "        im = np.reshape(np.array(im),(128,128,1))\n",
        "        mask = to_categorical(np.array(mask))\n",
        "        if i<47:\n",
        "            X[i][:][:][:] = im\n",
        "            Y[i][:][:][:] = mask\n",
        "        elif 46<i<72:\n",
        "            X[i-47][:][:][:] = im\n",
        "            Y[i-47][:][:][:] = mask\n",
        "        elif 71<i<94:\n",
        "            X[i-72][:][:][:] = im\n",
        "            Y[i-72][:][:][:] = mask\n",
        "\n",
        "    \n",
        "#Splitting of data into training, validation and testing\n",
        "Xtr, Xtst, Ytr, Ytst = train_test_split(X, Y, test_size=0.10)\n",
        "Xtr, Xva, Ytr, Yva = train_test_split(Xtr, Ytr, test_size=0.10)\n",
        "\n",
        "\n",
        "#Printing shape of Training and Test data\n",
        "print( Xtr.shape, Ytr.shape)\n",
        "print( Xtst.shape, Ytst.shape)\n",
        "print(Xva.shape, Yva.shape)"
      ],
      "execution_count": null,
      "outputs": [
        {
          "output_type": "stream",
          "name": "stdout",
          "text": [
            "(198, 128, 128, 1) (198, 128, 128, 4)\n",
            "(25, 128, 128, 1) (25, 128, 128, 4)\n",
            "(23, 128, 128, 1) (23, 128, 128, 4)\n"
          ]
        }
      ]
    },
    {
      "cell_type": "code",
      "metadata": {
        "id": "MlpAdxvGiTty",
        "colab": {
          "base_uri": "https://localhost:8080/",
          "height": 396
        },
        "outputId": "1eb87d75-a34d-4ff4-8c27-5eadf1c92309"
      },
      "source": [
        "#Comprovation that the data is correctly imported\n",
        "plt.imshow(np.reshape(Xtst[2][:][:][:],(128,128)))\n",
        "print(np.reshape(Xtst[2][:][:][:],(128,128)))"
      ],
      "execution_count": null,
      "outputs": [
        {
          "output_type": "stream",
          "name": "stdout",
          "text": [
            "[[185. 217. 217. ... 217. 217. 185.]\n",
            " [217. 255. 255. ... 255. 255. 217.]\n",
            " [217. 255. 255. ... 255. 255. 217.]\n",
            " ...\n",
            " [163. 186. 186. ... 176. 176. 149.]\n",
            " [163. 186. 186. ... 176. 176. 149.]\n",
            " [139. 158. 158. ... 150. 149. 125.]]\n"
          ]
        },
        {
          "output_type": "display_data",
          "data": {
            "image/png": "[encoded data removed]",
            "text/plain": [
              "<Figure size 432x288 with 1 Axes>"
            ]
          },
          "metadata": {
            "needs_background": "light"
          }
        }
      ]
    },
    {
      "cell_type": "code",
      "metadata": {
        "id": "A4VkTXluiTry"
      },
      "source": [
        ""
      ],
      "execution_count": null,
      "outputs": []
    },
    {
      "cell_type": "code",
      "metadata": {
        "id": "vVZtoXynvG-b"
      },
      "source": [
        ""
      ],
      "execution_count": null,
      "outputs": []
    },
    {
      "cell_type": "code",
      "metadata": {
        "id": "AjPpnG3TvG8G"
      },
      "source": [
        ""
      ],
      "execution_count": null,
      "outputs": []
    },
    {
      "cell_type": "code",
      "metadata": {
        "id": "ecRFQmSOvG7X"
      },
      "source": [
        ""
      ],
      "execution_count": null,
      "outputs": []
    },
    {
      "cell_type": "markdown",
      "metadata": {
        "id": "Er3Z_azcX_gT"
      },
      "source": [
        "# create model"
      ]
    },
    {
      "cell_type": "code",
      "metadata": {
        "id": "KtFCmH9PX_eE"
      },
      "source": [
        "#Build the model\n",
        "\n",
        "#Libraries\n",
        "from keras.models import Sequential, Model\n",
        "from keras.layers import Dense, Activation, Conv2D, Dropout,MaxPooling2D,UpSampling2D, Input, ELU, Concatenate, BatchNormalization\n",
        "from keras.models import load_model\n",
        "from keras.losses import categorical_crossentropy"
      ],
      "execution_count": null,
      "outputs": []
    },
    {
      "cell_type": "code",
      "metadata": {
        "id": "jTwyrBy3X_cE"
      },
      "source": [
        "\n",
        "first_input = Input(shape =(128,128,1))\n",
        "bn = BatchNormalization(axis=-1, momentum=0.99, epsilon=0.001)(first_input)\n",
        "conv1_1 = Conv2D(128, [3,3], strides=(1, 1), activation='elu', padding=\"same\")(bn)\n",
        "conv1_2=Conv2D(128, [3,3], strides=(1, 1), activation='elu', padding=\"same\")(conv1_1)\n",
        "dropout1 = Dropout(0.1)(conv1_2)\n",
        "maxPool1 = MaxPooling2D(pool_size=2, strides=1)(dropout1)\n",
        "conv2_1 = Conv2D(64, [3,3], strides=(2, 2), activation='elu', padding=\"same\")(maxPool1)\n",
        "conv2_2 = Conv2D(64, [3,3], strides=(1, 1), activation='elu', padding=\"same\")(conv2_1)\n",
        "dropout2 = Dropout(0.1)(conv2_2)\n",
        "maxPool2 = MaxPooling2D(pool_size=2, strides=1)(dropout2)\n",
        "conv3_1 = Conv2D(32, [3,3], strides=(2, 2), activation='elu', padding=\"same\")(maxPool2)\n",
        "conv3_2 = Conv2D(32, [3,3], strides=(1, 1), activation='elu', padding=\"same\")(conv3_1)\n",
        "dropout3 = Dropout(0.1)(conv3_2)\n",
        "maxPool3 = MaxPooling2D(pool_size=2, strides=1)(dropout3)\n",
        "\n",
        "conv4_1 = Conv2D(16, [3,3], strides=(2, 2), activation='elu', padding=\"same\")(maxPool3)\n",
        "conv4_2 = Conv2D(16, [3,3], strides=(1, 1), activation='elu', padding=\"same\")(conv4_1)\n",
        "dropout4 = Dropout(0.1)(conv4_2)\n",
        "\n",
        "upSampling1 = UpSampling2D(size=(2, 2))(dropout4)\n",
        "\n",
        "#concatenate\n",
        "conv_int5 = Conv2D(32, [3,3], strides=(1, 1), activation='elu', padding=\"same\")(upSampling1)\n",
        "concat1 = Concatenate()([dropout3, conv_int5])\n",
        "\n",
        "conv5_1 = Conv2D(32, [3,3], strides=(1, 1), activation='elu', padding=\"same\")(concat1)\n",
        "conv5_2 = Conv2D(32, [3,3], strides=(1, 1), activation='elu', padding=\"same\")(conv5_1)\n",
        "dropout5 = Dropout(0.1)(conv5_2)\n",
        "upSampling2 = UpSampling2D(size=(2, 2))(dropout5)\n",
        "#concatenate\n",
        "conv_int6 = Conv2D(64, [3,3], strides=(1, 1), activation='elu', padding=\"same\")(upSampling2)\n",
        "concat2 = Concatenate()([dropout2, conv_int6])\n",
        "\n",
        "conv6_1 = Conv2D(64, [3,3], strides=(1, 1), activation='elu', padding=\"same\")(concat2)\n",
        "conv6_2 = Conv2D(64, [3,3], strides=(1, 1), activation='elu', padding=\"same\")(conv6_1)\n",
        "dropout6 = Dropout(0.1)(conv6_2)\n",
        "upSampling3 = UpSampling2D(size=(2, 2))(dropout6)\n",
        "\n",
        "#concatenate\n",
        "conv_int7 = Conv2D(128, [3,3], strides=(1, 1), activation='elu', padding=\"same\")(upSampling3)\n",
        "concat3 = Concatenate()([dropout1, conv_int7])\n",
        "\n",
        "conv7_1 = Conv2D(128, [3,3], strides=(1, 1), activation='elu', padding=\"same\")(concat3)\n",
        "conv7_2 = Conv2D(128, [3,3], strides=(1, 1), activation='elu', padding=\"same\")(conv7_1)\n",
        "\n",
        "dropout7 = Dropout(0.1)(conv7_2)\n",
        "\n",
        "#batch normalization\n",
        "bn = BatchNormalization(axis=-1, momentum=0.99, epsilon=0.001)(dropout7)\n",
        "\n",
        "output = Conv2D(4, [1,1], strides=(1, 1), activation='softmax', padding=\"same\")(bn)\n",
        "#output2 = Conv2D(4, [1,1], strides=(1, 1), activation='softmax', padding=\"same\")(bn)"
      ],
      "execution_count": null,
      "outputs": []
    },
    {
      "cell_type": "code",
      "metadata": {
        "id": "XTMKT8O7X_Z0"
      },
      "source": [
        "#Custom loss function combining categorical cross entropy and dice coefficient \n",
        "from keras import backend as K\n",
        "\n",
        "def loss_tot(y_true, y_pred, smooth=1):\n",
        "   \n",
        "    intersection = K.sum(K.abs(y_true * y_pred), axis=-1)\n",
        "    dice = (2. * intersection + smooth) / (K.sum(K.square(y_true),-1) + K.sum(K.square(y_pred),-1) + smooth)\n",
        "    \n",
        "    return 1-dice+categorical_crossentropy(y_true, y_pred)               "
      ],
      "execution_count": null,
      "outputs": []
    },
    {
      "cell_type": "code",
      "metadata": {
        "colab": {
          "base_uri": "https://localhost:8080/"
        },
        "id": "-5h5R6r6X_VU",
        "outputId": "39b555f2-e0be-44be-e0c0-25e7983acc7f"
      },
      "source": [
        "#Importing an existing model or compiling a newly defined one\n",
        "\n",
        "#Define the optimizer\n",
        "from tensorflow.keras.optimizers import Adam\n",
        "\n",
        "#Parameters for loading an existing model\n",
        "model_name = 'inversenet.h5'\n",
        "load_existant = False\n",
        "\n",
        "if load_existant:\n",
        "    model = load_model(model_name) \n",
        "\n",
        "else:\n",
        "\n",
        "    model = Model(inputs=first_input, outputs=output)\n",
        "    model.compile(optimizer='Adadelta', loss=loss_tot, metrics=['acc'])\n",
        "    model.summary()"
      ],
      "execution_count": null,
      "outputs": [
        {
          "output_type": "stream",
          "name": "stdout",
          "text": [
            "Model: \"model_1\"\n",
            "__________________________________________________________________________________________________\n",
            " Layer (type)                   Output Shape         Param #     Connected to                     \n",
            "==================================================================================================\n",
            " input_2 (InputLayer)           [(None, 128, 128, 1  0           []                               \n",
            "                                )]                                                                \n",
            "                                                                                                  \n",
            " batch_normalization_2 (BatchNo  (None, 128, 128, 1)  4          ['input_2[0][0]']                \n",
            " rmalization)                                                                                     \n",
            "                                                                                                  \n",
            " conv2d_18 (Conv2D)             (None, 128, 128, 12  1280        ['batch_normalization_2[0][0]']  \n",
            "                                8)                                                                \n",
            "                                                                                                  \n",
            " conv2d_19 (Conv2D)             (None, 128, 128, 12  147584      ['conv2d_18[0][0]']              \n",
            "                                8)                                                                \n",
            "                                                                                                  \n",
            " dropout_7 (Dropout)            (None, 128, 128, 12  0           ['conv2d_19[0][0]']              \n",
            "                                8)                                                                \n",
            "                                                                                                  \n",
            " max_pooling2d_3 (MaxPooling2D)  (None, 127, 127, 12  0          ['dropout_7[0][0]']              \n",
            "                                8)                                                                \n",
            "                                                                                                  \n",
            " conv2d_20 (Conv2D)             (None, 64, 64, 64)   73792       ['max_pooling2d_3[0][0]']        \n",
            "                                                                                                  \n",
            " conv2d_21 (Conv2D)             (None, 64, 64, 64)   36928       ['conv2d_20[0][0]']              \n",
            "                                                                                                  \n",
            " dropout_8 (Dropout)            (None, 64, 64, 64)   0           ['conv2d_21[0][0]']              \n",
            "                                                                                                  \n",
            " max_pooling2d_4 (MaxPooling2D)  (None, 63, 63, 64)  0           ['dropout_8[0][0]']              \n",
            "                                                                                                  \n",
            " conv2d_22 (Conv2D)             (None, 32, 32, 32)   18464       ['max_pooling2d_4[0][0]']        \n",
            "                                                                                                  \n",
            " conv2d_23 (Conv2D)             (None, 32, 32, 32)   9248        ['conv2d_22[0][0]']              \n",
            "                                                                                                  \n",
            " dropout_9 (Dropout)            (None, 32, 32, 32)   0           ['conv2d_23[0][0]']              \n",
            "                                                                                                  \n",
            " max_pooling2d_5 (MaxPooling2D)  (None, 31, 31, 32)  0           ['dropout_9[0][0]']              \n",
            "                                                                                                  \n",
            " conv2d_24 (Conv2D)             (None, 16, 16, 16)   4624        ['max_pooling2d_5[0][0]']        \n",
            "                                                                                                  \n",
            " conv2d_25 (Conv2D)             (None, 16, 16, 16)   2320        ['conv2d_24[0][0]']              \n",
            "                                                                                                  \n",
            " dropout_10 (Dropout)           (None, 16, 16, 16)   0           ['conv2d_25[0][0]']              \n",
            "                                                                                                  \n",
            " up_sampling2d_3 (UpSampling2D)  (None, 32, 32, 16)  0           ['dropout_10[0][0]']             \n",
            "                                                                                                  \n",
            " conv2d_26 (Conv2D)             (None, 32, 32, 32)   4640        ['up_sampling2d_3[0][0]']        \n",
            "                                                                                                  \n",
            " concatenate_3 (Concatenate)    (None, 32, 32, 64)   0           ['dropout_9[0][0]',              \n",
            "                                                                  'conv2d_26[0][0]']              \n",
            "                                                                                                  \n",
            " conv2d_27 (Conv2D)             (None, 32, 32, 32)   18464       ['concatenate_3[0][0]']          \n",
            "                                                                                                  \n",
            " conv2d_28 (Conv2D)             (None, 32, 32, 32)   9248        ['conv2d_27[0][0]']              \n",
            "                                                                                                  \n",
            " dropout_11 (Dropout)           (None, 32, 32, 32)   0           ['conv2d_28[0][0]']              \n",
            "                                                                                                  \n",
            " up_sampling2d_4 (UpSampling2D)  (None, 64, 64, 32)  0           ['dropout_11[0][0]']             \n",
            "                                                                                                  \n",
            " conv2d_29 (Conv2D)             (None, 64, 64, 64)   18496       ['up_sampling2d_4[0][0]']        \n",
            "                                                                                                  \n",
            " concatenate_4 (Concatenate)    (None, 64, 64, 128)  0           ['dropout_8[0][0]',              \n",
            "                                                                  'conv2d_29[0][0]']              \n",
            "                                                                                                  \n",
            " conv2d_30 (Conv2D)             (None, 64, 64, 64)   73792       ['concatenate_4[0][0]']          \n",
            "                                                                                                  \n",
            " conv2d_31 (Conv2D)             (None, 64, 64, 64)   36928       ['conv2d_30[0][0]']              \n",
            "                                                                                                  \n",
            " dropout_12 (Dropout)           (None, 64, 64, 64)   0           ['conv2d_31[0][0]']              \n",
            "                                                                                                  \n",
            " up_sampling2d_5 (UpSampling2D)  (None, 128, 128, 64  0          ['dropout_12[0][0]']             \n",
            "                                )                                                                 \n",
            "                                                                                                  \n",
            " conv2d_32 (Conv2D)             (None, 128, 128, 12  73856       ['up_sampling2d_5[0][0]']        \n",
            "                                8)                                                                \n",
            "                                                                                                  \n",
            " concatenate_5 (Concatenate)    (None, 128, 128, 25  0           ['dropout_7[0][0]',              \n",
            "                                6)                                'conv2d_32[0][0]']              \n",
            "                                                                                                  \n",
            " conv2d_33 (Conv2D)             (None, 128, 128, 12  295040      ['concatenate_5[0][0]']          \n",
            "                                8)                                                                \n",
            "                                                                                                  \n",
            " conv2d_34 (Conv2D)             (None, 128, 128, 12  147584      ['conv2d_33[0][0]']              \n",
            "                                8)                                                                \n",
            "                                                                                                  \n",
            " dropout_13 (Dropout)           (None, 128, 128, 12  0           ['conv2d_34[0][0]']              \n",
            "                                8)                                                                \n",
            "                                                                                                  \n",
            " batch_normalization_3 (BatchNo  (None, 128, 128, 12  512        ['dropout_13[0][0]']             \n",
            " rmalization)                   8)                                                                \n",
            "                                                                                                  \n",
            " conv2d_35 (Conv2D)             (None, 128, 128, 4)  516         ['batch_normalization_3[0][0]']  \n",
            "                                                                                                  \n",
            "==================================================================================================\n",
            "Total params: 973,320\n",
            "Trainable params: 973,062\n",
            "Non-trainable params: 258\n",
            "__________________________________________________________________________________________________\n"
          ]
        }
      ]
    },
    {
      "cell_type": "markdown",
      "metadata": {
        "id": "b3coAq8jX_S1"
      },
      "source": [
        "# Training the model"
      ]
    },
    {
      "cell_type": "code",
      "metadata": {
        "id": "ZWV48tcMiF2-"
      },
      "source": [
        "#data augmentation \n",
        "\n",
        "# Create two instances (images and targets) with the same arguments\n",
        "data_gen_args = dict(zoom_range=0.01, horizontal_flip=True, vertical_flip = True, rotation_range = 10)\n",
        "image_datagen = ImageDataGenerator(**data_gen_args)\n",
        "mask_datagen = ImageDataGenerator(**data_gen_args)\n",
        "\n",
        "# Provide the same seed and keyword arguments to the fit and flow methods\n",
        "seed = 1\n",
        "\n",
        "#image should have rank 4\n",
        "image_datagen.fit(Xtr, augment=True, seed=seed)\n",
        "mask_datagen.fit(Ytr, augment=True, seed=seed)\n",
        "\n",
        "image_generator = image_datagen.flow(Xtr,seed=seed)\n",
        "\n",
        "mask_generator = mask_datagen.flow(Ytr,seed=seed)\n",
        "\n",
        "# combine generators into one which yields image and masks\n",
        "train_generator = zip(image_generator, mask_generator)"
      ],
      "execution_count": null,
      "outputs": []
    },
    {
      "cell_type": "markdown",
      "metadata": {
        "id": "QXYh9jFSvbnA"
      },
      "source": [
        "# Early stopping improvement"
      ]
    },
    {
      "cell_type": "code",
      "metadata": {
        "colab": {
          "base_uri": "https://localhost:8080/"
        },
        "id": "AOt4a5mHvQCz",
        "outputId": "f82359ba-6b59-48b8-c7dd-1d906f51b455"
      },
      "source": [
        "#Apply early stopping\n",
        "from keras.callbacks import EarlyStopping, ModelCheckpoint\n",
        "\n",
        "tbc=TensorBoardColab()#Tensorboard callback\n",
        "early_stopping = EarlyStopping(monitor='val_acc', min_delta=0, patience = 100, verbose=0)\n",
        "check_point = ModelCheckpoint('/content/drive/MyDrive/3차플젝drive/DD2424-Semantic-Segmentation-For-XRay-Images-master/best_model_cloud_1000.h5', monitor='val_acc', mode='max', verbose=1, save_best_only=True)"
      ],
      "execution_count": null,
      "outputs": [
        {
          "output_type": "stream",
          "name": "stdout",
          "text": [
            "Wait for 8 seconds...\n",
            "TensorBoard link:\n",
            "http://3a56-35-229-97-207.ngrok.io\n"
          ]
        }
      ]
    },
    {
      "cell_type": "markdown",
      "metadata": {
        "id": "XTZVnhB4wF51"
      },
      "source": [
        "# Training"
      ]
    },
    {
      "cell_type": "code",
      "metadata": {
        "id": "0DTsHCz845ia"
      },
      "source": [
        "class_weight= {0:1.217169570760731, 1:5.323420074349443}"
      ],
      "execution_count": null,
      "outputs": []
    },
    {
      "cell_type": "code",
      "metadata": {
        "colab": {
          "base_uri": "https://localhost:8080/",
          "height": 456
        },
        "id": "5mV6TyrmvQAh",
        "outputId": "77290054-e3a6-4816-a520-8e2c504b6f59"
      },
      "source": [
        "# Train the model, iterating on the data in batches\n",
        "\n",
        "path_new_model = \"/content/drive/MyDrive/3차플젝drive/DD2424-Semantic-Segmentation-For-XRay-Images-master/cloud1000epochs.h5\"\n",
        "\n",
        "\n",
        "history = model.fit_generator(train_generator, validation_data = (Xva, Yva), verbose = 1, steps_per_epoch=10, epochs=1000, callbacks=[early_stopping,check_point,TensorBoardColabCallback(tbc)], class_weight = class_weight) #steps_per_epoch = data_size/n_batch\n",
        "\n",
        "\n",
        "#Save final model\n",
        "model.save(path_new_model)"
      ],
      "execution_count": null,
      "outputs": [
        {
          "output_type": "stream",
          "name": "stderr",
          "text": [
            "/usr/local/lib/python3.7/dist-packages/ipykernel_launcher.py:6: UserWarning: `Model.fit_generator` is deprecated and will be removed in a future version. Please use `Model.fit`, which supports generators.\n",
            "  \n"
          ]
        },
        {
          "output_type": "error",
          "ename": "ValueError",
          "evalue": "ignored",
          "traceback": [
            "\u001b[0;31m---------------------------------------------------------------------------\u001b[0m",
            "\u001b[0;31mValueError\u001b[0m                                Traceback (most recent call last)",
            "\u001b[0;32m<ipython-input-84-1330ce66a9fd>\u001b[0m in \u001b[0;36m<module>\u001b[0;34m()\u001b[0m\n\u001b[1;32m      4\u001b[0m \u001b[0;34m\u001b[0m\u001b[0m\n\u001b[1;32m      5\u001b[0m \u001b[0;34m\u001b[0m\u001b[0m\n\u001b[0;32m----> 6\u001b[0;31m \u001b[0mhistory\u001b[0m \u001b[0;34m=\u001b[0m \u001b[0mmodel\u001b[0m\u001b[0;34m.\u001b[0m\u001b[0mfit_generator\u001b[0m\u001b[0;34m(\u001b[0m\u001b[0mtrain_generator\u001b[0m\u001b[0;34m,\u001b[0m \u001b[0mvalidation_data\u001b[0m \u001b[0;34m=\u001b[0m \u001b[0;34m(\u001b[0m\u001b[0mXva\u001b[0m\u001b[0;34m,\u001b[0m \u001b[0mYva\u001b[0m\u001b[0;34m)\u001b[0m\u001b[0;34m,\u001b[0m \u001b[0mverbose\u001b[0m \u001b[0;34m=\u001b[0m \u001b[0;36m1\u001b[0m\u001b[0;34m,\u001b[0m \u001b[0msteps_per_epoch\u001b[0m\u001b[0;34m=\u001b[0m\u001b[0;36m10\u001b[0m\u001b[0;34m,\u001b[0m \u001b[0mepochs\u001b[0m\u001b[0;34m=\u001b[0m\u001b[0;36m1000\u001b[0m\u001b[0;34m,\u001b[0m \u001b[0mcallbacks\u001b[0m\u001b[0;34m=\u001b[0m\u001b[0;34m[\u001b[0m\u001b[0mearly_stopping\u001b[0m\u001b[0;34m,\u001b[0m\u001b[0mcheck_point\u001b[0m\u001b[0;34m,\u001b[0m\u001b[0mTensorBoardColabCallback\u001b[0m\u001b[0;34m(\u001b[0m\u001b[0mtbc\u001b[0m\u001b[0;34m)\u001b[0m\u001b[0;34m]\u001b[0m\u001b[0;34m,\u001b[0m \u001b[0mclass_weight\u001b[0m \u001b[0;34m=\u001b[0m \u001b[0mclass_weight\u001b[0m\u001b[0;34m)\u001b[0m \u001b[0;31m#steps_per_epoch = data_size/n_batch\u001b[0m\u001b[0;34m\u001b[0m\u001b[0;34m\u001b[0m\u001b[0m\n\u001b[0m\u001b[1;32m      7\u001b[0m \u001b[0;34m\u001b[0m\u001b[0m\n\u001b[1;32m      8\u001b[0m \u001b[0;34m\u001b[0m\u001b[0m\n",
            "\u001b[0;32m/usr/local/lib/python3.7/dist-packages/keras/engine/training.py\u001b[0m in \u001b[0;36mfit_generator\u001b[0;34m(self, generator, steps_per_epoch, epochs, verbose, callbacks, validation_data, validation_steps, validation_freq, class_weight, max_queue_size, workers, use_multiprocessing, shuffle, initial_epoch)\u001b[0m\n\u001b[1;32m   2151\u001b[0m         \u001b[0muse_multiprocessing\u001b[0m\u001b[0;34m=\u001b[0m\u001b[0muse_multiprocessing\u001b[0m\u001b[0;34m,\u001b[0m\u001b[0;34m\u001b[0m\u001b[0;34m\u001b[0m\u001b[0m\n\u001b[1;32m   2152\u001b[0m         \u001b[0mshuffle\u001b[0m\u001b[0;34m=\u001b[0m\u001b[0mshuffle\u001b[0m\u001b[0;34m,\u001b[0m\u001b[0;34m\u001b[0m\u001b[0;34m\u001b[0m\u001b[0m\n\u001b[0;32m-> 2153\u001b[0;31m         initial_epoch=initial_epoch)\n\u001b[0m\u001b[1;32m   2154\u001b[0m \u001b[0;34m\u001b[0m\u001b[0m\n\u001b[1;32m   2155\u001b[0m   \u001b[0;34m@\u001b[0m\u001b[0mdoc_controls\u001b[0m\u001b[0;34m.\u001b[0m\u001b[0mdo_not_generate_docs\u001b[0m\u001b[0;34m\u001b[0m\u001b[0;34m\u001b[0m\u001b[0m\n",
            "\u001b[0;32m/usr/local/lib/python3.7/dist-packages/keras/utils/traceback_utils.py\u001b[0m in \u001b[0;36merror_handler\u001b[0;34m(*args, **kwargs)\u001b[0m\n\u001b[1;32m     65\u001b[0m     \u001b[0;32mexcept\u001b[0m \u001b[0mException\u001b[0m \u001b[0;32mas\u001b[0m \u001b[0me\u001b[0m\u001b[0;34m:\u001b[0m  \u001b[0;31m# pylint: disable=broad-except\u001b[0m\u001b[0;34m\u001b[0m\u001b[0;34m\u001b[0m\u001b[0m\n\u001b[1;32m     66\u001b[0m       \u001b[0mfiltered_tb\u001b[0m \u001b[0;34m=\u001b[0m \u001b[0m_process_traceback_frames\u001b[0m\u001b[0;34m(\u001b[0m\u001b[0me\u001b[0m\u001b[0;34m.\u001b[0m\u001b[0m__traceback__\u001b[0m\u001b[0;34m)\u001b[0m\u001b[0;34m\u001b[0m\u001b[0;34m\u001b[0m\u001b[0m\n\u001b[0;32m---> 67\u001b[0;31m       \u001b[0;32mraise\u001b[0m \u001b[0me\u001b[0m\u001b[0;34m.\u001b[0m\u001b[0mwith_traceback\u001b[0m\u001b[0;34m(\u001b[0m\u001b[0mfiltered_tb\u001b[0m\u001b[0;34m)\u001b[0m \u001b[0;32mfrom\u001b[0m \u001b[0;32mNone\u001b[0m\u001b[0;34m\u001b[0m\u001b[0;34m\u001b[0m\u001b[0m\n\u001b[0m\u001b[1;32m     68\u001b[0m     \u001b[0;32mfinally\u001b[0m\u001b[0;34m:\u001b[0m\u001b[0;34m\u001b[0m\u001b[0;34m\u001b[0m\u001b[0m\n\u001b[1;32m     69\u001b[0m       \u001b[0;32mdel\u001b[0m \u001b[0mfiltered_tb\u001b[0m\u001b[0;34m\u001b[0m\u001b[0;34m\u001b[0m\u001b[0m\n",
            "\u001b[0;32m/usr/local/lib/python3.7/dist-packages/keras/engine/data_adapter.py\u001b[0m in \u001b[0;36m_class_weights_map_fn\u001b[0;34m(*data)\u001b[0m\n\u001b[1;32m   1438\u001b[0m \u001b[0;34m\u001b[0m\u001b[0m\n\u001b[1;32m   1439\u001b[0m     \u001b[0;32mif\u001b[0m \u001b[0my\u001b[0m\u001b[0;34m.\u001b[0m\u001b[0mshape\u001b[0m\u001b[0;34m.\u001b[0m\u001b[0mrank\u001b[0m \u001b[0;34m>\u001b[0m \u001b[0;36m2\u001b[0m\u001b[0;34m:\u001b[0m\u001b[0;34m\u001b[0m\u001b[0;34m\u001b[0m\u001b[0m\n\u001b[0;32m-> 1440\u001b[0;31m       raise ValueError(\"`class_weight` not supported for \"\n\u001b[0m\u001b[1;32m   1441\u001b[0m                        \"3+ dimensional targets.\")\n\u001b[1;32m   1442\u001b[0m \u001b[0;34m\u001b[0m\u001b[0m\n",
            "\u001b[0;31mValueError\u001b[0m: `class_weight` not supported for 3+ dimensional targets."
          ]
        }
      ]
    },
    {
      "cell_type": "code",
      "metadata": {
        "colab": {
          "base_uri": "https://localhost:8080/"
        },
        "id": "kDh1raAdvP9h",
        "outputId": "97282c47-6058-4acc-926e-89be440937da"
      },
      "source": [
        "help(model.fit_generator)"
      ],
      "execution_count": null,
      "outputs": [
        {
          "output_type": "stream",
          "name": "stdout",
          "text": [
            "Help on method fit_generator in module keras.engine.training:\n",
            "\n",
            "fit_generator(generator, steps_per_epoch=None, epochs=1, verbose=1, callbacks=None, validation_data=None, validation_steps=None, validation_freq=1, class_weight=None, max_queue_size=10, workers=1, use_multiprocessing=False, shuffle=True, initial_epoch=0) method of keras.engine.functional.Functional instance\n",
            "    Fits the model on data yielded batch-by-batch by a Python generator.\n",
            "    \n",
            "    DEPRECATED:\n",
            "      `Model.fit` now supports generators, so there is no longer any need to use\n",
            "      this endpoint.\n",
            "\n"
          ]
        }
      ]
    },
    {
      "cell_type": "code",
      "metadata": {
        "id": "TO1mtXfcvPyE"
      },
      "source": [
        ""
      ],
      "execution_count": null,
      "outputs": []
    },
    {
      "cell_type": "code",
      "metadata": {
        "id": "egXesZLgvPqM"
      },
      "source": [
        ""
      ],
      "execution_count": null,
      "outputs": []
    },
    {
      "cell_type": "code",
      "metadata": {
        "id": "Xowbc6q5iGe0"
      },
      "source": [
        "# 안되는이유: 직접 segment한 png파일들 합친게 없음"
      ],
      "execution_count": null,
      "outputs": []
    },
    {
      "cell_type": "code",
      "metadata": {
        "id": "qDHkD35_iGcz"
      },
      "source": [
        "# https://github.com/ICRAR/PHYS5511/blob/3b7665b470719b5b1d6d14a48beebe19c6b7e38c/2019/week09/lung_segmentation_from_chest_x_ray_dataset.ipynb"
      ],
      "execution_count": null,
      "outputs": []
    },
    {
      "cell_type": "code",
      "metadata": {
        "id": "IwHt_1nCiGat"
      },
      "source": [
        ""
      ],
      "execution_count": null,
      "outputs": []
    },
    {
      "cell_type": "code",
      "metadata": {
        "id": "nu800BgIiGYK"
      },
      "source": [
        ""
      ],
      "execution_count": null,
      "outputs": []
    },
    {
      "cell_type": "code",
      "metadata": {
        "id": "pjwkb2ogiGV6"
      },
      "source": [
        ""
      ],
      "execution_count": null,
      "outputs": []
    },
    {
      "cell_type": "code",
      "metadata": {
        "id": "ZIK1WCp1iGTp"
      },
      "source": [
        ""
      ],
      "execution_count": null,
      "outputs": []
    }
  ]
}