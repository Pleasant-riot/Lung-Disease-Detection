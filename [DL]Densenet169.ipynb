{
 "cells": [
  {
   "cell_type": "code",
   "execution_count": 2,
   "metadata": {},
   "outputs": [],
   "source": [
    "import pandas as pd\n",
    "import numpy as np\n",
    "import tensorflow as tf"
   ]
  },
  {
   "cell_type": "code",
   "execution_count": 3,
   "metadata": {},
   "outputs": [],
   "source": [
    "import warnings\n",
    "warnings.filterwarnings('ignore')\n",
    "from tensorflow.python.keras.applications import DenseNet169\n"
   ]
  },
  {
   "cell_type": "code",
   "execution_count": 4,
   "metadata": {},
   "outputs": [
    {
     "name": "stdout",
     "output_type": "stream",
     "text": [
      "WARNING:tensorflow:From /opt/conda/lib/python3.6/site-packages/tensorflow/python/ops/resource_variable_ops.py:435: colocate_with (from tensorflow.python.framework.ops) is deprecated and will be removed in a future version.\n",
      "Instructions for updating:\n",
      "Colocations handled automatically by placer.\n"
     ]
    }
   ],
   "source": [
    "# model = ResNet50(include_top=True, weights=None, input_shape=(224, 224, 3), pooling=max, classes=7)\n",
    "from tensorflow.python.keras.layers import Dense, GlobalAveragePooling2D\n",
    "from tensorflow.python.keras.models import Model\n",
    "\n",
    "backbone = DenseNet169(include_top=False, weights=None, input_shape=(224, 224, 3))\n",
    "backbone_out = backbone.output\n",
    "gap = GlobalAveragePooling2D(name='pooling_layer')(backbone_out)\n",
    "output = Dense(units=7, activation='softmax', name='output_layer')(gap)\n",
    "chexnet_model = Model(inputs=backbone.input, outputs=output)"
   ]
  },
  {
   "cell_type": "code",
   "execution_count": 4,
   "metadata": {},
   "outputs": [],
   "source": [
    "# model.summary()"
   ]
  },
  {
   "cell_type": "code",
   "execution_count": 5,
   "metadata": {},
   "outputs": [],
   "source": [
    "import pandas as pd\n",
    "\n",
    "# data = pd.read_csv('./dataset.csv',index_col=0)\n",
    "data = pd.read_csv('/home/ncp/workspace/data/dataset_.csv',index_col=0)"
   ]
  },
  {
   "cell_type": "code",
   "execution_count": 6,
   "metadata": {},
   "outputs": [
    {
     "data": {
      "text/html": [
       "<div>\n",
       "<style scoped>\n",
       "    .dataframe tbody tr th:only-of-type {\n",
       "        vertical-align: middle;\n",
       "    }\n",
       "\n",
       "    .dataframe tbody tr th {\n",
       "        vertical-align: top;\n",
       "    }\n",
       "\n",
       "    .dataframe thead th {\n",
       "        text-align: right;\n",
       "    }\n",
       "</style>\n",
       "<table border=\"1\" class=\"dataframe\">\n",
       "  <thead>\n",
       "    <tr style=\"text-align: right;\">\n",
       "      <th></th>\n",
       "      <th>identifier</th>\n",
       "      <th>sex</th>\n",
       "      <th>age_group</th>\n",
       "      <th>age</th>\n",
       "      <th>height</th>\n",
       "      <th>weight</th>\n",
       "      <th>report</th>\n",
       "      <th>pneumonia_type</th>\n",
       "      <th>orginal_dcm_file</th>\n",
       "      <th>orginal_png_file</th>\n",
       "      <th>crop_file</th>\n",
       "      <th>body_part_file</th>\n",
       "      <th>diagnosis</th>\n",
       "    </tr>\n",
       "  </thead>\n",
       "  <tbody>\n",
       "    <tr>\n",
       "      <th>0</th>\n",
       "      <td>H05_00019_02</td>\n",
       "      <td>M</td>\n",
       "      <td>A1</td>\n",
       "      <td>0개월</td>\n",
       "      <td>NaN</td>\n",
       "      <td>0.9</td>\n",
       "      <td>NaN</td>\n",
       "      <td>NaN</td>\n",
       "      <td>/home/ncp/workspace/data/train/04.신생아호흡곤란증후군/A...</td>\n",
       "      <td>/home/ncp/workspace/data/train/04.신생아호흡곤란증후군/A...</td>\n",
       "      <td>/home/ncp/workspace/data/crop/d4/H05_00019_02.png</td>\n",
       "      <td>/home/ncp/workspace/data/train/04.신생아호흡곤란증후군/A...</td>\n",
       "      <td>4</td>\n",
       "    </tr>\n",
       "  </tbody>\n",
       "</table>\n",
       "</div>"
      ],
      "text/plain": [
       "     identifier sex age_group  age  height  weight report  pneumonia_type  \\\n",
       "0  H05_00019_02   M        A1  0개월     NaN     0.9    NaN             NaN   \n",
       "\n",
       "                                    orginal_dcm_file  \\\n",
       "0  /home/ncp/workspace/data/train/04.신생아호흡곤란증후군/A...   \n",
       "\n",
       "                                    orginal_png_file  \\\n",
       "0  /home/ncp/workspace/data/train/04.신생아호흡곤란증후군/A...   \n",
       "\n",
       "                                           crop_file  \\\n",
       "0  /home/ncp/workspace/data/crop/d4/H05_00019_02.png   \n",
       "\n",
       "                                      body_part_file  diagnosis  \n",
       "0  /home/ncp/workspace/data/train/04.신생아호흡곤란증후군/A...          4  "
      ]
     },
     "execution_count": 6,
     "metadata": {},
     "output_type": "execute_result"
    }
   ],
   "source": [
    "data.head(1)"
   ]
  },
  {
   "cell_type": "code",
   "execution_count": 6,
   "metadata": {},
   "outputs": [],
   "source": [
    "crop_list = list(data['crop_file'])"
   ]
  },
  {
   "cell_type": "code",
   "execution_count": 7,
   "metadata": {},
   "outputs": [],
   "source": [
    "import cv2\n",
    "import matplotlib.pyplot as plt\n",
    "\n",
    "# plt.imshow(cv2.imread(crop_list[0]))\n",
    "# print(cv2.imread(crop_list[0]).shape)"
   ]
  },
  {
   "cell_type": "code",
   "execution_count": 8,
   "metadata": {},
   "outputs": [],
   "source": [
    "import numpy as np\n",
    "import cv2\n",
    "\n",
    "def cvt_crop(og_img_path, size):\n",
    "    \n",
    "    og_img = cv2.imread(og_img_path)\n",
    "    \n",
    "    \n",
    "    # clahe\n",
    "    clahe = cv2.createCLAHE(5.0,(20,20))\n",
    "    \n",
    "    ## og_img_convert\n",
    "    cvt_img = cv2.resize(og_img, size)\n",
    "    cvt_img = cv2.cvtColor(cvt_img,cv2.COLOR_BGR2GRAY)\n",
    "    cvt_img = clahe.apply(cvt_img)  # 1 channel\n",
    "    cvt_img = np.repeat(cvt_img[:,:,np.newaxis],3,-1)\n",
    "    cvt_img = cvt_img\n",
    "\n",
    "    return cvt_img\n",
    "#     print(remove.shape)\n",
    "#     plt.imshow(remove)"
   ]
  },
  {
   "cell_type": "code",
   "execution_count": 72,
   "metadata": {},
   "outputs": [
    {
     "data": {
      "text/plain": [
       "<matplotlib.image.AxesImage at 0x7f1589bda198>"
      ]
     },
     "execution_count": 72,
     "metadata": {},
     "output_type": "execute_result"
    },
    {
     "data": {
      "image/png": "[encoded data removed]",
      "text/plain": [
       "<Figure size 432x288 with 1 Axes>"
      ]
     },
     "metadata": {},
     "output_type": "display_data"
    }
   ],
   "source": [
    "plt.imshow(cvt_crop(crop_list[0], (224,224)))"
   ]
  },
  {
   "cell_type": "code",
   "execution_count": 9,
   "metadata": {},
   "outputs": [],
   "source": [
    "def normal_dia(x):\n",
    "    if x == 9:\n",
    "        return 0\n",
    "    else:\n",
    "        return x\n",
    "    \n",
    "    \n",
    "data['diagnosis'] = data['diagnosis'].apply(normal_dia)"
   ]
  },
  {
   "cell_type": "code",
   "execution_count": 11,
   "metadata": {},
   "outputs": [
    {
     "data": {
      "text/plain": [
       "4000"
      ]
     },
     "execution_count": 11,
     "metadata": {},
     "output_type": "execute_result"
    }
   ],
   "source": [
    "len(data)"
   ]
  },
  {
   "cell_type": "code",
   "execution_count": 13,
   "metadata": {},
   "outputs": [],
   "source": [
    "dcm_list = list(data['orginal_dcm_file'])\n",
    "mask_path_list = list(data['body_part_file'])\n",
    "img_path_list = []\n",
    "\n",
    "for i in dcm_list:\n",
    "    png_img = i.replace('.dcm','.png')\n",
    "    img_path_list.append(png_img)"
   ]
  },
  {
   "cell_type": "code",
   "execution_count": null,
   "metadata": {},
   "outputs": [],
   "source": [
    "import numpy as np\n",
    "\n",
    "def rv_3ch(og_img_path, mask_path, size):\n",
    "    \n",
    "    #module import\n",
    "    import cv2\n",
    "    \n",
    "    # im_read\n",
    "    og_img = cv2.imread(og_img_path)\n",
    "    mask = cv2.imread(mask_path)\n",
    "    \n",
    "    # clahe\n",
    "    clahe = cv2.createCLAHE(5.0,(8,8))\n",
    "    \n",
    "    ## og_img_convert\n",
    "    cvt_img = cv2.resize(og_img, size)\n",
    "    cvt_img = cv2.cvtColor(cvt_img,cv2.COLOR_BGR2GRAY)\n",
    "    cvt_img = clahe.apply(cvt_img)  # 1 channel\n",
    "    cvt_img = np.repeat(cvt_img[:,:,np.newaxis],3,-1)\n",
    "\n",
    "    ## mask\n",
    "    cvt_mask = cv2.resize(mask, size)\n",
    "    cvt_mask = cv2.cvtColor(cvt_mask, cv2.COLOR_BGR2GRAY)\n",
    "\n",
    "    ## remove\n",
    "    remove = cv2.bitwise_and(cvt_img, cvt_img, mask = cvt_mask)\n",
    "    \n",
    "    return remove\n",
    "#     print(remove.shape)\n",
    "#     plt.imshow(remove)\n",
    "\n"
   ]
  },
  {
   "cell_type": "code",
   "execution_count": null,
   "metadata": {},
   "outputs": [],
   "source": [
    "X = np.ndarray((4000,224,224,3))\n",
    "\n",
    "for i in range(len(X)):\n",
    "    X[i][:][:][:] = rv_3ch(img_path_list[i], mask_path_list[i], (224,224))\n",
    "#       X[i][:][:][:] = cvt_crop(crop_list[i], (224,224))\n",
    "    \n",
    "y = np.array(data['diagnosis'])"
   ]
  },
  {
   "cell_type": "code",
   "execution_count": null,
   "metadata": {},
   "outputs": [],
   "source": [
    "from sklearn.model_selection import train_test_split\n",
    "\n",
    "Xtr, Xva, Ytr, Yva = train_test_split(X,y, test_size=0.2, random_state=42, stratify=y)\n",
    "Xva, Xtst, Yva, Ytst = train_test_split(Xva,Yva, test_size=0.5, random_state=42, stratify=Yva)"
   ]
  },
  {
   "cell_type": "code",
   "execution_count": null,
   "metadata": {},
   "outputs": [],
   "source": [
    "from tensorflow.python.keras.utils import to_categorical\n",
    "\n",
    "Ytr_c = to_categorical(Ytr)\n",
    "Yva_c = to_categorical(Yva)\n",
    "Ytst_c = to_categorical(Ytst)"
   ]
  },
  {
   "cell_type": "code",
   "execution_count": 1,
   "metadata": {},
   "outputs": [
    {
     "ename": "NameError",
     "evalue": "name 'Ytr' is not defined",
     "output_type": "error",
     "traceback": [
      "\u001b[0;31m---------------------------------------------------------------------------\u001b[0m",
      "\u001b[0;31mNameError\u001b[0m                                 Traceback (most recent call last)",
      "\u001b[0;32m<ipython-input-1-c9db87820608>\u001b[0m in \u001b[0;36m<module>\u001b[0;34m()\u001b[0m\n\u001b[0;32m----> 1\u001b[0;31m \u001b[0mprint\u001b[0m\u001b[0;34m(\u001b[0m\u001b[0mYtr\u001b[0m\u001b[0;34m.\u001b[0m\u001b[0mshape\u001b[0m\u001b[0;34m)\u001b[0m\u001b[0;34m\u001b[0m\u001b[0;34m\u001b[0m\u001b[0m\n\u001b[0m\u001b[1;32m      2\u001b[0m \u001b[0mprint\u001b[0m\u001b[0;34m(\u001b[0m\u001b[0mYva\u001b[0m\u001b[0;34m.\u001b[0m\u001b[0mshape\u001b[0m\u001b[0;34m)\u001b[0m\u001b[0;34m\u001b[0m\u001b[0;34m\u001b[0m\u001b[0m\n\u001b[1;32m      3\u001b[0m \u001b[0mprint\u001b[0m\u001b[0;34m(\u001b[0m\u001b[0mYtst\u001b[0m\u001b[0;34m.\u001b[0m\u001b[0mshape\u001b[0m\u001b[0;34m)\u001b[0m\u001b[0;34m\u001b[0m\u001b[0;34m\u001b[0m\u001b[0m\n",
      "\u001b[0;31mNameError\u001b[0m: name 'Ytr' is not defined"
     ]
    }
   ],
   "source": [
    "print(Ytr.shape)\n",
    "print(Yva.shape)\n",
    "print(Ytst.shape)"
   ]
  },
  {
   "cell_type": "code",
   "execution_count": 16,
   "metadata": {},
   "outputs": [
    {
     "data": {
      "text/plain": [
       "5    800\n",
       "0    800\n",
       "4    512\n",
       "6    387\n",
       "1    327\n",
       "3    275\n",
       "2     99\n",
       "dtype: int64"
      ]
     },
     "execution_count": 16,
     "metadata": {},
     "output_type": "execute_result"
    }
   ],
   "source": [
    "pd.Series(list(Ytr)).value_counts()"
   ]
  },
  {
   "cell_type": "code",
   "execution_count": 17,
   "metadata": {},
   "outputs": [],
   "source": [
    "from tensorflow.python.keras.preprocessing.image import ImageDataGenerator\n",
    "\n",
    "\n",
    "#data augmentation \n",
    "\n",
    "# Create two instances (images and targets) with the same arguments\n",
    "data_gen_args = dict(zoom_range=0.1, horizontal_flip=True, vertical_flip = True, rotation_range = 10)\n",
    "image_datagen = ImageDataGenerator(**data_gen_args)\n",
    "# mask_datagen = ImageDataGenerator(**data_gen_args)\n",
    "# ZeroDivisionError\n",
    "seed = 1\n",
    "\n",
    "train_generator = image_datagen.flow(x=Xtr, y=Ytr_c,\n",
    "                                    batch_size=32,\n",
    "                                    shuffle=True,\n",
    "                                    )\n",
    "\n",
    "validation_generator = image_datagen.flow(x=Xva, y=Yva_c,\n",
    "                                         batch_size=32,\n",
    "                                         shuffle=True)\n",
    "\n"
   ]
  },
  {
   "cell_type": "code",
   "execution_count": null,
   "metadata": {},
   "outputs": [],
   "source": [
    "from tensorflow.python.keras import backend as K\n",
    "def recall(y_target, y_pred):\n",
    "    # clip(t, clip_value_min, clip_value_max) : clip_value_min~clip_value_max 이외 가장자리를 깎아 낸다\n",
    "    # round : 반올림한다\n",
    "    y_target_yn = K.round(K.clip(y_target, 0, 1)) # 실제값을 0(Negative) 또는 1(Positive)로 설정한다\n",
    "    y_pred_yn = K.round(K.clip(y_pred, 0, 1)) # 예측값을 0(Negative) 또는 1(Positive)로 설정한다\n",
    "\n",
    "    # True Positive는 실제 값과 예측 값이 모두 1(Positive)인 경우이다\n",
    "    count_true_positive = K.sum(y_target_yn * y_pred_yn) \n",
    "\n",
    "    # (True Positive + False Negative) = 실제 값이 1(Positive) 전체\n",
    "    count_true_positive_false_negative = K.sum(y_target_yn)\n",
    "\n",
    "    # Recall =  (True Positive) / (True Positive + False Negative)\n",
    "    # K.epsilon()는 'divide by zero error' 예방차원에서 작은 수를 더한다\n",
    "    recall = count_true_positive / (count_true_positive_false_negative + K.epsilon())\n",
    "\n",
    "    # return a single tensor value\n",
    "    return recall\n",
    "\n",
    "\n",
    "def precision(y_target, y_pred):\n",
    "    # clip(t, clip_value_min, clip_value_max) : clip_value_min~clip_value_max 이외 가장자리를 깎아 낸다\n",
    "    # round : 반올림한다\n",
    "    y_pred_yn = K.round(K.clip(y_pred, 0, 1)) # 예측값을 0(Negative) 또는 1(Positive)로 설정한다\n",
    "    y_target_yn = K.round(K.clip(y_target, 0, 1)) # 실제값을 0(Negative) 또는 1(Positive)로 설정한다\n",
    "\n",
    "    # True Positive는 실제 값과 예측 값이 모두 1(Positive)인 경우이다\n",
    "    count_true_positive = K.sum(y_target_yn * y_pred_yn) \n",
    "\n",
    "    # (True Positive + False Positive) = 예측 값이 1(Positive) 전체\n",
    "    count_true_positive_false_positive = K.sum(y_pred_yn)\n",
    "\n",
    "    # Precision = (True Positive) / (True Positive + False Positive)\n",
    "    # K.epsilon()는 'divide by zero error' 예방차원에서 작은 수를 더한다\n",
    "    precision = count_true_positive / (count_true_positive_false_positive + K.epsilon())\n",
    "\n",
    "    # return a single tensor value\n",
    "    return precision\n",
    "\n",
    "def f1score(y_target, y_pred):\n",
    "    _recall = recall(y_target, y_pred)\n",
    "    _precision = precision(y_target, y_pred)\n",
    "    # K.epsilon()는 'divide by zero error' 예방차원에서 작은 수를 더한다\n",
    "    _f1score = ( 2 * _recall * _precision) / (_recall + _precision+ K.epsilon())\n",
    "    \n",
    "    # return a single tensor value\n",
    "    return _f1score\n",
    "\n",
    "# class_weight = {0:0.571428563,\n",
    "#                 1:1.397990367,\n",
    "#                 2:4.617604545,\n",
    "#                 3:1.662337636,\n",
    "#                 4:0.892857129,\n",
    "#                 5:0.571428563,\n",
    "#                 6:1.181247674}\n",
    "\n",
    " \n",
    "# class_weights = class_weight.compute_class_weight(\n",
    "#                 'balanced',\n",
    "#                  np.unique(train_generator.classes), \n",
    "#                  train_generator.classes)\n",
    "\n",
    "chexnet_model.compile(optimizer='adam', loss='categorical_crossentropy', metrics=['accuracy', precision, recall, f1score])"
   ]
  },
  {
   "cell_type": "code",
   "execution_count": null,
   "metadata": {},
   "outputs": [
    {
     "name": "stdout",
     "output_type": "stream",
     "text": [
      "WARNING:tensorflow:From /opt/conda/lib/python3.6/site-packages/tensorflow/python/ops/math_ops.py:3066: to_int32 (from tensorflow.python.ops.math_ops) is deprecated and will be removed in a future version.\n",
      "Instructions for updating:\n",
      "Use tf.cast instead.\n",
      "Epoch 1/30\n",
      "13/13 [==============================] - 10s 748ms/step - loss: 3.1417 - acc: 0.1300 - precision: 0.1628 - recall: 0.1010 - f1score: 0.1241\n",
      "100/100 [==============================] - 189s 2s/step - loss: 1.8594 - acc: 0.2438 - precision: 0.4213 - recall: 0.0756 - f1score: 0.1244 - val_loss: 3.1417 - val_acc: 0.1300 - val_precision: 0.1628 - val_recall: 0.1010 - val_f1score: 0.1241\n",
      "Epoch 2/30\n",
      "13/13 [==============================] - 5s 376ms/step - loss: 4.4650 - acc: 0.2475 - precision: 0.2515 - recall: 0.2500 - f1score: 0.2507\n",
      "100/100 [==============================] - 63s 634ms/step - loss: 1.6694 - acc: 0.2900 - precision: 0.4908 - recall: 0.1066 - f1score: 0.1703 - val_loss: 4.4650 - val_acc: 0.2475 - val_precision: 0.2515 - val_recall: 0.2500 - val_f1score: 0.2507\n",
      "Epoch 3/30\n",
      "13/13 [==============================] - 5s 378ms/step - loss: 6.5791 - acc: 0.2525 - precision: 0.2619 - recall: 0.2476 - f1score: 0.2543\n",
      "100/100 [==============================] - 64s 640ms/step - loss: 1.6222 - acc: 0.3288 - precision: 0.4924 - recall: 0.1200 - f1score: 0.1894 - val_loss: 6.5791 - val_acc: 0.2525 - val_precision: 0.2619 - val_recall: 0.2476 - val_f1score: 0.2543\n",
      "Epoch 4/30\n",
      "13/13 [==============================] - 5s 387ms/step - loss: 9.5506 - acc: 0.2500 - precision: 0.2524 - recall: 0.2524 - f1score: 0.2524\n",
      "100/100 [==============================] - 64s 641ms/step - loss: 1.5407 - acc: 0.3466 - precision: 0.5290 - recall: 0.1528 - f1score: 0.2329 - val_loss: 9.5506 - val_acc: 0.2500 - val_precision: 0.2524 - val_recall: 0.2524 - val_f1score: 0.2524\n",
      "Epoch 5/30\n",
      "13/13 [==============================] - 5s 369ms/step - loss: 7.8380 - acc: 0.1025 - precision: 0.0986 - recall: 0.0986 - f1score: 0.0986\n",
      "100/100 [==============================] - 63s 632ms/step - loss: 1.5076 - acc: 0.3466 - precision: 0.5557 - recall: 0.1581 - f1score: 0.2425 - val_loss: 7.8380 - val_acc: 0.1025 - val_precision: 0.0986 - val_recall: 0.0986 - val_f1score: 0.0986\n",
      "Epoch 6/30\n",
      "13/13 [==============================] - 5s 380ms/step - loss: 5.8161 - acc: 0.1125 - precision: 0.1099 - recall: 0.1082 - f1score: 0.1090\n",
      "100/100 [==============================] - 63s 634ms/step - loss: 1.4329 - acc: 0.3775 - precision: 0.5678 - recall: 0.1906 - f1score: 0.2818 - val_loss: 5.8161 - val_acc: 0.1125 - val_precision: 0.1099 - val_recall: 0.1082 - val_f1score: 0.1090\n",
      "Epoch 7/30\n",
      "13/13 [==============================] - 5s 375ms/step - loss: 14.5295 - acc: 0.1025 - precision: 0.0986 - recall: 0.0986 - f1score: 0.0986\n",
      "100/100 [==============================] - 63s 634ms/step - loss: 1.4565 - acc: 0.3766 - precision: 0.5601 - recall: 0.1887 - f1score: 0.2781 - val_loss: 14.5295 - val_acc: 0.1025 - val_precision: 0.0986 - val_recall: 0.0986 - val_f1score: 0.0986\n",
      "Epoch 8/30\n",
      "13/13 [==============================] - 5s 380ms/step - loss: 2.8292 - acc: 0.2525 - precision: 0.2660 - recall: 0.2019 - f1score: 0.2291\n",
      "100/100 [==============================] - 63s 635ms/step - loss: 1.4435 - acc: 0.3678 - precision: 0.5749 - recall: 0.1847 - f1score: 0.2743 - val_loss: 2.8292 - val_acc: 0.2525 - val_precision: 0.2660 - val_recall: 0.2019 - val_f1score: 0.2291\n",
      "Epoch 9/30\n",
      "13/13 [==============================] - 5s 387ms/step - loss: 2.0769 - acc: 0.2875 - precision: 0.2982 - recall: 0.1562 - f1score: 0.2031\n",
      "100/100 [==============================] - 63s 633ms/step - loss: 1.4029 - acc: 0.3850 - precision: 0.5454 - recall: 0.1944 - f1score: 0.2838 - val_loss: 2.0769 - val_acc: 0.2875 - val_precision: 0.2982 - val_recall: 0.1562 - val_f1score: 0.2031\n",
      "Epoch 10/30\n",
      " 28/100 [=======>......................] - ETA: 42s - loss: 1.3774 - acc: 0.4062 - precision: 0.6052 - recall: 0.2232 - f1score: 0.3228"
     ]
    }
   ],
   "source": [
    "history = chexnet_model.fit_generator(train_generator, epochs=30 ,validation_data=validation_generator, class_weight=class_weight)"
   ]
  },
  {
   "cell_type": "code",
   "execution_count": null,
   "metadata": {},
   "outputs": [],
   "source": []
  },
  {
   "cell_type": "code",
   "execution_count": 26,
   "metadata": {},
   "outputs": [],
   "source": [
    "# history = model.fit(image_generator,Ytr_c, validation_data=[Xva, Yva_c], batch_size=8, epochs=20,verbose=1)"
   ]
  },
  {
   "cell_type": "code",
   "execution_count": 25,
   "metadata": {},
   "outputs": [
    {
     "data": {
      "image/png": "[encoded data removed]",
      "text/plain": [
       "<Figure size 432x288 with 1 Axes>"
      ]
     },
     "metadata": {},
     "output_type": "display_data"
    },
    {
     "data": {
      "image/png": "[encoded data removed]",
      "text/plain": [
       "<Figure size 432x288 with 1 Axes>"
      ]
     },
     "metadata": {},
     "output_type": "display_data"
    }
   ],
   "source": [
    "import matplotlib.pyplot as plt\n",
    "loss = history.history['loss']\n",
    "val_loss = history.history['val_loss']\n",
    "plt.clf()\n",
    "\n",
    "epochs = range(1, len(loss)+1)\n",
    "\n",
    "plt.plot(epochs, loss, 'bo', label = 'Training loss')\n",
    "plt.plot(epochs, val_loss, 'b', label = 'validation loss')\n",
    "plt.title('training and validation loss')\n",
    "plt.xlabel('Epochs')\n",
    "plt.ylabel('loss')\n",
    "plt.legend()\n",
    "plt.show()\n",
    "\n",
    "plt.clf()\n",
    "acc= history.history['acc']\n",
    "val_acc = history.history['val_acc']\n",
    "plt.plot(epochs, acc, 'bo', label='Training acc')\n",
    "plt.plot(epochs, val_acc, 'b', label = 'validation acc')\n",
    "plt.title('training and validation Accuracy')\n",
    "plt.xlabel('Epochs')\n",
    "plt.ylabel('loss')\n",
    "plt.legend()\n",
    "plt.show()"
   ]
  },
  {
   "cell_type": "code",
   "execution_count": null,
   "metadata": {},
   "outputs": [],
   "source": []
  }
 ],
 "metadata": {
  "kernelspec": {
   "display_name": "Python 3",
   "language": "python",
   "name": "python3"
  },
  "language_info": {
   "codemirror_mode": {
    "name": "ipython",
    "version": 3
   },
   "file_extension": ".py",
   "mimetype": "text/x-python",
   "name": "python",
   "nbconvert_exporter": "python",
   "pygments_lexer": "ipython3",
   "version": "3.6.13"
  }
 },
 "nbformat": 4,
 "nbformat_minor": 2
}
