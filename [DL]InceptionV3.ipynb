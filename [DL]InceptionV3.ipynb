{
 "cells": [
  {
   "cell_type": "code",
   "execution_count": 1,
   "metadata": {},
   "outputs": [],
   "source": [
    "import pandas as pd\n",
    "import numpy as np\n",
    "import tensorflow as tf"
   ]
  },
  {
   "cell_type": "code",
   "execution_count": 2,
   "metadata": {},
   "outputs": [
    {
     "name": "stderr",
     "output_type": "stream",
     "text": [
      "/opt/conda/lib/python3.6/site-packages/tensorflow/python/framework/dtypes.py:526: FutureWarning: Passing (type, 1) or '1type' as a synonym of type is deprecated; in a future version of numpy, it will be understood as (type, (1,)) / '(1,)type'.\n",
      "  _np_qint8 = np.dtype([(\"qint8\", np.int8, 1)])\n",
      "/opt/conda/lib/python3.6/site-packages/tensorflow/python/framework/dtypes.py:527: FutureWarning: Passing (type, 1) or '1type' as a synonym of type is deprecated; in a future version of numpy, it will be understood as (type, (1,)) / '(1,)type'.\n",
      "  _np_quint8 = np.dtype([(\"quint8\", np.uint8, 1)])\n",
      "/opt/conda/lib/python3.6/site-packages/tensorflow/python/framework/dtypes.py:528: FutureWarning: Passing (type, 1) or '1type' as a synonym of type is deprecated; in a future version of numpy, it will be understood as (type, (1,)) / '(1,)type'.\n",
      "  _np_qint16 = np.dtype([(\"qint16\", np.int16, 1)])\n",
      "/opt/conda/lib/python3.6/site-packages/tensorflow/python/framework/dtypes.py:529: FutureWarning: Passing (type, 1) or '1type' as a synonym of type is deprecated; in a future version of numpy, it will be understood as (type, (1,)) / '(1,)type'.\n",
      "  _np_quint16 = np.dtype([(\"quint16\", np.uint16, 1)])\n",
      "/opt/conda/lib/python3.6/site-packages/tensorflow/python/framework/dtypes.py:530: FutureWarning: Passing (type, 1) or '1type' as a synonym of type is deprecated; in a future version of numpy, it will be understood as (type, (1,)) / '(1,)type'.\n",
      "  _np_qint32 = np.dtype([(\"qint32\", np.int32, 1)])\n",
      "/opt/conda/lib/python3.6/site-packages/tensorflow/python/framework/dtypes.py:535: FutureWarning: Passing (type, 1) or '1type' as a synonym of type is deprecated; in a future version of numpy, it will be understood as (type, (1,)) / '(1,)type'.\n",
      "  np_resource = np.dtype([(\"resource\", np.ubyte, 1)])\n"
     ]
    }
   ],
   "source": [
    "from tensorflow.python.keras.applications import InceptionV3\n",
    "import warnings\n",
    "warnings.filterwarnings('ignore')"
   ]
  },
  {
   "cell_type": "code",
   "execution_count": 3,
   "metadata": {},
   "outputs": [
    {
     "name": "stdout",
     "output_type": "stream",
     "text": [
      "WARNING:tensorflow:From /opt/conda/lib/python3.6/site-packages/tensorflow/python/ops/resource_variable_ops.py:435: colocate_with (from tensorflow.python.framework.ops) is deprecated and will be removed in a future version.\n",
      "Instructions for updating:\n",
      "Colocations handled automatically by placer.\n"
     ]
    }
   ],
   "source": [
    "# model = ResNet50(include_top=True, weights=None, input_shape=(224, 224, 3), pooling=max, classes=7)\n",
    "\n",
    "# model = InceptionV3(weights = 'imagenet', include_top=False)\n",
    "model = InceptionV3(include_top=True, weights=None, input_shape=(224, 224, 3), pooling=max, classes=7)"
   ]
  },
  {
   "cell_type": "code",
   "execution_count": null,
   "metadata": {},
   "outputs": [],
   "source": [
    "model.summary()"
   ]
  },
  {
   "cell_type": "code",
   "execution_count": 5,
   "metadata": {},
   "outputs": [],
   "source": [
    "import pandas as pd\n",
    "\n",
    "# data = pd.read_csv('./dataset.csv',index_col=0)\n",
    "data = pd.read_csv('/home/ncp/workspace/data/dataset_.csv',index_col=0)"
   ]
  },
  {
   "cell_type": "code",
   "execution_count": 6,
   "metadata": {},
   "outputs": [
    {
     "data": {
      "text/html": [
       "<div>\n",
       "<style scoped>\n",
       "    .dataframe tbody tr th:only-of-type {\n",
       "        vertical-align: middle;\n",
       "    }\n",
       "\n",
       "    .dataframe tbody tr th {\n",
       "        vertical-align: top;\n",
       "    }\n",
       "\n",
       "    .dataframe thead th {\n",
       "        text-align: right;\n",
       "    }\n",
       "</style>\n",
       "<table border=\"1\" class=\"dataframe\">\n",
       "  <thead>\n",
       "    <tr style=\"text-align: right;\">\n",
       "      <th></th>\n",
       "      <th>identifier</th>\n",
       "      <th>sex</th>\n",
       "      <th>age_group</th>\n",
       "      <th>age</th>\n",
       "      <th>height</th>\n",
       "      <th>weight</th>\n",
       "      <th>report</th>\n",
       "      <th>pneumonia_type</th>\n",
       "      <th>orginal_dcm_file</th>\n",
       "      <th>orginal_png_file</th>\n",
       "      <th>crop_file</th>\n",
       "      <th>body_part_file</th>\n",
       "      <th>diagnosis</th>\n",
       "    </tr>\n",
       "  </thead>\n",
       "  <tbody>\n",
       "    <tr>\n",
       "      <th>0</th>\n",
       "      <td>H05_00019_02</td>\n",
       "      <td>M</td>\n",
       "      <td>A1</td>\n",
       "      <td>0개월</td>\n",
       "      <td>NaN</td>\n",
       "      <td>0.9</td>\n",
       "      <td>NaN</td>\n",
       "      <td>NaN</td>\n",
       "      <td>/home/ncp/workspace/data/train/04.신생아호흡곤란증후군/A...</td>\n",
       "      <td>/home/ncp/workspace/data/train/04.신생아호흡곤란증후군/A...</td>\n",
       "      <td>/home/ncp/workspace/data/crop/d4/H05_00019_02.png</td>\n",
       "      <td>/home/ncp/workspace/data/train/04.신생아호흡곤란증후군/A...</td>\n",
       "      <td>4</td>\n",
       "    </tr>\n",
       "  </tbody>\n",
       "</table>\n",
       "</div>"
      ],
      "text/plain": [
       "     identifier sex age_group  age  height  weight report  pneumonia_type  \\\n",
       "0  H05_00019_02   M        A1  0개월     NaN     0.9    NaN             NaN   \n",
       "\n",
       "                                    orginal_dcm_file  \\\n",
       "0  /home/ncp/workspace/data/train/04.신생아호흡곤란증후군/A...   \n",
       "\n",
       "                                    orginal_png_file  \\\n",
       "0  /home/ncp/workspace/data/train/04.신생아호흡곤란증후군/A...   \n",
       "\n",
       "                                           crop_file  \\\n",
       "0  /home/ncp/workspace/data/crop/d4/H05_00019_02.png   \n",
       "\n",
       "                                      body_part_file  diagnosis  \n",
       "0  /home/ncp/workspace/data/train/04.신생아호흡곤란증후군/A...          4  "
      ]
     },
     "execution_count": 6,
     "metadata": {},
     "output_type": "execute_result"
    }
   ],
   "source": [
    "data.head(1)"
   ]
  },
  {
   "cell_type": "code",
   "execution_count": 7,
   "metadata": {},
   "outputs": [],
   "source": [
    "crop_list = list(data['crop_file'])"
   ]
  },
  {
   "cell_type": "code",
   "execution_count": 8,
   "metadata": {},
   "outputs": [],
   "source": [
    "import cv2\n",
    "import matplotlib.pyplot as plt\n",
    "\n",
    "# plt.imshow(cv2.imread(crop_list[0]))\n",
    "# print(cv2.imread(crop_list[0]).shape)"
   ]
  },
  {
   "cell_type": "code",
   "execution_count": 9,
   "metadata": {},
   "outputs": [],
   "source": [
    "import numpy as np\n",
    "import cv2\n",
    "\n",
    "def cvt_crop(og_img_path, size):\n",
    "    \n",
    "    og_img = cv2.imread(og_img_path)\n",
    "    \n",
    "    \n",
    "    # clahe\n",
    "    clahe = cv2.createCLAHE(5.0,(8,8))\n",
    "    \n",
    "    ## og_img_convert\n",
    "    cvt_img = cv2.resize(og_img, size)\n",
    "    cvt_img = cv2.cvtColor(cvt_img,cv2.COLOR_BGR2GRAY)\n",
    "    cvt_img = clahe.apply(cvt_img)  # 1 channel\n",
    "    cvt_img = np.repeat(cvt_img[:,:,np.newaxis],3,-1)\n",
    "\n",
    "    return cvt_img\n",
    "#     print(remove.shape)\n",
    "#     plt.imshow(remove)"
   ]
  },
  {
   "cell_type": "code",
   "execution_count": 10,
   "metadata": {},
   "outputs": [
    {
     "data": {
      "text/plain": [
       "<matplotlib.image.AxesImage at 0x7f0a65fbb518>"
      ]
     },
     "execution_count": 10,
     "metadata": {},
     "output_type": "execute_result"
    },
    {
     "data": {
      "image/png": "[encoded data removed]",
      "text/plain": [
       "<Figure size 432x288 with 1 Axes>"
      ]
     },
     "metadata": {},
     "output_type": "display_data"
    }
   ],
   "source": [
    "plt.imshow(cvt_crop(crop_list[0], (224,224)))"
   ]
  },
  {
   "cell_type": "code",
   "execution_count": 11,
   "metadata": {},
   "outputs": [],
   "source": [
    "def normal_dia(x):\n",
    "    if x == 9:\n",
    "        return 0\n",
    "    else:\n",
    "        return x\n",
    "    \n",
    "    \n",
    "data['diagnosis'] = data['diagnosis'].apply(normal_dia)"
   ]
  },
  {
   "cell_type": "code",
   "execution_count": 12,
   "metadata": {},
   "outputs": [
    {
     "data": {
      "text/plain": [
       "4000"
      ]
     },
     "execution_count": 12,
     "metadata": {},
     "output_type": "execute_result"
    }
   ],
   "source": [
    "len(data)"
   ]
  },
  {
   "cell_type": "code",
   "execution_count": 11,
   "metadata": {},
   "outputs": [],
   "source": [
    "dcm_list = list(data['orginal_dcm_file'])\n",
    "mask_path_list = list(data['body_part_file'])\n",
    "img_path_list = []\n",
    "\n",
    "for i in dcm_list:\n",
    "    png_img = i.replace('.dcm','.png')\n",
    "    img_path_list.append(png_img)"
   ]
  },
  {
   "cell_type": "code",
   "execution_count": 12,
   "metadata": {},
   "outputs": [],
   "source": [
    "import numpy as np\n",
    "\n",
    "def rv_3ch(og_img_path, mask_path, size):\n",
    "    \n",
    "    #module import\n",
    "    import cv2\n",
    "    \n",
    "    # im_read\n",
    "    og_img = cv2.imread(og_img_path)\n",
    "    mask = cv2.imread(mask_path)\n",
    "    \n",
    "    # clahe\n",
    "    clahe = cv2.createCLAHE(5.0,(8,8))\n",
    "    \n",
    "    ## og_img_convert\n",
    "    cvt_img = cv2.resize(og_img, size)\n",
    "    cvt_img = cv2.cvtColor(cvt_img,cv2.COLOR_BGR2GRAY)\n",
    "    cvt_img = clahe.apply(cvt_img)  # 1 channel\n",
    "    cvt_img = np.repeat(cvt_img[:,:,np.newaxis],3,-1)\n",
    "\n",
    "    ## mask\n",
    "    cvt_mask = cv2.resize(mask, size)\n",
    "    cvt_mask = cv2.cvtColor(cvt_mask, cv2.COLOR_BGR2GRAY)\n",
    "\n",
    "    ## remove\n",
    "    remove = cv2.bitwise_and(cvt_img, cvt_img, mask = cvt_mask)\n",
    "    \n",
    "    return remove\n",
    "#     print(remove.shape)\n",
    "#     plt.imshow(remove)"
   ]
  },
  {
   "cell_type": "code",
   "execution_count": 13,
   "metadata": {},
   "outputs": [],
   "source": [
    "X = np.ndarray((4000,224,224,3))\n",
    "\n",
    "for i in range(len(X)):\n",
    "#     X[i][:][:][:] = rv_3ch(img_path_list[i], mask_path_list[i], (224,224))\n",
    "      X[i][:][:][:] = cvt_crop(crop_list[i], (224,224)).astype(np.uint8)\n",
    "    \n",
    "y = np.array(data['diagnosis'])"
   ]
  },
  {
   "cell_type": "code",
   "execution_count": 14,
   "metadata": {},
   "outputs": [],
   "source": [
    "from sklearn.model_selection import train_test_split\n",
    "\n",
    "Xtr, Xva, Ytr, Yva = train_test_split(X,y, test_size=0.2, random_state=42, stratify=y)\n",
    "Xva, Xtst, Yva, Ytst = train_test_split(Xva,Yva, test_size=0.5, random_state=42, stratify=Yva)"
   ]
  },
  {
   "cell_type": "code",
   "execution_count": 15,
   "metadata": {},
   "outputs": [],
   "source": [
    "from tensorflow.python.keras.utils import to_categorical\n",
    "\n",
    "Ytr_c = to_categorical(Ytr)\n",
    "Yva_c = to_categorical(Yva)\n",
    "Ytst_c = to_categorical(Ytst)"
   ]
  },
  {
   "cell_type": "code",
   "execution_count": 16,
   "metadata": {},
   "outputs": [
    {
     "name": "stdout",
     "output_type": "stream",
     "text": [
      "(3200,)\n",
      "(400,)\n",
      "(400,)\n"
     ]
    }
   ],
   "source": [
    "print(Ytr.shape)\n",
    "print(Yva.shape)\n",
    "print(Ytst.shape)"
   ]
  },
  {
   "cell_type": "code",
   "execution_count": 41,
   "metadata": {},
   "outputs": [
    {
     "data": {
      "text/plain": [
       "array([[0., 0., 0., ..., 0., 0., 1.],\n",
       "       [0., 0., 0., ..., 1., 0., 0.],\n",
       "       [0., 0., 0., ..., 1., 0., 0.],\n",
       "       ...,\n",
       "       [0., 0., 0., ..., 1., 0., 0.],\n",
       "       [0., 0., 0., ..., 1., 0., 0.],\n",
       "       [0., 0., 0., ..., 0., 0., 1.]], dtype=float32)"
      ]
     },
     "execution_count": 41,
     "metadata": {},
     "output_type": "execute_result"
    }
   ],
   "source": [
    "Ytr_c"
   ]
  },
  {
   "cell_type": "code",
   "execution_count": 17,
   "metadata": {},
   "outputs": [],
   "source": [
    "model.compile(optimizer='adam',loss='categorical_crossentropy', metrics=['acc'])"
   ]
  },
  {
   "cell_type": "code",
   "execution_count": 18,
   "metadata": {},
   "outputs": [
    {
     "data": {
      "text/plain": [
       "(224, 224, 3)"
      ]
     },
     "execution_count": 18,
     "metadata": {},
     "output_type": "execute_result"
    }
   ],
   "source": [
    "X[1].shape"
   ]
  },
  {
   "cell_type": "code",
   "execution_count": 19,
   "metadata": {},
   "outputs": [],
   "source": [
    "from tensorflow.python.keras.preprocessing.image import ImageDataGenerator\n",
    "\n",
    "\n",
    "#data augmentation \n",
    "\n",
    "# Create two instances (images and targets) with the same arguments\n",
    "data_gen_args = dict(zoom_range=0.2, horizontal_flip=True, vertical_flip = True, rotation_range = 10)\n",
    "image_datagen = ImageDataGenerator(**data_gen_args)\n",
    "# mask_datagen = ImageDataGenerator(**data_gen_args)\n",
    "ZeroDivisionError\n",
    "seed = 1\n",
    "\n",
    "train_generator = image_datagen.flow(x=Xtr, y=Ytr_c,\n",
    "                                    batch_size=32,\n",
    "                                    shuffle=True,\n",
    "                                    )\n",
    "\n",
    "validation_generator = image_datagen.flow(x=Xva,y=Yva_c,\n",
    "                                         batch_size=32,\n",
    "                                         shuffle=True)\n",
    "#image should have rank 4\n",
    "# image_datagen.fit(Xtr, augment=True, seed=seed)\n",
    "# mask_datagen.fit(Ytr, augment=True, seed=seed)\n",
    "\n",
    "# image_generator = image_datagen.flow(Xtr,seed=seed)\n",
    "\n",
    "# mask_generator = mask_datagen.flow(Ytr,seed=seed)\n",
    "\n",
    "# combine generators into one which yields image and masks\n",
    "# train_generator = zip(image_generator, mask_generator)\n"
   ]
  },
  {
   "cell_type": "code",
   "execution_count": null,
   "metadata": {},
   "outputs": [
    {
     "name": "stdout",
     "output_type": "stream",
     "text": [
      "WARNING:tensorflow:From /opt/conda/lib/python3.6/site-packages/tensorflow/python/ops/math_ops.py:3066: to_int32 (from tensorflow.python.ops.math_ops) is deprecated and will be removed in a future version.\n",
      "Instructions for updating:\n",
      "Use tf.cast instead.\n",
      "Epoch 1/20\n",
      "13/13 [==============================] - 5s 403ms/step - loss: 1.8747 - acc: 0.2650\n",
      "100/100 [==============================] - 76s 756ms/step - loss: 1.8400 - acc: 0.3066 - val_loss: 1.8747 - val_acc: 0.2650\n",
      "Epoch 2/20\n",
      "13/13 [==============================] - 5s 358ms/step - loss: 4.1142 - acc: 0.2900\n",
      "100/100 [==============================] - 36s 361ms/step - loss: 1.6335 - acc: 0.3278 - val_loss: 4.1142 - val_acc: 0.2900\n",
      "Epoch 3/20\n",
      "13/13 [==============================] - 5s 370ms/step - loss: 3.9612 - acc: 0.2325\n",
      "100/100 [==============================] - 37s 368ms/step - loss: 1.5569 - acc: 0.3591 - val_loss: 3.9612 - val_acc: 0.2325\n",
      "Epoch 4/20\n",
      "13/13 [==============================] - 5s 361ms/step - loss: 5.3507 - acc: 0.2300\n",
      "100/100 [==============================] - 36s 359ms/step - loss: 1.5283 - acc: 0.3597 - val_loss: 5.3507 - val_acc: 0.2300\n",
      "Epoch 5/20\n",
      "13/13 [==============================] - 5s 361ms/step - loss: 1.5058 - acc: 0.3825\n",
      "100/100 [==============================] - 36s 365ms/step - loss: 1.5145 - acc: 0.3794 - val_loss: 1.5058 - val_acc: 0.3825\n",
      "Epoch 6/20\n",
      "13/13 [==============================] - 5s 360ms/step - loss: 1.7910 - acc: 0.2950\n",
      "100/100 [==============================] - 37s 371ms/step - loss: 1.4610 - acc: 0.3931 - val_loss: 1.7910 - val_acc: 0.2950\n",
      "Epoch 7/20\n",
      "13/13 [==============================] - 5s 360ms/step - loss: 2.1250 - acc: 0.3225\n",
      "100/100 [==============================] - 37s 372ms/step - loss: 1.4222 - acc: 0.4253 - val_loss: 2.1250 - val_acc: 0.3225\n",
      "Epoch 8/20\n",
      "13/13 [==============================] - 5s 378ms/step - loss: 1.7480 - acc: 0.2550\n",
      "100/100 [==============================] - 38s 376ms/step - loss: 1.4097 - acc: 0.4247 - val_loss: 1.7480 - val_acc: 0.2550\n",
      "Epoch 9/20\n",
      "13/13 [==============================] - 5s 366ms/step - loss: 1.6661 - acc: 0.3625\n",
      "100/100 [==============================] - 39s 387ms/step - loss: 1.3995 - acc: 0.4384 - val_loss: 1.6661 - val_acc: 0.3625\n",
      "Epoch 10/20\n",
      "13/13 [==============================] - 5s 413ms/step - loss: 1.7841 - acc: 0.2950\n",
      "100/100 [==============================] - 39s 387ms/step - loss: 1.3921 - acc: 0.4391 - val_loss: 1.7841 - val_acc: 0.2950\n",
      "Epoch 11/20\n",
      "13/13 [==============================] - 5s 406ms/step - loss: 3.7937 - acc: 0.2350\n",
      "100/100 [==============================] - 39s 390ms/step - loss: 1.3651 - acc: 0.4353 - val_loss: 3.7937 - val_acc: 0.2350\n",
      "Epoch 12/20\n",
      "13/13 [==============================] - 11s 876ms/step - loss: 1.7506 - acc: 0.2975\n",
      "100/100 [==============================] - 45s 455ms/step - loss: 1.3343 - acc: 0.4603 - val_loss: 1.7506 - val_acc: 0.2975\n",
      "Epoch 13/20\n",
      "13/13 [==============================] - 9s 730ms/step - loss: 2.7831 - acc: 0.3450\n",
      "100/100 [==============================] - 45s 446ms/step - loss: 1.3410 - acc: 0.4572 - val_loss: 2.7831 - val_acc: 0.3450\n",
      "Epoch 14/20\n",
      "13/13 [==============================] - 5s 368ms/step - loss: 2.0197 - acc: 0.3600\n",
      "100/100 [==============================] - 39s 392ms/step - loss: 1.3091 - acc: 0.4831 - val_loss: 2.0197 - val_acc: 0.3600\n",
      "Epoch 15/20\n",
      "13/13 [==============================] - 5s 362ms/step - loss: 1.9501 - acc: 0.3100\n",
      "100/100 [==============================] - 38s 382ms/step - loss: 1.3133 - acc: 0.4731 - val_loss: 1.9501 - val_acc: 0.3100\n",
      "Epoch 16/20\n",
      "13/13 [==============================] - 5s 366ms/step - loss: 1.4515 - acc: 0.4425\n",
      "100/100 [==============================] - 39s 388ms/step - loss: 1.2996 - acc: 0.4922 - val_loss: 1.4515 - val_acc: 0.4425\n",
      "Epoch 17/20\n",
      "13/13 [==============================] - 5s 397ms/step - loss: 1.5171 - acc: 0.4375\n",
      "100/100 [==============================] - 39s 391ms/step - loss: 1.2734 - acc: 0.4966 - val_loss: 1.5171 - val_acc: 0.4375\n",
      "Epoch 18/20\n",
      "13/13 [==============================] - 5s 389ms/step - loss: 1.6622 - acc: 0.4100\n",
      "100/100 [==============================] - 39s 392ms/step - loss: 1.2570 - acc: 0.4966 - val_loss: 1.6622 - val_acc: 0.4100\n",
      "Epoch 19/20\n",
      " 9/13 [===================>..........] - ETA: 2s - loss: 6.8349 - acc: 0.2500"
     ]
    }
   ],
   "source": [
    "history = model.fit_generator(train_generator, epochs=20, validation_data=validation_generator)"
   ]
  },
  {
   "cell_type": "code",
   "execution_count": 26,
   "metadata": {},
   "outputs": [],
   "source": [
    "# history = model.fit(image_generator,Ytr_c, validation_data=[Xva, Yva_c], batch_size=8, epochs=20,verbose=1)"
   ]
  },
  {
   "cell_type": "code",
   "execution_count": 23,
   "metadata": {},
   "outputs": [
    {
     "data": {
      "image/png": "[encoded data removed]",
      "text/plain": [
       "<Figure size 432x288 with 1 Axes>"
      ]
     },
     "metadata": {},
     "output_type": "display_data"
    },
    {
     "data": {
      "image/png": "[encoded data removed]",
      "text/plain": [
       "<Figure size 432x288 with 1 Axes>"
      ]
     },
     "metadata": {},
     "output_type": "display_data"
    }
   ],
   "source": [
    "import matplotlib.pyplot as plt\n",
    "loss = history.history['loss']\n",
    "val_loss = history.history['val_loss']\n",
    "plt.clf()\n",
    "\n",
    "epochs = range(1, len(loss)+1)\n",
    "\n",
    "plt.plot(epochs, loss, 'bo', label = 'Training loss')\n",
    "plt.plot(epochs, val_loss, 'b', label = 'validation loss')\n",
    "plt.title('training and validation loss')\n",
    "plt.xlabel('Epochs')\n",
    "plt.ylabel('loss')\n",
    "plt.legend()\n",
    "plt.show()\n",
    "\n",
    "plt.clf()\n",
    "acc= history.history['acc']\n",
    "val_acc = history.history['val_acc']\n",
    "plt.plot(epochs, acc, 'bo', label='Training acc')\n",
    "plt.plot(epochs, val_acc, 'b', label = 'validation acc')\n",
    "plt.title('training and validation Accuracy')\n",
    "plt.xlabel('Epochs')\n",
    "plt.ylabel('loss')\n",
    "plt.legend()\n",
    "plt.show()"
   ]
  },
  {
   "cell_type": "code",
   "execution_count": null,
   "metadata": {},
   "outputs": [],
   "source": []
  }
 ],
 "metadata": {
  "kernelspec": {
   "display_name": "Python 3",
   "language": "python",
   "name": "python3"
  },
  "language_info": {
   "codemirror_mode": {
    "name": "ipython",
    "version": 3
   },
   "file_extension": ".py",
   "mimetype": "text/x-python",
   "name": "python",
   "nbconvert_exporter": "python",
   "pygments_lexer": "ipython3",
   "version": "3.6.13"
  }
 },
 "nbformat": 4,
 "nbformat_minor": 2
}
