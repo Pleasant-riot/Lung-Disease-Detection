{
 "cells": [
  {
   "cell_type": "code",
   "execution_count": 93,
   "metadata": {},
   "outputs": [],
   "source": [
    "import pandas as pd\n",
    "import numpy as np\n",
    "import tensorflow as tf"
   ]
  },
  {
   "cell_type": "code",
   "execution_count": 94,
   "metadata": {},
   "outputs": [],
   "source": [
    "from tensorflow.python.keras.applications import ResNet50\n",
    "import warnings\n",
    "warnings.filterwarnings('ignore')"
   ]
  },
  {
   "cell_type": "code",
   "execution_count": 95,
   "metadata": {},
   "outputs": [],
   "source": [
    "model = ResNet50(include_top=True, weights=None, input_shape=(224, 224, 3), pooling=max, classes=7)"
   ]
  },
  {
   "cell_type": "code",
   "execution_count": null,
   "metadata": {},
   "outputs": [],
   "source": [
    "model.summary()"
   ]
  },
  {
   "cell_type": "code",
   "execution_count": 97,
   "metadata": {},
   "outputs": [],
   "source": [
    "from tensorflow.python.keras.layers import Dense,Flatten\n",
    "from tensorflow.python.keras.models import Model\n",
    "\n",
    "out = model.output\n",
    "x = Flatten()(out)\n",
    "out2 = Dense(7, activation='softmax')(x)\n",
    "c_model = Model(model.input, out2)"
   ]
  },
  {
   "cell_type": "code",
   "execution_count": null,
   "metadata": {},
   "outputs": [],
   "source": [
    "c_model.summary()"
   ]
  },
  {
   "cell_type": "code",
   "execution_count": 99,
   "metadata": {},
   "outputs": [
    {
     "data": {
      "text/html": [
       "<div>\n",
       "<style scoped>\n",
       "    .dataframe tbody tr th:only-of-type {\n",
       "        vertical-align: middle;\n",
       "    }\n",
       "\n",
       "    .dataframe tbody tr th {\n",
       "        vertical-align: top;\n",
       "    }\n",
       "\n",
       "    .dataframe thead th {\n",
       "        text-align: right;\n",
       "    }\n",
       "</style>\n",
       "<table border=\"1\" class=\"dataframe\">\n",
       "  <thead>\n",
       "    <tr style=\"text-align: right;\">\n",
       "      <th></th>\n",
       "      <th>identifier</th>\n",
       "      <th>sex</th>\n",
       "      <th>age_group</th>\n",
       "      <th>age</th>\n",
       "      <th>height</th>\n",
       "      <th>weight</th>\n",
       "      <th>report</th>\n",
       "      <th>pneumonia_type</th>\n",
       "      <th>orginal_dcm_file</th>\n",
       "      <th>body_part_file</th>\n",
       "      <th>diagnosis</th>\n",
       "    </tr>\n",
       "  </thead>\n",
       "  <tbody>\n",
       "    <tr>\n",
       "      <th>0</th>\n",
       "      <td>H05_00019_02</td>\n",
       "      <td>M</td>\n",
       "      <td>A1</td>\n",
       "      <td>0개월</td>\n",
       "      <td>NaN</td>\n",
       "      <td>0.9</td>\n",
       "      <td>NaN</td>\n",
       "      <td>NaN</td>\n",
       "      <td>/home/ncp/workspace/data/train/04.신생아호흡곤란증후군/A...</td>\n",
       "      <td>/home/ncp/workspace/data/train/04.신생아호흡곤란증후군/A...</td>\n",
       "      <td>4</td>\n",
       "    </tr>\n",
       "    <tr>\n",
       "      <th>1</th>\n",
       "      <td>H01_00716_01</td>\n",
       "      <td>F</td>\n",
       "      <td>A1</td>\n",
       "      <td>0개월</td>\n",
       "      <td>52.0</td>\n",
       "      <td>3.9</td>\n",
       "      <td>NaN</td>\n",
       "      <td>NaN</td>\n",
       "      <td>/home/ncp/workspace/data/train/04.신생아호흡곤란증후군/A...</td>\n",
       "      <td>/home/ncp/workspace/data/train/04.신생아호흡곤란증후군/A...</td>\n",
       "      <td>4</td>\n",
       "    </tr>\n",
       "  </tbody>\n",
       "</table>\n",
       "</div>"
      ],
      "text/plain": [
       "     identifier sex age_group  age  height  weight report  pneumonia_type  \\\n",
       "0  H05_00019_02   M        A1  0개월     NaN     0.9    NaN             NaN   \n",
       "1  H01_00716_01   F        A1  0개월    52.0     3.9    NaN             NaN   \n",
       "\n",
       "                                    orginal_dcm_file  \\\n",
       "0  /home/ncp/workspace/data/train/04.신생아호흡곤란증후군/A...   \n",
       "1  /home/ncp/workspace/data/train/04.신생아호흡곤란증후군/A...   \n",
       "\n",
       "                                      body_part_file  diagnosis  \n",
       "0  /home/ncp/workspace/data/train/04.신생아호흡곤란증후군/A...          4  \n",
       "1  /home/ncp/workspace/data/train/04.신생아호흡곤란증후군/A...          4  "
      ]
     },
     "execution_count": 99,
     "metadata": {},
     "output_type": "execute_result"
    }
   ],
   "source": [
    "import pandas as pd\n",
    "\n",
    "data = pd.read_csv('./dataset.csv',index_col=0)\n",
    "data.head(2)"
   ]
  },
  {
   "cell_type": "code",
   "execution_count": 100,
   "metadata": {},
   "outputs": [
    {
     "data": {
      "text/plain": [
       "'/home/ncp/workspace/code'"
      ]
     },
     "execution_count": 100,
     "metadata": {},
     "output_type": "execute_result"
    }
   ],
   "source": [
    "pwd"
   ]
  },
  {
   "cell_type": "code",
   "execution_count": 101,
   "metadata": {},
   "outputs": [],
   "source": [
    "data_ = pd.read_csv('/home/ncp/workspace/data/dataset_.csv',index_col=0)"
   ]
  },
  {
   "cell_type": "code",
   "execution_count": 102,
   "metadata": {},
   "outputs": [
    {
     "data": {
      "text/html": [
       "<div>\n",
       "<style scoped>\n",
       "    .dataframe tbody tr th:only-of-type {\n",
       "        vertical-align: middle;\n",
       "    }\n",
       "\n",
       "    .dataframe tbody tr th {\n",
       "        vertical-align: top;\n",
       "    }\n",
       "\n",
       "    .dataframe thead th {\n",
       "        text-align: right;\n",
       "    }\n",
       "</style>\n",
       "<table border=\"1\" class=\"dataframe\">\n",
       "  <thead>\n",
       "    <tr style=\"text-align: right;\">\n",
       "      <th></th>\n",
       "      <th>identifier</th>\n",
       "      <th>sex</th>\n",
       "      <th>age_group</th>\n",
       "      <th>age</th>\n",
       "      <th>height</th>\n",
       "      <th>weight</th>\n",
       "      <th>report</th>\n",
       "      <th>pneumonia_type</th>\n",
       "      <th>orginal_dcm_file</th>\n",
       "      <th>orginal_png_file</th>\n",
       "      <th>crop_file</th>\n",
       "      <th>body_part_file</th>\n",
       "      <th>diagnosis</th>\n",
       "    </tr>\n",
       "  </thead>\n",
       "  <tbody>\n",
       "    <tr>\n",
       "      <th>0</th>\n",
       "      <td>H05_00019_02</td>\n",
       "      <td>M</td>\n",
       "      <td>A1</td>\n",
       "      <td>0개월</td>\n",
       "      <td>NaN</td>\n",
       "      <td>0.9</td>\n",
       "      <td>NaN</td>\n",
       "      <td>NaN</td>\n",
       "      <td>/home/ncp/workspace/data/train/04.신생아호흡곤란증후군/A...</td>\n",
       "      <td>/home/ncp/workspace/data/train/04.신생아호흡곤란증후군/A...</td>\n",
       "      <td>/home/ncp/workspace/data/crop/d4/H05_00019_02.png</td>\n",
       "      <td>/home/ncp/workspace/data/train/04.신생아호흡곤란증후군/A...</td>\n",
       "      <td>4</td>\n",
       "    </tr>\n",
       "    <tr>\n",
       "      <th>1</th>\n",
       "      <td>H01_00716_01</td>\n",
       "      <td>F</td>\n",
       "      <td>A1</td>\n",
       "      <td>0개월</td>\n",
       "      <td>52.0</td>\n",
       "      <td>3.9</td>\n",
       "      <td>NaN</td>\n",
       "      <td>NaN</td>\n",
       "      <td>/home/ncp/workspace/data/train/04.신생아호흡곤란증후군/A...</td>\n",
       "      <td>/home/ncp/workspace/data/train/04.신생아호흡곤란증후군/A...</td>\n",
       "      <td>/home/ncp/workspace/data/crop/d4/H01_00716_01.png</td>\n",
       "      <td>/home/ncp/workspace/data/train/04.신생아호흡곤란증후군/A...</td>\n",
       "      <td>4</td>\n",
       "    </tr>\n",
       "    <tr>\n",
       "      <th>2</th>\n",
       "      <td>H03_00172_01</td>\n",
       "      <td>F</td>\n",
       "      <td>A1</td>\n",
       "      <td>0개월</td>\n",
       "      <td>42.0</td>\n",
       "      <td>1.8</td>\n",
       "      <td>NaN</td>\n",
       "      <td>NaN</td>\n",
       "      <td>/home/ncp/workspace/data/train/04.신생아호흡곤란증후군/A...</td>\n",
       "      <td>/home/ncp/workspace/data/train/04.신생아호흡곤란증후군/A...</td>\n",
       "      <td>/home/ncp/workspace/data/crop/d4/H03_00172_01.png</td>\n",
       "      <td>/home/ncp/workspace/data/train/04.신생아호흡곤란증후군/A...</td>\n",
       "      <td>4</td>\n",
       "    </tr>\n",
       "    <tr>\n",
       "      <th>3</th>\n",
       "      <td>H05_00204_01</td>\n",
       "      <td>M</td>\n",
       "      <td>A1</td>\n",
       "      <td>0개월</td>\n",
       "      <td>50.5</td>\n",
       "      <td>3.0</td>\n",
       "      <td>NaN</td>\n",
       "      <td>NaN</td>\n",
       "      <td>/home/ncp/workspace/data/train/04.신생아호흡곤란증후군/A...</td>\n",
       "      <td>/home/ncp/workspace/data/train/04.신생아호흡곤란증후군/A...</td>\n",
       "      <td>/home/ncp/workspace/data/crop/d4/H05_00204_01.png</td>\n",
       "      <td>/home/ncp/workspace/data/train/04.신생아호흡곤란증후군/A...</td>\n",
       "      <td>4</td>\n",
       "    </tr>\n",
       "    <tr>\n",
       "      <th>4</th>\n",
       "      <td>H04_00178_01</td>\n",
       "      <td>F</td>\n",
       "      <td>A1</td>\n",
       "      <td>0개월</td>\n",
       "      <td>30.0</td>\n",
       "      <td>0.5</td>\n",
       "      <td>Diffuse hazziness in both lungs. ETT insertion...</td>\n",
       "      <td>NaN</td>\n",
       "      <td>/home/ncp/workspace/data/train/04.신생아호흡곤란증후군/A...</td>\n",
       "      <td>/home/ncp/workspace/data/train/04.신생아호흡곤란증후군/A...</td>\n",
       "      <td>/home/ncp/workspace/data/crop/d4/H04_00178_01.png</td>\n",
       "      <td>/home/ncp/workspace/data/train/04.신생아호흡곤란증후군/A...</td>\n",
       "      <td>4</td>\n",
       "    </tr>\n",
       "  </tbody>\n",
       "</table>\n",
       "</div>"
      ],
      "text/plain": [
       "     identifier sex age_group  age  height  weight  \\\n",
       "0  H05_00019_02   M        A1  0개월     NaN     0.9   \n",
       "1  H01_00716_01   F        A1  0개월    52.0     3.9   \n",
       "2  H03_00172_01   F        A1  0개월    42.0     1.8   \n",
       "3  H05_00204_01   M        A1  0개월    50.5     3.0   \n",
       "4  H04_00178_01   F        A1  0개월    30.0     0.5   \n",
       "\n",
       "                                              report  pneumonia_type  \\\n",
       "0                                                NaN             NaN   \n",
       "1                                                NaN             NaN   \n",
       "2                                                NaN             NaN   \n",
       "3                                                NaN             NaN   \n",
       "4  Diffuse hazziness in both lungs. ETT insertion...             NaN   \n",
       "\n",
       "                                    orginal_dcm_file  \\\n",
       "0  /home/ncp/workspace/data/train/04.신생아호흡곤란증후군/A...   \n",
       "1  /home/ncp/workspace/data/train/04.신생아호흡곤란증후군/A...   \n",
       "2  /home/ncp/workspace/data/train/04.신생아호흡곤란증후군/A...   \n",
       "3  /home/ncp/workspace/data/train/04.신생아호흡곤란증후군/A...   \n",
       "4  /home/ncp/workspace/data/train/04.신생아호흡곤란증후군/A...   \n",
       "\n",
       "                                    orginal_png_file  \\\n",
       "0  /home/ncp/workspace/data/train/04.신생아호흡곤란증후군/A...   \n",
       "1  /home/ncp/workspace/data/train/04.신생아호흡곤란증후군/A...   \n",
       "2  /home/ncp/workspace/data/train/04.신생아호흡곤란증후군/A...   \n",
       "3  /home/ncp/workspace/data/train/04.신생아호흡곤란증후군/A...   \n",
       "4  /home/ncp/workspace/data/train/04.신생아호흡곤란증후군/A...   \n",
       "\n",
       "                                           crop_file  \\\n",
       "0  /home/ncp/workspace/data/crop/d4/H05_00019_02.png   \n",
       "1  /home/ncp/workspace/data/crop/d4/H01_00716_01.png   \n",
       "2  /home/ncp/workspace/data/crop/d4/H03_00172_01.png   \n",
       "3  /home/ncp/workspace/data/crop/d4/H05_00204_01.png   \n",
       "4  /home/ncp/workspace/data/crop/d4/H04_00178_01.png   \n",
       "\n",
       "                                      body_part_file  diagnosis  \n",
       "0  /home/ncp/workspace/data/train/04.신생아호흡곤란증후군/A...          4  \n",
       "1  /home/ncp/workspace/data/train/04.신생아호흡곤란증후군/A...          4  \n",
       "2  /home/ncp/workspace/data/train/04.신생아호흡곤란증후군/A...          4  \n",
       "3  /home/ncp/workspace/data/train/04.신생아호흡곤란증후군/A...          4  \n",
       "4  /home/ncp/workspace/data/train/04.신생아호흡곤란증후군/A...          4  "
      ]
     },
     "execution_count": 102,
     "metadata": {},
     "output_type": "execute_result"
    }
   ],
   "source": [
    "data_.head()"
   ]
  },
  {
   "cell_type": "code",
   "execution_count": 163,
   "metadata": {},
   "outputs": [],
   "source": [
    "def normal_dia(x):\n",
    "    if x == 9:\n",
    "        return 0\n",
    "    else:\n",
    "        return x\n",
    "    \n",
    "    \n",
    "data_['diagnosis'] = data_['diagnosis'].apply(normal_dia)"
   ]
  },
  {
   "cell_type": "code",
   "execution_count": null,
   "metadata": {},
   "outputs": [],
   "source": []
  },
  {
   "cell_type": "code",
   "execution_count": 12,
   "metadata": {},
   "outputs": [],
   "source": [
    "dcm_list = list(data['orginal_dcm_file'])\n",
    "mask_path_list = list(data['body_part_file'])\n",
    "img_path_list = []\n",
    "\n",
    "for i in dcm_list:\n",
    "    png_img = i.replace('.dcm','.png')\n",
    "    img_path_list.append(png_img)"
   ]
  },
  {
   "cell_type": "code",
   "execution_count": 13,
   "metadata": {},
   "outputs": [],
   "source": [
    "import numpy as np\n",
    "\n",
    "def rv_3ch(og_img_path, mask_path, size):\n",
    "    \n",
    "    #module import\n",
    "    import cv2\n",
    "    \n",
    "    # im_read\n",
    "    og_img = cv2.imread(og_img_path)\n",
    "    mask = cv2.imread(mask_path)\n",
    "    \n",
    "    # clahe\n",
    "    clahe = cv2.createCLAHE(5.0,(8,8))\n",
    "    \n",
    "    ## og_img_convert\n",
    "    cvt_img = cv2.resize(og_img, size)\n",
    "    cvt_img = cv2.cvtColor(cvt_img,cv2.COLOR_BGR2GRAY)\n",
    "    cvt_img = clahe.apply(cvt_img)  # 1 channel\n",
    "    cvt_img = np.repeat(cvt_img[:,:,np.newaxis],3,-1)\n",
    "\n",
    "    ## mask\n",
    "    cvt_mask = cv2.resize(mask, size)\n",
    "    cvt_mask = cv2.cvtColor(cvt_mask, cv2.COLOR_BGR2GRAY)\n",
    "\n",
    "    ## remove\n",
    "    remove = cv2.bitwise_and(cvt_img, cvt_img, mask = cvt_mask)\n",
    "    \n",
    "    return remove\n",
    "#     print(remove.shape)\n",
    "#     plt.imshow(remove)"
   ]
  },
  {
   "cell_type": "code",
   "execution_count": 108,
   "metadata": {},
   "outputs": [],
   "source": [
    "def read_img(og_img_path, size):\n",
    "    \n",
    "    #module import\n",
    "    import cv2\n",
    "    import numpy as np\n",
    "    \n",
    "    # im_read\n",
    "    og_img = cv2.imread(og_img_path)\n",
    "    og_img = cv2.resize(og_img, size)\n",
    "    return og_img"
   ]
  },
  {
   "cell_type": "code",
   "execution_count": 109,
   "metadata": {},
   "outputs": [],
   "source": [
    "png_list = list(data_['orginal_png_file'])"
   ]
  },
  {
   "cell_type": "code",
   "execution_count": 110,
   "metadata": {},
   "outputs": [],
   "source": [
    "X = np.ndarray((4000,224,224,3))\n",
    "# ZZA ZEUNG NA memory error ..... I'm gonna kill it sib\n"
   ]
  },
  {
   "cell_type": "code",
   "execution_count": 167,
   "metadata": {},
   "outputs": [],
   "source": [
    "for i in range(len(X)):\n",
    "    X[i][:][:][:] = read_img(png_list[i], (224,224))\n",
    "    \n",
    "y = np.array(data_['diagnosis'])"
   ]
  },
  {
   "cell_type": "code",
   "execution_count": 168,
   "metadata": {},
   "outputs": [],
   "source": [
    "import cv2\n",
    "from sklearn.model_selection import train_test_split\n",
    "\n",
    "Xtr, Xva, Ytr, Yva = train_test_split(X,y, test_size=0.2, random_state=42, stratify=y)\n",
    "Xva, Xtst, Yva, Ytst = train_test_split(Xva,Yva, test_size=0.5, random_state=42, stratify=Yva)"
   ]
  },
  {
   "cell_type": "code",
   "execution_count": 169,
   "metadata": {},
   "outputs": [],
   "source": [
    "from tensorflow.python.keras.utils import to_categorical\n",
    "\n",
    "Ytr_c = to_categorical(Ytr)\n",
    "Yva_c = to_categorical(Yva)\n",
    "Ytst_c = to_categorical(Ytst)"
   ]
  },
  {
   "cell_type": "code",
   "execution_count": 170,
   "metadata": {},
   "outputs": [
    {
     "name": "stdout",
     "output_type": "stream",
     "text": [
      "(3200,)\n",
      "(400,)\n",
      "(400,)\n"
     ]
    }
   ],
   "source": [
    "print(Ytr.shape)\n",
    "print(Yva.shape)\n",
    "print(Ytst.shape)"
   ]
  },
  {
   "cell_type": "code",
   "execution_count": 172,
   "metadata": {},
   "outputs": [],
   "source": [
    "model.compile(optimizer='adam',loss='categorical_crossentropy', metrics=['acc'])\n",
    "c_model.compile(optimizer='adam',loss='categorical_crossentropy',metrics=['acc'])"
   ]
  },
  {
   "cell_type": "code",
   "execution_count": 173,
   "metadata": {},
   "outputs": [],
   "source": [
    "from tensorflow.python.keras.preprocessing.image import ImageDataGenerator\n",
    "\n",
    "\n",
    "#data augmentation \n",
    "\n",
    "# Create two instances (images and targets) with the same arguments\n",
    "data_gen_args = dict(horizontal_flip=True, vertical_flip = True, rotation_range = 10)\n",
    "image_datagen = ImageDataGenerator(**data_gen_args)\n",
    "# mask_datagen = ImageDataGenerator(**data_gen_args)\n",
    "\n",
    "# Provide the same seed and keyword arguments to the fit and flow methods\n",
    "seed = 1\n",
    "\n",
    "train_generator = image_datagen.flow(x=Xtr, y=Ytr_c,\n",
    "                                    batch_size=16,\n",
    "                                    shuffle=True)\n",
    "validation_generator = image_datagen.flow(x=Xva,y=Yva_c,\n",
    "                                         batch_size=16,\n",
    "                                         shuffle=True)\n",
    "#image should have rank 4\n",
    "# image_datagen.fit(Xtr, augment=True, seed=seed)\n",
    "# mask_datagen.fit(Ytr, augment=True, seed=seed)\n",
    "\n",
    "# image_generator = image_datagen.flow(Xtr,seed=seed)\n",
    "\n",
    "# mask_generator = mask_datagen.flow(Ytr,seed=seed)\n",
    "\n",
    "# combine generators into one which yields image and masks\n",
    "# train_generator = zip(image_generator, mask_generator)\n"
   ]
  },
  {
   "cell_type": "code",
   "execution_count": 174,
   "metadata": {},
   "outputs": [
    {
     "name": "stdout",
     "output_type": "stream",
     "text": [
      "Epoch 1/50\n",
      "25/25 [==============================] - 5s 212ms/step - loss: 1.8559 - acc: 0.2500\n",
      "200/200 [==============================] - 84s 418ms/step - loss: 1.9197 - acc: 0.2022 - val_loss: 1.8559 - val_acc: 0.2500\n",
      "Epoch 2/50\n",
      "25/25 [==============================] - 4s 175ms/step - loss: 1.8196 - acc: 0.2500\n",
      "200/200 [==============================] - 49s 244ms/step - loss: 1.8355 - acc: 0.2500 - val_loss: 1.8196 - val_acc: 0.2500\n",
      "Epoch 3/50\n",
      "25/25 [==============================] - 5s 185ms/step - loss: 1.8054 - acc: 0.2500\n",
      "200/200 [==============================] - 50s 249ms/step - loss: 1.8125 - acc: 0.2500 - val_loss: 1.8054 - val_acc: 0.2500\n",
      "Epoch 4/50\n",
      "25/25 [==============================] - 5s 187ms/step - loss: 1.7989 - acc: 0.2500\n",
      "200/200 [==============================] - 50s 250ms/step - loss: 1.8029 - acc: 0.2500 - val_loss: 1.7989 - val_acc: 0.2500\n",
      "Epoch 5/50\n",
      "25/25 [==============================] - 5s 185ms/step - loss: 1.7958 - acc: 0.2500\n",
      "200/200 [==============================] - 50s 250ms/step - loss: 1.7988 - acc: 0.2500 - val_loss: 1.7958 - val_acc: 0.2500\n",
      "Epoch 6/50\n",
      "25/25 [==============================] - 5s 184ms/step - loss: 1.7941 - acc: 0.2500\n",
      "200/200 [==============================] - 50s 249ms/step - loss: 1.7966 - acc: 0.2400 - val_loss: 1.7941 - val_acc: 0.2500\n",
      "Epoch 7/50\n",
      "25/25 [==============================] - 5s 187ms/step - loss: 1.7932 - acc: 0.2500\n",
      "200/200 [==============================] - 49s 246ms/step - loss: 1.7954 - acc: 0.2447 - val_loss: 1.7932 - val_acc: 0.2500\n",
      "Epoch 8/50\n",
      "25/25 [==============================] - 4s 173ms/step - loss: 1.7927 - acc: 0.2500\n",
      "200/200 [==============================] - 49s 246ms/step - loss: 1.7947 - acc: 0.2500 - val_loss: 1.7927 - val_acc: 0.2500\n",
      "Epoch 9/50\n",
      "25/25 [==============================] - 5s 186ms/step - loss: 1.7923 - acc: 0.2500\n",
      "200/200 [==============================] - 49s 247ms/step - loss: 1.7943 - acc: 0.2419 - val_loss: 1.7923 - val_acc: 0.2500\n",
      "Epoch 10/50\n",
      "25/25 [==============================] - 5s 183ms/step - loss: 1.7921 - acc: 0.2500\n",
      "200/200 [==============================] - 49s 247ms/step - loss: 1.7940 - acc: 0.2463 - val_loss: 1.7921 - val_acc: 0.2500\n",
      "Epoch 11/50\n",
      "149/200 [=====================>........] - ETA: 11s - loss: 1.8000 - acc: 0.2483"
     ]
    },
    {
     "ename": "KeyboardInterrupt",
     "evalue": "",
     "output_type": "error",
     "traceback": [
      "\u001b[0;31m---------------------------------------------------------------------------\u001b[0m",
      "\u001b[0;31mKeyboardInterrupt\u001b[0m                         Traceback (most recent call last)",
      "\u001b[0;32m<ipython-input-174-131fcd29bd33>\u001b[0m in \u001b[0;36m<module>\u001b[0;34m()\u001b[0m\n\u001b[0;32m----> 1\u001b[0;31m \u001b[0mhistory\u001b[0m \u001b[0;34m=\u001b[0m \u001b[0mc_model\u001b[0m\u001b[0;34m.\u001b[0m\u001b[0mfit_generator\u001b[0m\u001b[0;34m(\u001b[0m\u001b[0mtrain_generator\u001b[0m\u001b[0;34m,\u001b[0m \u001b[0mepochs\u001b[0m\u001b[0;34m=\u001b[0m\u001b[0;36m50\u001b[0m\u001b[0;34m,\u001b[0m \u001b[0mvalidation_data\u001b[0m\u001b[0;34m=\u001b[0m\u001b[0mvalidation_generator\u001b[0m\u001b[0;34m)\u001b[0m\u001b[0;34m\u001b[0m\u001b[0;34m\u001b[0m\u001b[0m\n\u001b[0m",
      "\u001b[0;32m/opt/conda/lib/python3.6/site-packages/tensorflow/python/keras/engine/training.py\u001b[0m in \u001b[0;36mfit_generator\u001b[0;34m(self, generator, steps_per_epoch, epochs, verbose, callbacks, validation_data, validation_steps, class_weight, max_queue_size, workers, use_multiprocessing, shuffle, initial_epoch)\u001b[0m\n\u001b[1;32m   1424\u001b[0m         \u001b[0muse_multiprocessing\u001b[0m\u001b[0;34m=\u001b[0m\u001b[0muse_multiprocessing\u001b[0m\u001b[0;34m,\u001b[0m\u001b[0;34m\u001b[0m\u001b[0;34m\u001b[0m\u001b[0m\n\u001b[1;32m   1425\u001b[0m         \u001b[0mshuffle\u001b[0m\u001b[0;34m=\u001b[0m\u001b[0mshuffle\u001b[0m\u001b[0;34m,\u001b[0m\u001b[0;34m\u001b[0m\u001b[0;34m\u001b[0m\u001b[0m\n\u001b[0;32m-> 1426\u001b[0;31m         initial_epoch=initial_epoch)\n\u001b[0m\u001b[1;32m   1427\u001b[0m \u001b[0;34m\u001b[0m\u001b[0m\n\u001b[1;32m   1428\u001b[0m   def evaluate_generator(self,\n",
      "\u001b[0;32m/opt/conda/lib/python3.6/site-packages/tensorflow/python/keras/engine/training_generator.py\u001b[0m in \u001b[0;36mmodel_iteration\u001b[0;34m(model, data, steps_per_epoch, epochs, verbose, callbacks, validation_data, validation_steps, class_weight, max_queue_size, workers, use_multiprocessing, shuffle, initial_epoch, mode, batch_size, **kwargs)\u001b[0m\n\u001b[1;32m    189\u001b[0m       \u001b[0mprogbar\u001b[0m\u001b[0;34m.\u001b[0m\u001b[0mon_batch_begin\u001b[0m\u001b[0;34m(\u001b[0m\u001b[0mstep\u001b[0m\u001b[0;34m,\u001b[0m \u001b[0mbatch_logs\u001b[0m\u001b[0;34m)\u001b[0m\u001b[0;34m\u001b[0m\u001b[0;34m\u001b[0m\u001b[0m\n\u001b[1;32m    190\u001b[0m \u001b[0;34m\u001b[0m\u001b[0m\n\u001b[0;32m--> 191\u001b[0;31m       \u001b[0mbatch_outs\u001b[0m \u001b[0;34m=\u001b[0m \u001b[0mbatch_function\u001b[0m\u001b[0;34m(\u001b[0m\u001b[0;34m*\u001b[0m\u001b[0mbatch_data\u001b[0m\u001b[0;34m)\u001b[0m\u001b[0;34m\u001b[0m\u001b[0;34m\u001b[0m\u001b[0m\n\u001b[0m\u001b[1;32m    192\u001b[0m       \u001b[0;32mif\u001b[0m \u001b[0;32mnot\u001b[0m \u001b[0misinstance\u001b[0m\u001b[0;34m(\u001b[0m\u001b[0mbatch_outs\u001b[0m\u001b[0;34m,\u001b[0m \u001b[0mlist\u001b[0m\u001b[0;34m)\u001b[0m\u001b[0;34m:\u001b[0m\u001b[0;34m\u001b[0m\u001b[0;34m\u001b[0m\u001b[0m\n\u001b[1;32m    193\u001b[0m         \u001b[0mbatch_outs\u001b[0m \u001b[0;34m=\u001b[0m \u001b[0;34m[\u001b[0m\u001b[0mbatch_outs\u001b[0m\u001b[0;34m]\u001b[0m\u001b[0;34m\u001b[0m\u001b[0;34m\u001b[0m\u001b[0m\n",
      "\u001b[0;32m/opt/conda/lib/python3.6/site-packages/tensorflow/python/keras/engine/training.py\u001b[0m in \u001b[0;36mtrain_on_batch\u001b[0;34m(self, x, y, sample_weight, class_weight, reset_metrics)\u001b[0m\n\u001b[1;32m   1189\u001b[0m       \u001b[0;32melse\u001b[0m\u001b[0;34m:\u001b[0m\u001b[0;34m\u001b[0m\u001b[0;34m\u001b[0m\u001b[0m\n\u001b[1;32m   1190\u001b[0m         \u001b[0mself\u001b[0m\u001b[0;34m.\u001b[0m\u001b[0m_make_fit_function\u001b[0m\u001b[0;34m(\u001b[0m\u001b[0;34m)\u001b[0m\u001b[0;34m\u001b[0m\u001b[0;34m\u001b[0m\u001b[0m\n\u001b[0;32m-> 1191\u001b[0;31m         \u001b[0moutputs\u001b[0m \u001b[0;34m=\u001b[0m \u001b[0mself\u001b[0m\u001b[0;34m.\u001b[0m\u001b[0m_fit_function\u001b[0m\u001b[0;34m(\u001b[0m\u001b[0mins\u001b[0m\u001b[0;34m)\u001b[0m  \u001b[0;31m# pylint: disable=not-callable\u001b[0m\u001b[0;34m\u001b[0m\u001b[0;34m\u001b[0m\u001b[0m\n\u001b[0m\u001b[1;32m   1192\u001b[0m \u001b[0;34m\u001b[0m\u001b[0m\n\u001b[1;32m   1193\u001b[0m     \u001b[0;32mif\u001b[0m \u001b[0mreset_metrics\u001b[0m\u001b[0;34m:\u001b[0m\u001b[0;34m\u001b[0m\u001b[0;34m\u001b[0m\u001b[0m\n",
      "\u001b[0;32m/opt/conda/lib/python3.6/site-packages/tensorflow/python/keras/backend.py\u001b[0m in \u001b[0;36m__call__\u001b[0;34m(self, inputs)\u001b[0m\n\u001b[1;32m   3074\u001b[0m \u001b[0;34m\u001b[0m\u001b[0m\n\u001b[1;32m   3075\u001b[0m     fetched = self._callable_fn(*array_vals,\n\u001b[0;32m-> 3076\u001b[0;31m                                 run_metadata=self.run_metadata)\n\u001b[0m\u001b[1;32m   3077\u001b[0m     \u001b[0mself\u001b[0m\u001b[0;34m.\u001b[0m\u001b[0m_call_fetch_callbacks\u001b[0m\u001b[0;34m(\u001b[0m\u001b[0mfetched\u001b[0m\u001b[0;34m[\u001b[0m\u001b[0;34m-\u001b[0m\u001b[0mlen\u001b[0m\u001b[0;34m(\u001b[0m\u001b[0mself\u001b[0m\u001b[0;34m.\u001b[0m\u001b[0m_fetches\u001b[0m\u001b[0;34m)\u001b[0m\u001b[0;34m:\u001b[0m\u001b[0;34m]\u001b[0m\u001b[0;34m)\u001b[0m\u001b[0;34m\u001b[0m\u001b[0;34m\u001b[0m\u001b[0m\n\u001b[1;32m   3078\u001b[0m     return nest.pack_sequence_as(self._outputs_structure,\n",
      "\u001b[0;32m/opt/conda/lib/python3.6/site-packages/tensorflow/python/client/session.py\u001b[0m in \u001b[0;36m__call__\u001b[0;34m(self, *args, **kwargs)\u001b[0m\n\u001b[1;32m   1437\u001b[0m           ret = tf_session.TF_SessionRunCallable(\n\u001b[1;32m   1438\u001b[0m               \u001b[0mself\u001b[0m\u001b[0;34m.\u001b[0m\u001b[0m_session\u001b[0m\u001b[0;34m.\u001b[0m\u001b[0m_session\u001b[0m\u001b[0;34m,\u001b[0m \u001b[0mself\u001b[0m\u001b[0;34m.\u001b[0m\u001b[0m_handle\u001b[0m\u001b[0;34m,\u001b[0m \u001b[0margs\u001b[0m\u001b[0;34m,\u001b[0m \u001b[0mstatus\u001b[0m\u001b[0;34m,\u001b[0m\u001b[0;34m\u001b[0m\u001b[0;34m\u001b[0m\u001b[0m\n\u001b[0;32m-> 1439\u001b[0;31m               run_metadata_ptr)\n\u001b[0m\u001b[1;32m   1440\u001b[0m         \u001b[0;32mif\u001b[0m \u001b[0mrun_metadata\u001b[0m\u001b[0;34m:\u001b[0m\u001b[0;34m\u001b[0m\u001b[0;34m\u001b[0m\u001b[0m\n\u001b[1;32m   1441\u001b[0m           \u001b[0mproto_data\u001b[0m \u001b[0;34m=\u001b[0m \u001b[0mtf_session\u001b[0m\u001b[0;34m.\u001b[0m\u001b[0mTF_GetBuffer\u001b[0m\u001b[0;34m(\u001b[0m\u001b[0mrun_metadata_ptr\u001b[0m\u001b[0;34m)\u001b[0m\u001b[0;34m\u001b[0m\u001b[0;34m\u001b[0m\u001b[0m\n",
      "\u001b[0;31mKeyboardInterrupt\u001b[0m: "
     ]
    }
   ],
   "source": [
    "history = c_model.fit_generator(train_generator, epochs=50, validation_data=validation_generator)"
   ]
  },
  {
   "cell_type": "code",
   "execution_count": 26,
   "metadata": {},
   "outputs": [],
   "source": [
    "# history = model.fit(image_generator,Ytr_c, validation_data=[Xva, Yva_c], batch_size=8, epochs=20,verbose=1)"
   ]
  },
  {
   "cell_type": "code",
   "execution_count": 26,
   "metadata": {},
   "outputs": [
    {
     "data": {
      "image/png": "[encoded data removed]",
      "text/plain": [
       "<Figure size 432x288 with 1 Axes>"
      ]
     },
     "metadata": {},
     "output_type": "display_data"
    },
    {
     "data": {
      "image/png": "[encoded data removed]",
      "text/plain": [
       "<Figure size 432x288 with 1 Axes>"
      ]
     },
     "metadata": {},
     "output_type": "display_data"
    }
   ],
   "source": [
    "import matplotlib.pyplot as plt\n",
    "loss = history.history['loss']\n",
    "val_loss = history.history['val_loss']\n",
    "plt.clf()\n",
    "\n",
    "epochs = range(1, len(loss)+1)\n",
    "\n",
    "plt.plot(epochs, loss, 'bo', label = 'Training loss')\n",
    "plt.plot(epochs, val_loss, 'b', label = 'validation loss')\n",
    "plt.title('training and validation loss')\n",
    "plt.xlabel('Epochs')\n",
    "plt.ylabel('loss')\n",
    "plt.legend()\n",
    "plt.show()\n",
    "\n",
    "plt.clf()\n",
    "acc= history.history['acc']\n",
    "val_acc = history.history['val_acc']\n",
    "plt.plot(epochs, acc, 'bo', label='Training acc')\n",
    "plt.plot(epochs, val_acc, 'b', label = 'validation acc')\n",
    "plt.title('training and validation Accuracy')\n",
    "plt.xlabel('Epochs')\n",
    "plt.ylabel('loss')\n",
    "plt.legend()\n",
    "plt.show()"
   ]
  },
  {
   "cell_type": "code",
   "execution_count": 29,
   "metadata": {},
   "outputs": [],
   "source": [
    "predict = model.predict(Xtst)"
   ]
  },
  {
   "cell_type": "code",
   "execution_count": 37,
   "metadata": {},
   "outputs": [
    {
     "data": {
      "text/plain": [
       "array([9.5178139e-01, 4.6908915e-02, 5.4436416e-05, 7.5411452e-05,\n",
       "       3.6700175e-07, 1.1795604e-03, 1.0523361e-09], dtype=float32)"
      ]
     },
     "execution_count": 37,
     "metadata": {},
     "output_type": "execute_result"
    }
   ],
   "source": [
    "predict[0]"
   ]
  },
  {
   "cell_type": "code",
   "execution_count": 36,
   "metadata": {},
   "outputs": [
    {
     "data": {
      "text/plain": [
       "array([[0., 0., 0., ..., 1., 0., 0.],\n",
       "       [0., 0., 0., ..., 0., 0., 1.],\n",
       "       [0., 0., 0., ..., 1., 0., 0.],\n",
       "       ...,\n",
       "       [1., 0., 0., ..., 0., 0., 0.],\n",
       "       [1., 0., 0., ..., 0., 0., 0.],\n",
       "       [0., 0., 1., ..., 0., 0., 0.]], dtype=float32)"
      ]
     },
     "execution_count": 36,
     "metadata": {},
     "output_type": "execute_result"
    }
   ],
   "source": [
    "Ytst_c"
   ]
  },
  {
   "cell_type": "code",
   "execution_count": null,
   "metadata": {},
   "outputs": [],
   "source": []
  }
 ],
 "metadata": {
  "kernelspec": {
   "display_name": "Python 3",
   "language": "python",
   "name": "python3"
  },
  "language_info": {
   "codemirror_mode": {
    "name": "ipython",
    "version": 3
   },
   "file_extension": ".py",
   "mimetype": "text/x-python",
   "name": "python",
   "nbconvert_exporter": "python",
   "pygments_lexer": "ipython3",
   "version": "3.6.13"
  }
 },
 "nbformat": 4,
 "nbformat_minor": 2
}
