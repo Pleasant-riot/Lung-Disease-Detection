{
 "cells": [
  {
   "cell_type": "code",
   "execution_count": 2,
   "metadata": {},
   "outputs": [
    {
     "name": "stderr",
     "output_type": "stream",
     "text": [
      "/opt/conda/lib/python3.6/site-packages/tensorflow/python/framework/dtypes.py:526: FutureWarning: Passing (type, 1) or '1type' as a synonym of type is deprecated; in a future version of numpy, it will be understood as (type, (1,)) / '(1,)type'.\n",
      "  _np_qint8 = np.dtype([(\"qint8\", np.int8, 1)])\n",
      "/opt/conda/lib/python3.6/site-packages/tensorflow/python/framework/dtypes.py:527: FutureWarning: Passing (type, 1) or '1type' as a synonym of type is deprecated; in a future version of numpy, it will be understood as (type, (1,)) / '(1,)type'.\n",
      "  _np_quint8 = np.dtype([(\"quint8\", np.uint8, 1)])\n",
      "/opt/conda/lib/python3.6/site-packages/tensorflow/python/framework/dtypes.py:528: FutureWarning: Passing (type, 1) or '1type' as a synonym of type is deprecated; in a future version of numpy, it will be understood as (type, (1,)) / '(1,)type'.\n",
      "  _np_qint16 = np.dtype([(\"qint16\", np.int16, 1)])\n",
      "/opt/conda/lib/python3.6/site-packages/tensorflow/python/framework/dtypes.py:529: FutureWarning: Passing (type, 1) or '1type' as a synonym of type is deprecated; in a future version of numpy, it will be understood as (type, (1,)) / '(1,)type'.\n",
      "  _np_quint16 = np.dtype([(\"quint16\", np.uint16, 1)])\n",
      "/opt/conda/lib/python3.6/site-packages/tensorflow/python/framework/dtypes.py:530: FutureWarning: Passing (type, 1) or '1type' as a synonym of type is deprecated; in a future version of numpy, it will be understood as (type, (1,)) / '(1,)type'.\n",
      "  _np_qint32 = np.dtype([(\"qint32\", np.int32, 1)])\n",
      "/opt/conda/lib/python3.6/site-packages/tensorflow/python/framework/dtypes.py:535: FutureWarning: Passing (type, 1) or '1type' as a synonym of type is deprecated; in a future version of numpy, it will be understood as (type, (1,)) / '(1,)type'.\n",
      "  np_resource = np.dtype([(\"resource\", np.ubyte, 1)])\n"
     ]
    }
   ],
   "source": [
    "import tensorflow as tf\n",
    "from tensorflow.python.keras.applications.vgg16 import VGG16\n",
    "import warnings\n",
    "warnings.filterwarnings('ignore')"
   ]
  },
  {
   "cell_type": "code",
   "execution_count": 3,
   "metadata": {},
   "outputs": [
    {
     "name": "stdout",
     "output_type": "stream",
     "text": [
      "WARNING:tensorflow:From /opt/conda/lib/python3.6/site-packages/tensorflow/python/ops/resource_variable_ops.py:435: colocate_with (from tensorflow.python.framework.ops) is deprecated and will be removed in a future version.\n",
      "Instructions for updating:\n",
      "Colocations handled automatically by placer.\n"
     ]
    }
   ],
   "source": [
    "model = VGG16(input_shape=(224,224,3))"
   ]
  },
  {
   "cell_type": "code",
   "execution_count": 4,
   "metadata": {},
   "outputs": [
    {
     "name": "stdout",
     "output_type": "stream",
     "text": [
      "_________________________________________________________________\n",
      "Layer (type)                 Output Shape              Param #   \n",
      "=================================================================\n",
      "input_1 (InputLayer)         (None, 224, 224, 3)       0         \n",
      "_________________________________________________________________\n",
      "block1_conv1 (Conv2D)        (None, 224, 224, 64)      1792      \n",
      "_________________________________________________________________\n",
      "block1_conv2 (Conv2D)        (None, 224, 224, 64)      36928     \n",
      "_________________________________________________________________\n",
      "block1_pool (MaxPooling2D)   (None, 112, 112, 64)      0         \n",
      "_________________________________________________________________\n",
      "block2_conv1 (Conv2D)        (None, 112, 112, 128)     73856     \n",
      "_________________________________________________________________\n",
      "block2_conv2 (Conv2D)        (None, 112, 112, 128)     147584    \n",
      "_________________________________________________________________\n",
      "block2_pool (MaxPooling2D)   (None, 56, 56, 128)       0         \n",
      "_________________________________________________________________\n",
      "block3_conv1 (Conv2D)        (None, 56, 56, 256)       295168    \n",
      "_________________________________________________________________\n",
      "block3_conv2 (Conv2D)        (None, 56, 56, 256)       590080    \n",
      "_________________________________________________________________\n",
      "block3_conv3 (Conv2D)        (None, 56, 56, 256)       590080    \n",
      "_________________________________________________________________\n",
      "block3_pool (MaxPooling2D)   (None, 28, 28, 256)       0         \n",
      "_________________________________________________________________\n",
      "block4_conv1 (Conv2D)        (None, 28, 28, 512)       1180160   \n",
      "_________________________________________________________________\n",
      "block4_conv2 (Conv2D)        (None, 28, 28, 512)       2359808   \n",
      "_________________________________________________________________\n",
      "block4_conv3 (Conv2D)        (None, 28, 28, 512)       2359808   \n",
      "_________________________________________________________________\n",
      "block4_pool (MaxPooling2D)   (None, 14, 14, 512)       0         \n",
      "_________________________________________________________________\n",
      "block5_conv1 (Conv2D)        (None, 14, 14, 512)       2359808   \n",
      "_________________________________________________________________\n",
      "block5_conv2 (Conv2D)        (None, 14, 14, 512)       2359808   \n",
      "_________________________________________________________________\n",
      "block5_conv3 (Conv2D)        (None, 14, 14, 512)       2359808   \n",
      "_________________________________________________________________\n",
      "block5_pool (MaxPooling2D)   (None, 7, 7, 512)         0         \n",
      "_________________________________________________________________\n",
      "flatten (Flatten)            (None, 25088)             0         \n",
      "_________________________________________________________________\n",
      "fc1 (Dense)                  (None, 4096)              102764544 \n",
      "_________________________________________________________________\n",
      "fc2 (Dense)                  (None, 4096)              16781312  \n",
      "_________________________________________________________________\n",
      "predictions (Dense)          (None, 1000)              4097000   \n",
      "=================================================================\n",
      "Total params: 138,357,544\n",
      "Trainable params: 138,357,544\n",
      "Non-trainable params: 0\n",
      "_________________________________________________________________\n"
     ]
    }
   ],
   "source": [
    "model.summary()"
   ]
  },
  {
   "cell_type": "code",
   "execution_count": null,
   "metadata": {},
   "outputs": [],
   "source": []
  },
  {
   "cell_type": "code",
   "execution_count": 203,
   "metadata": {},
   "outputs": [],
   "source": [
    "from tensorflow.keras.layers import Flatten, Dense, GlobalAveragePooling2D\n",
    "from tensorflow.keras.models import Model\n",
    "\n",
    "x = Flatten()(model.output)\n",
    "# gap = GlobalAveragePooling2D(x)\n",
    "predictions = Dense(7, activation='softmax')(x) # output_shape \n",
    "custom_model = Model(model.input, predictions)"
   ]
  },
  {
   "cell_type": "code",
   "execution_count": 204,
   "metadata": {},
   "outputs": [
    {
     "name": "stdout",
     "output_type": "stream",
     "text": [
      "_________________________________________________________________\n",
      "Layer (type)                 Output Shape              Param #   \n",
      "=================================================================\n",
      "input_2 (InputLayer)         (None, 224, 224, 3)       0         \n",
      "_________________________________________________________________\n",
      "block1_conv1 (Conv2D)        (None, 224, 224, 64)      1792      \n",
      "_________________________________________________________________\n",
      "block1_conv2 (Conv2D)        (None, 224, 224, 64)      36928     \n",
      "_________________________________________________________________\n",
      "block1_pool (MaxPooling2D)   (None, 112, 112, 64)      0         \n",
      "_________________________________________________________________\n",
      "block2_conv1 (Conv2D)        (None, 112, 112, 128)     73856     \n",
      "_________________________________________________________________\n",
      "block2_conv2 (Conv2D)        (None, 112, 112, 128)     147584    \n",
      "_________________________________________________________________\n",
      "block2_pool (MaxPooling2D)   (None, 56, 56, 128)       0         \n",
      "_________________________________________________________________\n",
      "block3_conv1 (Conv2D)        (None, 56, 56, 256)       295168    \n",
      "_________________________________________________________________\n",
      "block3_conv2 (Conv2D)        (None, 56, 56, 256)       590080    \n",
      "_________________________________________________________________\n",
      "block3_conv3 (Conv2D)        (None, 56, 56, 256)       590080    \n",
      "_________________________________________________________________\n",
      "block3_pool (MaxPooling2D)   (None, 28, 28, 256)       0         \n",
      "_________________________________________________________________\n",
      "block4_conv1 (Conv2D)        (None, 28, 28, 512)       1180160   \n",
      "_________________________________________________________________\n",
      "block4_conv2 (Conv2D)        (None, 28, 28, 512)       2359808   \n",
      "_________________________________________________________________\n",
      "block4_conv3 (Conv2D)        (None, 28, 28, 512)       2359808   \n",
      "_________________________________________________________________\n",
      "block4_pool (MaxPooling2D)   (None, 14, 14, 512)       0         \n",
      "_________________________________________________________________\n",
      "block5_conv1 (Conv2D)        (None, 14, 14, 512)       2359808   \n",
      "_________________________________________________________________\n",
      "block5_conv2 (Conv2D)        (None, 14, 14, 512)       2359808   \n",
      "_________________________________________________________________\n",
      "block5_conv3 (Conv2D)        (None, 14, 14, 512)       2359808   \n",
      "_________________________________________________________________\n",
      "block5_pool (MaxPooling2D)   (None, 7, 7, 512)         0         \n",
      "_________________________________________________________________\n",
      "flatten (Flatten)            (None, 25088)             0         \n",
      "_________________________________________________________________\n",
      "fc1 (Dense)                  (None, 4096)              102764544 \n",
      "_________________________________________________________________\n",
      "fc2 (Dense)                  (None, 4096)              16781312  \n",
      "_________________________________________________________________\n",
      "predictions (Dense)          (None, 1000)              4097000   \n",
      "_________________________________________________________________\n",
      "flatten_8 (Flatten)          (None, 1000)              0         \n",
      "_________________________________________________________________\n",
      "dense_14 (Dense)             (None, 7)                 7007      \n",
      "=================================================================\n",
      "Total params: 138,364,551\n",
      "Trainable params: 138,364,551\n",
      "Non-trainable params: 0\n",
      "_________________________________________________________________\n"
     ]
    }
   ],
   "source": [
    "custom_model.summary()"
   ]
  },
  {
   "cell_type": "code",
   "execution_count": 52,
   "metadata": {},
   "outputs": [],
   "source": [
    "import pandas as pd\n",
    "\n",
    "data = pd.read_csv('./dataset.csv',index_col=0)"
   ]
  },
  {
   "cell_type": "code",
   "execution_count": 53,
   "metadata": {},
   "outputs": [
    {
     "data": {
      "text/html": [
       "<div>\n",
       "<style scoped>\n",
       "    .dataframe tbody tr th:only-of-type {\n",
       "        vertical-align: middle;\n",
       "    }\n",
       "\n",
       "    .dataframe tbody tr th {\n",
       "        vertical-align: top;\n",
       "    }\n",
       "\n",
       "    .dataframe thead th {\n",
       "        text-align: right;\n",
       "    }\n",
       "</style>\n",
       "<table border=\"1\" class=\"dataframe\">\n",
       "  <thead>\n",
       "    <tr style=\"text-align: right;\">\n",
       "      <th></th>\n",
       "      <th>identifier</th>\n",
       "      <th>sex</th>\n",
       "      <th>age_group</th>\n",
       "      <th>age</th>\n",
       "      <th>height</th>\n",
       "      <th>weight</th>\n",
       "      <th>report</th>\n",
       "      <th>pneumonia_type</th>\n",
       "      <th>orginal_dcm_file</th>\n",
       "      <th>body_part_file</th>\n",
       "      <th>diagnosis</th>\n",
       "    </tr>\n",
       "  </thead>\n",
       "  <tbody>\n",
       "    <tr>\n",
       "      <th>0</th>\n",
       "      <td>H05_00019_02</td>\n",
       "      <td>M</td>\n",
       "      <td>A1</td>\n",
       "      <td>0개월</td>\n",
       "      <td>NaN</td>\n",
       "      <td>0.9</td>\n",
       "      <td>NaN</td>\n",
       "      <td>NaN</td>\n",
       "      <td>/home/ncp/workspace/data/train/04.신생아호흡곤란증후군/A...</td>\n",
       "      <td>/home/ncp/workspace/data/train/04.신생아호흡곤란증후군/A...</td>\n",
       "      <td>4</td>\n",
       "    </tr>\n",
       "    <tr>\n",
       "      <th>1</th>\n",
       "      <td>H01_00716_01</td>\n",
       "      <td>F</td>\n",
       "      <td>A1</td>\n",
       "      <td>0개월</td>\n",
       "      <td>52.0</td>\n",
       "      <td>3.9</td>\n",
       "      <td>NaN</td>\n",
       "      <td>NaN</td>\n",
       "      <td>/home/ncp/workspace/data/train/04.신생아호흡곤란증후군/A...</td>\n",
       "      <td>/home/ncp/workspace/data/train/04.신생아호흡곤란증후군/A...</td>\n",
       "      <td>4</td>\n",
       "    </tr>\n",
       "  </tbody>\n",
       "</table>\n",
       "</div>"
      ],
      "text/plain": [
       "     identifier sex age_group  age  height  weight report  pneumonia_type  \\\n",
       "0  H05_00019_02   M        A1  0개월     NaN     0.9    NaN             NaN   \n",
       "1  H01_00716_01   F        A1  0개월    52.0     3.9    NaN             NaN   \n",
       "\n",
       "                                    orginal_dcm_file  \\\n",
       "0  /home/ncp/workspace/data/train/04.신생아호흡곤란증후군/A...   \n",
       "1  /home/ncp/workspace/data/train/04.신생아호흡곤란증후군/A...   \n",
       "\n",
       "                                      body_part_file  diagnosis  \n",
       "0  /home/ncp/workspace/data/train/04.신생아호흡곤란증후군/A...          4  \n",
       "1  /home/ncp/workspace/data/train/04.신생아호흡곤란증후군/A...          4  "
      ]
     },
     "execution_count": 53,
     "metadata": {},
     "output_type": "execute_result"
    }
   ],
   "source": [
    "data.head(2)"
   ]
  },
  {
   "cell_type": "code",
   "execution_count": 60,
   "metadata": {},
   "outputs": [],
   "source": [
    "def normal_dia(x):\n",
    "    if x == 9:\n",
    "        return 0\n",
    "    else:\n",
    "        return x\n",
    "    \n",
    "    \n",
    "data['diagnosis'] = data['diagnosis'].apply(normal_dia)"
   ]
  },
  {
   "cell_type": "code",
   "execution_count": 64,
   "metadata": {},
   "outputs": [
    {
     "data": {
      "text/plain": [
       "4000"
      ]
     },
     "execution_count": 64,
     "metadata": {},
     "output_type": "execute_result"
    }
   ],
   "source": [
    "len(data)"
   ]
  },
  {
   "cell_type": "code",
   "execution_count": 65,
   "metadata": {},
   "outputs": [],
   "source": [
    "dcm_list = list(data['orginal_dcm_file'])\n",
    "mask_path_list = list(data['body_part_file'])\n",
    "img_path_list = []\n",
    "\n",
    "for i in dcm_list:\n",
    "    png_img = i.replace('.dcm','.png')\n",
    "    img_path_list.append(png_img)"
   ]
  },
  {
   "cell_type": "code",
   "execution_count": 66,
   "metadata": {},
   "outputs": [
    {
     "data": {
      "text/plain": [
       "4000"
      ]
     },
     "execution_count": 66,
     "metadata": {},
     "output_type": "execute_result"
    }
   ],
   "source": [
    "len(img_path_list)"
   ]
  },
  {
   "cell_type": "code",
   "execution_count": 21,
   "metadata": {},
   "outputs": [
    {
     "data": {
      "text/plain": [
       "<matplotlib.image.AxesImage at 0x7f0d979af6d8>"
      ]
     },
     "execution_count": 21,
     "metadata": {},
     "output_type": "execute_result"
    },
    {
     "data": {
      "image/png": "[encoded data removed]",
      "text/plain": [
       "<Figure size 432x288 with 1 Axes>"
      ]
     },
     "metadata": {},
     "output_type": "display_data"
    }
   ],
   "source": [
    "import cv2\n",
    "import matplotlib.pyplot as plt\n",
    "\n",
    "plt.imshow(cv2.imread(img_path_list[0]))"
   ]
  },
  {
   "cell_type": "code",
   "execution_count": 67,
   "metadata": {},
   "outputs": [],
   "source": [
    "import numpy as np\n",
    "\n",
    "def rv_3ch(og_img_path, mask_path, size):\n",
    "    \n",
    "    #module import\n",
    "    import cv2\n",
    "    \n",
    "    # im_read\n",
    "    og_img = cv2.imread(og_img_path)\n",
    "    mask = cv2.imread(mask_path)\n",
    "    \n",
    "    # clahe\n",
    "    clahe = cv2.createCLAHE(5.0,(8,8))\n",
    "    \n",
    "    ## og_img_convert\n",
    "    cvt_img = cv2.resize(og_img, size)\n",
    "    cvt_img = cv2.cvtColor(cvt_img,cv2.COLOR_BGR2GRAY)\n",
    "    cvt_img = clahe.apply(cvt_img)  # 1 channel\n",
    "    cvt_img = np.repeat(cvt_img[:,:,np.newaxis],3,-1)\n",
    "\n",
    "    ## mask\n",
    "    cvt_mask = cv2.resize(mask, size)\n",
    "    cvt_mask = cv2.cvtColor(cvt_mask, cv2.COLOR_BGR2GRAY)\n",
    "\n",
    "    ## remove\n",
    "    remove = cv2.bitwise_and(cvt_img, cvt_img, mask = cvt_mask)\n",
    "    \n",
    "    return remove\n",
    "#     print(remove.shape)\n",
    "#     plt.imshow(remove)"
   ]
  },
  {
   "cell_type": "code",
   "execution_count": 73,
   "metadata": {},
   "outputs": [],
   "source": [
    "import tqdm\n",
    "\n",
    "X = np.ndarray((4000,224,224,3))\n",
    "\n",
    "for i in range(len(X)):\n",
    "    X[i][:][:][:] = rv_3ch(img_path_list[i], mask_path_list[i], (224,224))"
   ]
  },
  {
   "cell_type": "code",
   "execution_count": 74,
   "metadata": {},
   "outputs": [],
   "source": [
    "Y = data['diagnosis']\n",
    "Ya = np.array(Y)"
   ]
  },
  {
   "cell_type": "code",
   "execution_count": 75,
   "metadata": {},
   "outputs": [],
   "source": [
    "Y = data['diagnosis']\n",
    "Ya = np.array(Y)"
   ]
  },
  {
   "cell_type": "code",
   "execution_count": 76,
   "metadata": {},
   "outputs": [
    {
     "name": "stdout",
     "output_type": "stream",
     "text": [
      "(4000, 224, 224, 3)\n",
      "(4000,)\n"
     ]
    }
   ],
   "source": [
    "print(X.shape)\n",
    "print(Ya.shape)"
   ]
  },
  {
   "cell_type": "code",
   "execution_count": 77,
   "metadata": {},
   "outputs": [],
   "source": [
    "from sklearn.model_selection import train_test_split\n",
    "\n",
    "Xtr, Xtst, Ytr, Ytst = train_test_split(X,Ya, test_size=0.2, random_state=42, stratify=Ya)"
   ]
  },
  {
   "cell_type": "code",
   "execution_count": 78,
   "metadata": {},
   "outputs": [
    {
     "name": "stdout",
     "output_type": "stream",
     "text": [
      "(3200, 224, 224, 3)\n"
     ]
    }
   ],
   "source": [
    "print(Xtr.shape)"
   ]
  },
  {
   "cell_type": "code",
   "execution_count": null,
   "metadata": {},
   "outputs": [],
   "source": []
  },
  {
   "cell_type": "code",
   "execution_count": 206,
   "metadata": {},
   "outputs": [],
   "source": [
    "custom_model.compile(optimizer='adam', loss='categorical_crossentropy', metrics=['accuracy'])"
   ]
  },
  {
   "cell_type": "code",
   "execution_count": 116,
   "metadata": {},
   "outputs": [],
   "source": [
    "from tensorflow.keras.utils import to_categorical\n",
    "\n",
    "Yc = to_categorical(Ytr)\n",
    "Ytc = to_categorical(Ytst)"
   ]
  },
  {
   "cell_type": "code",
   "execution_count": 211,
   "metadata": {},
   "outputs": [
    {
     "name": "stdout",
     "output_type": "stream",
     "text": [
      "Train on 2880 samples, validate on 320 samples\n",
      "Epoch 1/60\n",
      "2880/2880 [==============================] - 52s 18ms/sample - loss: 1.8057 - acc: 0.2476 - val_loss: 1.7765 - val_acc: 0.2375\n",
      "Epoch 2/60\n",
      "2880/2880 [==============================] - 53s 18ms/sample - loss: 1.8021 - acc: 0.2417 - val_loss: 1.7724 - val_acc: 0.2375\n",
      "Epoch 3/60\n",
      "2880/2880 [==============================] - 53s 18ms/sample - loss: 1.8001 - acc: 0.2479 - val_loss: 1.7704 - val_acc: 0.2375\n",
      "Epoch 4/60\n",
      "2880/2880 [==============================] - 53s 18ms/sample - loss: 1.7990 - acc: 0.2514 - val_loss: 1.7690 - val_acc: 0.2375\n",
      "Epoch 5/60\n",
      "2880/2880 [==============================] - 53s 18ms/sample - loss: 1.7981 - acc: 0.2448 - val_loss: 1.7680 - val_acc: 0.2375\n",
      "Epoch 6/60\n",
      "2880/2880 [==============================] - 53s 18ms/sample - loss: 1.7979 - acc: 0.2351 - val_loss: 1.7670 - val_acc: 0.2375\n",
      "Epoch 7/60\n",
      "2880/2880 [==============================] - 53s 18ms/sample - loss: 1.7975 - acc: 0.2514 - val_loss: 1.7667 - val_acc: 0.2375\n",
      "Epoch 8/60\n",
      "2880/2880 [==============================] - 53s 18ms/sample - loss: 1.7972 - acc: 0.2465 - val_loss: 1.7667 - val_acc: 0.2375\n",
      "Epoch 9/60\n",
      "2880/2880 [==============================] - 54s 19ms/sample - loss: 1.7971 - acc: 0.2514 - val_loss: 1.7666 - val_acc: 0.2375\n",
      "Epoch 10/60\n",
      "2880/2880 [==============================] - 53s 19ms/sample - loss: 1.7970 - acc: 0.2444 - val_loss: 1.7656 - val_acc: 0.2375\n",
      "Epoch 11/60\n",
      "2880/2880 [==============================] - 53s 18ms/sample - loss: 1.7970 - acc: 0.2514 - val_loss: 1.7661 - val_acc: 0.2375\n",
      "Epoch 12/60\n",
      "2880/2880 [==============================] - 53s 18ms/sample - loss: 1.7970 - acc: 0.2514 - val_loss: 1.7659 - val_acc: 0.2375\n",
      "Epoch 13/60\n",
      "2880/2880 [==============================] - 53s 18ms/sample - loss: 1.7971 - acc: 0.2413 - val_loss: 1.7658 - val_acc: 0.2375\n",
      "Epoch 14/60\n",
      "2880/2880 [==============================] - 53s 18ms/sample - loss: 1.7970 - acc: 0.2486 - val_loss: 1.7657 - val_acc: 0.2375\n",
      "Epoch 15/60\n",
      "2880/2880 [==============================] - 53s 18ms/sample - loss: 1.7970 - acc: 0.2514 - val_loss: 1.7657 - val_acc: 0.2375\n",
      "Epoch 16/60\n",
      "2880/2880 [==============================] - 54s 19ms/sample - loss: 1.7969 - acc: 0.2514 - val_loss: 1.7654 - val_acc: 0.2375\n",
      "Epoch 17/60\n",
      "2880/2880 [==============================] - 54s 19ms/sample - loss: 1.7970 - acc: 0.2441 - val_loss: 1.7657 - val_acc: 0.2375\n",
      "Epoch 18/60\n",
      "2880/2880 [==============================] - 53s 19ms/sample - loss: 1.7969 - acc: 0.2413 - val_loss: 1.7658 - val_acc: 0.2375\n",
      "Epoch 19/60\n",
      "2880/2880 [==============================] - 53s 18ms/sample - loss: 1.7970 - acc: 0.2514 - val_loss: 1.7654 - val_acc: 0.2375\n",
      "Epoch 20/60\n",
      "2880/2880 [==============================] - 54s 19ms/sample - loss: 1.7970 - acc: 0.2514 - val_loss: 1.7654 - val_acc: 0.2375\n",
      "Epoch 21/60\n",
      "2880/2880 [==============================] - 53s 18ms/sample - loss: 1.7970 - acc: 0.2469 - val_loss: 1.7659 - val_acc: 0.2375\n",
      "Epoch 22/60\n",
      "2880/2880 [==============================] - 53s 18ms/sample - loss: 1.7971 - acc: 0.2514 - val_loss: 1.7656 - val_acc: 0.2375\n",
      "Epoch 23/60\n",
      "2880/2880 [==============================] - 53s 18ms/sample - loss: 1.7970 - acc: 0.2368 - val_loss: 1.7659 - val_acc: 0.2375\n",
      "Epoch 24/60\n",
      "2880/2880 [==============================] - 53s 18ms/sample - loss: 1.7970 - acc: 0.2483 - val_loss: 1.7661 - val_acc: 0.2375\n",
      "Epoch 25/60\n",
      "2880/2880 [==============================] - 54s 19ms/sample - loss: 1.7969 - acc: 0.2514 - val_loss: 1.7659 - val_acc: 0.2375\n",
      "Epoch 26/60\n",
      "2880/2880 [==============================] - 55s 19ms/sample - loss: 1.7971 - acc: 0.2514 - val_loss: 1.7655 - val_acc: 0.2375\n",
      "Epoch 27/60\n",
      "2880/2880 [==============================] - 53s 18ms/sample - loss: 1.7970 - acc: 0.2441 - val_loss: 1.7656 - val_acc: 0.2375\n",
      "Epoch 28/60\n",
      "2880/2880 [==============================] - 53s 18ms/sample - loss: 1.7970 - acc: 0.2514 - val_loss: 1.7662 - val_acc: 0.2375\n",
      "Epoch 29/60\n",
      " 880/2880 [========>.....................] - ETA: 35s - loss: 1.8113 - acc: 0.2489"
     ]
    },
    {
     "ename": "KeyboardInterrupt",
     "evalue": "",
     "output_type": "error",
     "traceback": [
      "\u001b[0;31m---------------------------------------------------------------------------\u001b[0m",
      "\u001b[0;31mKeyboardInterrupt\u001b[0m                         Traceback (most recent call last)",
      "\u001b[0;32m<ipython-input-211-c719dd66514a>\u001b[0m in \u001b[0;36m<module>\u001b[0;34m()\u001b[0m\n\u001b[1;32m      2\u001b[0m \u001b[0;34m\u001b[0m\u001b[0m\n\u001b[1;32m      3\u001b[0m history = custom_model.fit(Xtr, Yc, epochs=60, batch_size=16, verbose=1,\n\u001b[0;32m----> 4\u001b[0;31m           validation_split=0.1)\n\u001b[0m\u001b[1;32m      5\u001b[0m \u001b[0;31m# model.fit(Xtr, Yc, epochs=5, batch_size=16, verbose=1, validation_data(X_val, y_val)\u001b[0m\u001b[0;34m\u001b[0m\u001b[0;34m\u001b[0m\u001b[0;34m\u001b[0m\u001b[0m\n",
      "\u001b[0;32m/opt/conda/lib/python3.6/site-packages/tensorflow/python/keras/engine/training.py\u001b[0m in \u001b[0;36mfit\u001b[0;34m(self, x, y, batch_size, epochs, verbose, callbacks, validation_split, validation_data, shuffle, class_weight, sample_weight, initial_epoch, steps_per_epoch, validation_steps, max_queue_size, workers, use_multiprocessing, **kwargs)\u001b[0m\n\u001b[1;32m    878\u001b[0m           \u001b[0minitial_epoch\u001b[0m\u001b[0;34m=\u001b[0m\u001b[0minitial_epoch\u001b[0m\u001b[0;34m,\u001b[0m\u001b[0;34m\u001b[0m\u001b[0;34m\u001b[0m\u001b[0m\n\u001b[1;32m    879\u001b[0m           \u001b[0msteps_per_epoch\u001b[0m\u001b[0;34m=\u001b[0m\u001b[0msteps_per_epoch\u001b[0m\u001b[0;34m,\u001b[0m\u001b[0;34m\u001b[0m\u001b[0;34m\u001b[0m\u001b[0m\n\u001b[0;32m--> 880\u001b[0;31m           validation_steps=validation_steps)\n\u001b[0m\u001b[1;32m    881\u001b[0m \u001b[0;34m\u001b[0m\u001b[0m\n\u001b[1;32m    882\u001b[0m   def evaluate(self,\n",
      "\u001b[0;32m/opt/conda/lib/python3.6/site-packages/tensorflow/python/keras/engine/training_arrays.py\u001b[0m in \u001b[0;36mmodel_iteration\u001b[0;34m(model, inputs, targets, sample_weights, batch_size, epochs, verbose, callbacks, val_inputs, val_targets, val_sample_weights, shuffle, initial_epoch, steps_per_epoch, validation_steps, mode, validation_in_fit, **kwargs)\u001b[0m\n\u001b[1;32m    327\u001b[0m \u001b[0;34m\u001b[0m\u001b[0m\n\u001b[1;32m    328\u001b[0m         \u001b[0;31m# Get outputs.\u001b[0m\u001b[0;34m\u001b[0m\u001b[0;34m\u001b[0m\u001b[0;34m\u001b[0m\u001b[0m\n\u001b[0;32m--> 329\u001b[0;31m         \u001b[0mbatch_outs\u001b[0m \u001b[0;34m=\u001b[0m \u001b[0mf\u001b[0m\u001b[0;34m(\u001b[0m\u001b[0mins_batch\u001b[0m\u001b[0;34m)\u001b[0m\u001b[0;34m\u001b[0m\u001b[0;34m\u001b[0m\u001b[0m\n\u001b[0m\u001b[1;32m    330\u001b[0m         \u001b[0;32mif\u001b[0m \u001b[0;32mnot\u001b[0m \u001b[0misinstance\u001b[0m\u001b[0;34m(\u001b[0m\u001b[0mbatch_outs\u001b[0m\u001b[0;34m,\u001b[0m \u001b[0mlist\u001b[0m\u001b[0;34m)\u001b[0m\u001b[0;34m:\u001b[0m\u001b[0;34m\u001b[0m\u001b[0;34m\u001b[0m\u001b[0m\n\u001b[1;32m    331\u001b[0m           \u001b[0mbatch_outs\u001b[0m \u001b[0;34m=\u001b[0m \u001b[0;34m[\u001b[0m\u001b[0mbatch_outs\u001b[0m\u001b[0;34m]\u001b[0m\u001b[0;34m\u001b[0m\u001b[0;34m\u001b[0m\u001b[0m\n",
      "\u001b[0;32m/opt/conda/lib/python3.6/site-packages/tensorflow/python/keras/backend.py\u001b[0m in \u001b[0;36m__call__\u001b[0;34m(self, inputs)\u001b[0m\n\u001b[1;32m   3074\u001b[0m \u001b[0;34m\u001b[0m\u001b[0m\n\u001b[1;32m   3075\u001b[0m     fetched = self._callable_fn(*array_vals,\n\u001b[0;32m-> 3076\u001b[0;31m                                 run_metadata=self.run_metadata)\n\u001b[0m\u001b[1;32m   3077\u001b[0m     \u001b[0mself\u001b[0m\u001b[0;34m.\u001b[0m\u001b[0m_call_fetch_callbacks\u001b[0m\u001b[0;34m(\u001b[0m\u001b[0mfetched\u001b[0m\u001b[0;34m[\u001b[0m\u001b[0;34m-\u001b[0m\u001b[0mlen\u001b[0m\u001b[0;34m(\u001b[0m\u001b[0mself\u001b[0m\u001b[0;34m.\u001b[0m\u001b[0m_fetches\u001b[0m\u001b[0;34m)\u001b[0m\u001b[0;34m:\u001b[0m\u001b[0;34m]\u001b[0m\u001b[0;34m)\u001b[0m\u001b[0;34m\u001b[0m\u001b[0;34m\u001b[0m\u001b[0m\n\u001b[1;32m   3078\u001b[0m     return nest.pack_sequence_as(self._outputs_structure,\n",
      "\u001b[0;32m/opt/conda/lib/python3.6/site-packages/tensorflow/python/client/session.py\u001b[0m in \u001b[0;36m__call__\u001b[0;34m(self, *args, **kwargs)\u001b[0m\n\u001b[1;32m   1437\u001b[0m           ret = tf_session.TF_SessionRunCallable(\n\u001b[1;32m   1438\u001b[0m               \u001b[0mself\u001b[0m\u001b[0;34m.\u001b[0m\u001b[0m_session\u001b[0m\u001b[0;34m.\u001b[0m\u001b[0m_session\u001b[0m\u001b[0;34m,\u001b[0m \u001b[0mself\u001b[0m\u001b[0;34m.\u001b[0m\u001b[0m_handle\u001b[0m\u001b[0;34m,\u001b[0m \u001b[0margs\u001b[0m\u001b[0;34m,\u001b[0m \u001b[0mstatus\u001b[0m\u001b[0;34m,\u001b[0m\u001b[0;34m\u001b[0m\u001b[0;34m\u001b[0m\u001b[0m\n\u001b[0;32m-> 1439\u001b[0;31m               run_metadata_ptr)\n\u001b[0m\u001b[1;32m   1440\u001b[0m         \u001b[0;32mif\u001b[0m \u001b[0mrun_metadata\u001b[0m\u001b[0;34m:\u001b[0m\u001b[0;34m\u001b[0m\u001b[0;34m\u001b[0m\u001b[0m\n\u001b[1;32m   1441\u001b[0m           \u001b[0mproto_data\u001b[0m \u001b[0;34m=\u001b[0m \u001b[0mtf_session\u001b[0m\u001b[0;34m.\u001b[0m\u001b[0mTF_GetBuffer\u001b[0m\u001b[0;34m(\u001b[0m\u001b[0mrun_metadata_ptr\u001b[0m\u001b[0;34m)\u001b[0m\u001b[0;34m\u001b[0m\u001b[0;34m\u001b[0m\u001b[0m\n",
      "\u001b[0;31mKeyboardInterrupt\u001b[0m: "
     ]
    }
   ],
   "source": [
    "# model.fit(Xtr, Yc, validation_split=0.2, batch_size=16, epochs=5)\n",
    "\n",
    "history = custom_model.fit(Xtr, Yc, epochs=60, batch_size=16, verbose=1,\n",
    "          validation_split=0.1)\n",
    "# model.fit(Xtr, Yc, epochs=5, batch_size=16, verbose=1, validation_data(X_val, y_val)"
   ]
  },
  {
   "cell_type": "code",
   "execution_count": null,
   "metadata": {},
   "outputs": [],
   "source": []
  },
  {
   "cell_type": "code",
   "execution_count": null,
   "metadata": {},
   "outputs": [],
   "source": []
  }
 ],
 "metadata": {
  "kernelspec": {
   "display_name": "Python 3",
   "language": "python",
   "name": "python3"
  },
  "language_info": {
   "codemirror_mode": {
    "name": "ipython",
    "version": 3
   },
   "file_extension": ".py",
   "mimetype": "text/x-python",
   "name": "python",
   "nbconvert_exporter": "python",
   "pygments_lexer": "ipython3",
   "version": "3.6.13"
  }
 },
 "nbformat": 4,
 "nbformat_minor": 2
}
