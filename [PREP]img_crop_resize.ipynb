{
 "cells": [
  {
   "cell_type": "code",
   "execution_count": 1,
   "metadata": {},
   "outputs": [],
   "source": [
    "import os\n",
    "import glob\n",
    "\n"
   ]
  },
  {
   "cell_type": "code",
   "execution_count": 2,
   "metadata": {},
   "outputs": [],
   "source": [
    "path= '/home/ncp/workspace/data/DL/d1'\n",
    "d1= os.listdir(path)\n"
   ]
  },
  {
   "cell_type": "code",
   "execution_count": 37,
   "metadata": {},
   "outputs": [
    {
     "data": {
      "text/plain": [
       "<matplotlib.image.AxesImage at 0x7fa46b5c8d68>"
      ]
     },
     "execution_count": 37,
     "metadata": {},
     "output_type": "execute_result"
    },
    {
     "data": {
      "image/png": "[encoded data removed]",
      "text/plain": [
       "<Figure size 432x288 with 1 Axes>"
      ]
     },
     "metadata": {},
     "output_type": "display_data"
    }
   ],
   "source": [
    "import cv2\n",
    "import matplotlib.pyplot as plt\n",
    "import numpy as np\n",
    "\n",
    "img1= cv2.imread(path+'/'+d1[0])\n",
    "plt.imshow(img1)\n"
   ]
  },
  {
   "cell_type": "code",
   "execution_count": 38,
   "metadata": {},
   "outputs": [
    {
     "data": {
      "text/plain": [
       "(1412, 1034, 3)"
      ]
     },
     "execution_count": 38,
     "metadata": {},
     "output_type": "execute_result"
    }
   ],
   "source": [
    "img1.shape"
   ]
  },
  {
   "cell_type": "code",
   "execution_count": 39,
   "metadata": {},
   "outputs": [],
   "source": [
    "height, width = img1.shape[:2]"
   ]
  },
  {
   "cell_type": "code",
   "execution_count": 40,
   "metadata": {},
   "outputs": [],
   "source": [
    "img_gray  = cv2.cvtColor(img1, cv2.COLOR_BGR2GRAY)"
   ]
  },
  {
   "cell_type": "code",
   "execution_count": 41,
   "metadata": {},
   "outputs": [],
   "source": [
    "_, img_binary  = cv2.threshold(img_gray, 0, 255, cv2.THRESH_BINARY)\n",
    "# img_binary = cv2.bitwise_not(img_binary)"
   ]
  },
  {
   "cell_type": "code",
   "execution_count": 42,
   "metadata": {},
   "outputs": [],
   "source": [
    "contours, hierarchy = cv2.findContours(img_binary , cv2.RETR_CCOMP, cv2.CHAIN_APPROX_NONE)"
   ]
  },
  {
   "cell_type": "code",
   "execution_count": 43,
   "metadata": {},
   "outputs": [
    {
     "name": "stdout",
     "output_type": "stream",
     "text": [
      "[[[377 152]]\n",
      "\n",
      " [[376 153]]\n",
      "\n",
      " [[375 153]]\n",
      "\n",
      " ...\n",
      "\n",
      " [[380 152]]\n",
      "\n",
      " [[379 152]]\n",
      "\n",
      " [[378 152]]]\n",
      "[[[611 141]]\n",
      "\n",
      " [[610 142]]\n",
      "\n",
      " [[609 142]]\n",
      "\n",
      " ...\n",
      "\n",
      " [[614 141]]\n",
      "\n",
      " [[613 141]]\n",
      "\n",
      " [[612 141]]]\n"
     ]
    }
   ],
   "source": [
    "print(contours[0])  #왼\n",
    "print(contours[1])  #오"
   ]
  },
  {
   "cell_type": "code",
   "execution_count": 44,
   "metadata": {},
   "outputs": [],
   "source": [
    "# for i, contour in enumerate(contours):\n",
    "#     cv2.drawContours(img1, [contour],0,(0,255,0),2)\n",
    "#     cv2.putText(img1, str(i), tuple(contour[0][0]), cv2.FONT_HERSHEY_COMPLEX, 0.8, (0,255,0),1)\n",
    "#     print(hierarchy[0][i])\n",
    " \n",
    "# x, y, w, h = cv2.boundingRect(contours[0])\n",
    "# cv2.rectangle(img1,(x,y),(x+w, y+h),(0,0,255), 1) # red\n",
    " \n",
    "# cv2.imshow('img1', img1)\n",
    "# # cv2.waitKey()\n",
    "# # cv2.destroyAllWindows()"
   ]
  },
  {
   "cell_type": "code",
   "execution_count": 45,
   "metadata": {},
   "outputs": [
    {
     "data": {
      "text/plain": [
       "<matplotlib.image.AxesImage at 0x7fa46b52a5f8>"
      ]
     },
     "execution_count": 45,
     "metadata": {},
     "output_type": "execute_result"
    },
    {
     "data": {
      "image/png": "[encoded data removed]",
      "text/plain": [
       "<Figure size 432x288 with 1 Axes>"
      ]
     },
     "metadata": {},
     "output_type": "display_data"
    }
   ],
   "source": [
    "cv2.drawContours(image=img1, contours=contours, contourIdx=-1, color=(0, 255, 0), thickness=2, lineType=cv2.LINE_AA)\n",
    "\n",
    "# see the results\n",
    "plt.imshow(img1)\n"
   ]
  },
  {
   "cell_type": "code",
   "execution_count": 46,
   "metadata": {},
   "outputs": [],
   "source": [
    "# contours[i] -> contour\n",
    "for i, contour in enumerate(contours):\n",
    "#     cv2.drawContours(img1, [contour],0,None,2)    # (0,255,0) 초록색으로 안하고 걍 None 으로 줘서 투명색\n",
    "#     cnt1 = contours[0]\n",
    "#     cnt2 = contours[1]\n",
    "#     cv2.drawContours(img_binary, [cnt1, cnt2], 0, None, 2)\n",
    "    cv2.drawContours(image=img1, contours=contours, contourIdx=-1, color=None, thickness=2, lineType=cv2.LINE_AA)\n",
    "    \n",
    "#     cv2.putText(img1, str(i), tuple(contour[0][0]), cv2.FONT_HERSHEY_COMPLEX, 0.8, (0,255,0),1)\n",
    "#     print(count, hierarchy[0][i])\n",
    "    # cv2.imshow('src',img_src)\n",
    "    # cv2.waitKey()"
   ]
  },
  {
   "cell_type": "code",
   "execution_count": 61,
   "metadata": {},
   "outputs": [],
   "source": [
    "# num0 = 0 왼쪽\n",
    "contours_min_0 = np.argmin(contours[0], axis=0)\n",
    "contours_max_0 = np.argmax(contours[0], axis=0)\n",
    "\n",
    "x_Min_0 = contours[0][contours_min_0[0][0]][0][0]\n",
    "y_Min_0 = contours[0][contours_min_0[0][1]][0][1]\n",
    "x_Max_0 = contours[0][contours_max_0[0][0]][0][0]\n",
    "y_Max_0 = contours[0][contours_max_0[0][1]][0][1]\n",
    "\n",
    "# ---------------------------------------------------------\n",
    "# num1= 1 오른쪽\n",
    "contours_min_1 = np.argmin(contours[1], axis=0)\n",
    "contours_max_1 = np.argmax(contours[1], axis=0)\n",
    "\n",
    "x_Min_1 = contours[1][contours_min_1[0][0]][0][0]\n",
    "y_Min_1 = contours[1][contours_min_1[0][1]][0][1]\n",
    "x_Max_1 = contours[1][contours_max_1[0][0]][0][0]\n",
    "y_Max_1 = contours[1][contours_max_1[0][1]][0][1]"
   ]
  },
  {
   "cell_type": "code",
   "execution_count": 58,
   "metadata": {},
   "outputs": [],
   "source": [
    "if y_Min_0 < y_Min_1:  # 왼쪽이 작으면 \n",
    "    y_Min = y_Min_0    # 왼쪽이 min값 \n",
    "else :\n",
    "    y_Min = y_Min_1    #같거나 크면 오른쪽이 min값\n",
    "    \n",
    "\n",
    "if y_Max_0 > y_Max_1:  # 왼쪽이 크면 \n",
    "    y_Max = y_Max_0    # 왼쪽이 max값 \n",
    "else :\n",
    "    y_Max = y_Max_1    #같거나 크면 오른쪽이 max값"
   ]
  },
  {
   "cell_type": "code",
   "execution_count": 59,
   "metadata": {},
   "outputs": [
    {
     "name": "stdout",
     "output_type": "stream",
     "text": [
      "x-Min = 146\n",
      "y-Min = 141\n",
      "x-Max = 855\n",
      "y-Max = 739\n"
     ]
    }
   ],
   "source": [
    "print(\"x-Min =\", x_Min_0)\n",
    "print(\"y-Min =\", y_Min)\n",
    "print(\"x-Max =\", x_Max_1)\n",
    "print(\"y-Max =\", y_Max)"
   ]
  },
  {
   "cell_type": "code",
   "execution_count": 60,
   "metadata": {},
   "outputs": [
    {
     "data": {
      "text/plain": [
       "<matplotlib.image.AxesImage at 0x7fa46b60d710>"
      ]
     },
     "execution_count": 60,
     "metadata": {},
     "output_type": "execute_result"
    },
    {
     "data": {
      "image/png": "[encoded data removed]",
      "text/plain": [
       "<Figure size 432x288 with 1 Axes>"
      ]
     },
     "metadata": {},
     "output_type": "display_data"
    }
   ],
   "source": [
    "img_trim = img1[y_Min:y_Max, x_Min_0:x_Max_1]\n",
    "plt.imshow(img_trim)\n"
   ]
  },
  {
   "cell_type": "code",
   "execution_count": null,
   "metadata": {},
   "outputs": [],
   "source": []
  },
  {
   "cell_type": "code",
   "execution_count": null,
   "metadata": {},
   "outputs": [],
   "source": []
  },
  {
   "cell_type": "code",
   "execution_count": null,
   "metadata": {},
   "outputs": [],
   "source": []
  },
  {
   "cell_type": "code",
   "execution_count": 46,
   "metadata": {},
   "outputs": [
    {
     "name": "stdout",
     "output_type": "stream",
     "text": [
      "2\n"
     ]
    }
   ],
   "source": [
    "print(len(contours))"
   ]
  },
  {
   "cell_type": "code",
   "execution_count": 44,
   "metadata": {},
   "outputs": [],
   "source": [
    "# centres = []\n",
    "# for i in range(len(contours)):\n",
    "#     moments = cv2.moments(contours[i])\n",
    "#     centres.append((int(moments['m10']/moments['m00']), int(moments['m01']/moments['m00'])))\n",
    "#     cv2.circle(img1, centres[-1], 3, (0, 0, 0), -1)\n",
    "\n",
    "# print(centres)\n",
    "\n",
    "# plt.imshow(img1)\n",
    "# cv2.imwrite('output.png',img)\n",
    "# cv2.waitKey(0)"
   ]
  },
  {
   "cell_type": "code",
   "execution_count": null,
   "metadata": {},
   "outputs": [],
   "source": [
    "# edged = cv2.Canny(img1, 10, 250)\n",
    "# cv2.imshow('Edged', edged)\n",
    "# cv2.waitKey(0)"
   ]
  },
  {
   "cell_type": "code",
   "execution_count": null,
   "metadata": {},
   "outputs": [],
   "source": []
  },
  {
   "cell_type": "code",
   "execution_count": null,
   "metadata": {},
   "outputs": [],
   "source": []
  },
  {
   "cell_type": "code",
   "execution_count": null,
   "metadata": {},
   "outputs": [],
   "source": []
  },
  {
   "cell_type": "code",
   "execution_count": null,
   "metadata": {},
   "outputs": [],
   "source": []
  },
  {
   "cell_type": "code",
   "execution_count": null,
   "metadata": {},
   "outputs": [],
   "source": []
  },
  {
   "cell_type": "code",
   "execution_count": null,
   "metadata": {},
   "outputs": [],
   "source": []
  },
  {
   "cell_type": "code",
   "execution_count": 107,
   "metadata": {},
   "outputs": [
    {
     "data": {
      "text/plain": [
       "<matplotlib.image.AxesImage at 0x7fa4615a86d8>"
      ]
     },
     "execution_count": 107,
     "metadata": {},
     "output_type": "execute_result"
    },
    {
     "data": {
      "image/png": "[encoded data removed]",
      "text/plain": [
       "<Figure size 432x288 with 1 Axes>"
      ]
     },
     "metadata": {},
     "output_type": "display_data"
    }
   ],
   "source": [
    "path= '/home/ncp/workspace/data/DL/d4'\n",
    "img_01= cv2.imread(path+'/'+'H03_00329_01.png')\n",
    "plt.imshow(img_01)"
   ]
  },
  {
   "cell_type": "code",
   "execution_count": 108,
   "metadata": {},
   "outputs": [
    {
     "data": {
      "text/plain": [
       "<matplotlib.image.AxesImage at 0x7fa46157d978>"
      ]
     },
     "execution_count": 108,
     "metadata": {},
     "output_type": "execute_result"
    },
    {
     "data": {
      "image/png": "[encoded data removed]",
      "text/plain": [
       "<Figure size 432x288 with 1 Axes>"
      ]
     },
     "metadata": {},
     "output_type": "display_data"
    }
   ],
   "source": [
    "img_gray  = cv2.cvtColor(img_01, cv2.COLOR_BGR2GRAY)\n",
    "_, img_binary  = cv2.threshold(img_gray, 0, 255, cv2.THRESH_BINARY)\n",
    "contours, hierarchy = cv2.findContours(img_binary , cv2.RETR_CCOMP, cv2.CHAIN_APPROX_NONE)\n",
    "cv2.drawContours(image=img_01, contours=contours, contourIdx=-1, color=None, thickness=2, lineType=cv2.LINE_AA)\n",
    "\n",
    "# plt.imshow(img_01)\n",
    "\n",
    "# for i, contour in enumerate(contours):\n",
    "#     cv2.drawContours(image=img_01, contours=contours, contourIdx=-1, color=None, thickness=2, lineType=cv2.LINE_AA)\n",
    "\n",
    "# cv2.drawContours(image=img1, contours=contours, contourIdx=-1, color=(0, 255, 0), thickness=2, lineType=cv2.LINE_AA)\n",
    "\n",
    "# see the results\n",
    "plt.imshow(img_01)\n"
   ]
  },
  {
   "cell_type": "code",
   "execution_count": 109,
   "metadata": {},
   "outputs": [],
   "source": [
    "contours_min_0 = np.argmin(contours[0], axis=0)\n",
    "contours_max_0 = np.argmax(contours[0], axis=0)\n",
    "\n",
    "x_Min_0 = contours[0][contours_min_0[0][0]][0][0]\n",
    "y_Min_0 = contours[0][contours_min_0[0][1]][0][1]\n",
    "x_Max_0 = contours[0][contours_max_0[0][0]][0][0]\n",
    "y_Max_0 = contours[0][contours_max_0[0][1]][0][1]\n",
    "\n",
    "# ---------------------------------------------------------\n",
    "# num1= 1 오른쪽\n",
    "contours_min_1 = np.argmin(contours[1], axis=0)\n",
    "contours_max_1 = np.argmax(contours[1], axis=0)\n",
    "\n",
    "x_Min_1 = contours[1][contours_min_1[0][0]][0][0]\n",
    "y_Min_1 = contours[1][contours_min_1[0][1]][0][1]\n",
    "x_Max_1 = contours[1][contours_max_1[0][0]][0][0]\n",
    "y_Max_1 = contours[1][contours_max_1[0][1]][0][1]"
   ]
  },
  {
   "cell_type": "code",
   "execution_count": 110,
   "metadata": {},
   "outputs": [],
   "source": [
    "if y_Min_0 < y_Min_1:  # 왼쪽이 작으면 \n",
    "    y_Min = y_Min_0    # 왼쪽이 min값 \n",
    "else :\n",
    "    y_Min = y_Min_1    #같거나 크면 오른쪽이 min값\n",
    "    \n",
    "\n",
    "if y_Max_0 > y_Max_1:  # 왼쪽이 크면 \n",
    "    y_Max = y_Max_0    # 왼쪽이 max값 \n",
    "else :\n",
    "    y_Max = y_Max_1    #같거나 크면 오른쪽이 max값"
   ]
  },
  {
   "cell_type": "code",
   "execution_count": 111,
   "metadata": {},
   "outputs": [
    {
     "name": "stdout",
     "output_type": "stream",
     "text": [
      "x-Min = 1137\n",
      "y-Min = 1034\n",
      "x-Max = 1041\n",
      "y-Max = 1615\n"
     ]
    }
   ],
   "source": [
    "print(\"x-Min =\", x_Min_0)\n",
    "print(\"y-Min =\", y_Min)\n",
    "print(\"x-Max =\", x_Max_1)\n",
    "print(\"y-Max =\", y_Max)"
   ]
  },
  {
   "cell_type": "code",
   "execution_count": 114,
   "metadata": {},
   "outputs": [
    {
     "data": {
      "text/plain": [
       "array([], shape=(581, 0, 3), dtype=uint8)"
      ]
     },
     "execution_count": 114,
     "metadata": {},
     "output_type": "execute_result"
    }
   ],
   "source": [
    "img_trim = img_01[y_Min:y_Max, x_Min_0:x_Max_1]\n",
    "# plt.imshow(img_trim)\n",
    "img_trim"
   ]
  },
  {
   "cell_type": "code",
   "execution_count": null,
   "metadata": {},
   "outputs": [],
   "source": []
  },
  {
   "cell_type": "code",
   "execution_count": 115,
   "metadata": {},
   "outputs": [
    {
     "data": {
      "text/plain": [
       "(2970, 2460, 3)"
      ]
     },
     "execution_count": 115,
     "metadata": {},
     "output_type": "execute_result"
    }
   ],
   "source": [
    "img_01.shape"
   ]
  }
 ],
 "metadata": {
  "kernelspec": {
   "display_name": "Python 3",
   "language": "python",
   "name": "python3"
  },
  "language_info": {
   "codemirror_mode": {
    "name": "ipython",
    "version": 3
   },
   "file_extension": ".py",
   "mimetype": "text/x-python",
   "name": "python",
   "nbconvert_exporter": "python",
   "pygments_lexer": "ipython3",
   "version": "3.6.13"
  }
 },
 "nbformat": 4,
 "nbformat_minor": 2
}
