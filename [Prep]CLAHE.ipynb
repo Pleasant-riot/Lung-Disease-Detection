{
  "nbformat": 4,
  "nbformat_minor": 0,
  "metadata": {
    "colab": {
      "name": "[Prep]CLAHE.ipynb",
      "private_outputs": true,
      "provenance": [],
      "machine_shape": "hm",
      "mount_file_id": "1x5GpHni4VNPXPwOiW2ZdHv3RHWIU4ure",
      "authorship_tag": "ABX9TyNV4lzb1l0eD9KyhEpc4vLx"
    },
    "kernelspec": {
      "name": "python3",
      "display_name": "Python 3"
    },
    "language_info": {
      "name": "python"
    },
    "accelerator": "GPU"
  },
  "cells": [
    {
      "cell_type": "code",
      "metadata": {
        "id": "3tzI3yN4UoG8"
      },
      "source": [
        "import cv2\n",
        "import matplotlib.pyplot as plt\n",
        "import pandas as pd\n",
        "import seaborn as sns\n",
        "import numpy as np\n",
        "\n",
        "def show(img):\n",
        "    #사이즈\n",
        "    plt.figure(figsize = (10,8))\n",
        "    #xticks/yticks - 눈금표\n",
        "    plt.xticks([])\n",
        "    plt.yticks([])\n",
        "    #코랩에서 안돌아감 주의\n",
        "    plt.imshow(img, cmap= 'gray')\n",
        "    plt.show()"
      ],
      "execution_count": null,
      "outputs": []
    },
    {
      "cell_type": "code",
      "metadata": {
        "id": "C2gDl2LiU1wx"
      },
      "source": [
        "image = cv2.imread('/content/drive/MyDrive/3차플젝drive/PD/penumonia/images/train/00704310-78a8-4b38-8475-49f4573b2dbb.jpg')\n",
        "image = cv2.cvtColor(image, cv2.COLOR_BGR2GRAY)\n",
        "show(image)"
      ],
      "execution_count": null,
      "outputs": []
    },
    {
      "cell_type": "code",
      "metadata": {
        "id": "uk79cpRJY1vy"
      },
      "source": [
        "def clahe(img, clipLimit =0 , tileGridSize = (0,0)):\n",
        "    img_copy = img.copy()\n",
        "    clahe = cv2.createCLAHE(clipLimit,tileGridSize)\n",
        "    img_copy = clahe.apply(img_copy)\n",
        "    show(img_copy)\n",
        "    return img_copy.shape"
      ],
      "execution_count": null,
      "outputs": []
    },
    {
      "cell_type": "code",
      "metadata": {
        "id": "SErM7v3VZPt0"
      },
      "source": [
        "clahe(image,5.0,(20,20))"
      ],
      "execution_count": null,
      "outputs": []
    },
    {
      "cell_type": "code",
      "metadata": {
        "id": "cqXWWyp-ZWhB"
      },
      "source": [
        ""
      ],
      "execution_count": null,
      "outputs": []
    }
  ]
}