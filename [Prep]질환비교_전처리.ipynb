{
  "nbformat": 4,
  "nbformat_minor": 0,
  "metadata": {
    "colab": {
      "name": "[Prep]질환비교_전처리.ipynb",
      "private_outputs": true,
      "provenance": [],
      "collapsed_sections": [],
      "machine_shape": "hm",
      "mount_file_id": "1NUFUBvczmhOxr5Y6KGTLLZ0FiHbwAunU",
      "authorship_tag": "ABX9TyPCO8Rv0dluVntwvd0DuFyC",
      "include_colab_link": true
    },
    "kernelspec": {
      "name": "python3",
      "display_name": "Python 3"
    },
    "language_info": {
      "name": "python"
    },
    "accelerator": "GPU"
  },
  "cells": [
    {
      "cell_type": "markdown",
      "metadata": {
        "id": "view-in-github",
        "colab_type": "text"
      },
      "source": [
        "<a href=\"https://colab.research.google.com/github/kikiru328/Pneumonia-Detection/blob/main/%5BPrep%5D%EC%A7%88%ED%99%98%EB%B9%84%EA%B5%90_%EC%A0%84%EC%B2%98%EB%A6%AC.ipynb\" target=\"_parent\"><img src=\"https://colab.research.google.com/assets/colab-badge.svg\" alt=\"Open In Colab\"/></a>"
      ]
    },
    {
      "cell_type": "code",
      "metadata": {
        "id": "MxG8etrWcdZ6"
      },
      "source": [
        "import cv2\n",
        "import matplotlib.pyplot as plt\n",
        "import pandas as pd\n",
        "import seaborn as sns\n",
        "import numpy as np\n",
        "import warnings\n",
        "warnings.filterwarnings('ignore')\n",
        "\n",
        "def clahe(path, clipLimit =0 , tileGridSize = (0,0)):\n",
        "    clahe = cv2.createCLAHE(clipLimit,tileGridSize)\n",
        "\n",
        "    #normal\n",
        "    normal = cv2.imread('/content/drive/MyDrive/3차플젝drive/google_Normal.jpg')\n",
        "    normal = cv2.cvtColor(normal, cv2.COLOR_BGR2GRAY)\n",
        "    normal = clahe.apply(normal)\n",
        "    \n",
        "    img = cv2.imread(path)\n",
        "    img = cv2.cvtColor(img, cv2.COLOR_BGR2GRAY) \n",
        "\n",
        "    img_clahe = img.copy()\n",
        "    img_clahe = clahe.apply(img_clahe)\n",
        "\n",
        "    plt.figure(figsize = (10,15))\n",
        "\n",
        "    plt.xticks([])\n",
        "    plt.yticks([])\n",
        "\n",
        "    plt.subplot(131)\n",
        "    plt.title('Orginal')\n",
        "    plt.imshow(img,'gray')\n",
        "\n",
        "    plt.subplot(132)\n",
        "    plt.title('Normal')\n",
        "    plt.imshow(normal,'gray')\n",
        "    plt.subplot(133)\n",
        "    plt.title('After')\n",
        "    plt.imshow(img_clahe,'gray')\n",
        "    return "
      ],
      "execution_count": null,
      "outputs": []
    },
    {
      "cell_type": "code",
      "metadata": {
        "id": "Qn2SYiTwdUIa"
      },
      "source": [
        "path = '/content/drive/MyDrive/3차플젝drive/소아 데이터_샘플용/무기폐/org/H02_00481_01.jpg'\n",
        "clahe(path,5.0,(8,8))"
      ],
      "execution_count": null,
      "outputs": []
    },
    {
      "cell_type": "code",
      "metadata": {
        "id": "RQcsdAZcdWYJ"
      },
      "source": [
        "new = '/content/drive/MyDrive/3차플젝drive/소아 데이터_샘플용/정상/org/H01_00121_01.jpg'\n",
        "plt.figure(figsize=(10,15))\n",
        "normal = cv2.imread(new)\n",
        "normal = cv2.cvtColor(normal, cv2.COLOR_BGR2GRAY)\n",
        "\n",
        "reversed_normal = ~normal\n",
        "clahe_value = cv2.createCLAHE(5.0,(8,8))\n",
        "reversed_normal = clahe_value.apply(reversed_normal)\n",
        "plt.subplot(121)\n",
        "plt.title('Normal_Clahe')\n",
        "plt.imshow(reversed_normal,'gray')\n",
        "\n",
        "path = '/content/drive/MyDrive/3차플젝drive/소아 데이터_샘플용/신생아호흡곤란증후군/org/H01_00483_01.jpg'\n",
        "RDS = cv2.imread(path)\n",
        "RDS = cv2.cvtColor(RDS, cv2.COLOR_BGR2GRAY) \n",
        "\n",
        "RDS_clahe = ~RDS\n",
        "RDS_clahe = clahe_value.apply(RDS_clahe)\n",
        "plt.subplot(122)\n",
        "plt.title('RDS_clahe')\n",
        "plt.imshow(RDS_clahe,'gray')"
      ],
      "execution_count": null,
      "outputs": []
    },
    {
      "cell_type": "code",
      "metadata": {
        "id": "5C802S4OG_1E"
      },
      "source": [
        ""
      ],
      "execution_count": null,
      "outputs": []
    }
  ]
}