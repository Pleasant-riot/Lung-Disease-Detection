{
  "nbformat": 4,
  "nbformat_minor": 0,
  "metadata": {
    "colab": {
      "name": "Total_id.ipynb",
      "private_outputs": true,
      "provenance": [],
      "machine_shape": "hm",
      "include_colab_link": true
    },
    "kernelspec": {
      "name": "python3",
      "display_name": "Python 3"
    },
    "language_info": {
      "name": "python"
    },
    "accelerator": "GPU"
  },
  "cells": [
    {
      "cell_type": "markdown",
      "metadata": {
        "id": "view-in-github",
        "colab_type": "text"
      },
      "source": [
        "<a href=\"https://colab.research.google.com/github/KIBEOMP/Pneumonia-Detection/blob/main/kkk.ipynb\" target=\"_parent\"><img src=\"https://colab.research.google.com/assets/colab-badge.svg\" alt=\"Open In Colab\"/></a>"
      ]
    },
    {
      "cell_type": "code",
      "metadata": {
        "id": "IvohfNH0CKjS"
      },
      "source": [
        "import pandas as pd\n",
        "train_label_path = '/content/drive/MyDrive/3차플젝drive/PD/penumonia/stage_2_train_labels.csv'\n",
        "detailed_class_path = '/content/drive/MyDrive/3차플젝drive/PD/penumonia/stage_2_detailed_class_info.csv'\n",
        "train_label = pd.read_csv(train_label_path)\n",
        "detailed_class = pd.read_csv(detailed_class_path)"
      ],
      "execution_count": null,
      "outputs": []
    },
    {
      "cell_type": "code",
      "metadata": {
        "id": "vw78DtytQ6c8"
      },
      "source": [
        "from google.colab import drive\n",
        "drive.mount('/content/drive')"
      ],
      "execution_count": null,
      "outputs": []
    },
    {
      "cell_type": "code",
      "metadata": {
        "id": "HpOauhaVF7ly"
      },
      "source": [
        "display(train_label.head())\n",
        "print(train_label.info())\n",
        "train_label.shape"
      ],
      "execution_count": null,
      "outputs": []
    },
    {
      "cell_type": "code",
      "metadata": {
        "id": "epouIXmPGHs0"
      },
      "source": [
        "display(detailed_class.head())\n",
        "print(detailed_class.info())\n",
        "detailed_class.shape"
      ],
      "execution_count": null,
      "outputs": []
    },
    {
      "cell_type": "code",
      "metadata": {
        "id": "Y7JFwMMuLkx9"
      },
      "source": [
        "tr = list(train_label['patientId'])\n",
        "dc = list(detailed_class['patientId'])\n",
        "tr == dc"
      ],
      "execution_count": null,
      "outputs": []
    },
    {
      "cell_type": "code",
      "metadata": {
        "id": "lNfAafH9LPf3"
      },
      "source": [
        "total = pd.concat([train_label,detailed_class['class']],axis=1)\n",
        "total"
      ],
      "execution_count": null,
      "outputs": []
    },
    {
      "cell_type": "code",
      "metadata": {
        "id": "rk94lNjsMS4o"
      },
      "source": [
        "total = total.rename(columns={'patientId':'id', 'width' : 'w', 'height' :'h','Target':'target'})\n",
        "total"
      ],
      "execution_count": null,
      "outputs": []
    },
    {
      "cell_type": "code",
      "metadata": {
        "id": "7sEb7eWlMIfc"
      },
      "source": [
        "total.to_csv('/content/drive/MyDrive/3차플젝drive/PD/total_file.csv')"
      ],
      "execution_count": null,
      "outputs": []
    },
    {
      "cell_type": "code",
      "metadata": {
        "id": "_syy62UYMsao"
      },
      "source": [
        "def convert(size, box): # box : coco형식 xmin, ymin, w, y\n",
        "  dw = 1. / size[0]\n",
        "  dh = 1. / size[1]\n",
        "  x = (box[0] + box[2]) * dw / 2\n",
        "  y = (box[1] + box[3]) * dh / 2\n",
        "  w = (box[2] - box[0]) * dw\n",
        "  h = (box[3] - box[1]) * dh\n",
        "  return (x,y,w,h)\n",
        "  if w < 0 or h < 0 :\n",
        "    return False\n",
        "  return (x,y,w,h)\n"
      ],
      "execution_count": null,
      "outputs": []
    },
    {
      "cell_type": "code",
      "metadata": {
        "id": "rrMlqMzXMz5m"
      },
      "source": [
        "import pandas as pd\n",
        "total = pd.read_csv('/content/drive/MyDrive/3차플젝drive/PD/total_file.csv',index_col=0)\n",
        "tl = total.fillna(0)\n",
        "tl"
      ],
      "execution_count": null,
      "outputs": []
    },
    {
      "cell_type": "code",
      "metadata": {
        "id": "4_J7YlW3ST1f"
      },
      "source": [
        "total = tl[['id','class','x','y','w','h']]\n",
        "total"
      ],
      "execution_count": null,
      "outputs": []
    },
    {
      "cell_type": "code",
      "metadata": {
        "id": "OiHMAYlitLma"
      },
      "source": [
        "a = total.iloc[0:30227]\n",
        "print(a)\n",
        "type(a)"
      ],
      "execution_count": null,
      "outputs": []
    },
    {
      "cell_type": "code",
      "metadata": {
        "id": "BXJsX0Wk0Dbt"
      },
      "source": [
        "a.values.tolist()"
      ],
      "execution_count": null,
      "outputs": []
    },
    {
      "cell_type": "code",
      "metadata": {
        "id": "QoYk_qlvTre0"
      },
      "source": [
        "Test = pd.DataFrame(a)\n",
        "Test"
      ],
      "execution_count": null,
      "outputs": []
    },
    {
      "cell_type": "code",
      "metadata": {
        "id": "Uy1uDB8opL-S"
      },
      "source": [
        "Test"
      ],
      "execution_count": null,
      "outputs": []
    },
    {
      "cell_type": "code",
      "metadata": {
        "id": "MlD5txjapMog"
      },
      "source": [
        "a = [1,2,3,4]\n",
        "b = ['A','B','C','D']\n",
        "\n",
        "\n",
        "df = pd.DataFrame(columns = b, index = a)\n",
        "df['A'] = 10\n",
        "df['B'] = 20\n",
        "df['C'] = 30\n",
        "df['D'] = 40"
      ],
      "execution_count": null,
      "outputs": []
    },
    {
      "cell_type": "code",
      "metadata": {
        "id": "dztDcXoHpjYI"
      },
      "source": [
        "df"
      ],
      "execution_count": null,
      "outputs": []
    },
    {
      "cell_type": "code",
      "metadata": {
        "id": "H_q8lJbMpvAt"
      },
      "source": [
        "def plus5(a):\n",
        "  C = a+5\n",
        "  return C"
      ],
      "execution_count": null,
      "outputs": []
    },
    {
      "cell_type": "code",
      "metadata": {
        "id": "epRmUxz6p00P"
      },
      "source": [
        "li = list(df.index)\n",
        "li"
      ],
      "execution_count": null,
      "outputs": []
    },
    {
      "cell_type": "code",
      "metadata": {
        "id": "ybCmjIPyqGSM"
      },
      "source": [
        "for i in li:\n",
        "  display(df.loc[i])"
      ],
      "execution_count": null,
      "outputs": []
    },
    {
      "cell_type": "markdown",
      "metadata": {
        "id": "4-Vw901CqbYJ"
      },
      "source": [
        "데이터프레임에서 인덱스별로 값을 뽑아와 하나씩\n",
        "하나씩 뽑은 것들을 함수에 적용을 시켜\n",
        "적용시켜서 나온 것은\n",
        "series로 나올거다\n",
        "그러면\n",
        "빈 데이터 프레임에\n",
        "하나씩\n",
        "넣어주면\n",
        "끝\n"
      ]
    }
  ]
}