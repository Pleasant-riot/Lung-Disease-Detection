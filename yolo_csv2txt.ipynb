{
  "nbformat": 4,
  "nbformat_minor": 0,
  "metadata": {
    "colab": {
      "name": "yolo_csv2txt.ipynb",
      "provenance": [],
      "authorship_tag": "ABX9TyOduWNONkgTwxvh0mxYdTSr",
      "include_colab_link": true
    },
    "kernelspec": {
      "name": "python3",
      "display_name": "Python 3"
    },
    "language_info": {
      "name": "python"
    }
  },
  "cells": [
    {
      "cell_type": "markdown",
      "metadata": {
        "id": "view-in-github",
        "colab_type": "text"
      },
      "source": [
        "<a href=\"https://colab.research.google.com/github/SeunghyeChae/Pneumonia-Detection/blob/main/yolo_csv2txt.ipynb\" target=\"_parent\"><img src=\"https://colab.research.google.com/assets/colab-badge.svg\" alt=\"Open In Colab\"/></a>"
      ]
    },
    {
      "cell_type": "code",
      "metadata": {
        "colab": {
          "base_uri": "https://localhost:8080/"
        },
        "id": "GC-sJ3GuaEV0",
        "outputId": "d6f9196f-84f9-4b89-d1cf-5d14bc68b77a"
      },
      "source": [
        "import os, sys\n",
        "from google.colab import drive\n",
        "drive.mount('/content/drive')\n"
      ],
      "execution_count": 3,
      "outputs": [
        {
          "output_type": "stream",
          "name": "stdout",
          "text": [
            "Mounted at /content/drive\n"
          ]
        }
      ]
    },
    {
      "cell_type": "code",
      "metadata": {
        "colab": {
          "base_uri": "https://localhost:8080/",
          "height": 202
        },
        "id": "-WvAutdaZ442",
        "outputId": "3c1f266e-1cfa-47ed-cfa4-ef472eedf359"
      },
      "source": [
        "import pandas as pd\n",
        "test= pd.read_csv('/content/drive/MyDrive/3차플젝drive/test_df.txt',index_col=0)\n",
        "test.head()"
      ],
      "execution_count": 4,
      "outputs": [
        {
          "output_type": "execute_result",
          "data": {
            "text/html": [
              "<div>\n",
              "<style scoped>\n",
              "    .dataframe tbody tr th:only-of-type {\n",
              "        vertical-align: middle;\n",
              "    }\n",
              "\n",
              "    .dataframe tbody tr th {\n",
              "        vertical-align: top;\n",
              "    }\n",
              "\n",
              "    .dataframe thead th {\n",
              "        text-align: right;\n",
              "    }\n",
              "</style>\n",
              "<table border=\"1\" class=\"dataframe\">\n",
              "  <thead>\n",
              "    <tr style=\"text-align: right;\">\n",
              "      <th></th>\n",
              "      <th>id</th>\n",
              "      <th>x</th>\n",
              "      <th>y</th>\n",
              "      <th>w</th>\n",
              "      <th>h</th>\n",
              "      <th>target</th>\n",
              "      <th>class</th>\n",
              "    </tr>\n",
              "  </thead>\n",
              "  <tbody>\n",
              "    <tr>\n",
              "      <th>0</th>\n",
              "      <td>00436515-870c-4b36-a041-de91049b9ab4</td>\n",
              "      <td>264.0</td>\n",
              "      <td>152.0</td>\n",
              "      <td>213.0</td>\n",
              "      <td>379.0</td>\n",
              "      <td>1</td>\n",
              "      <td>Lung Opacity</td>\n",
              "    </tr>\n",
              "    <tr>\n",
              "      <th>1</th>\n",
              "      <td>00436515-870c-4b36-a041-de91049b9ab4</td>\n",
              "      <td>562.0</td>\n",
              "      <td>152.0</td>\n",
              "      <td>256.0</td>\n",
              "      <td>453.0</td>\n",
              "      <td>1</td>\n",
              "      <td>Lung Opacity</td>\n",
              "    </tr>\n",
              "    <tr>\n",
              "      <th>2</th>\n",
              "      <td>00704310-78a8-4b38-8475-49f4573b2dbb</td>\n",
              "      <td>323.0</td>\n",
              "      <td>577.0</td>\n",
              "      <td>160.0</td>\n",
              "      <td>104.0</td>\n",
              "      <td>1</td>\n",
              "      <td>Lung Opacity</td>\n",
              "    </tr>\n",
              "    <tr>\n",
              "      <th>3</th>\n",
              "      <td>00704310-78a8-4b38-8475-49f4573b2dbb</td>\n",
              "      <td>695.0</td>\n",
              "      <td>575.0</td>\n",
              "      <td>162.0</td>\n",
              "      <td>137.0</td>\n",
              "      <td>1</td>\n",
              "      <td>Lung Opacity</td>\n",
              "    </tr>\n",
              "    <tr>\n",
              "      <th>4</th>\n",
              "      <td>00aecb01-a116-45a2-956c-08d2fa55433f</td>\n",
              "      <td>288.0</td>\n",
              "      <td>322.0</td>\n",
              "      <td>94.0</td>\n",
              "      <td>135.0</td>\n",
              "      <td>1</td>\n",
              "      <td>Lung Opacity</td>\n",
              "    </tr>\n",
              "  </tbody>\n",
              "</table>\n",
              "</div>"
            ],
            "text/plain": [
              "                                     id      x  ...  target         class\n",
              "0  00436515-870c-4b36-a041-de91049b9ab4  264.0  ...       1  Lung Opacity\n",
              "1  00436515-870c-4b36-a041-de91049b9ab4  562.0  ...       1  Lung Opacity\n",
              "2  00704310-78a8-4b38-8475-49f4573b2dbb  323.0  ...       1  Lung Opacity\n",
              "3  00704310-78a8-4b38-8475-49f4573b2dbb  695.0  ...       1  Lung Opacity\n",
              "4  00aecb01-a116-45a2-956c-08d2fa55433f  288.0  ...       1  Lung Opacity\n",
              "\n",
              "[5 rows x 7 columns]"
            ]
          },
          "metadata": {},
          "execution_count": 4
        }
      ]
    },
    {
      "cell_type": "markdown",
      "metadata": {
        "id": "S7y-tperkjMB"
      },
      "source": [
        "# csv to yolo_txt ( with convert )"
      ]
    },
    {
      "cell_type": "code",
      "metadata": {
        "id": "eHF5SRbjkiXV"
      },
      "source": [
        "# for i in len(test):\n",
        "import os\n",
        "for i in range(len(test)):\n",
        "  df= test.loc[i]\n",
        "  ptid= df.id\n",
        "  x= df.x\n",
        "  y= df.y\n",
        "  width= df.w\n",
        "  height= df.h\n",
        "\n",
        "  # cls= df['class']\n",
        "\n",
        "  def convert(w, h, x1, y1, box_w, box_h):\n",
        "    dw = 1./w\n",
        "    dh = 1./h\n",
        "    x = (float(x1) + float(x1) + float(box_w))/2.0\n",
        "    y = (float(y1) + float(y1) + float(box_h))/2.0\n",
        "    w = float(box_w)\n",
        "    h = float(box_h)\n",
        "    x = round(x*dw, 6)\n",
        "    w = round(w*dw, 6)\n",
        "    y = round(y*dh, 6) # 6자리 표시\n",
        "    h = round(h*dh, 6)\n",
        "    # print(str(x) + ' ' + str(y) + ' ' + str(w) + ' ' + str(h))\n",
        "\n",
        "    return (str(x) + ' ' + str(y) + ' ' + str(w) + ' ' + str(h))\n",
        "\n",
        "  # print(convert(1024,1024,x,y,width,height))\n",
        "\n",
        "  # list_value.append(x,y,width,height)\n",
        "  # list_value.append(cls)\n",
        "  # class 0.213 0.342 ~~~~\n",
        "  # list_value.append(convert(1024,1024,x,y,width,height))\n",
        "  # print(x,y,width,height)\n",
        "  a= '0' + ' ' + convert(1024,1024,x,y,width,height)\n",
        "  # print(list_value)\n",
        "\n",
        "  folder = os.listdir('/content/drive/MyDrive/3차플젝drive/yolo_label/')\n",
        "\n",
        "  if f'{ptid}.txt' not in folder:\n",
        "    with open(f'/content/drive/MyDrive/3차플젝drive/yolo_label/{ptid}.txt', 'w') as f:\n",
        "      f.writelines(a)\n",
        "  elif f'{ptid}.txt' in folder:\n",
        "    with open(f'/content/drive/MyDrive/3차플젝drive/yolo_label/{ptid}.txt', 'a') as f:\n",
        "      f.writelines(f'\\n{a}')"
      ],
      "execution_count": null,
      "outputs": []
    },
    {
      "cell_type": "markdown",
      "metadata": {
        "id": "ZslFdUUckAZj"
      },
      "source": [
        "# ptids에 이름 있는 환자들 img만 복사"
      ]
    },
    {
      "cell_type": "code",
      "metadata": {
        "id": "YQDSauo8kvif"
      },
      "source": [
        "# for i in range(len(test)):\n",
        "  # ptids=[]\n",
        "  # df= test.loc[i]\n",
        "  # a= df.id\n",
        "  # ptids.append(a)\n",
        "ptids=set(list(test.id))\n",
        "len(ptids)"
      ],
      "execution_count": null,
      "outputs": []
    },
    {
      "cell_type": "code",
      "metadata": {
        "id": "DxjgAYELfmPc"
      },
      "source": [
        "# txt file copy\n",
        "# import os\n",
        "# import shutil\n",
        "\n",
        "# for i in ptids:\n",
        "#   filename= i+'.txt'\n",
        "#   txtfiles= os.listdir('/content/drive/MyDrive/3차플젝drive/aaa')\n",
        "#   for j in txtfiles:\n",
        "#     if filename == j:\n",
        "#       shutil.copy(f\"/content/drive/MyDrive/3차플젝drive/aaa/{j}\",\n",
        "#                   f\"/content/drive/MyDrive/3차플젝drive/iii/{filename}\")"
      ],
      "execution_count": 14,
      "outputs": []
    },
    {
      "cell_type": "code",
      "metadata": {
        "id": "YAYm_DYxk9DV"
      },
      "source": [
        "# img file copy\n",
        "import os\n",
        "import shutil\n",
        "\n",
        "for i in ptids:\n",
        "  filename= i+'.jpg'\n",
        "  txtfiles= os.listdir('/content/drive/MyDrive/3차플젝drive/images')  # images = 원천데이터 폴더\n",
        "  for j in txtfiles:\n",
        "    if filename == j:\n",
        "      shutil.copy(f\"/content/drive/MyDrive/3차플젝drive/aaa/{j}\",\n",
        "                  f\"/content/drive/MyDrive/3차플젝drive/iii/{filename}\")"
      ],
      "execution_count": null,
      "outputs": []
    }
  ]
}